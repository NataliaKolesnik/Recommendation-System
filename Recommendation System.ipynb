{
 "cells": [
  {
   "cell_type": "markdown",
   "id": "7365e50a",
   "metadata": {},
   "source": [
    "# Рекомендательная система"
   ]
  },
  {
   "cell_type": "markdown",
   "id": "82bb3221",
   "metadata": {},
   "source": [
    "**Цель:** Определить понравится ли пользователю товар на основе истории его отзывов.\n",
    "\n",
    "**Задача:** построить модель рекомендательной системы, которая будет предсказывать рейтинг покупатель-товар, предложить варианты решения проблемы холодного старта."
   ]
  },
  {
   "cell_type": "markdown",
   "id": "0d378bd4",
   "metadata": {},
   "source": [
    "**Библиотеки:**"
   ]
  },
  {
   "cell_type": "code",
   "execution_count": 1,
   "id": "58c60b17",
   "metadata": {
    "ExecuteTime": {
     "end_time": "2022-04-19T09:58:47.381537Z",
     "start_time": "2022-04-19T09:58:37.463112Z"
    }
   },
   "outputs": [],
   "source": [
    "import numpy as np\n",
    "import pandas as pd\n",
    "import math\n",
    "import scipy.sparse as sparse\n",
    "import matplotlib.pyplot as plt\n",
    "%matplotlib inline\n",
    "import seaborn as sns\n",
    "import os\n",
    "import sklearn\n",
    "import json\n",
    "import re\n",
    "# import datetime\n",
    "\n",
    "from lightfm import LightFM\n",
    "#from lightfm.cross_validation import random_train_test_split\n",
    "from lightfm.evaluation import auc_score, precision_at_k, recall_at_k\n",
    "from sklearn.model_selection import train_test_split\n",
    "from sklearn.feature_selection import f_classif\n",
    "from sklearn.preprocessing import MinMaxScaler\n",
    "from sklearn.preprocessing import LabelEncoder, OneHotEncoder, StandardScaler\n",
    "from scipy.optimize import minimize\n",
    "from sklearn.metrics import mean_squared_error, mean_absolute_error, r2_score, roc_auc_score\n",
    "\n",
    "color = '#0e87cc'\n",
    "#pd.set_option('display.max_columns', None)"
   ]
  },
  {
   "cell_type": "markdown",
   "id": "202f0c52",
   "metadata": {},
   "source": [
    "**Подгружаем датасеты:**"
   ]
  },
  {
   "cell_type": "code",
   "execution_count": 2,
   "id": "47cc4ed3",
   "metadata": {
    "ExecuteTime": {
     "end_time": "2022-04-19T09:58:54.845943Z",
     "start_time": "2022-04-19T09:58:47.387184Z"
    }
   },
   "outputs": [],
   "source": [
    "train_df = pd.read_csv('data/train.csv', low_memory=False)\n",
    "test_df = pd.read_csv('data/test.csv', low_memory=False)\n",
    "submission = pd.read_csv('data/sample_submission.csv')"
   ]
  },
  {
   "cell_type": "code",
   "execution_count": 3,
   "id": "5bbe749a",
   "metadata": {
    "ExecuteTime": {
     "end_time": "2022-04-19T09:59:47.445613Z",
     "start_time": "2022-04-19T09:58:54.847036Z"
    }
   },
   "outputs": [],
   "source": [
    "with open('data/meta_Grocery_and_Gourmet_Food.json') as f:\n",
    "    meta_list = []\n",
    "    for line in f.readlines():\n",
    "        meta_list.append(json.loads(line))\n",
    "meta_df = pd.DataFrame(meta_list)"
   ]
  },
  {
   "cell_type": "code",
   "execution_count": 4,
   "id": "9800b704",
   "metadata": {
    "ExecuteTime": {
     "end_time": "2022-04-19T10:00:36.403346Z",
     "start_time": "2022-04-19T09:59:47.447297Z"
    }
   },
   "outputs": [],
   "source": [
    "# Сохраним meta_df в csv, чтоб не преобразовывать его каждый раз.\n",
    "meta_df.to_csv('data/meta_food.csv', index=False)"
   ]
  },
  {
   "cell_type": "code",
   "execution_count": 5,
   "id": "bc31f84b",
   "metadata": {
    "ExecuteTime": {
     "end_time": "2022-04-19T10:00:55.840203Z",
     "start_time": "2022-04-19T10:00:36.407055Z"
    }
   },
   "outputs": [],
   "source": [
    "# Закомментируем код 2-х ячеек выше и загрузим этот файл в формате csv\n",
    "product_df = pd.read_csv('data/meta_food.csv', low_memory=False)"
   ]
  },
  {
   "cell_type": "markdown",
   "id": "692d05c4",
   "metadata": {},
   "source": [
    "## Просмотр содержимого датасетов:"
   ]
  },
  {
   "cell_type": "code",
   "execution_count": 6,
   "id": "53f02b9b",
   "metadata": {
    "ExecuteTime": {
     "end_time": "2022-04-19T10:00:55.844133Z",
     "start_time": "2022-04-19T10:00:55.841500Z"
    }
   },
   "outputs": [],
   "source": [
    "def count_nan(col, df):\n",
    "    col_nan = np.round(df[col].isna().sum()/df.shape[0]*100, 1)\n",
    "    print(f'Пропусков в {col}: {df[col].isna().sum()} - {col_nan} %')"
   ]
  },
  {
   "cell_type": "markdown",
   "id": "60118677",
   "metadata": {},
   "source": [
    "### submission"
   ]
  },
  {
   "cell_type": "markdown",
   "id": "4eb43672",
   "metadata": {},
   "source": [
    "Каждый id соответствует уникальной комбинации userid и itemid"
   ]
  },
  {
   "cell_type": "code",
   "execution_count": 7,
   "id": "1cc6be1e",
   "metadata": {
    "ExecuteTime": {
     "end_time": "2022-04-19T10:00:56.249473Z",
     "start_time": "2022-04-19T10:00:55.845372Z"
    }
   },
   "outputs": [
    {
     "data": {
      "text/html": [
       "<div>\n",
       "<style scoped>\n",
       "    .dataframe tbody tr th:only-of-type {\n",
       "        vertical-align: middle;\n",
       "    }\n",
       "\n",
       "    .dataframe tbody tr th {\n",
       "        vertical-align: top;\n",
       "    }\n",
       "\n",
       "    .dataframe thead th {\n",
       "        text-align: right;\n",
       "    }\n",
       "</style>\n",
       "<table border=\"1\" class=\"dataframe\">\n",
       "  <thead>\n",
       "    <tr style=\"text-align: right;\">\n",
       "      <th></th>\n",
       "      <th>Id</th>\n",
       "      <th>rating</th>\n",
       "    </tr>\n",
       "  </thead>\n",
       "  <tbody>\n",
       "    <tr>\n",
       "      <th>30562</th>\n",
       "      <td>30562</td>\n",
       "      <td>0.161583</td>\n",
       "    </tr>\n",
       "    <tr>\n",
       "      <th>225309</th>\n",
       "      <td>225309</td>\n",
       "      <td>0.693254</td>\n",
       "    </tr>\n",
       "    <tr>\n",
       "      <th>15585</th>\n",
       "      <td>15585</td>\n",
       "      <td>0.425533</td>\n",
       "    </tr>\n",
       "    <tr>\n",
       "      <th>214553</th>\n",
       "      <td>214553</td>\n",
       "      <td>0.179306</td>\n",
       "    </tr>\n",
       "    <tr>\n",
       "      <th>349</th>\n",
       "      <td>349</td>\n",
       "      <td>0.161909</td>\n",
       "    </tr>\n",
       "  </tbody>\n",
       "</table>\n",
       "</div>"
      ],
      "text/plain": [
       "            Id    rating\n",
       "30562    30562  0.161583\n",
       "225309  225309  0.693254\n",
       "15585    15585  0.425533\n",
       "214553  214553  0.179306\n",
       "349        349  0.161909"
      ]
     },
     "execution_count": 7,
     "metadata": {},
     "output_type": "execute_result"
    }
   ],
   "source": [
    "submission.sample(5)"
   ]
  },
  {
   "cell_type": "code",
   "execution_count": 8,
   "id": "a2a9bf7e",
   "metadata": {
    "ExecuteTime": {
     "end_time": "2022-04-19T10:00:56.280662Z",
     "start_time": "2022-04-19T10:00:56.254624Z"
    }
   },
   "outputs": [
    {
     "name": "stdout",
     "output_type": "stream",
     "text": [
      "Диапозон рейтинга: 0.0 - 1.0\n"
     ]
    }
   ],
   "source": [
    "min_rating = np.round(submission['rating'].min(), 3)\n",
    "max_rating = np.round(submission['rating'].max(), 3)\n",
    "print(f'Диапозон рейтинга: {min_rating} - {max_rating}')"
   ]
  },
  {
   "cell_type": "markdown",
   "id": "14d8dfa7",
   "metadata": {},
   "source": [
    "Для загрузки на Leaderboard необходимо представить данные id - rating (нормированный от 0 до 1)."
   ]
  },
  {
   "cell_type": "markdown",
   "id": "e6e9cf02",
   "metadata": {},
   "source": [
    "### train"
   ]
  },
  {
   "cell_type": "code",
   "execution_count": 9,
   "id": "36b9c0d6",
   "metadata": {
    "ExecuteTime": {
     "end_time": "2022-04-19T10:00:56.432255Z",
     "start_time": "2022-04-19T10:00:56.284319Z"
    }
   },
   "outputs": [
    {
     "data": {
      "text/html": [
       "<div>\n",
       "<style scoped>\n",
       "    .dataframe tbody tr th:only-of-type {\n",
       "        vertical-align: middle;\n",
       "    }\n",
       "\n",
       "    .dataframe tbody tr th {\n",
       "        vertical-align: top;\n",
       "    }\n",
       "\n",
       "    .dataframe thead th {\n",
       "        text-align: right;\n",
       "    }\n",
       "</style>\n",
       "<table border=\"1\" class=\"dataframe\">\n",
       "  <thead>\n",
       "    <tr style=\"text-align: right;\">\n",
       "      <th></th>\n",
       "      <th>overall</th>\n",
       "      <th>verified</th>\n",
       "      <th>reviewTime</th>\n",
       "      <th>asin</th>\n",
       "      <th>reviewerName</th>\n",
       "      <th>reviewText</th>\n",
       "      <th>summary</th>\n",
       "      <th>unixReviewTime</th>\n",
       "      <th>vote</th>\n",
       "      <th>style</th>\n",
       "      <th>image</th>\n",
       "      <th>userid</th>\n",
       "      <th>itemid</th>\n",
       "      <th>rating</th>\n",
       "    </tr>\n",
       "  </thead>\n",
       "  <tbody>\n",
       "    <tr>\n",
       "      <th>184357</th>\n",
       "      <td>3.0</td>\n",
       "      <td>True</td>\n",
       "      <td>12 12, 2013</td>\n",
       "      <td>B000EDK7ZQ</td>\n",
       "      <td>Salty-Sailor</td>\n",
       "      <td>Product may be great, but the packaging from E...</td>\n",
       "      <td>Product may be great, but the packaging from E...</td>\n",
       "      <td>1386806400</td>\n",
       "      <td>3</td>\n",
       "      <td>{'Size:': ' 8 Ounce'}</td>\n",
       "      <td>NaN</td>\n",
       "      <td>16178</td>\n",
       "      <td>1536</td>\n",
       "      <td>0.0</td>\n",
       "    </tr>\n",
       "    <tr>\n",
       "      <th>111427</th>\n",
       "      <td>5.0</td>\n",
       "      <td>True</td>\n",
       "      <td>08 3, 2016</td>\n",
       "      <td>B000WV0RW8</td>\n",
       "      <td>ISUEE94</td>\n",
       "      <td>We keep coming back!  We've bought these proba...</td>\n",
       "      <td>We keep coming back!</td>\n",
       "      <td>1470182400</td>\n",
       "      <td>NaN</td>\n",
       "      <td>NaN</td>\n",
       "      <td>NaN</td>\n",
       "      <td>20741</td>\n",
       "      <td>5173</td>\n",
       "      <td>1.0</td>\n",
       "    </tr>\n",
       "    <tr>\n",
       "      <th>574631</th>\n",
       "      <td>5.0</td>\n",
       "      <td>True</td>\n",
       "      <td>07 4, 2016</td>\n",
       "      <td>B000I612BM</td>\n",
       "      <td>Kurt Eichenauer</td>\n",
       "      <td>Perfect!</td>\n",
       "      <td>Five Stars</td>\n",
       "      <td>1467590400</td>\n",
       "      <td>NaN</td>\n",
       "      <td>{'Flavor:': ' Plums'}</td>\n",
       "      <td>NaN</td>\n",
       "      <td>18047</td>\n",
       "      <td>2756</td>\n",
       "      <td>1.0</td>\n",
       "    </tr>\n",
       "    <tr>\n",
       "      <th>668899</th>\n",
       "      <td>5.0</td>\n",
       "      <td>True</td>\n",
       "      <td>03 28, 2016</td>\n",
       "      <td>B00EVJURRM</td>\n",
       "      <td>Waffle Lover</td>\n",
       "      <td>Very nice product in a very nice container, sm...</td>\n",
       "      <td>Very nice product</td>\n",
       "      <td>1459123200</td>\n",
       "      <td>NaN</td>\n",
       "      <td>NaN</td>\n",
       "      <td>NaN</td>\n",
       "      <td>52543</td>\n",
       "      <td>24989</td>\n",
       "      <td>1.0</td>\n",
       "    </tr>\n",
       "    <tr>\n",
       "      <th>753141</th>\n",
       "      <td>3.0</td>\n",
       "      <td>True</td>\n",
       "      <td>03 15, 2012</td>\n",
       "      <td>B001650XUK</td>\n",
       "      <td>Alison Q.</td>\n",
       "      <td>Bought these in March 2012, the expration date...</td>\n",
       "      <td>Too close to expiration</td>\n",
       "      <td>1331769600</td>\n",
       "      <td>2</td>\n",
       "      <td>{'Size:': ' 8 Ounce (Pack of 12)', 'Flavor:': ...</td>\n",
       "      <td>NaN</td>\n",
       "      <td>39129</td>\n",
       "      <td>6396</td>\n",
       "      <td>0.0</td>\n",
       "    </tr>\n",
       "  </tbody>\n",
       "</table>\n",
       "</div>"
      ],
      "text/plain": [
       "        overall  verified   reviewTime        asin     reviewerName  \\\n",
       "184357      3.0      True  12 12, 2013  B000EDK7ZQ     Salty-Sailor   \n",
       "111427      5.0      True   08 3, 2016  B000WV0RW8          ISUEE94   \n",
       "574631      5.0      True   07 4, 2016  B000I612BM  Kurt Eichenauer   \n",
       "668899      5.0      True  03 28, 2016  B00EVJURRM     Waffle Lover   \n",
       "753141      3.0      True  03 15, 2012  B001650XUK        Alison Q.   \n",
       "\n",
       "                                               reviewText  \\\n",
       "184357  Product may be great, but the packaging from E...   \n",
       "111427  We keep coming back!  We've bought these proba...   \n",
       "574631                                           Perfect!   \n",
       "668899  Very nice product in a very nice container, sm...   \n",
       "753141  Bought these in March 2012, the expration date...   \n",
       "\n",
       "                                                  summary  unixReviewTime  \\\n",
       "184357  Product may be great, but the packaging from E...      1386806400   \n",
       "111427                               We keep coming back!      1470182400   \n",
       "574631                                         Five Stars      1467590400   \n",
       "668899                                  Very nice product      1459123200   \n",
       "753141                            Too close to expiration      1331769600   \n",
       "\n",
       "       vote                                              style image  userid  \\\n",
       "184357    3                              {'Size:': ' 8 Ounce'}   NaN   16178   \n",
       "111427  NaN                                                NaN   NaN   20741   \n",
       "574631  NaN                              {'Flavor:': ' Plums'}   NaN   18047   \n",
       "668899  NaN                                                NaN   NaN   52543   \n",
       "753141    2  {'Size:': ' 8 Ounce (Pack of 12)', 'Flavor:': ...   NaN   39129   \n",
       "\n",
       "        itemid  rating  \n",
       "184357    1536     0.0  \n",
       "111427    5173     1.0  \n",
       "574631    2756     1.0  \n",
       "668899   24989     1.0  \n",
       "753141    6396     0.0  "
      ]
     },
     "execution_count": 9,
     "metadata": {},
     "output_type": "execute_result"
    }
   ],
   "source": [
    "train_df.sample(5)"
   ]
  },
  {
   "cell_type": "code",
   "execution_count": 10,
   "id": "5acd9fc9",
   "metadata": {
    "ExecuteTime": {
     "end_time": "2022-04-19T10:00:57.188209Z",
     "start_time": "2022-04-19T10:00:56.435797Z"
    }
   },
   "outputs": [
    {
     "name": "stdout",
     "output_type": "stream",
     "text": [
      "<class 'pandas.core.frame.DataFrame'>\n",
      "RangeIndex: 857895 entries, 0 to 857894\n",
      "Data columns (total 14 columns):\n",
      " #   Column          Non-Null Count   Dtype  \n",
      "---  ------          --------------   -----  \n",
      " 0   overall         857895 non-null  float64\n",
      " 1   verified        857895 non-null  bool   \n",
      " 2   reviewTime      857895 non-null  object \n",
      " 3   asin            857895 non-null  object \n",
      " 4   reviewerName    857719 non-null  object \n",
      " 5   reviewText      857616 non-null  object \n",
      " 6   summary         857725 non-null  object \n",
      " 7   unixReviewTime  857895 non-null  int64  \n",
      " 8   vote            118740 non-null  object \n",
      " 9   style           444406 non-null  object \n",
      " 10  image           7142 non-null    object \n",
      " 11  userid          857895 non-null  int64  \n",
      " 12  itemid          857895 non-null  int64  \n",
      " 13  rating          857895 non-null  float64\n",
      "dtypes: bool(1), float64(2), int64(3), object(8)\n",
      "memory usage: 85.9+ MB\n"
     ]
    }
   ],
   "source": [
    "train_df.info()"
   ]
  },
  {
   "cell_type": "markdown",
   "id": "80008849",
   "metadata": {},
   "source": [
    "Тренировочный датасет представляет собой список отзывов покупателей о товаре.\n",
    "\n",
    "    overall - рейтинг, который поставил пользователь. Пропуски отсутствуют.\n",
    "    verified - был ли отзыв верифицирован. Пропуски отсутствуют.\n",
    "    reviewTime - когда был отзыв написан.\n",
    "    reviewerName - имя пользователя\n",
    "    asin - индивидуальный номер каждого товара, для идентификации товара и установления связи между датасетами\n",
    "    reviewText - текст отзыва\n",
    "    summary - сжатый отзыв\n",
    "    vote - количество голосований за отзыв\n",
    "    style - метаданные\n",
    "    image - изображение продукта\n",
    "    userid - id пользователя\n",
    "    itemid - id товара\n",
    "    id - id для предсказания (в тестовой выборке)"
   ]
  },
  {
   "cell_type": "code",
   "execution_count": 11,
   "id": "80f1327e",
   "metadata": {
    "ExecuteTime": {
     "end_time": "2022-04-19T10:00:57.821271Z",
     "start_time": "2022-04-19T10:00:57.192444Z"
    }
   },
   "outputs": [
    {
     "data": {
      "text/plain": [
       "overall                0\n",
       "verified               0\n",
       "reviewTime             0\n",
       "asin                   0\n",
       "reviewerName         176\n",
       "reviewText           279\n",
       "summary              170\n",
       "unixReviewTime         0\n",
       "vote              739155\n",
       "style             413489\n",
       "image             850753\n",
       "userid                 0\n",
       "itemid                 0\n",
       "rating                 0\n",
       "dtype: int64"
      ]
     },
     "execution_count": 11,
     "metadata": {},
     "output_type": "execute_result"
    }
   ],
   "source": [
    "# Количество пропусков в каждой колонке:\n",
    "train_df.isna().sum()"
   ]
  },
  {
   "cell_type": "markdown",
   "id": "3d8a884a",
   "metadata": {},
   "source": [
    "В тренировочном датасете представлено 857895 объектов. \n",
    "\n",
    "По некоторым признакам есть пропуски. Особенно много в колонках:\n",
    "\n",
    "    vote (86%)- Количество голосов\n",
    "    style (52%) - Данные, связанные с товаром\n",
    "    image (99%) - Изображение продукта в виде ссылки"
   ]
  },
  {
   "cell_type": "markdown",
   "id": "ae3e353c",
   "metadata": {},
   "source": [
    "### test"
   ]
  },
  {
   "cell_type": "markdown",
   "id": "7111ae3e",
   "metadata": {},
   "source": [
    "Набор данных, для которого вы должны сделать предсказания. У каждого наобора userid, itemid есть свой id, для которого вы должны сделать предсказание."
   ]
  },
  {
   "cell_type": "code",
   "execution_count": 12,
   "id": "4a736734",
   "metadata": {
    "ExecuteTime": {
     "end_time": "2022-04-19T10:00:57.987935Z",
     "start_time": "2022-04-19T10:00:57.822820Z"
    }
   },
   "outputs": [
    {
     "name": "stdout",
     "output_type": "stream",
     "text": [
      "<class 'pandas.core.frame.DataFrame'>\n",
      "RangeIndex: 285965 entries, 0 to 285964\n",
      "Data columns (total 11 columns):\n",
      " #   Column          Non-Null Count   Dtype \n",
      "---  ------          --------------   ----- \n",
      " 0   verified        285965 non-null  bool  \n",
      " 1   reviewTime      285965 non-null  object\n",
      " 2   asin            285965 non-null  object\n",
      " 3   reviewerName    285918 non-null  object\n",
      " 4   unixReviewTime  285965 non-null  int64 \n",
      " 5   vote            39462 non-null   object\n",
      " 6   style           147680 non-null  object\n",
      " 7   image           2368 non-null    object\n",
      " 8   userid          285965 non-null  int64 \n",
      " 9   itemid          285965 non-null  int64 \n",
      " 10  Id              285965 non-null  int64 \n",
      "dtypes: bool(1), int64(4), object(6)\n",
      "memory usage: 22.1+ MB\n"
     ]
    }
   ],
   "source": [
    "test_df.info()"
   ]
  },
  {
   "cell_type": "code",
   "execution_count": 13,
   "id": "6e71d8e8",
   "metadata": {
    "ExecuteTime": {
     "end_time": "2022-04-19T10:00:58.279888Z",
     "start_time": "2022-04-19T10:00:57.989533Z"
    }
   },
   "outputs": [
    {
     "data": {
      "text/plain": [
       "verified               0\n",
       "reviewTime             0\n",
       "asin                   0\n",
       "reviewerName          47\n",
       "unixReviewTime         0\n",
       "vote              246503\n",
       "style             138285\n",
       "image             283597\n",
       "userid                 0\n",
       "itemid                 0\n",
       "Id                     0\n",
       "dtype: int64"
      ]
     },
     "execution_count": 13,
     "metadata": {},
     "output_type": "execute_result"
    }
   ],
   "source": [
    "test_df.isna().sum()"
   ]
  },
  {
   "cell_type": "markdown",
   "id": "ca56c762",
   "metadata": {},
   "source": [
    "В тестовом датасете представлено 285965 объектов. \n",
    "\n",
    "Отсутсвуют некоторые признаки:\n",
    "\n",
    "    overall  -  Общая оценка      \n",
    "    reviewText - Текст отзыва     \n",
    "    summary -  Суть отзыва        \n",
    "\n",
    "    rating - его нам надо предсказать \n",
    "    \n",
    "Так же содержится много пропусокв в колонках vote, style и image."
   ]
  },
  {
   "cell_type": "markdown",
   "id": "968d0e44",
   "metadata": {},
   "source": [
    "### product_df"
   ]
  },
  {
   "cell_type": "code",
   "execution_count": 14,
   "id": "d0070bb3",
   "metadata": {
    "ExecuteTime": {
     "end_time": "2022-04-19T10:00:58.299812Z",
     "start_time": "2022-04-19T10:00:58.281603Z"
    }
   },
   "outputs": [
    {
     "data": {
      "text/html": [
       "<div>\n",
       "<style scoped>\n",
       "    .dataframe tbody tr th:only-of-type {\n",
       "        vertical-align: middle;\n",
       "    }\n",
       "\n",
       "    .dataframe tbody tr th {\n",
       "        vertical-align: top;\n",
       "    }\n",
       "\n",
       "    .dataframe thead th {\n",
       "        text-align: right;\n",
       "    }\n",
       "</style>\n",
       "<table border=\"1\" class=\"dataframe\">\n",
       "  <thead>\n",
       "    <tr style=\"text-align: right;\">\n",
       "      <th></th>\n",
       "      <th>category</th>\n",
       "      <th>description</th>\n",
       "      <th>title</th>\n",
       "      <th>brand</th>\n",
       "      <th>rank</th>\n",
       "      <th>also_view</th>\n",
       "      <th>main_cat</th>\n",
       "      <th>price</th>\n",
       "      <th>asin</th>\n",
       "      <th>also_buy</th>\n",
       "      <th>image</th>\n",
       "      <th>date</th>\n",
       "      <th>feature</th>\n",
       "      <th>details</th>\n",
       "      <th>similar_item</th>\n",
       "      <th>tech1</th>\n",
       "      <th>fit</th>\n",
       "    </tr>\n",
       "  </thead>\n",
       "  <tbody>\n",
       "    <tr>\n",
       "      <th>257938</th>\n",
       "      <td>['Grocery &amp; Gourmet Food', 'Candy &amp; Chocolate']</td>\n",
       "      <td>['Assorted Fruit Chips Non-Menthol. A petite j...</td>\n",
       "      <td>Assorted Fruit Chips Chipurnoi Italian Cough D...</td>\n",
       "      <td>Chipurnoi</td>\n",
       "      <td>519,232inGroceryGourmetFood(</td>\n",
       "      <td>['B000HRSGJ8']</td>\n",
       "      <td>Grocery</td>\n",
       "      <td>$22.95</td>\n",
       "      <td>B015E731FO</td>\n",
       "      <td>NaN</td>\n",
       "      <td>NaN</td>\n",
       "      <td>NaN</td>\n",
       "      <td>NaN</td>\n",
       "      <td>\\n      &lt;div class=\"content\"&gt;\\n\\n\\n\\n\\n\\n\\n&lt;ul...</td>\n",
       "      <td>NaN</td>\n",
       "      <td>NaN</td>\n",
       "      <td>NaN</td>\n",
       "    </tr>\n",
       "    <tr>\n",
       "      <th>236528</th>\n",
       "      <td>['Grocery &amp; Gourmet Food', 'Candy &amp; Chocolate'...</td>\n",
       "      <td>[\"Imported from the UK for the holiday season,...</td>\n",
       "      <td>Rowntrees Pick and Mix Giant Tube - 140g by Ro...</td>\n",
       "      <td>Rowntree's</td>\n",
       "      <td>684,296inGroceryGourmetFood(</td>\n",
       "      <td>NaN</td>\n",
       "      <td>Grocery</td>\n",
       "      <td>$9.99</td>\n",
       "      <td>B00U9W8Y20</td>\n",
       "      <td>NaN</td>\n",
       "      <td>NaN</td>\n",
       "      <td>NaN</td>\n",
       "      <td>NaN</td>\n",
       "      <td>\\n      &lt;div class=\"content\"&gt;\\n\\n\\n\\n\\n\\n\\n&lt;ul...</td>\n",
       "      <td>NaN</td>\n",
       "      <td>NaN</td>\n",
       "      <td>NaN</td>\n",
       "    </tr>\n",
       "    <tr>\n",
       "      <th>127409</th>\n",
       "      <td>['Grocery &amp; Gourmet Food', 'Herbs, Spices &amp; Se...</td>\n",
       "      <td>['Discover a livelier way to enjoy your favori...</td>\n",
       "      <td>Whole Spice Grains of Paradise, 4 Ounce</td>\n",
       "      <td>Wholespice</td>\n",
       "      <td>841,424inGroceryGourmetFood(</td>\n",
       "      <td>NaN</td>\n",
       "      <td>Grocery</td>\n",
       "      <td>NaN</td>\n",
       "      <td>B00AQI425A</td>\n",
       "      <td>NaN</td>\n",
       "      <td>['https://images-na.ssl-images-amazon.com/imag...</td>\n",
       "      <td>NaN</td>\n",
       "      <td>NaN</td>\n",
       "      <td>\\n      &lt;div class=\"content\"&gt;\\n\\n\\n\\n\\n\\n\\n&lt;ul...</td>\n",
       "      <td>NaN</td>\n",
       "      <td>NaN</td>\n",
       "      <td>NaN</td>\n",
       "    </tr>\n",
       "    <tr>\n",
       "      <th>23664</th>\n",
       "      <td>['Grocery &amp; Gourmet Food', 'Canned, Jarred &amp; P...</td>\n",
       "      <td>['This sturgeon is indigenous to the Missouri ...</td>\n",
       "      <td>Bemka.com American Sturgeon Hackleback Wild Ca...</td>\n",
       "      <td>Bemka.com</td>\n",
       "      <td>319,181inGroceryGourmetFood(</td>\n",
       "      <td>['B000HDJZEM', 'B00WT2M70S', 'B000QGL5Z2', 'B0...</td>\n",
       "      <td>Grocery</td>\n",
       "      <td>$45.00</td>\n",
       "      <td>B000QGK3G4</td>\n",
       "      <td>NaN</td>\n",
       "      <td>NaN</td>\n",
       "      <td>NaN</td>\n",
       "      <td>NaN</td>\n",
       "      <td>\\n      &lt;div class=\"content\"&gt;\\n\\n\\n\\n\\n\\n\\n&lt;ul...</td>\n",
       "      <td>NaN</td>\n",
       "      <td>NaN</td>\n",
       "      <td>NaN</td>\n",
       "    </tr>\n",
       "    <tr>\n",
       "      <th>16890</th>\n",
       "      <td>['Grocery &amp; Gourmet Food', 'Candy &amp; Chocolate'...</td>\n",
       "      <td>NaN</td>\n",
       "      <td>Jelly Belly Chocolate Dutch Mints, Assorted Pa...</td>\n",
       "      <td>Jelly Belly</td>\n",
       "      <td>316,853inGroceryGourmetFood(</td>\n",
       "      <td>['B00AYGEFD8', 'B00AQOSZRA', 'B00SQL2JF4', 'B0...</td>\n",
       "      <td>Grocery</td>\n",
       "      <td>$88.09</td>\n",
       "      <td>B000IKG0P6</td>\n",
       "      <td>NaN</td>\n",
       "      <td>['https://images-na.ssl-images-amazon.com/imag...</td>\n",
       "      <td>NaN</td>\n",
       "      <td>NaN</td>\n",
       "      <td>\\n      &lt;div class=\"content\"&gt;\\n\\n\\n\\n\\n\\n\\n&lt;ul...</td>\n",
       "      <td>NaN</td>\n",
       "      <td>NaN</td>\n",
       "      <td>NaN</td>\n",
       "    </tr>\n",
       "  </tbody>\n",
       "</table>\n",
       "</div>"
      ],
      "text/plain": [
       "                                                 category  \\\n",
       "257938    ['Grocery & Gourmet Food', 'Candy & Chocolate']   \n",
       "236528  ['Grocery & Gourmet Food', 'Candy & Chocolate'...   \n",
       "127409  ['Grocery & Gourmet Food', 'Herbs, Spices & Se...   \n",
       "23664   ['Grocery & Gourmet Food', 'Canned, Jarred & P...   \n",
       "16890   ['Grocery & Gourmet Food', 'Candy & Chocolate'...   \n",
       "\n",
       "                                              description  \\\n",
       "257938  ['Assorted Fruit Chips Non-Menthol. A petite j...   \n",
       "236528  [\"Imported from the UK for the holiday season,...   \n",
       "127409  ['Discover a livelier way to enjoy your favori...   \n",
       "23664   ['This sturgeon is indigenous to the Missouri ...   \n",
       "16890                                                 NaN   \n",
       "\n",
       "                                                    title        brand  \\\n",
       "257938  Assorted Fruit Chips Chipurnoi Italian Cough D...    Chipurnoi   \n",
       "236528  Rowntrees Pick and Mix Giant Tube - 140g by Ro...   Rowntree's   \n",
       "127409            Whole Spice Grains of Paradise, 4 Ounce   Wholespice   \n",
       "23664   Bemka.com American Sturgeon Hackleback Wild Ca...    Bemka.com   \n",
       "16890   Jelly Belly Chocolate Dutch Mints, Assorted Pa...  Jelly Belly   \n",
       "\n",
       "                                rank  \\\n",
       "257938  519,232inGroceryGourmetFood(   \n",
       "236528  684,296inGroceryGourmetFood(   \n",
       "127409  841,424inGroceryGourmetFood(   \n",
       "23664   319,181inGroceryGourmetFood(   \n",
       "16890   316,853inGroceryGourmetFood(   \n",
       "\n",
       "                                                also_view main_cat   price  \\\n",
       "257938                                     ['B000HRSGJ8']  Grocery  $22.95   \n",
       "236528                                                NaN  Grocery   $9.99   \n",
       "127409                                                NaN  Grocery     NaN   \n",
       "23664   ['B000HDJZEM', 'B00WT2M70S', 'B000QGL5Z2', 'B0...  Grocery  $45.00   \n",
       "16890   ['B00AYGEFD8', 'B00AQOSZRA', 'B00SQL2JF4', 'B0...  Grocery  $88.09   \n",
       "\n",
       "              asin also_buy  \\\n",
       "257938  B015E731FO      NaN   \n",
       "236528  B00U9W8Y20      NaN   \n",
       "127409  B00AQI425A      NaN   \n",
       "23664   B000QGK3G4      NaN   \n",
       "16890   B000IKG0P6      NaN   \n",
       "\n",
       "                                                    image date feature  \\\n",
       "257938                                                NaN  NaN     NaN   \n",
       "236528                                                NaN  NaN     NaN   \n",
       "127409  ['https://images-na.ssl-images-amazon.com/imag...  NaN     NaN   \n",
       "23664                                                 NaN  NaN     NaN   \n",
       "16890   ['https://images-na.ssl-images-amazon.com/imag...  NaN     NaN   \n",
       "\n",
       "                                                  details similar_item tech1  \\\n",
       "257938  \\n      <div class=\"content\">\\n\\n\\n\\n\\n\\n\\n<ul...          NaN   NaN   \n",
       "236528  \\n      <div class=\"content\">\\n\\n\\n\\n\\n\\n\\n<ul...          NaN   NaN   \n",
       "127409  \\n      <div class=\"content\">\\n\\n\\n\\n\\n\\n\\n<ul...          NaN   NaN   \n",
       "23664   \\n      <div class=\"content\">\\n\\n\\n\\n\\n\\n\\n<ul...          NaN   NaN   \n",
       "16890   \\n      <div class=\"content\">\\n\\n\\n\\n\\n\\n\\n<ul...          NaN   NaN   \n",
       "\n",
       "        fit  \n",
       "257938  NaN  \n",
       "236528  NaN  \n",
       "127409  NaN  \n",
       "23664   NaN  \n",
       "16890   NaN  "
      ]
     },
     "execution_count": 14,
     "metadata": {},
     "output_type": "execute_result"
    }
   ],
   "source": [
    "product_df.sample(5)"
   ]
  },
  {
   "cell_type": "markdown",
   "id": "09cdbb28",
   "metadata": {},
   "source": [
    "В данном датасете представлена информация о товарах - 287209 позиций."
   ]
  },
  {
   "cell_type": "code",
   "execution_count": 15,
   "id": "96014b26",
   "metadata": {
    "ExecuteTime": {
     "end_time": "2022-04-19T10:00:58.845299Z",
     "start_time": "2022-04-19T10:00:58.301229Z"
    }
   },
   "outputs": [
    {
     "name": "stdout",
     "output_type": "stream",
     "text": [
      "<class 'pandas.core.frame.DataFrame'>\n",
      "RangeIndex: 287209 entries, 0 to 287208\n",
      "Data columns (total 17 columns):\n",
      " #   Column        Non-Null Count   Dtype \n",
      "---  ------        --------------   ----- \n",
      " 0   category      287209 non-null  object\n",
      " 1   description   251802 non-null  object\n",
      " 2   title         287205 non-null  object\n",
      " 3   brand         275766 non-null  object\n",
      " 4   rank          275494 non-null  object\n",
      " 5   also_view     121012 non-null  object\n",
      " 6   main_cat      285716 non-null  object\n",
      " 7   price         132136 non-null  object\n",
      " 8   asin          287209 non-null  object\n",
      " 9   also_buy      83332 non-null   object\n",
      " 10  image         150214 non-null  object\n",
      " 11  date          9663 non-null    object\n",
      " 12  feature       16374 non-null   object\n",
      " 13  details       273323 non-null  object\n",
      " 14  similar_item  256 non-null     object\n",
      " 15  tech1         744 non-null     object\n",
      " 16  fit           4 non-null       object\n",
      "dtypes: object(17)\n",
      "memory usage: 37.3+ MB\n"
     ]
    }
   ],
   "source": [
    "product_df.info()"
   ]
  },
  {
   "cell_type": "code",
   "execution_count": 16,
   "id": "0cb1fd1e",
   "metadata": {
    "ExecuteTime": {
     "end_time": "2022-04-19T10:00:59.289871Z",
     "start_time": "2022-04-19T10:00:58.846365Z"
    }
   },
   "outputs": [
    {
     "data": {
      "text/plain": [
       "category             0\n",
       "description      35407\n",
       "title                4\n",
       "brand            11443\n",
       "rank             11715\n",
       "also_view       166197\n",
       "main_cat          1493\n",
       "price           155073\n",
       "asin                 0\n",
       "also_buy        203877\n",
       "image           136995\n",
       "date            277546\n",
       "feature         270835\n",
       "details          13886\n",
       "similar_item    286953\n",
       "tech1           286465\n",
       "fit             287205\n",
       "dtype: int64"
      ]
     },
     "execution_count": 16,
     "metadata": {},
     "output_type": "execute_result"
    }
   ],
   "source": [
    "product_df.isna().sum()"
   ]
  },
  {
   "cell_type": "markdown",
   "id": "f24ff2be",
   "metadata": {},
   "source": [
    "Практически все признаки содержат много пропусков. Колонка 'asin' есть во всех датасетах. По ней будет стыковаться товар."
   ]
  },
  {
   "cell_type": "markdown",
   "id": "8d742be4",
   "metadata": {},
   "source": [
    "## Анализ датасетов"
   ]
  },
  {
   "cell_type": "markdown",
   "id": "547b49d7",
   "metadata": {},
   "source": [
    "### train_df и test_df"
   ]
  },
  {
   "cell_type": "markdown",
   "id": "641ad87d",
   "metadata": {},
   "source": [
    "Эти датасеты практически идентичны по признакам - будем рассматривать соместно."
   ]
  },
  {
   "cell_type": "markdown",
   "id": "e9914aa3",
   "metadata": {},
   "source": [
    "**Удаление дубликатов**"
   ]
  },
  {
   "cell_type": "markdown",
   "id": "c0cf3ac7",
   "metadata": {},
   "source": [
    "Будем удалять только полное соответсвие объектов - точные копии строк."
   ]
  },
  {
   "cell_type": "code",
   "execution_count": 17,
   "id": "407d5b0d",
   "metadata": {
    "ExecuteTime": {
     "end_time": "2022-04-19T10:01:00.392044Z",
     "start_time": "2022-04-19T10:00:59.291044Z"
    }
   },
   "outputs": [
    {
     "name": "stdout",
     "output_type": "stream",
     "text": [
      "Количество дубликатов строк в тренировочной выборке: 31000\n"
     ]
    }
   ],
   "source": [
    "print(f'Количество дубликатов строк в тренировочной выборке: {train_df.duplicated().sum()}')"
   ]
  },
  {
   "cell_type": "code",
   "execution_count": 18,
   "id": "bedd9b85",
   "metadata": {
    "ExecuteTime": {
     "end_time": "2022-04-19T10:01:01.391005Z",
     "start_time": "2022-04-19T10:01:00.393409Z"
    }
   },
   "outputs": [],
   "source": [
    "train_df = train_df.drop_duplicates()"
   ]
  },
  {
   "cell_type": "markdown",
   "id": "72b47c61",
   "metadata": {},
   "source": [
    "**rating**"
   ]
  },
  {
   "cell_type": "code",
   "execution_count": 19,
   "id": "60443522",
   "metadata": {
    "ExecuteTime": {
     "end_time": "2022-04-19T10:01:02.654268Z",
     "start_time": "2022-04-19T10:01:01.392076Z"
    }
   },
   "outputs": [
    {
     "data": {
      "image/png": "[encoded data removed]",
      "text/plain": [
       "<Figure size 432x288 with 1 Axes>"
      ]
     },
     "metadata": {
      "needs_background": "light"
     },
     "output_type": "display_data"
    },
    {
     "name": "stdout",
     "output_type": "stream",
     "text": [
      "Перекос оценок: Хороших 85% - Плохих 15% - выборка относительно целевой переменной не сбалансирована\n"
     ]
    }
   ],
   "source": [
    "# Распределение целевой переменной - оценки пользователей\n",
    "train_df['rating'].value_counts(ascending=True).plot(kind='barh', sort_columns=True, color=color,\n",
    "                                                     title='Распределение целевой переменной - оценки пользователей\\n 1.0 - хорошая оценка, 0.0 - плохая оценка'                                                    )\n",
    "plt.show()\n",
    "\n",
    "rating = train_df['rating'].value_counts(normalize=True)\n",
    "\n",
    "print(f'Перекос оценок: Хороших {rating[1]*100:.0f}% - Плохих {rating[0]*100:.0f}%',\n",
    "        '- выборка относительно целевой переменной не сбалансирована')"
   ]
  },
  {
   "cell_type": "markdown",
   "id": "59d37932",
   "metadata": {},
   "source": [
    "**overall**"
   ]
  },
  {
   "cell_type": "code",
   "execution_count": 20,
   "id": "5529e4a5",
   "metadata": {
    "ExecuteTime": {
     "end_time": "2022-04-19T10:01:02.831319Z",
     "start_time": "2022-04-19T10:01:02.656748Z"
    }
   },
   "outputs": [
    {
     "data": {
      "text/plain": [
       "rating  overall\n",
       "0.0     3.0         58488\n",
       "        1.0         36159\n",
       "        2.0         30636\n",
       "1.0     5.0        592278\n",
       "        4.0        109334\n",
       "Name: overall, dtype: int64"
      ]
     },
     "execution_count": 20,
     "metadata": {},
     "output_type": "execute_result"
    }
   ],
   "source": [
    "train_df.groupby('rating')['overall'].value_counts()"
   ]
  },
  {
   "cell_type": "code",
   "execution_count": 21,
   "id": "c21a390c",
   "metadata": {
    "ExecuteTime": {
     "end_time": "2022-04-19T10:01:02.951085Z",
     "start_time": "2022-04-19T10:01:02.832835Z"
    }
   },
   "outputs": [
    {
     "data": {
      "text/plain": [
       "<AxesSubplot:xlabel='overall', ylabel='count'>"
      ]
     },
     "execution_count": 21,
     "metadata": {},
     "output_type": "execute_result"
    },
    {
     "data": {
      "image/png": "[encoded data removed]",
      "text/plain": [
       "<Figure size 432x288 with 1 Axes>"
      ]
     },
     "metadata": {
      "needs_background": "light"
     },
     "output_type": "display_data"
    }
   ],
   "source": [
    "sns.countplot(x=train_df['overall'], color=color)"
   ]
  },
  {
   "cell_type": "markdown",
   "id": "0ab29fd1",
   "metadata": {},
   "source": [
    "Большинство пользователей ставят оценку - 5, высоко оценивая товар. \n",
    "\n",
    "Оценки пользователей по 5-ти бальной шкале из 'overall' переведены в бинарную 'rating', которую нам и надо предсказать."
   ]
  },
  {
   "cell_type": "markdown",
   "id": "abcf4f84",
   "metadata": {},
   "source": [
    "**verified**"
   ]
  },
  {
   "cell_type": "code",
   "execution_count": 22,
   "id": "a08b18d8",
   "metadata": {
    "ExecuteTime": {
     "end_time": "2022-04-19T10:01:02.959774Z",
     "start_time": "2022-04-19T10:01:02.952541Z"
    }
   },
   "outputs": [
    {
     "data": {
      "text/plain": [
       "True     718164\n",
       "False    108731\n",
       "Name: verified, dtype: int64"
      ]
     },
     "execution_count": 22,
     "metadata": {},
     "output_type": "execute_result"
    }
   ],
   "source": [
    "train_df.verified.value_counts()"
   ]
  },
  {
   "cell_type": "markdown",
   "id": "6f31196e",
   "metadata": {},
   "source": [
    "Имеет два значения:\n",
    "\n",
    "    True - отзыв подтвержден\n",
    "    False - отзыв не подтвержден"
   ]
  },
  {
   "cell_type": "code",
   "execution_count": 23,
   "id": "ef790233",
   "metadata": {
    "ExecuteTime": {
     "end_time": "2022-04-19T10:01:03.152921Z",
     "start_time": "2022-04-19T10:01:02.961048Z"
    }
   },
   "outputs": [
    {
     "data": {
      "image/png": "[encoded data removed]",
      "text/plain": [
       "<Figure size 1080x288 with 2 Axes>"
      ]
     },
     "metadata": {
      "needs_background": "light"
     },
     "output_type": "display_data"
    }
   ],
   "source": [
    "plt.figure(figsize=(15, 4))\n",
    "plt.subplot(1,2,1)\n",
    "plt.title('Верификация отзывов\\n на тренировочной выборке')\n",
    "sns.countplot(x=train_df.verified)\n",
    "plt.subplot(1,2,2)\n",
    "plt.title('Верификация отзывов\\n на тестовой выборке')\n",
    "sns.countplot(x=test_df.verified)\n",
    "\n",
    "plt.show()"
   ]
  },
  {
   "cell_type": "code",
   "execution_count": 24,
   "id": "fbfc3635",
   "metadata": {
    "ExecuteTime": {
     "end_time": "2022-04-19T10:01:03.208137Z",
     "start_time": "2022-04-19T10:01:03.154362Z"
    }
   },
   "outputs": [
    {
     "data": {
      "text/plain": [
       "rating  verified\n",
       "0.0     True        0.810956\n",
       "        False       0.189044\n",
       "1.0     True        0.878783\n",
       "        False       0.121217\n",
       "Name: verified, dtype: float64"
      ]
     },
     "execution_count": 24,
     "metadata": {},
     "output_type": "execute_result"
    }
   ],
   "source": [
    "train_df.groupby('rating')['verified'].value_counts(normalize=True)"
   ]
  },
  {
   "cell_type": "markdown",
   "id": "668e2e13",
   "metadata": {},
   "source": [
    "Соотношение подтвержденных и неподтвержденных отзывов в тренировочной и тестовой выборках одинаковое. \n",
    "\n",
    "В тренировочной выборке наблюдается незначительный перекос подтвержденных и неподтвержденныз отзывов в разрезе рейтинга. В 0.0 значении рейтинга на 6.8% больше неподтверженных отзывов по сравнению с рейтингом 1.\n",
    "\n",
    "Можно предположить, что рейтинги специально не накручивались за счет неподтвержденных отзывов."
   ]
  },
  {
   "cell_type": "code",
   "execution_count": 25,
   "id": "60faf671",
   "metadata": {
    "ExecuteTime": {
     "end_time": "2022-04-19T10:01:03.405722Z",
     "start_time": "2022-04-19T10:01:03.209636Z"
    }
   },
   "outputs": [],
   "source": [
    "# Заменим Thue и False на 1 и 0\n",
    "train_df['verified'] = train_df['verified'].apply(int)\n",
    "test_df['verified'] = test_df['verified'].apply(int)"
   ]
  },
  {
   "cell_type": "markdown",
   "id": "355e2eb1",
   "metadata": {},
   "source": [
    "**reviewTime** и **unixReviewTime**"
   ]
  },
  {
   "cell_type": "markdown",
   "id": "c3b8faaa",
   "metadata": {},
   "source": [
    "Колонки с датами отзывов в которых даты записаны в разных форматах.\n",
    "\n",
    "На основе их создадим колонку dateReview формата datatime, а reviewTime и unixReviewTime удалим."
   ]
  },
  {
   "cell_type": "code",
   "execution_count": 26,
   "id": "cd729aa2",
   "metadata": {
    "ExecuteTime": {
     "end_time": "2022-04-19T10:02:13.792813Z",
     "start_time": "2022-04-19T10:01:03.406905Z"
    }
   },
   "outputs": [],
   "source": [
    "train_df['dateReview'] = pd.to_datetime(train_df.reviewTime)\n",
    "test_df['dateReview'] = pd.to_datetime(test_df.reviewTime)"
   ]
  },
  {
   "cell_type": "code",
   "execution_count": 27,
   "id": "17fcdc86",
   "metadata": {
    "ExecuteTime": {
     "end_time": "2022-04-19T10:02:13.995968Z",
     "start_time": "2022-04-19T10:02:13.793818Z"
    }
   },
   "outputs": [],
   "source": [
    "train_df = train_df.drop(['reviewTime', 'unixReviewTime'], axis=1)\n",
    "test_df = test_df.drop(['reviewTime', 'unixReviewTime'], axis=1)"
   ]
  },
  {
   "cell_type": "markdown",
   "id": "6ab15897",
   "metadata": {},
   "source": [
    "За какой период размещены отзывы:"
   ]
  },
  {
   "cell_type": "code",
   "execution_count": 28,
   "id": "f821332d",
   "metadata": {
    "ExecuteTime": {
     "end_time": "2022-04-19T10:02:14.079580Z",
     "start_time": "2022-04-19T10:02:13.999533Z"
    }
   },
   "outputs": [
    {
     "name": "stdout",
     "output_type": "stream",
     "text": [
      "На тренировочной выборке: 2000 - 2018\n",
      "На тестовой выборке: 2002 - 2018\n"
     ]
    }
   ],
   "source": [
    "print(f'На тренировочной выборке: {train_df.dateReview.min().year} - {train_df.dateReview.max().year}')\n",
    "print(f'На тестовой выборке: {test_df.dateReview.min().year} - {test_df.dateReview.max().year}')"
   ]
  },
  {
   "cell_type": "markdown",
   "id": "7e1adbe4",
   "metadata": {},
   "source": [
    "Аж целых 18 и 16 лет. Посмотрим по гистограмме распределение отзывов по годам размещения."
   ]
  },
  {
   "cell_type": "code",
   "execution_count": 29,
   "id": "0d06f8ae",
   "metadata": {
    "ExecuteTime": {
     "end_time": "2022-04-19T10:02:16.336093Z",
     "start_time": "2022-04-19T10:02:14.084314Z"
    }
   },
   "outputs": [
    {
     "data": {
      "image/png": "[encoded data removed]",
      "text/plain": [
       "<Figure size 1080x288 with 2 Axes>"
      ]
     },
     "metadata": {
      "needs_background": "light"
     },
     "output_type": "display_data"
    }
   ],
   "source": [
    "plt.figure(figsize=(15, 4))\n",
    "plt.subplot(1,2,1)\n",
    "plt.title('Распределение отзывов по годам\\n на тренировочной выборке')\n",
    "sns.countplot(x=train_df['dateReview'].apply(lambda d: d.year), color=color)\n",
    "plt.xticks(rotation=45)\n",
    "plt.subplot(1,2,2)\n",
    "plt.title('Распределение отзывов по годам\\n на тестовой выборке')\n",
    "sns.countplot(x=test_df['dateReview'].apply(lambda d: d.year), color=color)\n",
    "plt.xticks(rotation=45)\n",
    "\n",
    "plt.show()"
   ]
  },
  {
   "cell_type": "markdown",
   "id": "b1c1397c",
   "metadata": {},
   "source": [
    "В основном отзывы более-менее свежие.\n",
    "\n",
    "Сформируем признак - давность написания отзыва"
   ]
  },
  {
   "cell_type": "code",
   "execution_count": 30,
   "id": "3b2b1e12",
   "metadata": {
    "ExecuteTime": {
     "end_time": "2022-04-19T10:02:16.495540Z",
     "start_time": "2022-04-19T10:02:16.337416Z"
    }
   },
   "outputs": [],
   "source": [
    "train_df['dataAge'] = (train_df.dateReview.max() - train_df.dateReview).dt.days\n",
    "test_df['dataAge'] = (test_df.dateReview.max() - test_df.dateReview).dt.days"
   ]
  },
  {
   "cell_type": "code",
   "execution_count": 31,
   "id": "40289023",
   "metadata": {
    "ExecuteTime": {
     "end_time": "2022-04-19T10:02:16.746876Z",
     "start_time": "2022-04-19T10:02:16.497288Z"
    }
   },
   "outputs": [
    {
     "data": {
      "image/png": "[encoded data removed]",
      "text/plain": [
       "<Figure size 1080x288 with 2 Axes>"
      ]
     },
     "metadata": {
      "needs_background": "light"
     },
     "output_type": "display_data"
    }
   ],
   "source": [
    "plt.figure(figsize=(15, 4))\n",
    "plt.subplot(1,2,1)\n",
    "plt.title('Давность написания отзыва (в днях)\\n на тренировочной выборке')\n",
    "sns.histplot(x=train_df['dataAge'], bins=18)\n",
    "plt.subplot(1,2,2)\n",
    "plt.title('Давность написания отзыва (в днях)\\n на тестовой выборке')\n",
    "sns.histplot(x=test_df['dataAge'], bins=16)\n",
    "\n",
    "plt.show()"
   ]
  },
  {
   "cell_type": "markdown",
   "id": "9c3b262a",
   "metadata": {},
   "source": [
    "В основном интересны свежие отзывы. Можно отрубить хвост у распределения и привести его к нормальному. "
   ]
  },
  {
   "cell_type": "code",
   "execution_count": 32,
   "id": "6e3488bf",
   "metadata": {
    "ExecuteTime": {
     "end_time": "2022-04-19T10:02:17.011859Z",
     "start_time": "2022-04-19T10:02:16.748936Z"
    }
   },
   "outputs": [],
   "source": [
    "train_df['dataAge'] = train_df['dataAge'].apply(lambda x: x if x<2000 else 1500+x%500)\n",
    "test_df['dataAge'] = test_df['dataAge'].apply(lambda x: x if x<2000 else 1500+x%500)"
   ]
  },
  {
   "cell_type": "code",
   "execution_count": 33,
   "id": "055c2cfb",
   "metadata": {
    "ExecuteTime": {
     "end_time": "2022-04-19T10:02:17.259683Z",
     "start_time": "2022-04-19T10:02:17.015570Z"
    }
   },
   "outputs": [
    {
     "data": {
      "image/png": "[encoded data removed]",
      "text/plain": [
       "<Figure size 1080x288 with 2 Axes>"
      ]
     },
     "metadata": {
      "needs_background": "light"
     },
     "output_type": "display_data"
    }
   ],
   "source": [
    "plt.figure(figsize=(15, 4))\n",
    "plt.subplot(1,2,1)\n",
    "plt.title('Давность написания отзыва (в днях)\\n на тренировочной выборке')\n",
    "sns.histplot(x=train_df['dataAge'], bins=18)\n",
    "plt.subplot(1,2,2)\n",
    "plt.title('Давность написания отзыва (в днях)\\n на тестовой выборке')\n",
    "sns.histplot(x=test_df['dataAge'], bins=16)\n",
    "\n",
    "plt.show()"
   ]
  },
  {
   "cell_type": "code",
   "execution_count": 34,
   "id": "fce031ee",
   "metadata": {
    "ExecuteTime": {
     "end_time": "2022-04-19T10:02:19.735565Z",
     "start_time": "2022-04-19T10:02:17.261160Z"
    }
   },
   "outputs": [],
   "source": [
    "train_df['dateReview_week'] = train_df['dateReview'].apply(lambda d: d.day_of_week)\n",
    "test_df['dateReview_week'] = test_df['dateReview'].apply(lambda d: d.day_of_week)"
   ]
  },
  {
   "cell_type": "code",
   "execution_count": 35,
   "id": "c316412e",
   "metadata": {
    "ExecuteTime": {
     "end_time": "2022-04-19T10:02:19.930916Z",
     "start_time": "2022-04-19T10:02:19.736763Z"
    }
   },
   "outputs": [
    {
     "data": {
      "image/png": "[encoded data removed]",
      "text/plain": [
       "<Figure size 1080x288 with 2 Axes>"
      ]
     },
     "metadata": {
      "needs_background": "light"
     },
     "output_type": "display_data"
    }
   ],
   "source": [
    "plt.figure(figsize=(15, 4))\n",
    "plt.subplot(1,2,1)\n",
    "plt.title('День недели написания отзыва (вск - суб)\\n на тренировочной выборке')\n",
    "sns.countplot(x=train_df['dateReview_week'], color=color)\n",
    "plt.subplot(1,2,2)\n",
    "plt.title('День недели написания отзыва (вск - суб)\\n на тестовой выборке')\n",
    "sns.countplot(x=test_df['dateReview_week'], color=color)\n",
    "\n",
    "plt.show()"
   ]
  },
  {
   "cell_type": "code",
   "execution_count": 36,
   "id": "1eec3928",
   "metadata": {
    "ExecuteTime": {
     "end_time": "2022-04-19T10:02:21.712653Z",
     "start_time": "2022-04-19T10:02:19.932239Z"
    }
   },
   "outputs": [],
   "source": [
    "train_df['dateReview_month'] = train_df['dateReview'].apply(lambda d: d.month)\n",
    "test_df['dateReview_month'] = test_df['dateReview'].apply(lambda d: d.month)"
   ]
  },
  {
   "cell_type": "code",
   "execution_count": 37,
   "id": "d2b002b1",
   "metadata": {
    "ExecuteTime": {
     "end_time": "2022-04-19T10:02:21.954197Z",
     "start_time": "2022-04-19T10:02:21.713768Z"
    }
   },
   "outputs": [
    {
     "data": {
      "image/png": "[encoded data removed]",
      "text/plain": [
       "<Figure size 1080x288 with 2 Axes>"
      ]
     },
     "metadata": {
      "needs_background": "light"
     },
     "output_type": "display_data"
    }
   ],
   "source": [
    "plt.figure(figsize=(15, 4))\n",
    "plt.subplot(1,2,1)\n",
    "plt.title('День недели написания отзыва (вск - суб)\\n на тренировочной выборке')\n",
    "sns.countplot(x=train_df['dateReview_month'], color=color)\n",
    "plt.subplot(1,2,2)\n",
    "plt.title('День недели написания отзыва (вск - суб)\\n на тестовой выборке')\n",
    "sns.countplot(x=test_df['dateReview_month'], color=color)\n",
    "\n",
    "plt.show()"
   ]
  },
  {
   "cell_type": "markdown",
   "id": "de2f1c04",
   "metadata": {},
   "source": [
    "Обычно отзывы пишут сразу после покупки или начала использования. На графиках мы видим, что больше всего написано в январе и марте, чуть меньше декабрь и февраль. Похоже на связь с праздниками."
   ]
  },
  {
   "cell_type": "markdown",
   "id": "76dd8ed2",
   "metadata": {},
   "source": [
    "**reviewerName**"
   ]
  },
  {
   "cell_type": "code",
   "execution_count": 38,
   "id": "b57720ad",
   "metadata": {
    "ExecuteTime": {
     "end_time": "2022-04-19T10:02:22.039227Z",
     "start_time": "2022-04-19T10:02:21.955292Z"
    }
   },
   "outputs": [
    {
     "data": {
      "text/plain": [
       "Amazon Customer    30612\n",
       "Kindle Customer     6012\n",
       "Linda                713\n",
       "John                 695\n",
       "David                597\n",
       "Mary                 551\n",
       "Mike                 550\n",
       "Name: reviewerName, dtype: int64"
      ]
     },
     "execution_count": 38,
     "metadata": {},
     "output_type": "execute_result"
    }
   ],
   "source": [
    "train_df.reviewerName.value_counts()[:7]"
   ]
  },
  {
   "cell_type": "code",
   "execution_count": 39,
   "id": "64940fc2",
   "metadata": {
    "ExecuteTime": {
     "end_time": "2022-04-19T10:02:22.218822Z",
     "start_time": "2022-04-19T10:02:22.040316Z"
    }
   },
   "outputs": [
    {
     "data": {
      "text/plain": [
       "Amazon Customer    10642\n",
       "Kindle Customer     2060\n",
       "Linda                254\n",
       "John                 225\n",
       "Michael              195\n",
       "Karen                190\n",
       "David                189\n",
       "Name: reviewerName, dtype: int64"
      ]
     },
     "execution_count": 39,
     "metadata": {},
     "output_type": "execute_result"
    }
   ],
   "source": [
    "test_df.reviewerName.value_counts()[:7]"
   ]
  },
  {
   "cell_type": "markdown",
   "id": "86abcd7e",
   "metadata": {},
   "source": [
    "В обоих выборках большинство имен это Amazon Customer (Клиент Амазона) и Kindle Customer (Клиент Kindle). Можно предположить, что эти отзывы отправленны с их сервисов (если клиент не указал свое имя)."
   ]
  },
  {
   "cell_type": "code",
   "execution_count": 40,
   "id": "35687666",
   "metadata": {
    "ExecuteTime": {
     "end_time": "2022-04-19T10:02:22.289087Z",
     "start_time": "2022-04-19T10:02:22.220300Z"
    }
   },
   "outputs": [
    {
     "name": "stdout",
     "output_type": "stream",
     "text": [
      "Количество пропусков в тренировочной выборке - 164\n",
      "Количество пропусков в тестовой выборке - 47\n"
     ]
    }
   ],
   "source": [
    "print(f'Количество пропусков в тренировочной выборке - {train_df.reviewerName.isna().sum()}')\n",
    "print(f'Количество пропусков в тестовой выборке - {test_df.reviewerName.isna().sum()}')"
   ]
  },
  {
   "cell_type": "markdown",
   "id": "a4fc2ef8",
   "metadata": {},
   "source": [
    "Пропусков немного. Можно заполнить их знаением 'Amazon Customer'. Посмотрим далее."
   ]
  },
  {
   "cell_type": "markdown",
   "id": "943e8603",
   "metadata": {},
   "source": [
    "**vote**"
   ]
  },
  {
   "cell_type": "markdown",
   "id": "2e029003",
   "metadata": {},
   "source": [
    "Количество голосов за отзыв. Посмотрим на пропуски и значения."
   ]
  },
  {
   "cell_type": "code",
   "execution_count": 41,
   "id": "56657cd9",
   "metadata": {
    "ExecuteTime": {
     "end_time": "2022-04-19T10:02:22.395254Z",
     "start_time": "2022-04-19T10:02:22.290374Z"
    }
   },
   "outputs": [
    {
     "name": "stdout",
     "output_type": "stream",
     "text": [
      "На тренировочной выборке:\n",
      "Пропусков в vote: 712944 - 86.2 %\n",
      "На тестовой выборке:\n",
      "Пропусков в vote: 246503 - 86.2 %\n"
     ]
    }
   ],
   "source": [
    "print('На тренировочной выборке:')\n",
    "count_nan(\"vote\", train_df)\n",
    "print('На тестовой выборке:')\n",
    "count_nan(\"vote\", test_df)"
   ]
  },
  {
   "cell_type": "markdown",
   "id": "32852b21",
   "metadata": {},
   "source": [
    "В данной колонке очень большой процент пропусков - 86%. Клиенты не часто оценивают отзывы оставленные другими пользователями, обычно просто его читают. \n",
    "\n",
    "В основном, где значение заполненно, количество голосов за отзыв составляет от 2 до 6. Далее значения сильно падают. Есть ли смысл в этом признаке - пока неизвестно. \n",
    "\n",
    "Пропуски можно заполнить 0."
   ]
  },
  {
   "cell_type": "code",
   "execution_count": 42,
   "id": "7824836d",
   "metadata": {
    "ExecuteTime": {
     "end_time": "2022-04-19T10:02:22.422227Z",
     "start_time": "2022-04-19T10:02:22.396677Z"
    }
   },
   "outputs": [
    {
     "data": {
      "text/plain": [
       "2    42820\n",
       "3    21447\n",
       "4    12337\n",
       "5     7932\n",
       "6     5480\n",
       "7     3833\n",
       "8     2961\n",
       "9     2291\n",
       "Name: vote, dtype: int64"
      ]
     },
     "execution_count": 42,
     "metadata": {},
     "output_type": "execute_result"
    }
   ],
   "source": [
    "train_df.vote.value_counts()[:8]"
   ]
  },
  {
   "cell_type": "code",
   "execution_count": 43,
   "id": "94d82628",
   "metadata": {
    "ExecuteTime": {
     "end_time": "2022-04-19T10:02:22.559325Z",
     "start_time": "2022-04-19T10:02:22.423399Z"
    }
   },
   "outputs": [],
   "source": [
    "train_df['vote'] = train_df['vote'].fillna(0)\n",
    "test_df['vote'] = test_df['vote'].fillna(0)"
   ]
  },
  {
   "cell_type": "code",
   "execution_count": 44,
   "id": "7a780b92",
   "metadata": {
    "ExecuteTime": {
     "end_time": "2022-04-19T10:02:22.987444Z",
     "start_time": "2022-04-19T10:02:22.560513Z"
    }
   },
   "outputs": [],
   "source": [
    "# Преобразуем все значения в числа, так как встречаются ','\n",
    "train_df['vote'] = train_df['vote'].apply(lambda i: int(str(i).replace(',', '')))\n",
    "test_df['vote'] = test_df['vote'].apply(lambda i: int(str(i).replace(',', '')))"
   ]
  },
  {
   "cell_type": "code",
   "execution_count": 45,
   "id": "5c3858ec",
   "metadata": {
    "ExecuteTime": {
     "end_time": "2022-04-19T10:02:23.451548Z",
     "start_time": "2022-04-19T10:02:22.988663Z"
    }
   },
   "outputs": [
    {
     "data": {
      "image/png": "[encoded data removed]",
      "text/plain": [
       "<Figure size 1080x288 with 2 Axes>"
      ]
     },
     "metadata": {
      "needs_background": "light"
     },
     "output_type": "display_data"
    }
   ],
   "source": [
    "plt.figure(figsize=(15, 4))\n",
    "plt.subplot(1,2,1)\n",
    "plt.title('Количество голосов за отзыв\\n на тренировочной выборке')\n",
    "sns.boxplot(x=train_df['vote'])\n",
    "plt.subplot(1,2,2)\n",
    "plt.title('Количество голосов за отзыв\\n на тестовой выборке')\n",
    "sns.boxplot(x=test_df['vote'])\n",
    "\n",
    "plt.show()"
   ]
  },
  {
   "cell_type": "code",
   "execution_count": 46,
   "id": "b7550c9d",
   "metadata": {
    "ExecuteTime": {
     "end_time": "2022-04-19T10:02:23.461959Z",
     "start_time": "2022-04-19T10:02:23.452825Z"
    }
   },
   "outputs": [
    {
     "data": {
      "text/plain": [
       "2.0"
      ]
     },
     "execution_count": 46,
     "metadata": {},
     "output_type": "execute_result"
    }
   ],
   "source": [
    "train_df['vote'].quantile(0.90)"
   ]
  },
  {
   "cell_type": "markdown",
   "id": "fd970d2f",
   "metadata": {},
   "source": [
    "Данные очень смещены. На 90 квантиле у нас значение 2. Все, что выше 8 - приравняем к 8."
   ]
  },
  {
   "cell_type": "code",
   "execution_count": 47,
   "id": "4244fdab",
   "metadata": {
    "ExecuteTime": {
     "end_time": "2022-04-19T10:02:23.760015Z",
     "start_time": "2022-04-19T10:02:23.463183Z"
    }
   },
   "outputs": [],
   "source": [
    "train_df['vote'] = train_df['vote'].apply(lambda i: i if i<8 else 8)\n",
    "test_df['vote'] = test_df['vote'].apply(lambda i: i if i<8 else 8)"
   ]
  },
  {
   "cell_type": "code",
   "execution_count": 48,
   "id": "5e7a682d",
   "metadata": {
    "ExecuteTime": {
     "end_time": "2022-04-19T10:02:24.094468Z",
     "start_time": "2022-04-19T10:02:23.761175Z"
    }
   },
   "outputs": [
    {
     "data": {
      "image/png": "[encoded data removed]",
      "text/plain": [
       "<Figure size 1080x288 with 2 Axes>"
      ]
     },
     "metadata": {
      "needs_background": "light"
     },
     "output_type": "display_data"
    }
   ],
   "source": [
    "plt.figure(figsize=(15, 4))\n",
    "plt.subplot(1,2,1)\n",
    "plt.title('Количество голосов за отзыв\\n на тренировочной выборке')\n",
    "sns.boxplot(x=train_df['vote'])\n",
    "plt.subplot(1,2,2)\n",
    "plt.title('Количество голосов за отзыв\\n на тестовой выборке')\n",
    "sns.boxplot(x=test_df['vote'])\n",
    "\n",
    "plt.show()"
   ]
  },
  {
   "cell_type": "code",
   "execution_count": 49,
   "id": "7c52f056",
   "metadata": {
    "ExecuteTime": {
     "end_time": "2022-04-19T10:02:24.349010Z",
     "start_time": "2022-04-19T10:02:24.095761Z"
    }
   },
   "outputs": [
    {
     "data": {
      "image/png": "[encoded data removed]",
      "text/plain": [
       "<Figure size 1080x288 with 2 Axes>"
      ]
     },
     "metadata": {
      "needs_background": "light"
     },
     "output_type": "display_data"
    }
   ],
   "source": [
    "plt.figure(figsize=(15, 4))\n",
    "plt.subplot(1,2,1)\n",
    "plt.title('Количество голосов за отзыв\\n на тренировочной выборке')\n",
    "sns.histplot(x=train_df['vote'])\n",
    "plt.subplot(1,2,2)\n",
    "plt.title('Количество голосов за отзыв\\n на тестовой выборке')\n",
    "sns.histplot(x=test_df['vote'])\n",
    "\n",
    "plt.show()"
   ]
  },
  {
   "cell_type": "markdown",
   "id": "46545d61",
   "metadata": {},
   "source": [
    "**style**"
   ]
  },
  {
   "cell_type": "code",
   "execution_count": 50,
   "id": "3e7a08fc",
   "metadata": {
    "ExecuteTime": {
     "end_time": "2022-04-19T10:02:24.451931Z",
     "start_time": "2022-04-19T10:02:24.350274Z"
    }
   },
   "outputs": [
    {
     "data": {
      "text/plain": [
       "283400    {'Size:': ' Pack of 1', 'Flavor:': ' Real Thea...\n",
       "739176                      {'Size:': ' 12 oz (Pack of 4)'}\n",
       "491705                  {'Style:': ' Medium Roast, Ground'}\n",
       "121296    {'Size:': ' Pack of 24', 'Flavor:': ' Asian Pe...\n",
       "519769                                  {'Size:': ' 2 lb.'}\n",
       "Name: style, dtype: object"
      ]
     },
     "execution_count": 50,
     "metadata": {},
     "output_type": "execute_result"
    }
   ],
   "source": [
    "train_df[train_df['style'].isna() != True]['style'].sample(5)"
   ]
  },
  {
   "cell_type": "markdown",
   "id": "11574bba",
   "metadata": {},
   "source": [
    "В колонке 'style' указан словарь с разными параметрами товаров, такие как размер, вкус/аромат, цвет и т.д."
   ]
  },
  {
   "cell_type": "code",
   "execution_count": 51,
   "id": "dbd0177c",
   "metadata": {
    "ExecuteTime": {
     "end_time": "2022-04-19T10:02:24.652263Z",
     "start_time": "2022-04-19T10:02:24.453064Z"
    }
   },
   "outputs": [
    {
     "name": "stdout",
     "output_type": "stream",
     "text": [
      "На тренировочной выборке:\n",
      "Пропусков в style: 398698 - 48.2 %\n",
      "На тестовой выборке:\n",
      "Пропусков в style: 138285 - 48.4 %\n"
     ]
    }
   ],
   "source": [
    "print('На тренировочной выборке:')\n",
    "count_nan('style', train_df)\n",
    "print('На тестовой выборке:')\n",
    "count_nan('style', test_df)"
   ]
  },
  {
   "cell_type": "markdown",
   "id": "808c2bf2",
   "metadata": {},
   "source": [
    "Значения ключей: 'Size', 'Flavor', 'Package Quantity' 'Package Type', 'Format'"
   ]
  },
  {
   "cell_type": "markdown",
   "id": "6d950edd",
   "metadata": {},
   "source": [
    "Достанем значения 'Size' - размер, объем, количество данного товара.  "
   ]
  },
  {
   "cell_type": "code",
   "execution_count": 52,
   "id": "babad7c9",
   "metadata": {
    "ExecuteTime": {
     "end_time": "2022-04-19T10:02:24.932842Z",
     "start_time": "2022-04-19T10:02:24.653454Z"
    }
   },
   "outputs": [],
   "source": [
    "def dict_col(d, key):\n",
    "    try:\n",
    "        if isinstance(d, str):\n",
    "            d = d.split(',')\n",
    "            for el in d:\n",
    "                if key in el:\n",
    "                    return el\n",
    "    except:\n",
    "        print('Ошибка -', d)\n",
    "        return d\n",
    "    return \n",
    "\n",
    "\n",
    "train_df['style_size'] = train_df['style'].apply(lambda d: dict_col(d, 'Size:'))\n",
    "test_df['style_size'] = test_df['style'].apply(lambda d: dict_col(d, 'Size:'))"
   ]
  },
  {
   "cell_type": "code",
   "execution_count": 53,
   "id": "4b237340",
   "metadata": {
    "ExecuteTime": {
     "end_time": "2022-04-19T10:02:25.302276Z",
     "start_time": "2022-04-19T10:02:24.934002Z"
    }
   },
   "outputs": [],
   "source": [
    "train_df['style_size'] = train_df['style_size'].apply(lambda s: str(s).replace(\"{'Size:': ' \", '' ).replace(\"'}\", '' ).strip(\" '\"))\n",
    "test_df['style_size'] = test_df['style_size'].apply(lambda s: str(s).replace(\"{'Size:': ' \", '' ).replace(\"'}\", '' ).strip(\" '\"))"
   ]
  },
  {
   "cell_type": "code",
   "execution_count": 54,
   "id": "e06bd42a",
   "metadata": {
    "ExecuteTime": {
     "end_time": "2022-04-19T10:02:25.363967Z",
     "start_time": "2022-04-19T10:02:25.303388Z"
    }
   },
   "outputs": [
    {
     "data": {
      "text/plain": [
       "None                    501280\n",
       "24 Count                  9331\n",
       "Pack of 1                 6233\n",
       "1 Pack                    4967\n",
       "12 Bars                   4906\n",
       "Pack of 12                4570\n",
       "16 Ounce                  4435\n",
       "Pack of 6                 3871\n",
       "12 Count                  3482\n",
       "20 Count (Pack of 6)      3081\n",
       "Name: style_size, dtype: int64"
      ]
     },
     "execution_count": 54,
     "metadata": {},
     "output_type": "execute_result"
    }
   ],
   "source": [
    "train_df['style_size'].value_counts()[:10]"
   ]
  },
  {
   "cell_type": "markdown",
   "id": "bdaca3f6",
   "metadata": {},
   "source": [
    "Есть однотипные значений по разному написанные. Можно достать просто цифры."
   ]
  },
  {
   "cell_type": "code",
   "execution_count": 55,
   "id": "c2aaa9f9",
   "metadata": {
    "ExecuteTime": {
     "end_time": "2022-04-19T10:02:27.958409Z",
     "start_time": "2022-04-19T10:02:25.365077Z"
    }
   },
   "outputs": [],
   "source": [
    "train_df['style_size_num'] = train_df['style_size'].astype(str).apply(lambda x: re.findall(\"\\d+\", x))\n",
    "test_df['style_size_num'] = test_df['style_size'].astype(str).apply(lambda x: re.findall(\"\\d+\", x))"
   ]
  },
  {
   "cell_type": "code",
   "execution_count": 56,
   "id": "3a630d2d",
   "metadata": {
    "ExecuteTime": {
     "end_time": "2022-04-19T10:02:28.298785Z",
     "start_time": "2022-04-19T10:02:27.959500Z"
    }
   },
   "outputs": [
    {
     "data": {
      "text/plain": [
       "1      557841\n",
       "2       28188\n",
       "12      26296\n",
       "24      19654\n",
       "16      18025\n",
       "        ...  \n",
       "102         1\n",
       "129         1\n",
       "151         1\n",
       "97          1\n",
       "69          1\n",
       "Name: style_size_num, Length: 191, dtype: int64"
      ]
     },
     "execution_count": 56,
     "metadata": {},
     "output_type": "execute_result"
    }
   ],
   "source": [
    "train_df['style_size_num'] = train_df['style_size_num'].apply(lambda x: int(x[0]) if len(x)>0 else 1)\n",
    "test_df['style_size_num'] = test_df['style_size_num'].apply(lambda x: int(x[0]) if len(x)>0 else 1)\n",
    "train_df['style_size_num'].value_counts()"
   ]
  },
  {
   "cell_type": "markdown",
   "id": "3dc4e99a",
   "metadata": {},
   "source": [
    "Обычно товар представлен как 1,2, 12, 24, т.е. штуками и упаковками. Но так же встречаается в весовых показателях. Заменим их на 1. И 0 тоже заменим на 1."
   ]
  },
  {
   "cell_type": "code",
   "execution_count": 57,
   "id": "a97a14d2",
   "metadata": {
    "ExecuteTime": {
     "end_time": "2022-04-19T10:02:28.545213Z",
     "start_time": "2022-04-19T10:02:28.299926Z"
    }
   },
   "outputs": [],
   "source": [
    "train_df['style_size_num'] = train_df['style_size_num'].apply(lambda x: 1 if x>24 or x == 0 else x)\n",
    "test_df['style_size_num'] = test_df['style_size_num'].apply(lambda x: 1 if x>24 or x == 0 else x)"
   ]
  },
  {
   "cell_type": "markdown",
   "id": "0ec06095",
   "metadata": {},
   "source": [
    "**userid** и **itemid**"
   ]
  },
  {
   "cell_type": "code",
   "execution_count": 58,
   "id": "01cb9498",
   "metadata": {
    "ExecuteTime": {
     "end_time": "2022-04-19T10:02:28.563832Z",
     "start_time": "2022-04-19T10:02:28.546476Z"
    }
   },
   "outputs": [
    {
     "data": {
      "text/plain": [
       "842       418\n",
       "17987     311\n",
       "355       294\n",
       "2024      288\n",
       "2809      263\n",
       "         ... \n",
       "29880       1\n",
       "77384       1\n",
       "103777      1\n",
       "81564       1\n",
       "100045      1\n",
       "Name: userid, Length: 127448, dtype: int64"
      ]
     },
     "execution_count": 58,
     "metadata": {},
     "output_type": "execute_result"
    }
   ],
   "source": [
    "train_df.userid.value_counts()"
   ]
  },
  {
   "cell_type": "code",
   "execution_count": 59,
   "id": "fee80f37",
   "metadata": {
    "ExecuteTime": {
     "end_time": "2022-04-19T10:02:28.610738Z",
     "start_time": "2022-04-19T10:02:28.565296Z"
    }
   },
   "outputs": [
    {
     "data": {
      "text/plain": [
       "22208    5430\n",
       "23540    4733\n",
       "24556    4611\n",
       "32046    2449\n",
       "1919     2166\n",
       "         ... \n",
       "21977       1\n",
       "38542       1\n",
       "39156       1\n",
       "15582       1\n",
       "36432       1\n",
       "Name: itemid, Length: 41302, dtype: int64"
      ]
     },
     "execution_count": 59,
     "metadata": {},
     "output_type": "execute_result"
    }
   ],
   "source": [
    "train_df.itemid.value_counts()"
   ]
  },
  {
   "cell_type": "markdown",
   "id": "5180c925",
   "metadata": {},
   "source": [
    "Есть пользователи которые регулярно оставляют отзывы о товаре и оценивают его, а есть которые разово. Так как дубли удалены в самом начале, то это отзывы пользователя о разном товаре, и об одном товаре отзывы разных пользователей.\n",
    "\n",
    "Можно сделать признак количество отзыва от данного покупатели и количество отзывов по данному товару. Так как скорее всего тренировочная и тестовая выборка это рандомное распределение общей базы, то тут думаю, что необходимо объединить эти базы и по ней сформировать словарь, в котором будет подсчитано количество."
   ]
  },
  {
   "cell_type": "code",
   "execution_count": 60,
   "id": "fb29a395",
   "metadata": {
    "ExecuteTime": {
     "end_time": "2022-04-19T10:02:29.100128Z",
     "start_time": "2022-04-19T10:02:28.611985Z"
    }
   },
   "outputs": [
    {
     "name": "stdout",
     "output_type": "stream",
     "text": [
      "Количество дубликатов строк: 47436\n"
     ]
    }
   ],
   "source": [
    "df_tr = train_df[['userid', 'itemid', 'asin']]\n",
    "df_ts = test_df[['userid', 'itemid', 'asin']]\n",
    "df = pd.concat([df_tr, df_ts])\n",
    "print(f'Количество дубликатов строк: {df.duplicated().sum()}')\n",
    "df = df.drop_duplicates()"
   ]
  },
  {
   "cell_type": "code",
   "execution_count": 61,
   "id": "9bfb4da0",
   "metadata": {
    "ExecuteTime": {
     "end_time": "2022-04-19T10:02:29.186188Z",
     "start_time": "2022-04-19T10:02:29.101482Z"
    }
   },
   "outputs": [],
   "source": [
    "userid_dict = df.userid.value_counts().to_dict()\n",
    "itemid_dict = df.itemid.value_counts().to_dict()"
   ]
  },
  {
   "cell_type": "code",
   "execution_count": 62,
   "id": "8c043e0b",
   "metadata": {
    "ExecuteTime": {
     "end_time": "2022-04-19T10:02:29.670423Z",
     "start_time": "2022-04-19T10:02:29.187323Z"
    }
   },
   "outputs": [],
   "source": [
    "# Активность пользователей по написанию отзывов\n",
    "train_df['user_reviewer_num'] = train_df['userid'].apply(lambda x: userid_dict[x])\n",
    "test_df['user_reviewer_num'] = test_df['userid'].apply(lambda x: userid_dict[x])"
   ]
  },
  {
   "cell_type": "code",
   "execution_count": 63,
   "id": "cfa56505",
   "metadata": {
    "ExecuteTime": {
     "end_time": "2022-04-19T10:02:29.970230Z",
     "start_time": "2022-04-19T10:02:29.671538Z"
    }
   },
   "outputs": [],
   "source": [
    "# Популярнось товара у активных пользователей\n",
    "train_df['item_reviewer_num'] = train_df['itemid'].apply(lambda x: itemid_dict[x])\n",
    "test_df['item_reviewer_num'] = test_df['itemid'].apply(lambda x: itemid_dict[x])"
   ]
  },
  {
   "cell_type": "code",
   "execution_count": 64,
   "id": "ba3a80fc",
   "metadata": {
    "ExecuteTime": {
     "end_time": "2022-04-19T10:02:29.978796Z",
     "start_time": "2022-04-19T10:02:29.971346Z"
    }
   },
   "outputs": [],
   "source": [
    "del df_tr\n",
    "del df_ts\n",
    "del df"
   ]
  },
  {
   "cell_type": "markdown",
   "id": "95ec5b34",
   "metadata": {},
   "source": [
    "### product_df"
   ]
  },
  {
   "cell_type": "markdown",
   "id": "54f2d497",
   "metadata": {},
   "source": [
    "**Удаление дубликатов**"
   ]
  },
  {
   "cell_type": "code",
   "execution_count": 65,
   "id": "7a3af746",
   "metadata": {
    "ExecuteTime": {
     "end_time": "2022-04-19T10:02:31.620787Z",
     "start_time": "2022-04-19T10:02:29.980298Z"
    }
   },
   "outputs": [
    {
     "name": "stdout",
     "output_type": "stream",
     "text": [
      "Количество дубликатов строк в выборке информации о товаре: 3697\n"
     ]
    }
   ],
   "source": [
    "print(f'Количество дубликатов строк в выборке информации о товаре: {product_df.duplicated().sum()}')"
   ]
  },
  {
   "cell_type": "code",
   "execution_count": 66,
   "id": "61da0c92",
   "metadata": {
    "ExecuteTime": {
     "end_time": "2022-04-19T10:02:32.157025Z",
     "start_time": "2022-04-19T10:02:31.622076Z"
    }
   },
   "outputs": [],
   "source": [
    "product_df = product_df.drop_duplicates()"
   ]
  },
  {
   "cell_type": "markdown",
   "id": "ca9eea90",
   "metadata": {},
   "source": [
    "**title**"
   ]
  },
  {
   "cell_type": "markdown",
   "id": "a66f1cf4",
   "metadata": {},
   "source": [
    "Название товара.\n",
    "\n",
    "В title всего 4 пропуска. Заполним их вручную, выбрав информацию из 'details'"
   ]
  },
  {
   "cell_type": "code",
   "execution_count": 67,
   "id": "e36a0d45",
   "metadata": {
    "ExecuteTime": {
     "end_time": "2022-04-19T10:02:32.175049Z",
     "start_time": "2022-04-19T10:02:32.158174Z"
    }
   },
   "outputs": [
    {
     "data": {
      "text/html": [
       "<div>\n",
       "<style scoped>\n",
       "    .dataframe tbody tr th:only-of-type {\n",
       "        vertical-align: middle;\n",
       "    }\n",
       "\n",
       "    .dataframe tbody tr th {\n",
       "        vertical-align: top;\n",
       "    }\n",
       "\n",
       "    .dataframe thead th {\n",
       "        text-align: right;\n",
       "    }\n",
       "</style>\n",
       "<table border=\"1\" class=\"dataframe\">\n",
       "  <thead>\n",
       "    <tr style=\"text-align: right;\">\n",
       "      <th></th>\n",
       "      <th>asin</th>\n",
       "      <th>category</th>\n",
       "      <th>title</th>\n",
       "      <th>main_cat</th>\n",
       "      <th>description</th>\n",
       "      <th>details</th>\n",
       "    </tr>\n",
       "  </thead>\n",
       "  <tbody>\n",
       "    <tr>\n",
       "      <th>30094</th>\n",
       "      <td>B00104HAOO</td>\n",
       "      <td>['Grocery &amp; Gourmet Food', 'Herbs, Spices &amp; Se...</td>\n",
       "      <td>NaN</td>\n",
       "      <td>Grocery</td>\n",
       "      <td>NaN</td>\n",
       "      <td>\\n      &lt;div class=\"content\"&gt;\\n\\n\\n\\n\\n\\n\\n&lt;ul...</td>\n",
       "    </tr>\n",
       "    <tr>\n",
       "      <th>51120</th>\n",
       "      <td>B001TO12N0</td>\n",
       "      <td>['Grocery &amp; Gourmet Food', 'Sauces, Gravies &amp; ...</td>\n",
       "      <td>NaN</td>\n",
       "      <td>NaN</td>\n",
       "      <td>['Sweet Chili Sauce']</td>\n",
       "      <td>\\n  &lt;div class=\"content\"&gt;\\n\\n\\n\\n\\n\\n\\n\\n&lt;ul&gt;\\...</td>\n",
       "    </tr>\n",
       "    <tr>\n",
       "      <th>211916</th>\n",
       "      <td>B00N2FVDGA</td>\n",
       "      <td>['Grocery &amp; Gourmet Food', 'Beverages', 'Coffe...</td>\n",
       "      <td>NaN</td>\n",
       "      <td>Grocery</td>\n",
       "      <td>['An elegantly balanced blend of light and dar...</td>\n",
       "      <td>\\n      &lt;div class=\"content\"&gt;\\n\\n\\n\\n\\n\\n\\n&lt;ul...</td>\n",
       "    </tr>\n",
       "    <tr>\n",
       "      <th>212457</th>\n",
       "      <td>B00N4QFR32</td>\n",
       "      <td>['Grocery &amp; Gourmet Food', 'Snack Foods', 'Pop...</td>\n",
       "      <td>NaN</td>\n",
       "      <td>Grocery</td>\n",
       "      <td>[\"The Pop Crazy 3 Piece Popcorn Party Pack com...</td>\n",
       "      <td>\\n      &lt;div class=\"content\"&gt;\\n\\n\\n\\n\\n\\n\\n&lt;ul...</td>\n",
       "    </tr>\n",
       "  </tbody>\n",
       "</table>\n",
       "</div>"
      ],
      "text/plain": [
       "              asin                                           category title  \\\n",
       "30094   B00104HAOO  ['Grocery & Gourmet Food', 'Herbs, Spices & Se...   NaN   \n",
       "51120   B001TO12N0  ['Grocery & Gourmet Food', 'Sauces, Gravies & ...   NaN   \n",
       "211916  B00N2FVDGA  ['Grocery & Gourmet Food', 'Beverages', 'Coffe...   NaN   \n",
       "212457  B00N4QFR32  ['Grocery & Gourmet Food', 'Snack Foods', 'Pop...   NaN   \n",
       "\n",
       "       main_cat                                        description  \\\n",
       "30094   Grocery                                                NaN   \n",
       "51120       NaN                              ['Sweet Chili Sauce']   \n",
       "211916  Grocery  ['An elegantly balanced blend of light and dar...   \n",
       "212457  Grocery  [\"The Pop Crazy 3 Piece Popcorn Party Pack com...   \n",
       "\n",
       "                                                  details  \n",
       "30094   \\n      <div class=\"content\">\\n\\n\\n\\n\\n\\n\\n<ul...  \n",
       "51120   \\n  <div class=\"content\">\\n\\n\\n\\n\\n\\n\\n\\n<ul>\\...  \n",
       "211916  \\n      <div class=\"content\">\\n\\n\\n\\n\\n\\n\\n<ul...  \n",
       "212457  \\n      <div class=\"content\">\\n\\n\\n\\n\\n\\n\\n<ul...  "
      ]
     },
     "execution_count": 67,
     "metadata": {},
     "output_type": "execute_result"
    }
   ],
   "source": [
    "product_df[product_df.title.isna()][['asin', 'category', 'title', 'main_cat', 'description', 'details']]"
   ]
  },
  {
   "cell_type": "code",
   "execution_count": 68,
   "id": "9ee60ea0",
   "metadata": {
    "ExecuteTime": {
     "end_time": "2022-04-19T10:02:32.293376Z",
     "start_time": "2022-04-19T10:02:32.176241Z"
    }
   },
   "outputs": [],
   "source": [
    "# Пропусков в title мало - быстрее вручную пробежать по details в этой строке\n",
    "product_df.iloc[30094].title = 'Peppercorns'\n",
    "product_df.iloc[51120].title = 'Chili Sauce'\n",
    "product_df.iloc[211916].title = 'Single-Serve Capsules & Pods'\n",
    "product_df.iloc[212457].title = 'Popcorn'"
   ]
  },
  {
   "cell_type": "markdown",
   "id": "3b5c61b2",
   "metadata": {},
   "source": [
    "Некоторые товары имеют одинаковое название. Хорошо бы создать колонку, выделив главные названия без описательных, например чай, шоколад и т.д. Попробуем если будет время."
   ]
  },
  {
   "cell_type": "code",
   "execution_count": 69,
   "id": "c534d2c9",
   "metadata": {
    "ExecuteTime": {
     "end_time": "2022-04-19T10:02:32.454061Z",
     "start_time": "2022-04-19T10:02:32.297474Z"
    }
   },
   "outputs": [
    {
     "data": {
      "text/plain": [
       "1871"
      ]
     },
     "execution_count": 69,
     "metadata": {},
     "output_type": "execute_result"
    }
   ],
   "source": [
    "product_df.asin.nunique() - product_df.title.nunique() "
   ]
  },
  {
   "cell_type": "markdown",
   "id": "f04601e7",
   "metadata": {},
   "source": [
    "**category**"
   ]
  },
  {
   "cell_type": "markdown",
   "id": "628ba500",
   "metadata": {},
   "source": [
    "Признак содержит вложенность (иерархию) категорий товара. \n",
    "\n",
    "В 'category' все объекты начинаются с 'Grocery & Gourmet Food' => Удалим"
   ]
  },
  {
   "cell_type": "code",
   "execution_count": 70,
   "id": "f85d470a",
   "metadata": {
    "ExecuteTime": {
     "end_time": "2022-04-19T10:02:32.646771Z",
     "start_time": "2022-04-19T10:02:32.455511Z"
    }
   },
   "outputs": [],
   "source": [
    "product_df['category'] = product_df['category'].apply(lambda x: str(x).replace(\"['Grocery & Gourmet Food', \", '').replace('\"', \"'\").replace(\"']\", \"\"))"
   ]
  },
  {
   "cell_type": "code",
   "execution_count": 71,
   "id": "50d8f315",
   "metadata": {
    "ExecuteTime": {
     "end_time": "2022-04-19T10:02:32.652379Z",
     "start_time": "2022-04-19T10:02:32.648060Z"
    }
   },
   "outputs": [
    {
     "data": {
      "text/plain": [
       "0                  'Dairy, Cheese & Eggs', 'Cheese', 'Gouda\n",
       "1         'Cooking & Baking', 'Sugar Substitutes', 'Xylitol\n",
       "2         'Cooking & Baking', 'Frosting, Icing & Decorat...\n",
       "3         'Cooking & Baking', 'Frosting, Icing & Decorat...\n",
       "4         'Cooking & Baking', 'Frosting, Icing & Decorat...\n",
       "                                ...                        \n",
       "287204    'Jams, Jellies & Sweet Spreads', 'Jams, Jellie...\n",
       "287205          'Condiments & Salad Dressings', 'Mayonnaise\n",
       "287206    'Condiments & Salad Dressings', 'Salad Dressin...\n",
       "287207    'Herbs, Spices & Seasonings', 'Single Herbs & ...\n",
       "287208    'Beverages', 'Bottled Beverages, Water & Drink...\n",
       "Name: category, Length: 283512, dtype: object"
      ]
     },
     "execution_count": 71,
     "metadata": {},
     "output_type": "execute_result"
    }
   ],
   "source": [
    "product_df['category'] "
   ]
  },
  {
   "cell_type": "code",
   "execution_count": 72,
   "id": "aa0cd5d7",
   "metadata": {
    "ExecuteTime": {
     "end_time": "2022-04-19T10:02:32.813445Z",
     "start_time": "2022-04-19T10:02:32.653684Z"
    }
   },
   "outputs": [
    {
     "data": {
      "text/plain": [
       "Beverages                             61035\n",
       "Cooking & Baking                      45556\n",
       "Candy & Chocolate                     40398\n",
       "Snack Foods                           32076\n",
       "Herbs, Spices & Seasonings            18852\n",
       "Sauces, Gravies & Marinades           10673\n",
       "Canned, Jarred & Packaged Foods        9987\n",
       "Food & Beverage Gifts                  9494\n",
       "Breakfast Foods                        7514\n",
       "Condiments & Salad Dressings           4814\n",
       "Produce                                4701\n",
       "Jams, Jellies & Sweet Spreads          4692\n",
       "Soups, Stocks & Broths                 4597\n",
       "Dairy, Cheese & Eggs                   4526\n",
       "Meat & Seafood                         4475\n",
       "Breads & Bakery                        3997\n",
       "Dried Beans, Grains & Rice             3450\n",
       "Pasta & Noodles                        3396\n",
       "Olives, Pickles & Relishes             2615\n",
       "Fresh Flowers & Live Indoor Plants     2599\n",
       "Frozen                                 2474\n",
       "Prepared Foods                          642\n",
       "Deli                                    467\n",
       "Alcoholic Beverages                     250\n",
       "Meat Substitutes                        224\n",
       "Fresh Meal Kits                           8\n",
       "Name: num_category_1, dtype: int64"
      ]
     },
     "execution_count": 72,
     "metadata": {},
     "output_type": "execute_result"
    }
   ],
   "source": [
    "product_df['num_category_1'] = product_df['category'].apply(lambda x: x.split(\"', '\")[0].replace(\"'\", \"\"))\n",
    "product_df['num_category_1'].value_counts() "
   ]
  },
  {
   "cell_type": "code",
   "execution_count": 73,
   "id": "8de406c6",
   "metadata": {
    "ExecuteTime": {
     "end_time": "2022-04-19T10:02:32.972172Z",
     "start_time": "2022-04-19T10:02:32.814945Z"
    }
   },
   "outputs": [
    {
     "data": {
      "text/plain": [
       "Coffee, Tea & Cocoa                                                                                         44626\n",
       "Bottled Beverages, Water & Drink Mixes                                                                      15283\n",
       "Frosting, Icing & Decorations                                                                               10702\n",
       "Jelly Beans & Gummy Candy                                                                                    8270\n",
       "Cookies                                                                                                      8022\n",
       "                                                                                                            ...  \n",
       "Alcoholic Beverages                                                                                             3\n",
       "20 easy prefilled Easter eggs with 3 candy assortments including Brach's Jellybeans and Chewy Lemonheads        3\n",
       "Pulled & Flaked Meats                                                                                           2\n",
       "-Butlers -Creamy Toffees -Contains Milk & Soya & May Contain Traces of Nuts -Bagged, 125g                       1\n",
       "-The Connemara Kitchen -Coffee Fudge -Tin Package -160g                                                         1\n",
       "Name: num_category_2, Length: 253, dtype: int64"
      ]
     },
     "execution_count": 73,
     "metadata": {},
     "output_type": "execute_result"
    }
   ],
   "source": [
    "product_df['num_category_2'] = product_df['category'].apply(lambda x: x.split(\"', '\")[1] if len(x.split(\"', '\"))>1 else x.split(\"', '\")[0].replace(\"'\", \"\"))\n",
    "product_df['num_category_2'].value_counts()"
   ]
  },
  {
   "cell_type": "code",
   "execution_count": 74,
   "id": "2f6b16dd",
   "metadata": {
    "ExecuteTime": {
     "end_time": "2022-04-19T10:02:33.277801Z",
     "start_time": "2022-04-19T10:02:32.973588Z"
    }
   },
   "outputs": [
    {
     "data": {
      "text/plain": [
       "Tea                                                                                                                    23148\n",
       "Coffee                                                                                                                 18508\n",
       "Cake & Cupcake Toppers                                                                                                  8311\n",
       "Candy & Chocolate Bars                                                                                                  7456\n",
       "Hard Candy                                                                                                              4769\n",
       "                                                                                                                       ...  \n",
       "Variety Packs                                                                                                              1\n",
       "Potash Baking Ingredient                                                                                                   1\n",
       "8 Mini coconut patties in one box.                                                                                         1\n",
       "-Dark Chocolate -Kate Kearney -In a bar form -May contain traces of milk -peanuts -other nuts -gluten -egg & sesame        1\n",
       "Meatballs                                                                                                                  1\n",
       "Name: num_category_3, Length: 870, dtype: int64"
      ]
     },
     "execution_count": 74,
     "metadata": {},
     "output_type": "execute_result"
    }
   ],
   "source": [
    "product_df['num_category_3'] = product_df['category'].apply(lambda x: x.split(\"', '\")[2] if len(x.split(\"', '\"))>2 else  x.split(\"', '\")[-1].replace(\"'\", \"\"))\n",
    "product_df['num_category_3'].value_counts()"
   ]
  },
  {
   "cell_type": "markdown",
   "id": "e39d7e41",
   "metadata": {},
   "source": [
    "Колонки 'num_category_2' и 'num_category_3' в некоторых строках содержат описание, а не названия категорий. Заменим их."
   ]
  },
  {
   "cell_type": "code",
   "execution_count": 75,
   "id": "940612e8",
   "metadata": {
    "ExecuteTime": {
     "end_time": "2022-04-19T10:02:33.351060Z",
     "start_time": "2022-04-19T10:02:33.279284Z"
    }
   },
   "outputs": [
    {
     "data": {
      "text/plain": [
       "Coffee, Tea & Cocoa                       44626\n",
       "Bottled Beverages, Water & Drink Mixes    15283\n",
       "Frosting, Icing & Decorations             10702\n",
       "Jelly Beans & Gummy Candy                  8270\n",
       "Cookies                                    8022\n",
       "                                          ...  \n",
       "Nuggets & Wings                               4\n",
       "Jerky                                         4\n",
       "Roasted Chicken                               4\n",
       "Alcoholic Beverages                           3\n",
       "Pulled & Flaked Meats                         2\n",
       "Name: num_category_2, Length: 251, dtype: int64"
      ]
     },
     "execution_count": 75,
     "metadata": {},
     "output_type": "execute_result"
    }
   ],
   "source": [
    "product_df['num_category_2'] = product_df['num_category_2'].apply(lambda x: 'Other' if len(str(x))>50 else x)\n",
    "product_df['num_category_2'].value_counts()"
   ]
  },
  {
   "cell_type": "code",
   "execution_count": 76,
   "id": "c3546817",
   "metadata": {
    "ExecuteTime": {
     "end_time": "2022-04-19T10:02:33.455974Z",
     "start_time": "2022-04-19T10:02:33.352510Z"
    }
   },
   "outputs": [
    {
     "data": {
      "text/plain": [
       "Tea                                      23148\n",
       "Coffee                                   18508\n",
       "Cake & Cupcake Toppers                    8311\n",
       "Candy & Chocolate Bars                    7456\n",
       "Hard Candy                                4769\n",
       "                                         ...  \n",
       "Made in USA or Imported                      1\n",
       "Fruit Relishes                               1\n",
       "DISNEY'S FROZEN FILLED EASTER BASKET.        1\n",
       "100% Cotton                                  1\n",
       "Sake & Rice Spirits                          1\n",
       "Name: num_category_3, Length: 855, dtype: int64"
      ]
     },
     "execution_count": 76,
     "metadata": {},
     "output_type": "execute_result"
    }
   ],
   "source": [
    "product_df['num_category_3'] = product_df['num_category_3'].apply(lambda x: 'Other' if len(str(x))>50 else x)\n",
    "product_df['num_category_3'].value_counts()"
   ]
  },
  {
   "cell_type": "markdown",
   "id": "51b13f8f",
   "metadata": {},
   "source": [
    "Если в обучении будут использоваться num_category_3 и num_category_3, то надо будет сгруппировать данные. Предположительно если значений такой категории менее 50, то берем родительскую. И Other тоже заменим на родительскую категорию"
   ]
  },
  {
   "cell_type": "markdown",
   "id": "0844873d",
   "metadata": {},
   "source": [
    "**description**"
   ]
  },
  {
   "cell_type": "markdown",
   "id": "ce6577d7",
   "metadata": {},
   "source": [
    "Признак содержит описание товара, состав. "
   ]
  },
  {
   "cell_type": "code",
   "execution_count": 77,
   "id": "c81af3c8",
   "metadata": {
    "ExecuteTime": {
     "end_time": "2022-04-19T10:02:33.471776Z",
     "start_time": "2022-04-19T10:02:33.457390Z"
    }
   },
   "outputs": [
    {
     "data": {
      "text/plain": [
       "\"['Every bite is moist and full of flavor with walnuts, carrots, raisins, coconut and cinnamon. They taste just like you are biting into a Mini Carrot Cake but they are GUILT-FREE!', 'Ingredients: organic walnuts, fresh organic carrots, organic maple syrup, organic gluten-free oats, organic raisins, organic almonds, organic coconut, organic cashews, organic extra virgin coconut oil, pink himalayan salt, organic spices', 'Statements regarding dietary supplements have not been evaluated by the FDA and are not intended to diagnose, treat, cure, or prevent any disease or health condition.']\""
      ]
     },
     "execution_count": 77,
     "metadata": {},
     "output_type": "execute_result"
    }
   ],
   "source": [
    "# пример описания отвара\n",
    "product_df['description'][192595]"
   ]
  },
  {
   "cell_type": "code",
   "execution_count": 78,
   "id": "137898b4",
   "metadata": {
    "ExecuteTime": {
     "end_time": "2022-04-19T10:02:33.571797Z",
     "start_time": "2022-04-19T10:02:33.473122Z"
    }
   },
   "outputs": [
    {
     "name": "stdout",
     "output_type": "stream",
     "text": [
      "Пропусков в description: 34966 - 12.3 %\n"
     ]
    }
   ],
   "source": [
    "count_nan('description', product_df)"
   ]
  },
  {
   "cell_type": "markdown",
   "id": "108009ec",
   "metadata": {},
   "source": [
    "**brand**"
   ]
  },
  {
   "cell_type": "code",
   "execution_count": 79,
   "id": "1b5b0024",
   "metadata": {
    "ExecuteTime": {
     "end_time": "2022-04-19T10:02:33.610121Z",
     "start_time": "2022-04-19T10:02:33.573165Z"
    }
   },
   "outputs": [
    {
     "data": {
      "text/plain": [
       "Unknown                   1584\n",
       "Black Tie Mercantile      1458\n",
       "Trader Joe's              1234\n",
       "McCormick                 1022\n",
       "The Nutty Fruit House      998\n",
       "                          ... \n",
       "MoreA                        1\n",
       "3 ProArgi 9 Plus Boxes       1\n",
       "TOTLE                        1\n",
       "Yogavni(TM)                  1\n",
       "Dhrob                        1\n",
       "Name: brand, Length: 38911, dtype: int64"
      ]
     },
     "execution_count": 79,
     "metadata": {},
     "output_type": "execute_result"
    }
   ],
   "source": [
    "product_df['brand'].value_counts()"
   ]
  },
  {
   "cell_type": "code",
   "execution_count": 80,
   "id": "ae4dfb96",
   "metadata": {
    "ExecuteTime": {
     "end_time": "2022-04-19T10:02:33.660535Z",
     "start_time": "2022-04-19T10:02:33.611509Z"
    }
   },
   "outputs": [
    {
     "data": {
      "text/plain": [
       "38911"
      ]
     },
     "execution_count": 80,
     "metadata": {},
     "output_type": "execute_result"
    }
   ],
   "source": [
    "product_df['brand'].nunique()"
   ]
  },
  {
   "cell_type": "markdown",
   "id": "888e58fc",
   "metadata": {},
   "source": [
    "Достаточно большое разнообразие брендов. Так же имеются пропуски."
   ]
  },
  {
   "cell_type": "code",
   "execution_count": 81,
   "id": "9851a946",
   "metadata": {
    "ExecuteTime": {
     "end_time": "2022-04-19T10:02:33.724878Z",
     "start_time": "2022-04-19T10:02:33.661856Z"
    }
   },
   "outputs": [
    {
     "name": "stdout",
     "output_type": "stream",
     "text": [
      "Пропусков в brand: 11259 - 4.0 %\n"
     ]
    }
   ],
   "source": [
    "count_nan('brand', product_df)"
   ]
  },
  {
   "cell_type": "markdown",
   "id": "a72db2da",
   "metadata": {},
   "source": [
    "Есть универсальное значение 'Unknown' - вот им и заполним пропуски и те, которых очень мало."
   ]
  },
  {
   "cell_type": "code",
   "execution_count": 82,
   "id": "22f604e3",
   "metadata": {
    "ExecuteTime": {
     "end_time": "2022-04-19T10:02:33.814056Z",
     "start_time": "2022-04-19T10:02:33.731706Z"
    }
   },
   "outputs": [],
   "source": [
    "product_df['brand'] = product_df['brand'].fillna('Unknown')"
   ]
  },
  {
   "cell_type": "code",
   "execution_count": 83,
   "id": "d5e73383",
   "metadata": {
    "ExecuteTime": {
     "end_time": "2022-04-19T10:02:33.864779Z",
     "start_time": "2022-04-19T10:02:33.815239Z"
    }
   },
   "outputs": [
    {
     "data": {
      "text/plain": [
       "Unknown                   12843\n",
       "Black Tie Mercantile       1458\n",
       "Trader Joe's               1234\n",
       "McCormick                  1022\n",
       "The Nutty Fruit House       998\n",
       "                          ...  \n",
       "MoreA                         1\n",
       "3 ProArgi 9 Plus Boxes        1\n",
       "TOTLE                         1\n",
       "Yogavni(TM)                   1\n",
       "Dhrob                         1\n",
       "Name: brand, Length: 38911, dtype: int64"
      ]
     },
     "execution_count": 83,
     "metadata": {},
     "output_type": "execute_result"
    }
   ],
   "source": [
    "brand_sr = product_df['brand'].value_counts()\n",
    "product_df['brand'].value_counts()"
   ]
  },
  {
   "cell_type": "code",
   "execution_count": 84,
   "id": "59971237",
   "metadata": {
    "ExecuteTime": {
     "end_time": "2022-04-19T10:02:33.887763Z",
     "start_time": "2022-04-19T10:02:33.865894Z"
    }
   },
   "outputs": [
    {
     "data": {
      "text/plain": [
       "47278"
      ]
     },
     "execution_count": 84,
     "metadata": {},
     "output_type": "execute_result"
    }
   ],
   "source": [
    "brand_sr[brand_sr < 5].sum()"
   ]
  },
  {
   "cell_type": "markdown",
   "id": "2d1f1af2",
   "metadata": {},
   "source": [
    "После заполнения пропусков уже пошел сильно большой перекос в сторону Unknown, а если на него отнести значения у брендов с малым количеством, то будет еще гораздо хуже. "
   ]
  },
  {
   "cell_type": "markdown",
   "id": "799734fe",
   "metadata": {},
   "source": [
    "**rank**"
   ]
  },
  {
   "cell_type": "markdown",
   "id": "a75cc58f",
   "metadata": {},
   "source": [
    "По данным похоже, что в этой колонке отображен ранг (позиция) в категориях или позиция в номенклатуре. Так как если взять объект 4, то видим похожую с признаком 'category' вложенность."
   ]
  },
  {
   "cell_type": "code",
   "execution_count": 85,
   "id": "07d5a153",
   "metadata": {
    "ExecuteTime": {
     "end_time": "2022-04-19T10:02:33.937619Z",
     "start_time": "2022-04-19T10:02:33.888845Z"
    }
   },
   "outputs": [
    {
     "data": {
      "text/plain": [
       "\"'Cooking & Baking', 'Frosting, Icing & Decorations', 'Cake & Cupcake Toppers', 'Cake Toppers\""
      ]
     },
     "execution_count": 85,
     "metadata": {},
     "output_type": "execute_result"
    }
   ],
   "source": [
    "product_df['category'][4]"
   ]
  },
  {
   "cell_type": "code",
   "execution_count": 86,
   "id": "8d07fbe2",
   "metadata": {
    "ExecuteTime": {
     "end_time": "2022-04-19T10:02:34.083684Z",
     "start_time": "2022-04-19T10:02:33.941726Z"
    }
   },
   "outputs": [
    {
     "data": {
      "text/plain": [
       "'>#590,999 in Kitchen & Dining (See Top 100 in Kitchen & Dining)>#8,585 in Kitchen & Dining > Bakeware > Decorating Tools > Cake & Cupcake Toppers > Cake Toppers'"
      ]
     },
     "execution_count": 86,
     "metadata": {},
     "output_type": "execute_result"
    }
   ],
   "source": [
    "product_df['rank'][4]"
   ]
  },
  {
   "cell_type": "code",
   "execution_count": 87,
   "id": "92bebc89",
   "metadata": {
    "ExecuteTime": {
     "end_time": "2022-04-19T10:02:34.540752Z",
     "start_time": "2022-04-19T10:02:34.088225Z"
    }
   },
   "outputs": [],
   "source": [
    "product_df['rank'] = product_df['rank'].astype(str).apply(lambda x: re.findall(\"\\d+,\\d+\", x))"
   ]
  },
  {
   "cell_type": "code",
   "execution_count": 88,
   "id": "69abddf4",
   "metadata": {
    "ExecuteTime": {
     "end_time": "2022-04-19T10:02:34.665832Z",
     "start_time": "2022-04-19T10:02:34.541989Z"
    }
   },
   "outputs": [
    {
     "data": {
      "text/plain": [
       "0         165181.0\n",
       "1         315867.0\n",
       "2         669941.0\n",
       "3         832581.0\n",
       "4         590999.0\n",
       "            ...   \n",
       "287204    369384.0\n",
       "287205    113710.0\n",
       "287206     21731.0\n",
       "287207         NaN\n",
       "287208    265258.0\n",
       "Name: rank, Length: 283512, dtype: float64"
      ]
     },
     "execution_count": 88,
     "metadata": {},
     "output_type": "execute_result"
    }
   ],
   "source": [
    "def rank_number(x):\n",
    "    if len(x)>=1:\n",
    "        to_return = int(x[0].replace(',',''))\n",
    "    else:\n",
    "        to_return = None\n",
    "    return to_return\n",
    "product_df['rank'] = product_df['rank'].apply(lambda x: rank_number(x))\n",
    "product_df['rank'] "
   ]
  },
  {
   "cell_type": "code",
   "execution_count": 89,
   "id": "9e406ab2",
   "metadata": {
    "ExecuteTime": {
     "end_time": "2022-04-19T10:02:34.827288Z",
     "start_time": "2022-04-19T10:02:34.666912Z"
    }
   },
   "outputs": [
    {
     "data": {
      "text/plain": [
       "<AxesSubplot:>"
      ]
     },
     "execution_count": 89,
     "metadata": {},
     "output_type": "execute_result"
    },
    {
     "data": {
      "image/png": "[encoded data removed]",
      "text/plain": [
       "<Figure size 432x288 with 1 Axes>"
      ]
     },
     "metadata": {
      "needs_background": "light"
     },
     "output_type": "display_data"
    }
   ],
   "source": [
    "product_df['rank'].hist()"
   ]
  },
  {
   "cell_type": "code",
   "execution_count": 90,
   "id": "a8479d43",
   "metadata": {
    "ExecuteTime": {
     "end_time": "2022-04-19T10:02:34.833342Z",
     "start_time": "2022-04-19T10:02:34.828502Z"
    }
   },
   "outputs": [
    {
     "data": {
      "text/plain": [
       "(1000.0, 999998.0)"
      ]
     },
     "execution_count": 90,
     "metadata": {},
     "output_type": "execute_result"
    }
   ],
   "source": [
    "product_df['rank'].min(), product_df['rank'].max()"
   ]
  },
  {
   "cell_type": "code",
   "execution_count": 91,
   "id": "fe313d26",
   "metadata": {
    "ExecuteTime": {
     "end_time": "2022-04-19T10:02:34.839011Z",
     "start_time": "2022-04-19T10:02:34.834717Z"
    }
   },
   "outputs": [
    {
     "name": "stdout",
     "output_type": "stream",
     "text": [
      "Пропусков в rank: 12324 - 4.3 %\n"
     ]
    }
   ],
   "source": [
    "count_nan('rank', product_df)"
   ]
  },
  {
   "cell_type": "markdown",
   "id": "c4aed75f",
   "metadata": {},
   "source": [
    "Заполним пропуски по median 'rank' исходя из категории_3"
   ]
  },
  {
   "cell_type": "code",
   "execution_count": 92,
   "id": "765ee204",
   "metadata": {
    "ExecuteTime": {
     "end_time": "2022-04-19T10:02:37.656795Z",
     "start_time": "2022-04-19T10:02:34.842080Z"
    }
   },
   "outputs": [
    {
     "name": "stdout",
     "output_type": "stream",
     "text": [
      "Пропусков в rank: 92 - 0.0 %\n"
     ]
    }
   ],
   "source": [
    "rank_dict_3 = product_df.groupby('num_category_3')['rank'].median().to_dict()\n",
    "def fill_rank_3(row):\n",
    "    if row['rank']>0:\n",
    "        return row['rank']\n",
    "    \n",
    "    return rank_dict_3[row['num_category_3']]\n",
    "\n",
    "product_df['rank'] = product_df.apply(lambda x: fill_rank_3(x), axis=1)\n",
    "count_nan('rank', product_df)"
   ]
  },
  {
   "cell_type": "code",
   "execution_count": 93,
   "id": "fb0a9dce",
   "metadata": {
    "ExecuteTime": {
     "end_time": "2022-04-19T10:02:40.136287Z",
     "start_time": "2022-04-19T10:02:37.658145Z"
    }
   },
   "outputs": [
    {
     "name": "stdout",
     "output_type": "stream",
     "text": [
      "Пропусков в rank: 9 - 0.0 %\n"
     ]
    }
   ],
   "source": [
    "rank_dict_2 = product_df.groupby('num_category_2')['rank'].median().to_dict()\n",
    "def fill_rank_2(row):\n",
    "    if row['rank']>0:\n",
    "        return row['rank']\n",
    "    \n",
    "    return rank_dict_2[row['num_category_2']]\n",
    "\n",
    "product_df['rank'] = product_df.apply(lambda x: fill_rank_2(x), axis=1)\n",
    "count_nan('rank', product_df)"
   ]
  },
  {
   "cell_type": "code",
   "execution_count": 94,
   "id": "728c71df",
   "metadata": {
    "ExecuteTime": {
     "end_time": "2022-04-19T10:02:42.618038Z",
     "start_time": "2022-04-19T10:02:40.137547Z"
    }
   },
   "outputs": [
    {
     "name": "stdout",
     "output_type": "stream",
     "text": [
      "Пропусков в rank: 0 - 0.0 %\n"
     ]
    }
   ],
   "source": [
    "rank_dict_1 = product_df.groupby('num_category_1')['rank'].median().to_dict()\n",
    "def fill_rank_1(row):\n",
    "    if row['rank']>0:\n",
    "        return row['rank']\n",
    "    \n",
    "    return rank_dict_1[row['num_category_1']]\n",
    "\n",
    "product_df['rank'] = product_df.apply(lambda x: fill_rank_1(x), axis=1)\n",
    "count_nan('rank', product_df)"
   ]
  },
  {
   "cell_type": "markdown",
   "id": "3edd5357",
   "metadata": {},
   "source": [
    "**also_view** и **also_buy**"
   ]
  },
  {
   "cell_type": "markdown",
   "id": "5bb727d4",
   "metadata": {},
   "source": [
    "В этой колонке содержится признак asin товаров, которые так же смотрят (also_view) и покупают (also_buy) с этим товаром"
   ]
  },
  {
   "cell_type": "code",
   "execution_count": 95,
   "id": "d1003003",
   "metadata": {
    "ExecuteTime": {
     "end_time": "2022-04-19T10:02:42.623489Z",
     "start_time": "2022-04-19T10:02:42.619356Z"
    }
   },
   "outputs": [
    {
     "data": {
      "text/plain": [
       "0         ['B0000D9MYM', 'B0000D9MYL', 'B00ADHIGBA', 'B0...\n",
       "1                                                       NaN\n",
       "2                                            ['B07DXN65TF']\n",
       "3                                                       NaN\n",
       "4                                                       NaN\n",
       "                                ...                        \n",
       "287204                                                  NaN\n",
       "287205                                                  NaN\n",
       "287206                                                  NaN\n",
       "287207                                                  NaN\n",
       "287208    ['B007JFV6RK', 'B005VS60ZK', 'B01BV8YFYG', 'B0...\n",
       "Name: also_view, Length: 283512, dtype: object"
      ]
     },
     "execution_count": 95,
     "metadata": {},
     "output_type": "execute_result"
    }
   ],
   "source": [
    "product_df['also_view']"
   ]
  },
  {
   "cell_type": "code",
   "execution_count": 96,
   "id": "1d356d02",
   "metadata": {
    "ExecuteTime": {
     "end_time": "2022-04-19T10:02:42.774293Z",
     "start_time": "2022-04-19T10:02:42.624633Z"
    }
   },
   "outputs": [
    {
     "name": "stdout",
     "output_type": "stream",
     "text": [
      "Пропусков в also_view: 164588 - 58.1 %\n"
     ]
    }
   ],
   "source": [
    "count_nan('also_view', product_df)"
   ]
  },
  {
   "cell_type": "code",
   "execution_count": 97,
   "id": "34b7378f",
   "metadata": {
    "ExecuteTime": {
     "end_time": "2022-04-19T10:02:42.825282Z",
     "start_time": "2022-04-19T10:02:42.775556Z"
    }
   },
   "outputs": [
    {
     "data": {
      "text/plain": [
       "0                                                       NaN\n",
       "1         ['B01898YHXK', 'B01BCM6LAC', 'B00Q4OL47O', 'B0...\n",
       "2                                                       NaN\n",
       "3                                                       NaN\n",
       "4                                                       NaN\n",
       "                                ...                        \n",
       "287204    ['B01HULC3TC', 'B07C8L4NWL', 'B014UTG6D6', 'B0...\n",
       "287205    ['B00WNAEX2Q', 'B071LD7PMJ', 'B01HJF6FRA', 'B0...\n",
       "287206    ['B071LD7PMJ', 'B00KOHNX6C', 'B00OVN2F64', 'B0...\n",
       "287207    ['B00DUF219A', 'B01HJHX9ZO', 'B07K4K26PQ', 'B0...\n",
       "287208                                                  NaN\n",
       "Name: also_buy, Length: 283512, dtype: object"
      ]
     },
     "execution_count": 97,
     "metadata": {},
     "output_type": "execute_result"
    }
   ],
   "source": [
    "product_df['also_buy']"
   ]
  },
  {
   "cell_type": "code",
   "execution_count": 98,
   "id": "b2e4d29b",
   "metadata": {
    "ExecuteTime": {
     "end_time": "2022-04-19T10:02:42.936226Z",
     "start_time": "2022-04-19T10:02:42.829598Z"
    }
   },
   "outputs": [
    {
     "name": "stdout",
     "output_type": "stream",
     "text": [
      "Пропусков в also_buy: 201204 - 71.0 %\n"
     ]
    }
   ],
   "source": [
    "count_nan('also_buy', product_df)"
   ]
  },
  {
   "cell_type": "markdown",
   "id": "e9385051",
   "metadata": {},
   "source": [
    "Эти признаки очень возможно пригодятся. Пока непонятно в каком формате они понадобиться и как их лучше обработать."
   ]
  },
  {
   "cell_type": "markdown",
   "id": "68d60b9e",
   "metadata": {},
   "source": [
    "**main_cat**"
   ]
  },
  {
   "cell_type": "markdown",
   "id": "aece87ac",
   "metadata": {},
   "source": [
    "Главная категория товара."
   ]
  },
  {
   "cell_type": "code",
   "execution_count": 99,
   "id": "056da951",
   "metadata": {
    "ExecuteTime": {
     "end_time": "2022-04-19T10:02:42.994671Z",
     "start_time": "2022-04-19T10:02:42.937952Z"
    }
   },
   "outputs": [
    {
     "data": {
      "text/plain": [
       "Grocery                         258555\n",
       "Amazon Home                       8841\n",
       "Health & Personal Care            8435\n",
       "Toys & Games                      1933\n",
       "All Beauty                        1596\n",
       "Industrial & Scientific            977\n",
       "Office Products                    610\n",
       "Sports & Outdoors                  389\n",
       "Cell Phones & Accessories          167\n",
       "Arts, Crafts & Sewing              129\n",
       "Pet Supplies                       128\n",
       "Baby                                95\n",
       "Tools & Home Improvement            66\n",
       "Computers                           39\n",
       "All Electronics                     20\n",
       "Home Audio & Theater                14\n",
       "Automotive                           7\n",
       "Movies & TV                          4\n",
       "Camera & Photo                       3\n",
       "Musical Instruments                  3\n",
       "Software                             2\n",
       "Video Games                          2\n",
       "Appliances                           1\n",
       "Portable Audio & Accessories         1\n",
       "Car Electronics                      1\n",
       "Gift Cards                           1\n",
       "Name: main_cat, dtype: int64"
      ]
     },
     "execution_count": 99,
     "metadata": {},
     "output_type": "execute_result"
    }
   ],
   "source": [
    "product_df.main_cat.value_counts()"
   ]
  },
  {
   "cell_type": "markdown",
   "id": "4c009a5f",
   "metadata": {},
   "source": [
    " Данные категории содержат мало товаров, но в принципе они смежные по тематике:\n",
    " \n",
    "    Computers                           39\n",
    "    All Electronics                     20\n",
    "    Home Audio & Theater                14\n",
    "    Automotive                           7\n",
    "    Movies & TV                          4\n",
    "    Camera & Photo                       3\n",
    "    Musical Instruments                  3\n",
    "    Software                             2\n",
    "    Video Games                          2\n",
    "    Appliances                           1\n",
    "    Portable Audio & Accessories         1\n",
    "    Car Electronics                      1\n",
    "    Gift Cards                           1  \n",
    "    \n",
    "Возможно их объеденить в одну - Electronics."
   ]
  },
  {
   "cell_type": "code",
   "execution_count": 100,
   "id": "8c5bba94",
   "metadata": {
    "ExecuteTime": {
     "end_time": "2022-04-19T10:02:43.166993Z",
     "start_time": "2022-04-19T10:02:42.997108Z"
    }
   },
   "outputs": [
    {
     "data": {
      "text/plain": [
       "Grocery                      258555\n",
       "Amazon Home                    8841\n",
       "Health & Personal Care         8435\n",
       "Toys & Games                   1933\n",
       "All Beauty                     1596\n",
       "Industrial & Scientific         977\n",
       "Office Products                 610\n",
       "Sports & Outdoors               389\n",
       "Cell Phones & Accessories       167\n",
       "Arts, Crafts & Sewing           129\n",
       "Pet Supplies                    128\n",
       "Electronics                      98\n",
       "Baby                             95\n",
       "Tools & Home Improvement         66\n",
       "Name: main_cat, dtype: int64"
      ]
     },
     "execution_count": 100,
     "metadata": {},
     "output_type": "execute_result"
    }
   ],
   "source": [
    "Electronics = ['Computers', 'All Electronics', 'Home Audio & Theater', 'Automotive', 'Movies & TV', 'Camera & Photo',\n",
    "               'Musical Instruments', 'Software', 'Video Games', 'Appliances', 'Portable Audio & Accessories',\n",
    "               'Car Electronics', 'Gift Cards']\n",
    "product_df['main_cat'] = product_df['main_cat'].apply(lambda x: 'Electronics' if x in Electronics else x)\n",
    "product_df.main_cat.value_counts()"
   ]
  },
  {
   "cell_type": "code",
   "execution_count": 101,
   "id": "a9ffd5f2",
   "metadata": {
    "ExecuteTime": {
     "end_time": "2022-04-19T10:02:43.186603Z",
     "start_time": "2022-04-19T10:02:43.168138Z"
    }
   },
   "outputs": [
    {
     "name": "stdout",
     "output_type": "stream",
     "text": [
      "Пропусков в main_cat: 1493 - 0.5 %\n"
     ]
    }
   ],
   "source": [
    "count_nan('main_cat', product_df)"
   ]
  },
  {
   "cell_type": "code",
   "execution_count": 102,
   "id": "f8641273",
   "metadata": {
    "ExecuteTime": {
     "end_time": "2022-04-19T10:02:43.373991Z",
     "start_time": "2022-04-19T10:02:43.187603Z"
    }
   },
   "outputs": [
    {
     "data": {
      "text/plain": [
       "Fresh Flowers & Live Indoor Plants    322\n",
       "Cooking & Baking                      270\n",
       "Candy & Chocolate                     204\n",
       "Beverages                             201\n",
       "Snack Foods                           147\n",
       "Food & Beverage Gifts                  72\n",
       "Herbs, Spices & Seasonings             56\n",
       "Sauces, Gravies & Marinades            33\n",
       "Soups, Stocks & Broths                 31\n",
       "Produce                                24\n",
       "Meat & Seafood                         21\n",
       "Breakfast Foods                        19\n",
       "Condiments & Salad Dressings           16\n",
       "Canned, Jarred & Packaged Foods        15\n",
       "Breads & Bakery                        12\n",
       "Olives, Pickles & Relishes             10\n",
       "Jams, Jellies & Sweet Spreads           9\n",
       "Dried Beans, Grains & Rice              9\n",
       "Dairy, Cheese & Eggs                    8\n",
       "Pasta & Noodles                         8\n",
       "Alcoholic Beverages                     3\n",
       "Frozen                                  3\n",
       "Name: num_category_1, dtype: int64"
      ]
     },
     "execution_count": 102,
     "metadata": {},
     "output_type": "execute_result"
    }
   ],
   "source": [
    "product_df[product_df['main_cat'].isna()]['num_category_1'].value_counts()"
   ]
  },
  {
   "cell_type": "markdown",
   "id": "2753b500",
   "metadata": {},
   "source": [
    "Пропуски можно заполнить опираясь на данные 'num_category_1'. Если еда, то 'Grocery',  а там все еда, кроме 'Fresh Flowers & Live Indoor Plants', которую отнести на 'Amazon Home'"
   ]
  },
  {
   "cell_type": "code",
   "execution_count": 103,
   "id": "a427f4f4",
   "metadata": {
    "ExecuteTime": {
     "end_time": "2022-04-19T10:02:43.389477Z",
     "start_time": "2022-04-19T10:02:43.375140Z"
    },
    "scrolled": false
   },
   "outputs": [],
   "source": [
    "main_cat_fill = product_df[product_df['main_cat'].isna()]['num_category_1'].value_counts().to_dict()\n",
    "for key, _ in main_cat_fill.items():\n",
    "    if key == 'Fresh Flowers & Live Indoor Plants':\n",
    "        main_cat_fill[key] = 'Amazon Home'\n",
    "    else:\n",
    "        main_cat_fill[key] = 'Grocery'  "
   ]
  },
  {
   "cell_type": "code",
   "execution_count": 104,
   "id": "649891e6",
   "metadata": {
    "ExecuteTime": {
     "end_time": "2022-04-19T10:02:46.224025Z",
     "start_time": "2022-04-19T10:02:43.390582Z"
    }
   },
   "outputs": [],
   "source": [
    "product_df['main_cat'] = product_df['main_cat'].fillna(0)\n",
    "product_df['main_cat'] = product_df.apply(lambda row: main_cat_fill[row['num_category_1']] if row['main_cat'] == 0 else row['main_cat'] , axis=1)"
   ]
  },
  {
   "cell_type": "code",
   "execution_count": 105,
   "id": "3fee7765",
   "metadata": {
    "ExecuteTime": {
     "end_time": "2022-04-19T10:02:46.236783Z",
     "start_time": "2022-04-19T10:02:46.225091Z"
    }
   },
   "outputs": [
    {
     "data": {
      "text/plain": [
       "Grocery                      259726\n",
       "Amazon Home                    9163\n",
       "Health & Personal Care         8435\n",
       "Toys & Games                   1933\n",
       "All Beauty                     1596\n",
       "Industrial & Scientific         977\n",
       "Office Products                 610\n",
       "Sports & Outdoors               389\n",
       "Cell Phones & Accessories       167\n",
       "Arts, Crafts & Sewing           129\n",
       "Pet Supplies                    128\n",
       "Electronics                      98\n",
       "Baby                             95\n",
       "Tools & Home Improvement         66\n",
       "Name: main_cat, dtype: int64"
      ]
     },
     "execution_count": 105,
     "metadata": {},
     "output_type": "execute_result"
    }
   ],
   "source": [
    "product_df.main_cat.value_counts()"
   ]
  },
  {
   "cell_type": "code",
   "execution_count": 106,
   "id": "aa76f47a",
   "metadata": {
    "ExecuteTime": {
     "end_time": "2022-04-19T10:02:46.450734Z",
     "start_time": "2022-04-19T10:02:46.237929Z"
    }
   },
   "outputs": [
    {
     "name": "stdout",
     "output_type": "stream",
     "text": [
      "Пропусков в main_cat: 0 - 0.0 %\n"
     ]
    }
   ],
   "source": [
    "count_nan('main_cat', product_df)"
   ]
  },
  {
   "cell_type": "markdown",
   "id": "39980776",
   "metadata": {},
   "source": [
    "**price**"
   ]
  },
  {
   "cell_type": "code",
   "execution_count": 107,
   "id": "9067f188",
   "metadata": {
    "ExecuteTime": {
     "end_time": "2022-04-19T10:02:46.530011Z",
     "start_time": "2022-04-19T10:02:46.453899Z"
    }
   },
   "outputs": [
    {
     "name": "stdout",
     "output_type": "stream",
     "text": [
      "Пропусков в price: 153278 - 54.1 %\n"
     ]
    }
   ],
   "source": [
    "count_nan('price', product_df)"
   ]
  },
  {
   "cell_type": "markdown",
   "id": "da818d5d",
   "metadata": {},
   "source": [
    "Цена может повлиять на выбор схожих товаров. Т.е. второй или третий по степени значимости показатель (первое, это что хочет покупатель преобрести, а потом уже обычно бренд (марка) и цена идут). Но пропусков очень много. "
   ]
  },
  {
   "cell_type": "code",
   "execution_count": 108,
   "id": "b20365ce",
   "metadata": {
    "ExecuteTime": {
     "end_time": "2022-04-19T10:02:46.577408Z",
     "start_time": "2022-04-19T10:02:46.531190Z"
    }
   },
   "outputs": [
    {
     "data": {
      "text/plain": [
       "0         $41.91\n",
       "1            NaN\n",
       "2         $29.95\n",
       "3         $11.45\n",
       "4         $15.00\n",
       "           ...  \n",
       "287204       NaN\n",
       "287205    $10.89\n",
       "287206    $10.95\n",
       "287207    $14.97\n",
       "287208    $18.00\n",
       "Name: price, Length: 283512, dtype: object"
      ]
     },
     "execution_count": 108,
     "metadata": {},
     "output_type": "execute_result"
    }
   ],
   "source": [
    "product_df['price']"
   ]
  },
  {
   "cell_type": "code",
   "execution_count": 109,
   "id": "50f15152",
   "metadata": {
    "ExecuteTime": {
     "end_time": "2022-04-19T10:02:46.810353Z",
     "start_time": "2022-04-19T10:02:46.581956Z"
    }
   },
   "outputs": [
    {
     "data": {
      "text/plain": [
       "(100, 2)"
      ]
     },
     "execution_count": 109,
     "metadata": {},
     "output_type": "execute_result"
    }
   ],
   "source": [
    "product_df[product_df['price'].apply(lambda x: '-' in str(x))][['title', 'price']].shape"
   ]
  },
  {
   "cell_type": "markdown",
   "id": "1f43f59e",
   "metadata": {},
   "source": [
    "У 100 товаров установлен диапозон цен. Наверное, зависит от объема, который покупатель закажет. Возьмем нижнее значение."
   ]
  },
  {
   "cell_type": "code",
   "execution_count": 110,
   "id": "594a20ed",
   "metadata": {
    "ExecuteTime": {
     "end_time": "2022-04-19T10:02:47.014909Z",
     "start_time": "2022-04-19T10:02:46.811602Z"
    }
   },
   "outputs": [
    {
     "data": {
      "text/plain": [
       "0         41.91\n",
       "1           NaN\n",
       "2         29.95\n",
       "3         11.45\n",
       "4         15.00\n",
       "          ...  \n",
       "287204      NaN\n",
       "287205    10.89\n",
       "287206    10.95\n",
       "287207    14.97\n",
       "287208    18.00\n",
       "Name: price, Length: 283512, dtype: float64"
      ]
     },
     "execution_count": 110,
     "metadata": {},
     "output_type": "execute_result"
    }
   ],
   "source": [
    "product_df['price'] = product_df['price'].apply(lambda x: float(str(x).split('-')[0].replace('$', '').replace(',', '')) if x else x)\n",
    "product_df['price']"
   ]
  },
  {
   "cell_type": "markdown",
   "id": "b66b7a67",
   "metadata": {},
   "source": [
    "Заполним пропуски медианным значением по категории."
   ]
  },
  {
   "cell_type": "code",
   "execution_count": 111,
   "id": "facac95e",
   "metadata": {
    "ExecuteTime": {
     "end_time": "2022-04-19T10:02:49.710517Z",
     "start_time": "2022-04-19T10:02:47.016125Z"
    }
   },
   "outputs": [
    {
     "name": "stdout",
     "output_type": "stream",
     "text": [
      "Пропусков в price: 600 - 0.2 %\n"
     ]
    }
   ],
   "source": [
    "price_dict_3 = product_df.groupby('num_category_3')['price'].median().to_dict()\n",
    "def fill_price_3(row):\n",
    "    if row['price']>0:\n",
    "        return row['price']\n",
    "    \n",
    "    return price_dict_3[row['num_category_3']]\n",
    "\n",
    "product_df['price'] = product_df.apply(lambda x: fill_price_3(x), axis=1)\n",
    "count_nan('price', product_df)"
   ]
  },
  {
   "cell_type": "code",
   "execution_count": 112,
   "id": "af30c723",
   "metadata": {
    "ExecuteTime": {
     "end_time": "2022-04-19T10:02:52.368510Z",
     "start_time": "2022-04-19T10:02:49.712445Z"
    }
   },
   "outputs": [
    {
     "name": "stdout",
     "output_type": "stream",
     "text": [
      "Пропусков в price: 203 - 0.1 %\n"
     ]
    }
   ],
   "source": [
    "price_dict_2 = product_df.groupby('num_category_2')['price'].median().to_dict()\n",
    "def fill_price_2(row):\n",
    "    if row['price']>0:\n",
    "        return row['price']\n",
    "    \n",
    "    return price_dict_2[row['num_category_2']]\n",
    "\n",
    "product_df['price'] = product_df.apply(lambda x: fill_price_2(x), axis=1)\n",
    "count_nan('price', product_df)"
   ]
  },
  {
   "cell_type": "code",
   "execution_count": 113,
   "id": "20008469",
   "metadata": {
    "ExecuteTime": {
     "end_time": "2022-04-19T10:02:55.018754Z",
     "start_time": "2022-04-19T10:02:52.370120Z"
    }
   },
   "outputs": [
    {
     "name": "stdout",
     "output_type": "stream",
     "text": [
      "Пропусков в price: 8 - 0.0 %\n"
     ]
    }
   ],
   "source": [
    "price_dict_1 = product_df.groupby('num_category_1')['price'].median().to_dict()\n",
    "def fill_price_1(row):\n",
    "    if row['price']>0:\n",
    "        return row['price']\n",
    "    \n",
    "    return price_dict_1[row['num_category_1']]\n",
    "\n",
    "product_df['price'] = product_df.apply(lambda x: fill_price_1(x), axis=1)\n",
    "count_nan('price', product_df)"
   ]
  },
  {
   "cell_type": "code",
   "execution_count": 114,
   "id": "e9a7b148",
   "metadata": {
    "ExecuteTime": {
     "end_time": "2022-04-19T10:02:55.028438Z",
     "start_time": "2022-04-19T10:02:55.019987Z"
    }
   },
   "outputs": [
    {
     "data": {
      "text/html": [
       "<div>\n",
       "<style scoped>\n",
       "    .dataframe tbody tr th:only-of-type {\n",
       "        vertical-align: middle;\n",
       "    }\n",
       "\n",
       "    .dataframe tbody tr th {\n",
       "        vertical-align: top;\n",
       "    }\n",
       "\n",
       "    .dataframe thead th {\n",
       "        text-align: right;\n",
       "    }\n",
       "</style>\n",
       "<table border=\"1\" class=\"dataframe\">\n",
       "  <thead>\n",
       "    <tr style=\"text-align: right;\">\n",
       "      <th></th>\n",
       "      <th>num_category_1</th>\n",
       "      <th>title</th>\n",
       "      <th>price</th>\n",
       "    </tr>\n",
       "  </thead>\n",
       "  <tbody>\n",
       "    <tr>\n",
       "      <th>233138</th>\n",
       "      <td>Fresh Meal Kits</td>\n",
       "      <td>Evie's Pork Tenderloin with Roasted Red Pepper...</td>\n",
       "      <td>NaN</td>\n",
       "    </tr>\n",
       "    <tr>\n",
       "      <th>243562</th>\n",
       "      <td>Fresh Meal Kits</td>\n",
       "      <td>Evie's Pork Chops with Smashed Potatoes Meal K...</td>\n",
       "      <td>NaN</td>\n",
       "    </tr>\n",
       "    <tr>\n",
       "      <th>243563</th>\n",
       "      <td>Fresh Meal Kits</td>\n",
       "      <td>Evie's Chicken Breast Caprese with Orzo Meal K...</td>\n",
       "      <td>NaN</td>\n",
       "    </tr>\n",
       "    <tr>\n",
       "      <th>243565</th>\n",
       "      <td>Fresh Meal Kits</td>\n",
       "      <td>Evie's Steak Fajita Meal Kit, 2 Servings, 43 oz</td>\n",
       "      <td>NaN</td>\n",
       "    </tr>\n",
       "    <tr>\n",
       "      <th>280801</th>\n",
       "      <td>Fresh Meal Kits</td>\n",
       "      <td>Amazon Meal Kits, Orecchiette Pasta with Itali...</td>\n",
       "      <td>NaN</td>\n",
       "    </tr>\n",
       "    <tr>\n",
       "      <th>282537</th>\n",
       "      <td>Fresh Meal Kits</td>\n",
       "      <td>Amazon Meal Kits, Thai Red Curry with Chicken ...</td>\n",
       "      <td>NaN</td>\n",
       "    </tr>\n",
       "    <tr>\n",
       "      <th>282538</th>\n",
       "      <td>Fresh Meal Kits</td>\n",
       "      <td>Amazon Meal Kits, Veggie Quinoa Bowl with Spic...</td>\n",
       "      <td>NaN</td>\n",
       "    </tr>\n",
       "    <tr>\n",
       "      <th>284352</th>\n",
       "      <td>Fresh Meal Kits</td>\n",
       "      <td>Amazon Meal Kits, Parmesan Pork Loin with Tang...</td>\n",
       "      <td>NaN</td>\n",
       "    </tr>\n",
       "  </tbody>\n",
       "</table>\n",
       "</div>"
      ],
      "text/plain": [
       "         num_category_1                                              title  \\\n",
       "233138  Fresh Meal Kits  Evie's Pork Tenderloin with Roasted Red Pepper...   \n",
       "243562  Fresh Meal Kits  Evie's Pork Chops with Smashed Potatoes Meal K...   \n",
       "243563  Fresh Meal Kits  Evie's Chicken Breast Caprese with Orzo Meal K...   \n",
       "243565  Fresh Meal Kits    Evie's Steak Fajita Meal Kit, 2 Servings, 43 oz   \n",
       "280801  Fresh Meal Kits  Amazon Meal Kits, Orecchiette Pasta with Itali...   \n",
       "282537  Fresh Meal Kits  Amazon Meal Kits, Thai Red Curry with Chicken ...   \n",
       "282538  Fresh Meal Kits  Amazon Meal Kits, Veggie Quinoa Bowl with Spic...   \n",
       "284352  Fresh Meal Kits  Amazon Meal Kits, Parmesan Pork Loin with Tang...   \n",
       "\n",
       "        price  \n",
       "233138    NaN  \n",
       "243562    NaN  \n",
       "243563    NaN  \n",
       "243565    NaN  \n",
       "280801    NaN  \n",
       "282537    NaN  \n",
       "282538    NaN  \n",
       "284352    NaN  "
      ]
     },
     "execution_count": 114,
     "metadata": {},
     "output_type": "execute_result"
    }
   ],
   "source": [
    "product_df[product_df['price'].isna()][['num_category_1','title', 'price']]"
   ]
  },
  {
   "cell_type": "code",
   "execution_count": 115,
   "id": "99826bf8",
   "metadata": {
    "ExecuteTime": {
     "end_time": "2022-04-19T10:02:55.099271Z",
     "start_time": "2022-04-19T10:02:55.029614Z"
    }
   },
   "outputs": [],
   "source": [
    "product_df['price'] = product_df['price'].fillna(product_df['price'].median())"
   ]
  },
  {
   "cell_type": "markdown",
   "id": "0dd909de",
   "metadata": {},
   "source": [
    "**date**"
   ]
  },
  {
   "cell_type": "markdown",
   "id": "edc402d6",
   "metadata": {},
   "source": [
    "Похоже на дату внесения данного товара в базу. Данных очень мало."
   ]
  },
  {
   "cell_type": "code",
   "execution_count": 116,
   "id": "701f34c9",
   "metadata": {
    "ExecuteTime": {
     "end_time": "2022-04-19T10:02:55.165692Z",
     "start_time": "2022-04-19T10:02:55.104209Z"
    }
   },
   "outputs": [
    {
     "name": "stdout",
     "output_type": "stream",
     "text": [
      "Пропусков в date: 273937 - 96.6 %\n"
     ]
    }
   ],
   "source": [
    "count_nan('date', product_df)"
   ]
  },
  {
   "cell_type": "markdown",
   "id": "59caebb9",
   "metadata": {},
   "source": [
    "**feature**"
   ]
  },
  {
   "cell_type": "markdown",
   "id": "e1bb21e7",
   "metadata": {},
   "source": [
    "Содержит описание товара, его осбенности."
   ]
  },
  {
   "cell_type": "code",
   "execution_count": 117,
   "id": "93c28cbc",
   "metadata": {
    "ExecuteTime": {
     "end_time": "2022-04-19T10:02:55.205860Z",
     "start_time": "2022-04-19T10:02:55.167230Z"
    }
   },
   "outputs": [
    {
     "data": {
      "text/plain": [
       "['High quality edibles to decorate your cupcakes, cookies, baked goods and ice cream; Items within same container may vary slightly in shade', 'This product is prepared and packaged using machines that may come in contact with Wheat/Gluten, Eggs, Dairy Products, Peanuts, Soy, and Tree Nuts', 'Store in cool, dry area for long shelf life', 'Certified Kosher, Made in the USA', 'Combine with Dress My Cupcake wrappers, tissue pom poms and vintage straws to complete your dessert table']                                                                                                                                                                                                                                                           113\n",
       "['One of our core values is to treat each other with dignity and respect.', 'Our commitment is to strengthen every community we serve.', \"We care about your coffee 'from crop to cup' and every step in between.\", 'We believe our purchases and partnerships help coffee farming families enjoy a better standard of living in their local community.']                                                                                                                                                                                                                                                                                                                                                                                                        48\n",
       "['Certified gluten-free: Certificate ID: 63003, Issue date 1/18/18']                                                                                                                                                                                                                                                                                                                                                                                                                                                                                                                                                                                                                                                                                             45\n",
       "['This item is NOT included in your Prime membership for free shipping', 'By purchasing from me, you agree to all terms in my description', 'When using Express shipping, signature confirmation is required', 'Personalize cake topper by adding a Gift Message. Check \"This is a gift\" box after adding to cart', 'If I have not sent you a confirmation message through Amazon, then I HAVE NOT received your personalization request and your image will be sent without ANY wording']                                                                                                                                                                                                                                                                       42\n",
       "['edible cake topper sheet! Great for a themed birthday party or event!', 'Topper will fit a 1/4 sheet cake or can be centered on a 1/2 sheet cake.', 'Personalization is available by adding a Gift Message. Please add your personalized message at checkout OR send us an email immediately after you make your purchase to ensure personalization for your item!', 'High quality frosting sheets and edible ink are gluten/dairy free. Contains no known allergens or peanut products. FDA approved and certified kosher.', 'Notice: This product is for the services in creating, customizing and printing your edible image for personal use. Images and characters remain the property of their respective copyright holders and may not be resold.']     34\n",
       "Name: feature, dtype: int64"
      ]
     },
     "execution_count": 117,
     "metadata": {},
     "output_type": "execute_result"
    }
   ],
   "source": [
    "product_df['feature'].value_counts()[:5]"
   ]
  },
  {
   "cell_type": "code",
   "execution_count": 118,
   "id": "5fe2a93f",
   "metadata": {
    "ExecuteTime": {
     "end_time": "2022-04-19T10:02:55.284563Z",
     "start_time": "2022-04-19T10:02:55.207070Z"
    }
   },
   "outputs": [
    {
     "name": "stdout",
     "output_type": "stream",
     "text": [
      "Пропусков в feature: 267294 - 94.3 %\n"
     ]
    }
   ],
   "source": [
    "count_nan('feature', product_df)"
   ]
  },
  {
   "cell_type": "markdown",
   "id": "b66fe017",
   "metadata": {},
   "source": [
    "Но очень-очень много пропусков. Такой признак не стоит использовать."
   ]
  },
  {
   "cell_type": "markdown",
   "id": "4a5baf1b",
   "metadata": {},
   "source": [
    "**similar_item, tech1, details и fit**"
   ]
  },
  {
   "cell_type": "markdown",
   "id": "22fb6666",
   "metadata": {},
   "source": [
    "Подробности о товаре, но данные очень замусорены и пропусков практиески 100%. Использовать в обучении не будем. Польза от этих данных может быть только для заполнения пропусков в других колонках."
   ]
  },
  {
   "cell_type": "code",
   "execution_count": 119,
   "id": "111bfd3a",
   "metadata": {
    "ExecuteTime": {
     "end_time": "2022-04-19T10:02:55.316156Z",
     "start_time": "2022-04-19T10:02:55.286473Z"
    }
   },
   "outputs": [
    {
     "data": {
      "text/plain": [
       "[{'asin': '', 'href': '', 'name': 'Wilton Bake Easy Non-Stick Spray', 'img': 'https://images-na.ssl-images-amazon.com/images/I/41WpJ5WkSHL._SL500_AC_SS350_.jpg', 'features': {'Customer Rating': '4 out of 5 stars\\n\\n(69)', 'Price': 'From $3.49', 'Shipping': '', 'Sold By': 'Available from these sellers', 'Color': 'A', 'Material Type': 'Other'}}, {'asin': 'B007E8KCCM', 'href': '/dp/B007E8KCCM/ref=psdc_2231402011_t1_B0000A9XZO', 'name': 'Wilton 417-1154 Icing Smoother Comb Set-3 Piece, White/Purple', 'img': 'https://images-na.ssl-images-amazon.com/images/I/41B7eT3WJZL._SL500_AC_SS350_.jpg', 'features': {'Customer Rating': '4 out of 5 stars\\n\\n(48)', 'Price': '$12.49', 'Shipping': 'Eligible for FREE Shipping', 'Sold By': 'Amazon.com', 'Color': 'White/Purple', 'Material Type': 'Plastic'}}, {'asin': 'B007E8KCFY', 'href': '/dp/B007E8KCFY/ref=psdc_2231402011_t2_B0000A9XZO', 'name': 'Wilton Cake Leveler, Small, 10-Inch\\n\\n\\n\\n\\n\\n        #1 Best Seller', 'img': 'https://images-na.ssl-images-amazon.com/images/I/31QPHe0xk-L._SL500_AC_SS350_.jpg', 'features': {'Customer Rating': '4 out of 5 stars\\n\\n(1161)', 'Price': '$7.66', 'Shipping': 'Eligible for FREE Shipping', 'Sold By': 'Amazon.com', 'Color': 'White/Purple', 'Material Type': 'Plastic'}}, {'asin': 'B007E8KEYI', 'href': '/dp/B007E8KEYI/ref=psdc_2231402011_t3_B0000A9XZO', 'name': 'Wilton Decorator Preferred Cake Decorating Tool Caddy', 'img': 'https://images-na.ssl-images-amazon.com/images/I/41xLaaSfM7L._SL500_AC_SS350_.jpg', 'features': {'Customer Rating': '4 out of 5 stars\\n\\n(279)', 'Price': '$50.40', 'Shipping': 'Eligible for FREE Shipping', 'Sold By': 'Amazon.com', 'Color': 'White/Purple', 'Material Type': 'Plastic'}}, {'asin': 'B0000VOOXI', 'href': '/dp/B0000VOOXI/ref=psdc_2231402011_t4_B0000A9XZO', 'name': 'Ateco 1447 Decorating Comb & Icing Smoother, 4 Sided', 'img': 'https://images-na.ssl-images-amazon.com/images/I/41ujA9KkRUL._SL500_AC_SS350_.jpg', 'features': {'Customer Rating': '4 out of 5 stars\\n\\n(542)', 'Price': '$1.71', 'Shipping': 'Eligible for FREE Shipping', 'Sold By': 'Amazon.com', 'Color': 'silver', 'Material Type': 'Aluminum'}}, {'asin': 'B007E8KCJA', 'href': '/dp/B007E8KCJA/ref=psdc_2231402011_t5_B0000A9XZO', 'name': 'Wilton Cake Icing Smoother', 'img': 'https://images-na.ssl-images-amazon.com/images/I/41KZROyDBoL._SL500_AC_SS350_.jpg', 'features': {'Customer Rating': '4 out of 5 stars\\n\\n(198)', 'Price': '$7.97', 'Shipping': 'Eligible for FREE Shipping', 'Sold By': 'Amazon.com', 'Color': 'Silver/Purple', 'Material Type': 'Stainless Steel'}}]    1\n",
       "Name: similar_item, dtype: int64"
      ]
     },
     "execution_count": 119,
     "metadata": {},
     "output_type": "execute_result"
    }
   ],
   "source": [
    "product_df['similar_item'].value_counts()[:1]"
   ]
  },
  {
   "cell_type": "code",
   "execution_count": 120,
   "id": "6838e213",
   "metadata": {
    "ExecuteTime": {
     "end_time": "2022-04-19T10:02:55.398190Z",
     "start_time": "2022-04-19T10:02:55.317196Z"
    }
   },
   "outputs": [
    {
     "name": "stdout",
     "output_type": "stream",
     "text": [
      "Пропусков в similar_item: 283264 - 99.9 %\n"
     ]
    }
   ],
   "source": [
    "count_nan('similar_item', product_df)"
   ]
  },
  {
   "cell_type": "code",
   "execution_count": 121,
   "id": "5d772525",
   "metadata": {
    "ExecuteTime": {
     "end_time": "2022-04-19T10:02:55.454044Z",
     "start_time": "2022-04-19T10:02:55.399979Z"
    }
   },
   "outputs": [
    {
     "name": "stdout",
     "output_type": "stream",
     "text": [
      "Пропусков в tech1: 282769 - 99.7 %\n"
     ]
    }
   ],
   "source": [
    "count_nan('tech1', product_df)"
   ]
  },
  {
   "cell_type": "code",
   "execution_count": 122,
   "id": "b4ac3b3e",
   "metadata": {
    "ExecuteTime": {
     "end_time": "2022-04-19T10:02:55.571216Z",
     "start_time": "2022-04-19T10:02:55.455860Z"
    }
   },
   "outputs": [
    {
     "name": "stdout",
     "output_type": "stream",
     "text": [
      "Пропусков в details: 13759 - 4.9 %\n"
     ]
    }
   ],
   "source": [
    "count_nan('details', product_df)"
   ]
  },
  {
   "cell_type": "code",
   "execution_count": 123,
   "id": "1559cb18",
   "metadata": {
    "ExecuteTime": {
     "end_time": "2022-04-19T10:02:55.595491Z",
     "start_time": "2022-04-19T10:02:55.572402Z"
    }
   },
   "outputs": [
    {
     "name": "stdout",
     "output_type": "stream",
     "text": [
      "Пропусков в fit: 283508 - 100.0 %\n"
     ]
    }
   ],
   "source": [
    "count_nan('fit', product_df)"
   ]
  },
  {
   "cell_type": "markdown",
   "id": "e5220a7f",
   "metadata": {},
   "source": [
    "### Сформируем датасет признаков"
   ]
  },
  {
   "cell_type": "code",
   "execution_count": 124,
   "id": "25d5e8c6",
   "metadata": {
    "ExecuteTime": {
     "end_time": "2022-04-19T10:02:56.507543Z",
     "start_time": "2022-04-19T10:02:55.596870Z"
    }
   },
   "outputs": [],
   "source": [
    "col_feature = ['itemid', 'userid', 'verified', 'vote', 'dataAge', 'dateReview_week',\n",
    "       'dateReview_month', 'style_size_num', 'user_reviewer_num', 'item_reviewer_num',  'asin']\n",
    "feature_df = pd.concat([train_df[col_feature], test_df[col_feature]])\n",
    "\n",
    "feature_df = pd.merge(feature_df, product_df, on='asin')\n"
   ]
  },
  {
   "cell_type": "markdown",
   "id": "cb9330c6",
   "metadata": {},
   "source": [
    "### Создадим dummy-переменные категориальных данных"
   ]
  },
  {
   "cell_type": "code",
   "execution_count": 125,
   "id": "fcc64b65",
   "metadata": {
    "ExecuteTime": {
     "end_time": "2022-04-19T10:02:57.656573Z",
     "start_time": "2022-04-19T10:02:56.508872Z"
    }
   },
   "outputs": [],
   "source": [
    "feature_df['dateReview_week_all'] = feature_df['dateReview_week']\n",
    "feature_df['dateReview_month_all'] = feature_df['dateReview_month']\n",
    "feature_df['main_cat_all'] = feature_df['main_cat']\n",
    "feature_df['num_category_1_all'] = feature_df['num_category_1']\n",
    "\n",
    "feature_df = pd.get_dummies(feature_df, columns=['dateReview_week', 'dateReview_month', 'main_cat', 'num_category_1'], prefix_sep = '_')"
   ]
  },
  {
   "cell_type": "markdown",
   "id": "2aa0dfe8",
   "metadata": {},
   "source": [
    "Закодируем слова в цифры (иерархия по количеству встречаемости)"
   ]
  },
  {
   "cell_type": "code",
   "execution_count": 126,
   "id": "1e2443ef",
   "metadata": {
    "ExecuteTime": {
     "end_time": "2022-04-19T10:02:58.095717Z",
     "start_time": "2022-04-19T10:02:57.658001Z"
    }
   },
   "outputs": [],
   "source": [
    "main_cat_all_dict = {'Grocery': 14,\n",
    "                     'Health & Personal Care': 13,\n",
    "                     'Amazon Home': 12,\n",
    "                     'All Beauty': 11,\n",
    "                     'Sports & Outdoors': 10,\n",
    "                     'Industrial & Scientific': 9,\n",
    "                     'Office Products': 8,\n",
    "                     'Toys & Games': 7,\n",
    "                     'Pet Supplies': 6,\n",
    "                     'Tools & Home Improvement': 5,\n",
    "                     'Baby': 4,\n",
    "                     'Electronics': 3,\n",
    "                     'Arts, Crafts & Sewing': 2,\n",
    "                     'Cell Phones & Accessories': 1}\n",
    "feature_df['main_cat_all'] = feature_df['main_cat_all'].apply(lambda x: main_cat_all_dict[x])"
   ]
  },
  {
   "cell_type": "code",
   "execution_count": 127,
   "id": "ca5e4469",
   "metadata": {
    "ExecuteTime": {
     "end_time": "2022-04-19T10:02:58.529732Z",
     "start_time": "2022-04-19T10:02:58.097339Z"
    }
   },
   "outputs": [],
   "source": [
    "num_category_1_all_dict = {'Beverages': 25,\n",
    "                           'Cooking & Baking': 24,\n",
    "                           'Snack Foods': 23,\n",
    "                           'Candy & Chocolate': 22,\n",
    "                           'Herbs, Spices & Seasonings': 21,\n",
    "                           'Breakfast Foods': 20,\n",
    "                           'Canned, Jarred & Packaged Foods': 19,\n",
    "                           'Produce': 18,\n",
    "                           'Soups, Stocks & Broths': 17,\n",
    "                           'Sauces, Gravies & Marinades': 16,\n",
    "                           'Jams, Jellies & Sweet Spreads': 15,\n",
    "                           'Dairy, Cheese & Eggs': 14,\n",
    "                           'Dried Beans, Grains & Rice': 13,\n",
    "                           'Pasta & Noodles': 12,\n",
    "                           'Condiments & Salad Dressings': 11,\n",
    "                           'Food & Beverage Gifts': 10,\n",
    "                           'Breads & Bakery': 9,\n",
    "                           'Meat & Seafood': 8,\n",
    "                           'Frozen': 7,\n",
    "                           'Olives, Pickles & Relishes': 6,\n",
    "                           'Fresh Flowers & Live Indoor Plants': 5,\n",
    "                           'Prepared Foods': 4,\n",
    "                           'Meat Substitutes': 3,\n",
    "                           'Deli': 2,\n",
    "                           'Alcoholic Beverages': 1}\n",
    "feature_df['num_category_1_all'] = feature_df['num_category_1_all'].apply(lambda x: num_category_1_all_dict[x])"
   ]
  },
  {
   "cell_type": "markdown",
   "id": "aedd07ae",
   "metadata": {},
   "source": [
    "## Обучение модели"
   ]
  },
  {
   "cell_type": "code",
   "execution_count": 128,
   "id": "5641ace8",
   "metadata": {
    "ExecuteTime": {
     "end_time": "2022-04-19T10:02:58.533217Z",
     "start_time": "2022-04-19T10:02:58.530975Z"
    }
   },
   "outputs": [],
   "source": [
    "# Чтоб числа вещественные выводились норм\n",
    "pd.options.display.float_format ='{:,.5f}'.format"
   ]
  },
  {
   "cell_type": "code",
   "execution_count": 129,
   "id": "1ad7c96f",
   "metadata": {
    "ExecuteTime": {
     "end_time": "2022-04-19T10:02:58.571456Z",
     "start_time": "2022-04-19T10:02:58.534700Z"
    }
   },
   "outputs": [],
   "source": [
    "def get_norm(pred):\n",
    "    \"\"\"Нормирование предсказания от 0 до 1\"\"\"\n",
    "    return (pred-pred.min())/(pred.max()-pred.min())\n",
    "\n",
    "def get_metrics(y, pred):\n",
    "    \"\"\"Метрики качества обучения\"\"\"\n",
    "    mse = mean_squared_error(y, pred)\n",
    "    mae = mean_absolute_error(y, pred)\n",
    "    roc_auc = roc_auc_score(y, pred)\n",
    "    print('mse: ', mse)\n",
    "    print('mae: ', mae)\n",
    "    print('roc-auc: ', roc_auc)\n",
    "    \n",
    "    return {'mse': mse, 'mae': mae, 'roc-auc': roc_auc}\n",
    "    \n",
    "    \n",
    "    "
   ]
  },
  {
   "cell_type": "code",
   "execution_count": 130,
   "id": "456b36d1",
   "metadata": {
    "ExecuteTime": {
     "end_time": "2022-04-19T10:02:58.631394Z",
     "start_time": "2022-04-19T10:02:58.572633Z"
    }
   },
   "outputs": [],
   "source": [
    "# Гиперпараметры\n",
    "RANDOM_STATE = 42\n",
    "LEARNING_RATE = 0.1\n",
    "LOSS_FUNC = 'logistic' # Нужны +1 и -1 => в rating заменим 0 на -1\n",
    "NUM_COMPONENTS = 110 # поиграть с этим параметром - число параметров вектора \n",
    "NUM_EPOCHS = 10 #число эпох обучения\n",
    "NUM_THREADS = 4 #число потоков"
   ]
  },
  {
   "cell_type": "code",
   "execution_count": 131,
   "id": "94206799",
   "metadata": {
    "ExecuteTime": {
     "end_time": "2022-04-19T10:02:58.862848Z",
     "start_time": "2022-04-19T10:02:58.634918Z"
    }
   },
   "outputs": [
    {
     "data": {
      "text/plain": [
       "1.00000     701612\n",
       "-1.00000    125283\n",
       "Name: rating, dtype: int64"
      ]
     },
     "execution_count": 131,
     "metadata": {},
     "output_type": "execute_result"
    }
   ],
   "source": [
    "train_df['rating'] = train_df['rating'].apply(lambda x: -1 if x == 0 else x)\n",
    "train_df['rating'].value_counts()"
   ]
  },
  {
   "cell_type": "code",
   "execution_count": 132,
   "id": "33e59dad",
   "metadata": {
    "ExecuteTime": {
     "end_time": "2022-04-19T10:02:59.367667Z",
     "start_time": "2022-04-19T10:02:58.864150Z"
    }
   },
   "outputs": [],
   "source": [
    "X_train, X_test = train_test_split(train_df, random_state = RANDOM_STATE, test_size=0.2, shuffle = True)"
   ]
  },
  {
   "cell_type": "code",
   "execution_count": 133,
   "id": "48c4a707",
   "metadata": {
    "ExecuteTime": {
     "end_time": "2022-04-19T10:02:59.506332Z",
     "start_time": "2022-04-19T10:02:59.368811Z"
    }
   },
   "outputs": [],
   "source": [
    "ratings_coo = sparse.coo_matrix(\n",
    "    (X_train['rating'].astype(int), (X_train['userid'], X_train['itemid']))\n",
    ")"
   ]
  },
  {
   "cell_type": "markdown",
   "id": "ca808836",
   "metadata": {},
   "source": [
    "### Базовая модель, не учитывающая признаки товаров и пользователей"
   ]
  },
  {
   "cell_type": "code",
   "execution_count": 134,
   "id": "d9602c6f",
   "metadata": {
    "ExecuteTime": {
     "end_time": "2022-04-19T10:02:59.559072Z",
     "start_time": "2022-04-19T10:02:59.511463Z"
    }
   },
   "outputs": [],
   "source": [
    "# Создадим словарь, в который будем собирать метрики по каждой модели\n",
    "metrics_model = {}"
   ]
  },
  {
   "cell_type": "code",
   "execution_count": 135,
   "id": "1edc1700",
   "metadata": {
    "ExecuteTime": {
     "end_time": "2022-04-19T10:03:06.694264Z",
     "start_time": "2022-04-19T10:02:59.565298Z"
    }
   },
   "outputs": [
    {
     "name": "stdout",
     "output_type": "stream",
     "text": [
      "mse:  0.20475387802415723\n",
      "mae:  0.4498139515279738\n",
      "roc-auc:  0.7308744950564717\n"
     ]
    }
   ],
   "source": [
    "model = LightFM(\n",
    "    learning_rate=LEARNING_RATE,\n",
    "    loss=LOSS_FUNC,\n",
    "    no_components=NUM_COMPONENTS,\n",
    "    random_state=RANDOM_STATE,\n",
    ")\n",
    "model = model.fit(ratings_coo,\n",
    "                  num_threads=NUM_THREADS,\n",
    "                  epochs=NUM_EPOCHS)\n",
    "preds = model.predict(X_test.userid.values, X_test.itemid.values)\n",
    "preds = get_norm(preds)\n",
    "\n",
    "metrics_model['model'] = get_metrics(get_norm(X_test.rating), preds)"
   ]
  },
  {
   "cell_type": "code",
   "execution_count": 136,
   "id": "c603164a",
   "metadata": {
    "ExecuteTime": {
     "end_time": "2022-04-19T10:03:07.756276Z",
     "start_time": "2022-04-19T10:03:06.695348Z"
    }
   },
   "outputs": [
    {
     "data": {
      "text/plain": [
       "<AxesSubplot:ylabel='Count'>"
      ]
     },
     "execution_count": 136,
     "metadata": {},
     "output_type": "execute_result"
    },
    {
     "data": {
      "image/png": "[encoded data removed]",
      "text/plain": [
       "<Figure size 432x288 with 1 Axes>"
      ]
     },
     "metadata": {
      "needs_background": "light"
     },
     "output_type": "display_data"
    }
   ],
   "source": [
    "sns.histplot(preds)"
   ]
  },
  {
   "cell_type": "markdown",
   "id": "c97faf11",
   "metadata": {},
   "source": [
    "По распределению видно, что модель не может четко классифицироват рейтинг."
   ]
  },
  {
   "cell_type": "markdown",
   "id": "e44a7164",
   "metadata": {},
   "source": [
    "### Посмотрим какие признаки оказывают наибольшее влияние на целевую переменную"
   ]
  },
  {
   "cell_type": "markdown",
   "id": "b716428d",
   "metadata": {},
   "source": [
    "Соберем отдельный датафрейм, чтоб не попортить рабочие."
   ]
  },
  {
   "cell_type": "code",
   "execution_count": 137,
   "id": "5ec0038c",
   "metadata": {
    "ExecuteTime": {
     "end_time": "2022-04-19T10:03:08.701865Z",
     "start_time": "2022-04-19T10:03:07.757711Z"
    }
   },
   "outputs": [],
   "source": [
    "classif_df = pd.merge(train_df, product_df, on='asin')"
   ]
  },
  {
   "cell_type": "code",
   "execution_count": 138,
   "id": "c480e92a",
   "metadata": {
    "ExecuteTime": {
     "end_time": "2022-04-19T10:03:09.374405Z",
     "start_time": "2022-04-19T10:03:08.702994Z"
    }
   },
   "outputs": [],
   "source": [
    "classif_df = classif_df[['verified','vote', 'dataAge', 'dateReview_week', 'dateReview_month', \n",
    "                         'user_reviewer_num', 'item_reviewer_num','rank', 'main_cat', 'price', \n",
    "                         'num_category_1', 'num_category_2', 'num_category_3','rating', 'style_size_num']].copy()"
   ]
  },
  {
   "cell_type": "code",
   "execution_count": 139,
   "id": "14c8980a",
   "metadata": {
    "ExecuteTime": {
     "end_time": "2022-04-19T10:03:09.773133Z",
     "start_time": "2022-04-19T10:03:09.375630Z"
    }
   },
   "outputs": [],
   "source": [
    "classif_df['dateReview_week_all'] = classif_df['dateReview_week']\n",
    "classif_df['dateReview_month_all'] = classif_df['dateReview_month']\n",
    "classif_df['main_cat_all'] = classif_df['main_cat']\n",
    "classif_df['num_category_1_all'] = classif_df['num_category_1']\n",
    "\n",
    "classif_df = pd.get_dummies(classif_df, columns=['dateReview_week', 'dateReview_month', 'main_cat', 'num_category_1'], prefix_sep = '_')"
   ]
  },
  {
   "cell_type": "code",
   "execution_count": 140,
   "id": "557fb831",
   "metadata": {
    "ExecuteTime": {
     "end_time": "2022-04-19T10:03:10.198452Z",
     "start_time": "2022-04-19T10:03:09.774492Z"
    }
   },
   "outputs": [],
   "source": [
    "classif_df['main_cat_all'] = classif_df['main_cat_all'].apply(lambda x: main_cat_all_dict[x])\n",
    "classif_df['num_category_1_all'] = classif_df['num_category_1_all'].apply(lambda x: num_category_1_all_dict[x])"
   ]
  },
  {
   "cell_type": "code",
   "execution_count": 141,
   "id": "384efbcc",
   "metadata": {
    "ExecuteTime": {
     "end_time": "2022-04-19T10:03:10.308385Z",
     "start_time": "2022-04-19T10:03:10.199759Z"
    }
   },
   "outputs": [
    {
     "data": {
      "text/html": [
       "<div>\n",
       "<style scoped>\n",
       "    .dataframe tbody tr th:only-of-type {\n",
       "        vertical-align: middle;\n",
       "    }\n",
       "\n",
       "    .dataframe tbody tr th {\n",
       "        vertical-align: top;\n",
       "    }\n",
       "\n",
       "    .dataframe thead th {\n",
       "        text-align: right;\n",
       "    }\n",
       "</style>\n",
       "<table border=\"1\" class=\"dataframe\">\n",
       "  <thead>\n",
       "    <tr style=\"text-align: right;\">\n",
       "      <th></th>\n",
       "      <th>verified</th>\n",
       "      <th>vote</th>\n",
       "      <th>dataAge</th>\n",
       "      <th>user_reviewer_num</th>\n",
       "      <th>item_reviewer_num</th>\n",
       "      <th>rank</th>\n",
       "      <th>price</th>\n",
       "      <th>num_category_2</th>\n",
       "      <th>num_category_3</th>\n",
       "      <th>rating</th>\n",
       "      <th>...</th>\n",
       "      <th>num_category_1_Jams, Jellies &amp; Sweet Spreads</th>\n",
       "      <th>num_category_1_Meat &amp; Seafood</th>\n",
       "      <th>num_category_1_Meat Substitutes</th>\n",
       "      <th>num_category_1_Olives, Pickles &amp; Relishes</th>\n",
       "      <th>num_category_1_Pasta &amp; Noodles</th>\n",
       "      <th>num_category_1_Prepared Foods</th>\n",
       "      <th>num_category_1_Produce</th>\n",
       "      <th>num_category_1_Sauces, Gravies &amp; Marinades</th>\n",
       "      <th>num_category_1_Snack Foods</th>\n",
       "      <th>num_category_1_Soups, Stocks &amp; Broths</th>\n",
       "    </tr>\n",
       "  </thead>\n",
       "  <tbody>\n",
       "    <tr>\n",
       "      <th>0</th>\n",
       "      <td>1</td>\n",
       "      <td>0</td>\n",
       "      <td>728</td>\n",
       "      <td>7</td>\n",
       "      <td>14</td>\n",
       "      <td>19,771.00000</td>\n",
       "      <td>9.95000</td>\n",
       "      <td>Mixed Spices &amp; Seasonings</td>\n",
       "      <td>Adobo Seasoning</td>\n",
       "      <td>1.00000</td>\n",
       "      <td>...</td>\n",
       "      <td>0</td>\n",
       "      <td>0</td>\n",
       "      <td>0</td>\n",
       "      <td>0</td>\n",
       "      <td>0</td>\n",
       "      <td>0</td>\n",
       "      <td>0</td>\n",
       "      <td>0</td>\n",
       "      <td>0</td>\n",
       "      <td>0</td>\n",
       "    </tr>\n",
       "    <tr>\n",
       "      <th>1</th>\n",
       "      <td>0</td>\n",
       "      <td>0</td>\n",
       "      <td>550</td>\n",
       "      <td>5</td>\n",
       "      <td>14</td>\n",
       "      <td>19,771.00000</td>\n",
       "      <td>9.95000</td>\n",
       "      <td>Mixed Spices &amp; Seasonings</td>\n",
       "      <td>Adobo Seasoning</td>\n",
       "      <td>1.00000</td>\n",
       "      <td>...</td>\n",
       "      <td>0</td>\n",
       "      <td>0</td>\n",
       "      <td>0</td>\n",
       "      <td>0</td>\n",
       "      <td>0</td>\n",
       "      <td>0</td>\n",
       "      <td>0</td>\n",
       "      <td>0</td>\n",
       "      <td>0</td>\n",
       "      <td>0</td>\n",
       "    </tr>\n",
       "    <tr>\n",
       "      <th>2</th>\n",
       "      <td>1</td>\n",
       "      <td>4</td>\n",
       "      <td>570</td>\n",
       "      <td>10</td>\n",
       "      <td>14</td>\n",
       "      <td>19,771.00000</td>\n",
       "      <td>9.95000</td>\n",
       "      <td>Mixed Spices &amp; Seasonings</td>\n",
       "      <td>Adobo Seasoning</td>\n",
       "      <td>-1.00000</td>\n",
       "      <td>...</td>\n",
       "      <td>0</td>\n",
       "      <td>0</td>\n",
       "      <td>0</td>\n",
       "      <td>0</td>\n",
       "      <td>0</td>\n",
       "      <td>0</td>\n",
       "      <td>0</td>\n",
       "      <td>0</td>\n",
       "      <td>0</td>\n",
       "      <td>0</td>\n",
       "    </tr>\n",
       "    <tr>\n",
       "      <th>3</th>\n",
       "      <td>0</td>\n",
       "      <td>0</td>\n",
       "      <td>867</td>\n",
       "      <td>5</td>\n",
       "      <td>14</td>\n",
       "      <td>19,771.00000</td>\n",
       "      <td>9.95000</td>\n",
       "      <td>Mixed Spices &amp; Seasonings</td>\n",
       "      <td>Adobo Seasoning</td>\n",
       "      <td>1.00000</td>\n",
       "      <td>...</td>\n",
       "      <td>0</td>\n",
       "      <td>0</td>\n",
       "      <td>0</td>\n",
       "      <td>0</td>\n",
       "      <td>0</td>\n",
       "      <td>0</td>\n",
       "      <td>0</td>\n",
       "      <td>0</td>\n",
       "      <td>0</td>\n",
       "      <td>0</td>\n",
       "    </tr>\n",
       "    <tr>\n",
       "      <th>4</th>\n",
       "      <td>0</td>\n",
       "      <td>0</td>\n",
       "      <td>867</td>\n",
       "      <td>5</td>\n",
       "      <td>14</td>\n",
       "      <td>19,771.00000</td>\n",
       "      <td>9.95000</td>\n",
       "      <td>Mixed Spices &amp; Seasonings</td>\n",
       "      <td>Adobo Seasoning</td>\n",
       "      <td>1.00000</td>\n",
       "      <td>...</td>\n",
       "      <td>0</td>\n",
       "      <td>0</td>\n",
       "      <td>0</td>\n",
       "      <td>0</td>\n",
       "      <td>0</td>\n",
       "      <td>0</td>\n",
       "      <td>0</td>\n",
       "      <td>0</td>\n",
       "      <td>0</td>\n",
       "      <td>0</td>\n",
       "    </tr>\n",
       "    <tr>\n",
       "      <th>...</th>\n",
       "      <td>...</td>\n",
       "      <td>...</td>\n",
       "      <td>...</td>\n",
       "      <td>...</td>\n",
       "      <td>...</td>\n",
       "      <td>...</td>\n",
       "      <td>...</td>\n",
       "      <td>...</td>\n",
       "      <td>...</td>\n",
       "      <td>...</td>\n",
       "      <td>...</td>\n",
       "      <td>...</td>\n",
       "      <td>...</td>\n",
       "      <td>...</td>\n",
       "      <td>...</td>\n",
       "      <td>...</td>\n",
       "      <td>...</td>\n",
       "      <td>...</td>\n",
       "      <td>...</td>\n",
       "      <td>...</td>\n",
       "      <td>...</td>\n",
       "    </tr>\n",
       "    <tr>\n",
       "      <th>826890</th>\n",
       "      <td>1</td>\n",
       "      <td>0</td>\n",
       "      <td>521</td>\n",
       "      <td>5</td>\n",
       "      <td>1</td>\n",
       "      <td>212,433.00000</td>\n",
       "      <td>30.99000</td>\n",
       "      <td>Candy &amp; Chocolate Bars</td>\n",
       "      <td>Candy &amp; Chocolate Bars</td>\n",
       "      <td>1.00000</td>\n",
       "      <td>...</td>\n",
       "      <td>0</td>\n",
       "      <td>0</td>\n",
       "      <td>0</td>\n",
       "      <td>0</td>\n",
       "      <td>0</td>\n",
       "      <td>0</td>\n",
       "      <td>0</td>\n",
       "      <td>0</td>\n",
       "      <td>0</td>\n",
       "      <td>0</td>\n",
       "    </tr>\n",
       "    <tr>\n",
       "      <th>826891</th>\n",
       "      <td>0</td>\n",
       "      <td>0</td>\n",
       "      <td>32</td>\n",
       "      <td>5</td>\n",
       "      <td>5</td>\n",
       "      <td>150,108.00000</td>\n",
       "      <td>18.68000</td>\n",
       "      <td>Nut &amp; Seed Butters</td>\n",
       "      <td>Peanut Butter</td>\n",
       "      <td>1.00000</td>\n",
       "      <td>...</td>\n",
       "      <td>1</td>\n",
       "      <td>0</td>\n",
       "      <td>0</td>\n",
       "      <td>0</td>\n",
       "      <td>0</td>\n",
       "      <td>0</td>\n",
       "      <td>0</td>\n",
       "      <td>0</td>\n",
       "      <td>0</td>\n",
       "      <td>0</td>\n",
       "    </tr>\n",
       "    <tr>\n",
       "      <th>826892</th>\n",
       "      <td>1</td>\n",
       "      <td>0</td>\n",
       "      <td>1072</td>\n",
       "      <td>5</td>\n",
       "      <td>5</td>\n",
       "      <td>14,497.00000</td>\n",
       "      <td>33.10000</td>\n",
       "      <td>Coffee, Tea &amp; Cocoa</td>\n",
       "      <td>Coffee</td>\n",
       "      <td>1.00000</td>\n",
       "      <td>...</td>\n",
       "      <td>0</td>\n",
       "      <td>0</td>\n",
       "      <td>0</td>\n",
       "      <td>0</td>\n",
       "      <td>0</td>\n",
       "      <td>0</td>\n",
       "      <td>0</td>\n",
       "      <td>0</td>\n",
       "      <td>0</td>\n",
       "      <td>0</td>\n",
       "    </tr>\n",
       "    <tr>\n",
       "      <th>826893</th>\n",
       "      <td>1</td>\n",
       "      <td>0</td>\n",
       "      <td>1302</td>\n",
       "      <td>6</td>\n",
       "      <td>6</td>\n",
       "      <td>443,322.00000</td>\n",
       "      <td>15.99000</td>\n",
       "      <td>Coffee, Tea &amp; Cocoa</td>\n",
       "      <td>Tea</td>\n",
       "      <td>1.00000</td>\n",
       "      <td>...</td>\n",
       "      <td>0</td>\n",
       "      <td>0</td>\n",
       "      <td>0</td>\n",
       "      <td>0</td>\n",
       "      <td>0</td>\n",
       "      <td>0</td>\n",
       "      <td>0</td>\n",
       "      <td>0</td>\n",
       "      <td>0</td>\n",
       "      <td>0</td>\n",
       "    </tr>\n",
       "    <tr>\n",
       "      <th>826894</th>\n",
       "      <td>0</td>\n",
       "      <td>0</td>\n",
       "      <td>323</td>\n",
       "      <td>5</td>\n",
       "      <td>7</td>\n",
       "      <td>43,444.00000</td>\n",
       "      <td>19.44000</td>\n",
       "      <td>Meat, Poultry &amp; Seafood</td>\n",
       "      <td>Meat, Poultry &amp; Seafood</td>\n",
       "      <td>1.00000</td>\n",
       "      <td>...</td>\n",
       "      <td>0</td>\n",
       "      <td>0</td>\n",
       "      <td>0</td>\n",
       "      <td>0</td>\n",
       "      <td>0</td>\n",
       "      <td>0</td>\n",
       "      <td>0</td>\n",
       "      <td>0</td>\n",
       "      <td>0</td>\n",
       "      <td>0</td>\n",
       "    </tr>\n",
       "  </tbody>\n",
       "</table>\n",
       "<p>826895 rows × 73 columns</p>\n",
       "</div>"
      ],
      "text/plain": [
       "        verified  vote  dataAge  user_reviewer_num  item_reviewer_num  \\\n",
       "0              1     0      728                  7                 14   \n",
       "1              0     0      550                  5                 14   \n",
       "2              1     4      570                 10                 14   \n",
       "3              0     0      867                  5                 14   \n",
       "4              0     0      867                  5                 14   \n",
       "...          ...   ...      ...                ...                ...   \n",
       "826890         1     0      521                  5                  1   \n",
       "826891         0     0       32                  5                  5   \n",
       "826892         1     0     1072                  5                  5   \n",
       "826893         1     0     1302                  6                  6   \n",
       "826894         0     0      323                  5                  7   \n",
       "\n",
       "                rank    price             num_category_2  \\\n",
       "0       19,771.00000  9.95000  Mixed Spices & Seasonings   \n",
       "1       19,771.00000  9.95000  Mixed Spices & Seasonings   \n",
       "2       19,771.00000  9.95000  Mixed Spices & Seasonings   \n",
       "3       19,771.00000  9.95000  Mixed Spices & Seasonings   \n",
       "4       19,771.00000  9.95000  Mixed Spices & Seasonings   \n",
       "...              ...      ...                        ...   \n",
       "826890 212,433.00000 30.99000     Candy & Chocolate Bars   \n",
       "826891 150,108.00000 18.68000         Nut & Seed Butters   \n",
       "826892  14,497.00000 33.10000        Coffee, Tea & Cocoa   \n",
       "826893 443,322.00000 15.99000        Coffee, Tea & Cocoa   \n",
       "826894  43,444.00000 19.44000    Meat, Poultry & Seafood   \n",
       "\n",
       "                 num_category_3   rating  ...  \\\n",
       "0               Adobo Seasoning  1.00000  ...   \n",
       "1               Adobo Seasoning  1.00000  ...   \n",
       "2               Adobo Seasoning -1.00000  ...   \n",
       "3               Adobo Seasoning  1.00000  ...   \n",
       "4               Adobo Seasoning  1.00000  ...   \n",
       "...                         ...      ...  ...   \n",
       "826890   Candy & Chocolate Bars  1.00000  ...   \n",
       "826891            Peanut Butter  1.00000  ...   \n",
       "826892                   Coffee  1.00000  ...   \n",
       "826893                      Tea  1.00000  ...   \n",
       "826894  Meat, Poultry & Seafood  1.00000  ...   \n",
       "\n",
       "        num_category_1_Jams, Jellies & Sweet Spreads  \\\n",
       "0                                                  0   \n",
       "1                                                  0   \n",
       "2                                                  0   \n",
       "3                                                  0   \n",
       "4                                                  0   \n",
       "...                                              ...   \n",
       "826890                                             0   \n",
       "826891                                             1   \n",
       "826892                                             0   \n",
       "826893                                             0   \n",
       "826894                                             0   \n",
       "\n",
       "        num_category_1_Meat & Seafood  num_category_1_Meat Substitutes  \\\n",
       "0                                   0                                0   \n",
       "1                                   0                                0   \n",
       "2                                   0                                0   \n",
       "3                                   0                                0   \n",
       "4                                   0                                0   \n",
       "...                               ...                              ...   \n",
       "826890                              0                                0   \n",
       "826891                              0                                0   \n",
       "826892                              0                                0   \n",
       "826893                              0                                0   \n",
       "826894                              0                                0   \n",
       "\n",
       "        num_category_1_Olives, Pickles & Relishes  \\\n",
       "0                                               0   \n",
       "1                                               0   \n",
       "2                                               0   \n",
       "3                                               0   \n",
       "4                                               0   \n",
       "...                                           ...   \n",
       "826890                                          0   \n",
       "826891                                          0   \n",
       "826892                                          0   \n",
       "826893                                          0   \n",
       "826894                                          0   \n",
       "\n",
       "        num_category_1_Pasta & Noodles  num_category_1_Prepared Foods  \\\n",
       "0                                    0                              0   \n",
       "1                                    0                              0   \n",
       "2                                    0                              0   \n",
       "3                                    0                              0   \n",
       "4                                    0                              0   \n",
       "...                                ...                            ...   \n",
       "826890                               0                              0   \n",
       "826891                               0                              0   \n",
       "826892                               0                              0   \n",
       "826893                               0                              0   \n",
       "826894                               0                              0   \n",
       "\n",
       "        num_category_1_Produce  num_category_1_Sauces, Gravies & Marinades  \\\n",
       "0                            0                                           0   \n",
       "1                            0                                           0   \n",
       "2                            0                                           0   \n",
       "3                            0                                           0   \n",
       "4                            0                                           0   \n",
       "...                        ...                                         ...   \n",
       "826890                       0                                           0   \n",
       "826891                       0                                           0   \n",
       "826892                       0                                           0   \n",
       "826893                       0                                           0   \n",
       "826894                       0                                           0   \n",
       "\n",
       "        num_category_1_Snack Foods  num_category_1_Soups, Stocks & Broths  \n",
       "0                                0                                      0  \n",
       "1                                0                                      0  \n",
       "2                                0                                      0  \n",
       "3                                0                                      0  \n",
       "4                                0                                      0  \n",
       "...                            ...                                    ...  \n",
       "826890                           0                                      0  \n",
       "826891                           0                                      0  \n",
       "826892                           0                                      0  \n",
       "826893                           0                                      0  \n",
       "826894                           0                                      0  \n",
       "\n",
       "[826895 rows x 73 columns]"
      ]
     },
     "execution_count": 141,
     "metadata": {},
     "output_type": "execute_result"
    }
   ],
   "source": [
    "classif_df"
   ]
  },
  {
   "cell_type": "code",
   "execution_count": 142,
   "id": "eacdd8d9",
   "metadata": {
    "ExecuteTime": {
     "end_time": "2022-04-19T10:03:11.477182Z",
     "start_time": "2022-04-19T10:03:10.310061Z"
    }
   },
   "outputs": [],
   "source": [
    "# Стандартизируем:\n",
    "scaler_cl = MinMaxScaler()\n",
    "col_st = classif_df.drop(['rating','num_category_2', 'num_category_3'], axis=1).columns\n",
    "classif_df[col_st] = pd.DataFrame(scaler_cl.fit_transform(classif_df[col_st]))"
   ]
  },
  {
   "cell_type": "code",
   "execution_count": 143,
   "id": "b77d2eeb",
   "metadata": {
    "ExecuteTime": {
     "end_time": "2022-04-19T10:03:12.912522Z",
     "start_time": "2022-04-19T10:03:11.478767Z"
    }
   },
   "outputs": [
    {
     "data": {
      "image/png": "[encoded data removed]",
      "text/plain": [
       "<Figure size 1080x720 with 1 Axes>"
      ]
     },
     "metadata": {
      "needs_background": "light"
     },
     "output_type": "display_data"
    }
   ],
   "source": [
    "importance_features = pd.Series(f_classif(classif_df[col_st], \n",
    "                           classif_df['rating'])[0], index = col_st)\n",
    "\n",
    "importance_features = importance_features.sort_values()\n",
    "\n",
    "plt.figure(figsize=(15, 10))\n",
    "plt.title('Рейтинг признаков для классификации')\n",
    "importance_features[45:].plot(kind = 'barh')\n",
    "plt.show()"
   ]
  },
  {
   "cell_type": "markdown",
   "id": "1be9ad8f",
   "metadata": {},
   "source": [
    "Самое большое значение имеют колонки:\n",
    "1. 'vote', 'verified' и 'rank'.\n",
    "2. 'item_reviewer_num' и 'user_reviewer_num'\n",
    "3. Разбивка дамп-переменными по 'num_category_1'"
   ]
  },
  {
   "cell_type": "markdown",
   "id": "caff4d94",
   "metadata": {},
   "source": [
    "### Соберем разные списки колонок для обучения и обучим на них:"
   ]
  },
  {
   "cell_type": "code",
   "execution_count": 144,
   "id": "b5fefce9",
   "metadata": {
    "ExecuteTime": {
     "end_time": "2022-04-19T10:03:15.269054Z",
     "start_time": "2022-04-19T10:03:12.914104Z"
    }
   },
   "outputs": [],
   "source": [
    "feature_df_items = feature_df.groupby('itemid').median()\n",
    "feature_df_users = feature_df.groupby('userid').median()"
   ]
  },
  {
   "cell_type": "code",
   "execution_count": 145,
   "id": "147adef3",
   "metadata": {
    "ExecuteTime": {
     "end_time": "2022-04-19T10:03:15.273699Z",
     "start_time": "2022-04-19T10:03:15.270366Z"
    }
   },
   "outputs": [],
   "source": [
    "feature_df_items['item_index'] = feature_df_items.index\n",
    "feature_df_users['user_index'] = feature_df_users.index"
   ]
  },
  {
   "cell_type": "markdown",
   "id": "fafbb874",
   "metadata": {},
   "source": [
    "### Стандартизируем данные"
   ]
  },
  {
   "cell_type": "code",
   "execution_count": 146,
   "id": "e35aed47",
   "metadata": {
    "ExecuteTime": {
     "end_time": "2022-04-19T10:03:15.823439Z",
     "start_time": "2022-04-19T10:03:15.275074Z"
    }
   },
   "outputs": [
    {
     "data": {
      "text/html": [
       "<div>\n",
       "<style scoped>\n",
       "    .dataframe tbody tr th:only-of-type {\n",
       "        vertical-align: middle;\n",
       "    }\n",
       "\n",
       "    .dataframe tbody tr th {\n",
       "        vertical-align: top;\n",
       "    }\n",
       "\n",
       "    .dataframe thead th {\n",
       "        text-align: right;\n",
       "    }\n",
       "</style>\n",
       "<table border=\"1\" class=\"dataframe\">\n",
       "  <thead>\n",
       "    <tr style=\"text-align: right;\">\n",
       "      <th></th>\n",
       "      <th>itemid</th>\n",
       "      <th>verified</th>\n",
       "      <th>vote</th>\n",
       "      <th>dataAge</th>\n",
       "      <th>style_size_num</th>\n",
       "      <th>user_reviewer_num</th>\n",
       "      <th>item_reviewer_num</th>\n",
       "      <th>rank</th>\n",
       "      <th>price</th>\n",
       "      <th>dateReview_week_all</th>\n",
       "      <th>...</th>\n",
       "      <th>num_category_1_Meat &amp; Seafood</th>\n",
       "      <th>num_category_1_Meat Substitutes</th>\n",
       "      <th>num_category_1_Olives, Pickles &amp; Relishes</th>\n",
       "      <th>num_category_1_Pasta &amp; Noodles</th>\n",
       "      <th>num_category_1_Prepared Foods</th>\n",
       "      <th>num_category_1_Produce</th>\n",
       "      <th>num_category_1_Sauces, Gravies &amp; Marinades</th>\n",
       "      <th>num_category_1_Snack Foods</th>\n",
       "      <th>num_category_1_Soups, Stocks &amp; Broths</th>\n",
       "      <th>user_index</th>\n",
       "    </tr>\n",
       "  </thead>\n",
       "  <tbody>\n",
       "    <tr>\n",
       "      <th>count</th>\n",
       "      <td>127,496.00000</td>\n",
       "      <td>127,496.00000</td>\n",
       "      <td>127,496.00000</td>\n",
       "      <td>127,496.00000</td>\n",
       "      <td>127,496.00000</td>\n",
       "      <td>127,496.00000</td>\n",
       "      <td>127,496.00000</td>\n",
       "      <td>127,496.00000</td>\n",
       "      <td>127,496.00000</td>\n",
       "      <td>127,496.00000</td>\n",
       "      <td>...</td>\n",
       "      <td>127,496.00000</td>\n",
       "      <td>127,496.00000</td>\n",
       "      <td>127,496.00000</td>\n",
       "      <td>127,496.00000</td>\n",
       "      <td>127,496.00000</td>\n",
       "      <td>127,496.00000</td>\n",
       "      <td>127,496.00000</td>\n",
       "      <td>127,496.00000</td>\n",
       "      <td>127,496.00000</td>\n",
       "      <td>127,496.00000</td>\n",
       "    </tr>\n",
       "    <tr>\n",
       "      <th>mean</th>\n",
       "      <td>16,902.43940</td>\n",
       "      <td>0.93343</td>\n",
       "      <td>0.01904</td>\n",
       "      <td>0.50718</td>\n",
       "      <td>0.02723</td>\n",
       "      <td>0.01523</td>\n",
       "      <td>0.04660</td>\n",
       "      <td>0.10313</td>\n",
       "      <td>0.18217</td>\n",
       "      <td>0.48027</td>\n",
       "      <td>...</td>\n",
       "      <td>0.00025</td>\n",
       "      <td>0.00011</td>\n",
       "      <td>0.00027</td>\n",
       "      <td>0.00093</td>\n",
       "      <td>0.00010</td>\n",
       "      <td>0.00507</td>\n",
       "      <td>0.00262</td>\n",
       "      <td>0.05655</td>\n",
       "      <td>0.00447</td>\n",
       "      <td>63,747.50000</td>\n",
       "    </tr>\n",
       "    <tr>\n",
       "      <th>std</th>\n",
       "      <td>7,946.31918</td>\n",
       "      <td>0.24374</td>\n",
       "      <td>0.09102</td>\n",
       "      <td>0.23089</td>\n",
       "      <td>0.10470</td>\n",
       "      <td>0.01647</td>\n",
       "      <td>0.14385</td>\n",
       "      <td>0.09168</td>\n",
       "      <td>0.06073</td>\n",
       "      <td>0.27237</td>\n",
       "      <td>...</td>\n",
       "      <td>0.01462</td>\n",
       "      <td>0.01000</td>\n",
       "      <td>0.01534</td>\n",
       "      <td>0.02902</td>\n",
       "      <td>0.00874</td>\n",
       "      <td>0.06785</td>\n",
       "      <td>0.04860</td>\n",
       "      <td>0.22106</td>\n",
       "      <td>0.06409</td>\n",
       "      <td>36,805.06930</td>\n",
       "    </tr>\n",
       "    <tr>\n",
       "      <th>min</th>\n",
       "      <td>41.00000</td>\n",
       "      <td>0.00000</td>\n",
       "      <td>0.00000</td>\n",
       "      <td>0.00000</td>\n",
       "      <td>0.00000</td>\n",
       "      <td>0.00000</td>\n",
       "      <td>0.00000</td>\n",
       "      <td>0.00000</td>\n",
       "      <td>0.00000</td>\n",
       "      <td>0.00000</td>\n",
       "      <td>...</td>\n",
       "      <td>0.00000</td>\n",
       "      <td>0.00000</td>\n",
       "      <td>0.00000</td>\n",
       "      <td>0.00000</td>\n",
       "      <td>0.00000</td>\n",
       "      <td>0.00000</td>\n",
       "      <td>0.00000</td>\n",
       "      <td>0.00000</td>\n",
       "      <td>0.00000</td>\n",
       "      <td>0.00000</td>\n",
       "    </tr>\n",
       "    <tr>\n",
       "      <th>25%</th>\n",
       "      <td>10,635.50000</td>\n",
       "      <td>1.00000</td>\n",
       "      <td>0.00000</td>\n",
       "      <td>0.32592</td>\n",
       "      <td>0.00000</td>\n",
       "      <td>0.00828</td>\n",
       "      <td>0.00538</td>\n",
       "      <td>0.03566</td>\n",
       "      <td>0.14087</td>\n",
       "      <td>0.33333</td>\n",
       "      <td>...</td>\n",
       "      <td>0.00000</td>\n",
       "      <td>0.00000</td>\n",
       "      <td>0.00000</td>\n",
       "      <td>0.00000</td>\n",
       "      <td>0.00000</td>\n",
       "      <td>0.00000</td>\n",
       "      <td>0.00000</td>\n",
       "      <td>0.00000</td>\n",
       "      <td>0.00000</td>\n",
       "      <td>31,873.75000</td>\n",
       "    </tr>\n",
       "    <tr>\n",
       "      <th>50%</th>\n",
       "      <td>16,534.00000</td>\n",
       "      <td>1.00000</td>\n",
       "      <td>0.00000</td>\n",
       "      <td>0.50632</td>\n",
       "      <td>0.00000</td>\n",
       "      <td>0.01035</td>\n",
       "      <td>0.01103</td>\n",
       "      <td>0.07233</td>\n",
       "      <td>0.17336</td>\n",
       "      <td>0.50000</td>\n",
       "      <td>...</td>\n",
       "      <td>0.00000</td>\n",
       "      <td>0.00000</td>\n",
       "      <td>0.00000</td>\n",
       "      <td>0.00000</td>\n",
       "      <td>0.00000</td>\n",
       "      <td>0.00000</td>\n",
       "      <td>0.00000</td>\n",
       "      <td>0.00000</td>\n",
       "      <td>0.00000</td>\n",
       "      <td>63,747.50000</td>\n",
       "    </tr>\n",
       "    <tr>\n",
       "      <th>75%</th>\n",
       "      <td>23,083.00000</td>\n",
       "      <td>1.00000</td>\n",
       "      <td>0.00000</td>\n",
       "      <td>0.69126</td>\n",
       "      <td>0.00000</td>\n",
       "      <td>0.01656</td>\n",
       "      <td>0.02500</td>\n",
       "      <td>0.14468</td>\n",
       "      <td>0.21234</td>\n",
       "      <td>0.66667</td>\n",
       "      <td>...</td>\n",
       "      <td>0.00000</td>\n",
       "      <td>0.00000</td>\n",
       "      <td>0.00000</td>\n",
       "      <td>0.00000</td>\n",
       "      <td>0.00000</td>\n",
       "      <td>0.00000</td>\n",
       "      <td>0.00000</td>\n",
       "      <td>0.00000</td>\n",
       "      <td>0.00000</td>\n",
       "      <td>95,621.25000</td>\n",
       "    </tr>\n",
       "    <tr>\n",
       "      <th>max</th>\n",
       "      <td>41,097.00000</td>\n",
       "      <td>1.00000</td>\n",
       "      <td>1.00000</td>\n",
       "      <td>1.00000</td>\n",
       "      <td>1.00000</td>\n",
       "      <td>1.00000</td>\n",
       "      <td>1.00000</td>\n",
       "      <td>1.00000</td>\n",
       "      <td>1.00000</td>\n",
       "      <td>1.00000</td>\n",
       "      <td>...</td>\n",
       "      <td>1.00000</td>\n",
       "      <td>1.00000</td>\n",
       "      <td>1.00000</td>\n",
       "      <td>1.00000</td>\n",
       "      <td>1.00000</td>\n",
       "      <td>1.00000</td>\n",
       "      <td>1.00000</td>\n",
       "      <td>1.00000</td>\n",
       "      <td>1.00000</td>\n",
       "      <td>127,495.00000</td>\n",
       "    </tr>\n",
       "  </tbody>\n",
       "</table>\n",
       "<p>8 rows × 72 columns</p>\n",
       "</div>"
      ],
      "text/plain": [
       "             itemid      verified          vote       dataAge  style_size_num  \\\n",
       "count 127,496.00000 127,496.00000 127,496.00000 127,496.00000   127,496.00000   \n",
       "mean   16,902.43940       0.93343       0.01904       0.50718         0.02723   \n",
       "std     7,946.31918       0.24374       0.09102       0.23089         0.10470   \n",
       "min        41.00000       0.00000       0.00000       0.00000         0.00000   \n",
       "25%    10,635.50000       1.00000       0.00000       0.32592         0.00000   \n",
       "50%    16,534.00000       1.00000       0.00000       0.50632         0.00000   \n",
       "75%    23,083.00000       1.00000       0.00000       0.69126         0.00000   \n",
       "max    41,097.00000       1.00000       1.00000       1.00000         1.00000   \n",
       "\n",
       "       user_reviewer_num  item_reviewer_num          rank         price  \\\n",
       "count      127,496.00000      127,496.00000 127,496.00000 127,496.00000   \n",
       "mean             0.01523            0.04660       0.10313       0.18217   \n",
       "std              0.01647            0.14385       0.09168       0.06073   \n",
       "min              0.00000            0.00000       0.00000       0.00000   \n",
       "25%              0.00828            0.00538       0.03566       0.14087   \n",
       "50%              0.01035            0.01103       0.07233       0.17336   \n",
       "75%              0.01656            0.02500       0.14468       0.21234   \n",
       "max              1.00000            1.00000       1.00000       1.00000   \n",
       "\n",
       "       dateReview_week_all  ...  num_category_1_Meat & Seafood  \\\n",
       "count        127,496.00000  ...                  127,496.00000   \n",
       "mean               0.48027  ...                        0.00025   \n",
       "std                0.27237  ...                        0.01462   \n",
       "min                0.00000  ...                        0.00000   \n",
       "25%                0.33333  ...                        0.00000   \n",
       "50%                0.50000  ...                        0.00000   \n",
       "75%                0.66667  ...                        0.00000   \n",
       "max                1.00000  ...                        1.00000   \n",
       "\n",
       "       num_category_1_Meat Substitutes  \\\n",
       "count                    127,496.00000   \n",
       "mean                           0.00011   \n",
       "std                            0.01000   \n",
       "min                            0.00000   \n",
       "25%                            0.00000   \n",
       "50%                            0.00000   \n",
       "75%                            0.00000   \n",
       "max                            1.00000   \n",
       "\n",
       "       num_category_1_Olives, Pickles & Relishes  \\\n",
       "count                              127,496.00000   \n",
       "mean                                     0.00027   \n",
       "std                                      0.01534   \n",
       "min                                      0.00000   \n",
       "25%                                      0.00000   \n",
       "50%                                      0.00000   \n",
       "75%                                      0.00000   \n",
       "max                                      1.00000   \n",
       "\n",
       "       num_category_1_Pasta & Noodles  num_category_1_Prepared Foods  \\\n",
       "count                   127,496.00000                  127,496.00000   \n",
       "mean                          0.00093                        0.00010   \n",
       "std                           0.02902                        0.00874   \n",
       "min                           0.00000                        0.00000   \n",
       "25%                           0.00000                        0.00000   \n",
       "50%                           0.00000                        0.00000   \n",
       "75%                           0.00000                        0.00000   \n",
       "max                           1.00000                        1.00000   \n",
       "\n",
       "       num_category_1_Produce  num_category_1_Sauces, Gravies & Marinades  \\\n",
       "count           127,496.00000                               127,496.00000   \n",
       "mean                  0.00507                                     0.00262   \n",
       "std                   0.06785                                     0.04860   \n",
       "min                   0.00000                                     0.00000   \n",
       "25%                   0.00000                                     0.00000   \n",
       "50%                   0.00000                                     0.00000   \n",
       "75%                   0.00000                                     0.00000   \n",
       "max                   1.00000                                     1.00000   \n",
       "\n",
       "       num_category_1_Snack Foods  num_category_1_Soups, Stocks & Broths  \\\n",
       "count               127,496.00000                          127,496.00000   \n",
       "mean                      0.05655                                0.00447   \n",
       "std                       0.22106                                0.06409   \n",
       "min                       0.00000                                0.00000   \n",
       "25%                       0.00000                                0.00000   \n",
       "50%                       0.00000                                0.00000   \n",
       "75%                       0.00000                                0.00000   \n",
       "max                       1.00000                                1.00000   \n",
       "\n",
       "         user_index  \n",
       "count 127,496.00000  \n",
       "mean   63,747.50000  \n",
       "std    36,805.06930  \n",
       "min         0.00000  \n",
       "25%    31,873.75000  \n",
       "50%    63,747.50000  \n",
       "75%    95,621.25000  \n",
       "max   127,495.00000  \n",
       "\n",
       "[8 rows x 72 columns]"
      ]
     },
     "execution_count": 146,
     "metadata": {},
     "output_type": "execute_result"
    }
   ],
   "source": [
    "scaler = MinMaxScaler()\n",
    "col_standart = ['vote','dataAge', 'dateReview_week_all', 'dateReview_month_all', 'user_reviewer_num', 'rank',\n",
    "                'price', 'item_reviewer_num', 'num_category_1_all', 'main_cat_all', 'style_size_num']\n",
    "feature_df_items[col_standart] = pd.DataFrame(scaler.fit_transform(feature_df_items[col_standart]))\n",
    "feature_df_users[col_standart] = pd.DataFrame(scaler.fit_transform(feature_df_users[col_standart]))\n",
    "\n",
    "feature_df_users.describe()"
   ]
  },
  {
   "cell_type": "code",
   "execution_count": 147,
   "id": "21fb116e",
   "metadata": {
    "ExecuteTime": {
     "end_time": "2022-04-19T10:03:15.954891Z",
     "start_time": "2022-04-19T10:03:15.825035Z"
    }
   },
   "outputs": [
    {
     "data": {
      "text/html": [
       "<div>\n",
       "<style scoped>\n",
       "    .dataframe tbody tr th:only-of-type {\n",
       "        vertical-align: middle;\n",
       "    }\n",
       "\n",
       "    .dataframe tbody tr th {\n",
       "        vertical-align: top;\n",
       "    }\n",
       "\n",
       "    .dataframe thead th {\n",
       "        text-align: right;\n",
       "    }\n",
       "</style>\n",
       "<table border=\"1\" class=\"dataframe\">\n",
       "  <thead>\n",
       "    <tr style=\"text-align: right;\">\n",
       "      <th></th>\n",
       "      <th>userid</th>\n",
       "      <th>verified</th>\n",
       "      <th>vote</th>\n",
       "      <th>dataAge</th>\n",
       "      <th>style_size_num</th>\n",
       "      <th>user_reviewer_num</th>\n",
       "      <th>item_reviewer_num</th>\n",
       "      <th>rank</th>\n",
       "      <th>price</th>\n",
       "      <th>dateReview_week_all</th>\n",
       "      <th>...</th>\n",
       "      <th>num_category_1_Meat &amp; Seafood</th>\n",
       "      <th>num_category_1_Meat Substitutes</th>\n",
       "      <th>num_category_1_Olives, Pickles &amp; Relishes</th>\n",
       "      <th>num_category_1_Pasta &amp; Noodles</th>\n",
       "      <th>num_category_1_Prepared Foods</th>\n",
       "      <th>num_category_1_Produce</th>\n",
       "      <th>num_category_1_Sauces, Gravies &amp; Marinades</th>\n",
       "      <th>num_category_1_Snack Foods</th>\n",
       "      <th>num_category_1_Soups, Stocks &amp; Broths</th>\n",
       "      <th>item_index</th>\n",
       "    </tr>\n",
       "  </thead>\n",
       "  <tbody>\n",
       "    <tr>\n",
       "      <th>count</th>\n",
       "      <td>41,320.00000</td>\n",
       "      <td>41,320.00000</td>\n",
       "      <td>41,320.00000</td>\n",
       "      <td>41,320.00000</td>\n",
       "      <td>41,320.00000</td>\n",
       "      <td>41,320.00000</td>\n",
       "      <td>41,320.00000</td>\n",
       "      <td>41,320.00000</td>\n",
       "      <td>41,320.00000</td>\n",
       "      <td>41,320.00000</td>\n",
       "      <td>...</td>\n",
       "      <td>41,320.00000</td>\n",
       "      <td>41,320.00000</td>\n",
       "      <td>41,320.00000</td>\n",
       "      <td>41,320.00000</td>\n",
       "      <td>41,320.00000</td>\n",
       "      <td>41,320.00000</td>\n",
       "      <td>41,320.00000</td>\n",
       "      <td>41,320.00000</td>\n",
       "      <td>41,320.00000</td>\n",
       "      <td>41,320.00000</td>\n",
       "    </tr>\n",
       "    <tr>\n",
       "      <th>mean</th>\n",
       "      <td>55,195.82688</td>\n",
       "      <td>0.95161</td>\n",
       "      <td>0.01688</td>\n",
       "      <td>0.52125</td>\n",
       "      <td>0.04623</td>\n",
       "      <td>0.02667</td>\n",
       "      <td>0.00382</td>\n",
       "      <td>0.17150</td>\n",
       "      <td>0.02106</td>\n",
       "      <td>0.47930</td>\n",
       "      <td>...</td>\n",
       "      <td>0.00908</td>\n",
       "      <td>0.00198</td>\n",
       "      <td>0.00622</td>\n",
       "      <td>0.01065</td>\n",
       "      <td>0.00249</td>\n",
       "      <td>0.02444</td>\n",
       "      <td>0.02924</td>\n",
       "      <td>0.11445</td>\n",
       "      <td>0.01912</td>\n",
       "      <td>20,659.50000</td>\n",
       "    </tr>\n",
       "    <tr>\n",
       "      <th>std</th>\n",
       "      <td>22,799.59548</td>\n",
       "      <td>0.20828</td>\n",
       "      <td>0.07789</td>\n",
       "      <td>0.21220</td>\n",
       "      <td>0.15586</td>\n",
       "      <td>0.01706</td>\n",
       "      <td>0.01299</td>\n",
       "      <td>0.16031</td>\n",
       "      <td>0.01482</td>\n",
       "      <td>0.16575</td>\n",
       "      <td>...</td>\n",
       "      <td>0.09483</td>\n",
       "      <td>0.04450</td>\n",
       "      <td>0.07862</td>\n",
       "      <td>0.10264</td>\n",
       "      <td>0.04987</td>\n",
       "      <td>0.15442</td>\n",
       "      <td>0.16847</td>\n",
       "      <td>0.31836</td>\n",
       "      <td>0.13695</td>\n",
       "      <td>11,928.20090</td>\n",
       "    </tr>\n",
       "    <tr>\n",
       "      <th>min</th>\n",
       "      <td>5.50000</td>\n",
       "      <td>0.00000</td>\n",
       "      <td>0.00000</td>\n",
       "      <td>0.00000</td>\n",
       "      <td>0.00000</td>\n",
       "      <td>0.00000</td>\n",
       "      <td>0.00000</td>\n",
       "      <td>0.00000</td>\n",
       "      <td>0.00000</td>\n",
       "      <td>0.00000</td>\n",
       "      <td>...</td>\n",
       "      <td>0.00000</td>\n",
       "      <td>0.00000</td>\n",
       "      <td>0.00000</td>\n",
       "      <td>0.00000</td>\n",
       "      <td>0.00000</td>\n",
       "      <td>0.00000</td>\n",
       "      <td>0.00000</td>\n",
       "      <td>0.00000</td>\n",
       "      <td>0.00000</td>\n",
       "      <td>0.00000</td>\n",
       "    </tr>\n",
       "    <tr>\n",
       "      <th>25%</th>\n",
       "      <td>39,082.75000</td>\n",
       "      <td>1.00000</td>\n",
       "      <td>0.00000</td>\n",
       "      <td>0.34931</td>\n",
       "      <td>0.00000</td>\n",
       "      <td>0.01752</td>\n",
       "      <td>0.00077</td>\n",
       "      <td>0.04103</td>\n",
       "      <td>0.01396</td>\n",
       "      <td>0.33333</td>\n",
       "      <td>...</td>\n",
       "      <td>0.00000</td>\n",
       "      <td>0.00000</td>\n",
       "      <td>0.00000</td>\n",
       "      <td>0.00000</td>\n",
       "      <td>0.00000</td>\n",
       "      <td>0.00000</td>\n",
       "      <td>0.00000</td>\n",
       "      <td>0.00000</td>\n",
       "      <td>0.00000</td>\n",
       "      <td>10,329.75000</td>\n",
       "    </tr>\n",
       "    <tr>\n",
       "      <th>50%</th>\n",
       "      <td>54,147.00000</td>\n",
       "      <td>1.00000</td>\n",
       "      <td>0.00000</td>\n",
       "      <td>0.51375</td>\n",
       "      <td>0.00000</td>\n",
       "      <td>0.02336</td>\n",
       "      <td>0.00139</td>\n",
       "      <td>0.12758</td>\n",
       "      <td>0.01846</td>\n",
       "      <td>0.50000</td>\n",
       "      <td>...</td>\n",
       "      <td>0.00000</td>\n",
       "      <td>0.00000</td>\n",
       "      <td>0.00000</td>\n",
       "      <td>0.00000</td>\n",
       "      <td>0.00000</td>\n",
       "      <td>0.00000</td>\n",
       "      <td>0.00000</td>\n",
       "      <td>0.00000</td>\n",
       "      <td>0.00000</td>\n",
       "      <td>20,659.50000</td>\n",
       "    </tr>\n",
       "    <tr>\n",
       "      <th>75%</th>\n",
       "      <td>70,351.25000</td>\n",
       "      <td>1.00000</td>\n",
       "      <td>0.00000</td>\n",
       "      <td>0.69079</td>\n",
       "      <td>0.00000</td>\n",
       "      <td>0.02920</td>\n",
       "      <td>0.00324</td>\n",
       "      <td>0.26488</td>\n",
       "      <td>0.02535</td>\n",
       "      <td>0.58333</td>\n",
       "      <td>...</td>\n",
       "      <td>0.00000</td>\n",
       "      <td>0.00000</td>\n",
       "      <td>0.00000</td>\n",
       "      <td>0.00000</td>\n",
       "      <td>0.00000</td>\n",
       "      <td>0.00000</td>\n",
       "      <td>0.00000</td>\n",
       "      <td>0.00000</td>\n",
       "      <td>0.00000</td>\n",
       "      <td>30,989.25000</td>\n",
       "    </tr>\n",
       "    <tr>\n",
       "      <th>max</th>\n",
       "      <td>127,495.00000</td>\n",
       "      <td>1.00000</td>\n",
       "      <td>1.00000</td>\n",
       "      <td>1.00000</td>\n",
       "      <td>1.00000</td>\n",
       "      <td>1.00000</td>\n",
       "      <td>1.00000</td>\n",
       "      <td>1.00000</td>\n",
       "      <td>1.00000</td>\n",
       "      <td>1.00000</td>\n",
       "      <td>...</td>\n",
       "      <td>1.00000</td>\n",
       "      <td>1.00000</td>\n",
       "      <td>1.00000</td>\n",
       "      <td>1.00000</td>\n",
       "      <td>1.00000</td>\n",
       "      <td>1.00000</td>\n",
       "      <td>1.00000</td>\n",
       "      <td>1.00000</td>\n",
       "      <td>1.00000</td>\n",
       "      <td>41,319.00000</td>\n",
       "    </tr>\n",
       "  </tbody>\n",
       "</table>\n",
       "<p>8 rows × 72 columns</p>\n",
       "</div>"
      ],
      "text/plain": [
       "             userid     verified         vote      dataAge  style_size_num  \\\n",
       "count  41,320.00000 41,320.00000 41,320.00000 41,320.00000    41,320.00000   \n",
       "mean   55,195.82688      0.95161      0.01688      0.52125         0.04623   \n",
       "std    22,799.59548      0.20828      0.07789      0.21220         0.15586   \n",
       "min         5.50000      0.00000      0.00000      0.00000         0.00000   \n",
       "25%    39,082.75000      1.00000      0.00000      0.34931         0.00000   \n",
       "50%    54,147.00000      1.00000      0.00000      0.51375         0.00000   \n",
       "75%    70,351.25000      1.00000      0.00000      0.69079         0.00000   \n",
       "max   127,495.00000      1.00000      1.00000      1.00000         1.00000   \n",
       "\n",
       "       user_reviewer_num  item_reviewer_num         rank        price  \\\n",
       "count       41,320.00000       41,320.00000 41,320.00000 41,320.00000   \n",
       "mean             0.02667            0.00382      0.17150      0.02106   \n",
       "std              0.01706            0.01299      0.16031      0.01482   \n",
       "min              0.00000            0.00000      0.00000      0.00000   \n",
       "25%              0.01752            0.00077      0.04103      0.01396   \n",
       "50%              0.02336            0.00139      0.12758      0.01846   \n",
       "75%              0.02920            0.00324      0.26488      0.02535   \n",
       "max              1.00000            1.00000      1.00000      1.00000   \n",
       "\n",
       "       dateReview_week_all  ...  num_category_1_Meat & Seafood  \\\n",
       "count         41,320.00000  ...                   41,320.00000   \n",
       "mean               0.47930  ...                        0.00908   \n",
       "std                0.16575  ...                        0.09483   \n",
       "min                0.00000  ...                        0.00000   \n",
       "25%                0.33333  ...                        0.00000   \n",
       "50%                0.50000  ...                        0.00000   \n",
       "75%                0.58333  ...                        0.00000   \n",
       "max                1.00000  ...                        1.00000   \n",
       "\n",
       "       num_category_1_Meat Substitutes  \\\n",
       "count                     41,320.00000   \n",
       "mean                           0.00198   \n",
       "std                            0.04450   \n",
       "min                            0.00000   \n",
       "25%                            0.00000   \n",
       "50%                            0.00000   \n",
       "75%                            0.00000   \n",
       "max                            1.00000   \n",
       "\n",
       "       num_category_1_Olives, Pickles & Relishes  \\\n",
       "count                               41,320.00000   \n",
       "mean                                     0.00622   \n",
       "std                                      0.07862   \n",
       "min                                      0.00000   \n",
       "25%                                      0.00000   \n",
       "50%                                      0.00000   \n",
       "75%                                      0.00000   \n",
       "max                                      1.00000   \n",
       "\n",
       "       num_category_1_Pasta & Noodles  num_category_1_Prepared Foods  \\\n",
       "count                    41,320.00000                   41,320.00000   \n",
       "mean                          0.01065                        0.00249   \n",
       "std                           0.10264                        0.04987   \n",
       "min                           0.00000                        0.00000   \n",
       "25%                           0.00000                        0.00000   \n",
       "50%                           0.00000                        0.00000   \n",
       "75%                           0.00000                        0.00000   \n",
       "max                           1.00000                        1.00000   \n",
       "\n",
       "       num_category_1_Produce  num_category_1_Sauces, Gravies & Marinades  \\\n",
       "count            41,320.00000                                41,320.00000   \n",
       "mean                  0.02444                                     0.02924   \n",
       "std                   0.15442                                     0.16847   \n",
       "min                   0.00000                                     0.00000   \n",
       "25%                   0.00000                                     0.00000   \n",
       "50%                   0.00000                                     0.00000   \n",
       "75%                   0.00000                                     0.00000   \n",
       "max                   1.00000                                     1.00000   \n",
       "\n",
       "       num_category_1_Snack Foods  num_category_1_Soups, Stocks & Broths  \\\n",
       "count                41,320.00000                           41,320.00000   \n",
       "mean                      0.11445                                0.01912   \n",
       "std                       0.31836                                0.13695   \n",
       "min                       0.00000                                0.00000   \n",
       "25%                       0.00000                                0.00000   \n",
       "50%                       0.00000                                0.00000   \n",
       "75%                       0.00000                                0.00000   \n",
       "max                       1.00000                                1.00000   \n",
       "\n",
       "        item_index  \n",
       "count 41,320.00000  \n",
       "mean  20,659.50000  \n",
       "std   11,928.20090  \n",
       "min        0.00000  \n",
       "25%   10,329.75000  \n",
       "50%   20,659.50000  \n",
       "75%   30,989.25000  \n",
       "max   41,319.00000  \n",
       "\n",
       "[8 rows x 72 columns]"
      ]
     },
     "execution_count": 147,
     "metadata": {},
     "output_type": "execute_result"
    }
   ],
   "source": [
    "feature_df_items.describe()"
   ]
  },
  {
   "cell_type": "code",
   "execution_count": 148,
   "id": "8b6ebc94",
   "metadata": {
    "ExecuteTime": {
     "end_time": "2022-04-19T10:03:16.034822Z",
     "start_time": "2022-04-19T10:03:15.956293Z"
    }
   },
   "outputs": [],
   "source": [
    "col_list_i1 = ['vote', 'verified', 'rank']\n",
    "col_list_u1 = ['vote', 'verified', 'rank']\n",
    "\n",
    "items_coo_cols_1 = sparse.coo_matrix(feature_df_items[col_list_i1])\n",
    "users_coo_cols_1 = sparse.coo_matrix(feature_df_users[col_list_u1])\n",
    "\n",
    "items_coo = sparse.coo_matrix(([1]*len(feature_df_items),(feature_df_items.item_index,feature_df_items.item_index)))\n",
    "users_coo = sparse.coo_matrix(([1]*len(feature_df_users),(feature_df_users.user_index,feature_df_users.user_index)))\n",
    "\n",
    "items_coo_1 = sparse.bmat([[items_coo,items_coo_cols_1]])\n",
    "users_coo_1 = sparse.bmat([[users_coo,users_coo_cols_1]])"
   ]
  },
  {
   "cell_type": "code",
   "execution_count": 149,
   "id": "d769d9e0",
   "metadata": {
    "ExecuteTime": {
     "end_time": "2022-04-19T10:03:53.923502Z",
     "start_time": "2022-04-19T10:03:16.036220Z"
    }
   },
   "outputs": [
    {
     "name": "stdout",
     "output_type": "stream",
     "text": [
      "mse:  0.31444708654008824\n",
      "mae:  0.5529001647441232\n",
      "roc-auc:  0.7151360195418125\n"
     ]
    }
   ],
   "source": [
    "model_1 = LightFM(learning_rate = LEARNING_RATE, \n",
    "                loss = LOSS_FUNC,\n",
    "                no_components = NUM_COMPONENTS,\n",
    "                random_state = RANDOM_STATE)\n",
    "\n",
    "model_1 = model_1.fit(ratings_coo, epochs=NUM_EPOCHS, num_threads=NUM_THREADS,\n",
    "                      item_features=items_coo_1, user_features=users_coo_1)\n",
    "\n",
    "preds_1 = model_1.predict(X_test.userid.values, X_test.itemid.values, \n",
    "                          item_features=items_coo_1, user_features=users_coo_1)\n",
    "\n",
    "preds_1 = get_norm(preds_1)\n",
    "\n",
    "metrics_model['model_1'] = get_metrics(get_norm(X_test.rating), preds_1)"
   ]
  },
  {
   "cell_type": "code",
   "execution_count": 150,
   "id": "ef8dc2ef",
   "metadata": {
    "ExecuteTime": {
     "end_time": "2022-04-19T10:03:54.473519Z",
     "start_time": "2022-04-19T10:03:53.924800Z"
    }
   },
   "outputs": [
    {
     "data": {
      "text/plain": [
       "<AxesSubplot:ylabel='Count'>"
      ]
     },
     "execution_count": 150,
     "metadata": {},
     "output_type": "execute_result"
    },
    {
     "data": {
      "image/png": "[encoded data removed]",
      "text/plain": [
       "<Figure size 432x288 with 1 Axes>"
      ]
     },
     "metadata": {
      "needs_background": "light"
     },
     "output_type": "display_data"
    }
   ],
   "source": [
    "sns.histplot(preds_1)"
   ]
  },
  {
   "cell_type": "code",
   "execution_count": 151,
   "id": "1223ace4",
   "metadata": {
    "ExecuteTime": {
     "end_time": "2022-04-19T10:03:54.495626Z",
     "start_time": "2022-04-19T10:03:54.474696Z"
    }
   },
   "outputs": [],
   "source": [
    "col_list_i2 = ['vote', 'verified', 'rank', 'item_reviewer_num']\n",
    "col_list_u2 = ['vote', 'verified', 'rank', 'user_reviewer_num']\n",
    "\n",
    "items_coo_cols_2 = sparse.coo_matrix(feature_df_items[col_list_i2])\n",
    "users_coo_cols_2 = sparse.coo_matrix(feature_df_users[col_list_u2])\n",
    "\n",
    "items_coo_2 = sparse.bmat([[items_coo,items_coo_cols_2]])\n",
    "users_coo_2 = sparse.bmat([[users_coo,users_coo_cols_2]])"
   ]
  },
  {
   "cell_type": "code",
   "execution_count": 152,
   "id": "073680f0",
   "metadata": {
    "ExecuteTime": {
     "end_time": "2022-04-19T10:04:49.649315Z",
     "start_time": "2022-04-19T10:03:54.496667Z"
    }
   },
   "outputs": [
    {
     "name": "stdout",
     "output_type": "stream",
     "text": [
      "mse:  0.2499464654120499\n",
      "mae:  0.49676375111613774\n",
      "roc-auc:  0.7174454549631908\n"
     ]
    }
   ],
   "source": [
    "model_2 = LightFM(learning_rate = LEARNING_RATE, \n",
    "                loss = LOSS_FUNC,\n",
    "                no_components = NUM_COMPONENTS,\n",
    "                random_state = RANDOM_STATE)\n",
    "\n",
    "model_2 = model_2.fit(ratings_coo, epochs=NUM_EPOCHS, num_threads=NUM_THREADS,\n",
    "                      item_features=items_coo_2, user_features=users_coo_2)\n",
    "\n",
    "preds_2 = model_2.predict(X_test.userid.values, X_test.itemid.values, \n",
    "                          item_features=items_coo_2, user_features=users_coo_2)\n",
    "\n",
    "preds_2 = get_norm(preds_2)\n",
    "\n",
    "metrics_model['model_2'] = get_metrics(get_norm(X_test.rating), preds_2)"
   ]
  },
  {
   "cell_type": "code",
   "execution_count": 153,
   "id": "a8fe8093",
   "metadata": {
    "ExecuteTime": {
     "end_time": "2022-04-19T10:04:50.189872Z",
     "start_time": "2022-04-19T10:04:49.650580Z"
    }
   },
   "outputs": [
    {
     "data": {
      "text/plain": [
       "<AxesSubplot:ylabel='Count'>"
      ]
     },
     "execution_count": 153,
     "metadata": {},
     "output_type": "execute_result"
    },
    {
     "data": {
      "image/png": "[encoded data removed]",
      "text/plain": [
       "<Figure size 432x288 with 1 Axes>"
      ]
     },
     "metadata": {
      "needs_background": "light"
     },
     "output_type": "display_data"
    }
   ],
   "source": [
    "sns.histplot(preds_2)"
   ]
  },
  {
   "cell_type": "code",
   "execution_count": 154,
   "id": "36fba636",
   "metadata": {
    "ExecuteTime": {
     "end_time": "2022-04-19T10:04:50.249623Z",
     "start_time": "2022-04-19T10:04:50.191148Z"
    }
   },
   "outputs": [],
   "source": [
    "col_list_i3 = ['vote', 'verified', 'rank', 'item_reviewer_num',\n",
    "               'num_category_1_Alcoholic Beverages', 'num_category_1_Beverages',\n",
    "               'num_category_1_Breads & Bakery', 'num_category_1_Breakfast Foods',\n",
    "               'num_category_1_Candy & Chocolate',\n",
    "               'num_category_1_Canned, Jarred & Packaged Foods',\n",
    "               'num_category_1_Condiments & Salad Dressings',\n",
    "               'num_category_1_Cooking & Baking',\n",
    "               'num_category_1_Dairy, Cheese & Eggs', 'num_category_1_Deli',\n",
    "               'num_category_1_Dried Beans, Grains & Rice',\n",
    "               'num_category_1_Food & Beverage Gifts',\n",
    "               'num_category_1_Fresh Flowers & Live Indoor Plants',\n",
    "               'num_category_1_Frozen', 'num_category_1_Herbs, Spices & Seasonings',\n",
    "               'num_category_1_Jams, Jellies & Sweet Spreads',\n",
    "               'num_category_1_Meat & Seafood', 'num_category_1_Meat Substitutes',\n",
    "               'num_category_1_Olives, Pickles & Relishes',\n",
    "               'num_category_1_Pasta & Noodles', 'num_category_1_Prepared Foods',\n",
    "               'num_category_1_Produce', 'num_category_1_Sauces, Gravies & Marinades',\n",
    "               'num_category_1_Snack Foods', 'num_category_1_Soups, Stocks & Broths']\n",
    "col_list_u3 = ['vote', 'verified', 'rank', 'user_reviewer_num',\n",
    "               'num_category_1_Alcoholic Beverages', 'num_category_1_Beverages',\n",
    "               'num_category_1_Breads & Bakery', 'num_category_1_Breakfast Foods',\n",
    "               'num_category_1_Candy & Chocolate',\n",
    "               'num_category_1_Canned, Jarred & Packaged Foods',\n",
    "               'num_category_1_Condiments & Salad Dressings',\n",
    "               'num_category_1_Cooking & Baking',\n",
    "               'num_category_1_Dairy, Cheese & Eggs', 'num_category_1_Deli',\n",
    "               'num_category_1_Dried Beans, Grains & Rice',\n",
    "               'num_category_1_Food & Beverage Gifts',\n",
    "               'num_category_1_Fresh Flowers & Live Indoor Plants',\n",
    "               'num_category_1_Frozen', 'num_category_1_Herbs, Spices & Seasonings',\n",
    "               'num_category_1_Jams, Jellies & Sweet Spreads',\n",
    "               'num_category_1_Meat & Seafood', 'num_category_1_Meat Substitutes',\n",
    "               'num_category_1_Olives, Pickles & Relishes',\n",
    "               'num_category_1_Pasta & Noodles', 'num_category_1_Prepared Foods',\n",
    "               'num_category_1_Produce', 'num_category_1_Sauces, Gravies & Marinades',\n",
    "               'num_category_1_Snack Foods', 'num_category_1_Soups, Stocks & Broths']\n",
    "\n",
    "items_coo_cols_3 = sparse.coo_matrix(feature_df_items[col_list_i3])\n",
    "users_coo_cols_3 = sparse.coo_matrix(feature_df_users[col_list_u3])\n",
    "\n",
    "items_coo_3 = sparse.bmat([[items_coo,items_coo_cols_3]])\n",
    "users_coo_3 = sparse.bmat([[users_coo,users_coo_cols_3]])"
   ]
  },
  {
   "cell_type": "code",
   "execution_count": 155,
   "id": "40b796df",
   "metadata": {
    "ExecuteTime": {
     "end_time": "2022-04-19T10:05:44.244342Z",
     "start_time": "2022-04-19T10:04:50.250763Z"
    }
   },
   "outputs": [
    {
     "name": "stdout",
     "output_type": "stream",
     "text": [
      "mse:  0.23162645505389792\n",
      "mae:  0.4760709189108119\n",
      "roc-auc:  0.7196397320359199\n"
     ]
    }
   ],
   "source": [
    "model_3 = LightFM(learning_rate = LEARNING_RATE, \n",
    "                loss = LOSS_FUNC,\n",
    "                no_components = NUM_COMPONENTS,\n",
    "                random_state = RANDOM_STATE)\n",
    "\n",
    "model_3 = model_3.fit(ratings_coo, epochs=NUM_EPOCHS, num_threads=NUM_THREADS,\n",
    "                      item_features=items_coo_3, user_features=users_coo_3)\n",
    "\n",
    "preds_3 = model_3.predict(X_test.userid.values, X_test.itemid.values, \n",
    "                          item_features=items_coo_3, user_features=users_coo_3)\n",
    "\n",
    "preds_3 = get_norm(preds_3)\n",
    "\n",
    "metrics_model['model_3'] = get_metrics(get_norm(X_test.rating), preds_3)"
   ]
  },
  {
   "cell_type": "code",
   "execution_count": 156,
   "id": "b4eb33bd",
   "metadata": {
    "ExecuteTime": {
     "end_time": "2022-04-19T10:05:44.698482Z",
     "start_time": "2022-04-19T10:05:44.245969Z"
    }
   },
   "outputs": [
    {
     "data": {
      "text/plain": [
       "<AxesSubplot:ylabel='Count'>"
      ]
     },
     "execution_count": 156,
     "metadata": {},
     "output_type": "execute_result"
    },
    {
     "data": {
      "image/png": "[encoded data removed]",
      "text/plain": [
       "<Figure size 432x288 with 1 Axes>"
      ]
     },
     "metadata": {
      "needs_background": "light"
     },
     "output_type": "display_data"
    }
   ],
   "source": [
    "sns.histplot(preds_3)"
   ]
  },
  {
   "cell_type": "markdown",
   "id": "87173687",
   "metadata": {},
   "source": [
    "**Попробуем менять и добавлять еще разные признаки исходя из логики и здравого смысла**"
   ]
  },
  {
   "cell_type": "code",
   "execution_count": 157,
   "id": "527d4311",
   "metadata": {
    "ExecuteTime": {
     "end_time": "2022-04-19T10:05:44.722232Z",
     "start_time": "2022-04-19T10:05:44.701010Z"
    }
   },
   "outputs": [],
   "source": [
    "col_list_i4 = ['item_reviewer_num', 'price', \n",
    "               'main_cat_All Beauty', 'main_cat_Amazon Home',\n",
    "               'main_cat_Arts, Crafts & Sewing', 'main_cat_Baby',\n",
    "               'main_cat_Cell Phones & Accessories', 'main_cat_Electronics',\n",
    "               'main_cat_Grocery', 'main_cat_Health & Personal Care',\n",
    "               'main_cat_Industrial & Scientific', 'main_cat_Office Products',\n",
    "               'main_cat_Pet Supplies', 'main_cat_Sports & Outdoors',\n",
    "               'main_cat_Tools & Home Improvement', 'main_cat_Toys & Games']\n",
    "col_list_u4 = ['user_reviewer_num', 'price']\n",
    "\n",
    "\n",
    "items_coo_cols_4 = sparse.coo_matrix(feature_df_items[col_list_i4])\n",
    "users_coo_cols_4 = sparse.coo_matrix(feature_df_users[col_list_u4])\n",
    "\n",
    "items_coo_4 = sparse.bmat([[items_coo,items_coo_cols_4]])\n",
    "users_coo_4 = sparse.bmat([[users_coo,users_coo_cols_4]])"
   ]
  },
  {
   "cell_type": "code",
   "execution_count": 158,
   "id": "6c765d14",
   "metadata": {
    "ExecuteTime": {
     "end_time": "2022-04-19T10:06:32.530499Z",
     "start_time": "2022-04-19T10:05:44.723513Z"
    }
   },
   "outputs": [
    {
     "name": "stdout",
     "output_type": "stream",
     "text": [
      "mse:  0.271880518045264\n",
      "mae:  0.5169992420131246\n",
      "roc-auc:  0.7293810700794354\n"
     ]
    }
   ],
   "source": [
    "model_4 = LightFM(learning_rate = LEARNING_RATE, \n",
    "                loss = LOSS_FUNC,\n",
    "                no_components = NUM_COMPONENTS,\n",
    "                random_state = RANDOM_STATE)\n",
    "\n",
    "model_4 = model_4.fit(ratings_coo, epochs=NUM_EPOCHS, num_threads=NUM_THREADS,\n",
    "                      item_features=items_coo_4, user_features=users_coo_4)\n",
    "\n",
    "preds_4 = model_4.predict(X_test.userid.values, X_test.itemid.values, \n",
    "                          item_features=items_coo_4, user_features=users_coo_4)\n",
    "\n",
    "preds_4 = get_norm(preds_4)\n",
    "\n",
    "metrics_model['model_4'] = get_metrics(get_norm(X_test.rating), preds_4)"
   ]
  },
  {
   "cell_type": "code",
   "execution_count": 159,
   "id": "925a33eb",
   "metadata": {
    "ExecuteTime": {
     "end_time": "2022-04-19T10:06:33.080942Z",
     "start_time": "2022-04-19T10:06:32.531756Z"
    }
   },
   "outputs": [
    {
     "data": {
      "text/plain": [
       "<AxesSubplot:ylabel='Count'>"
      ]
     },
     "execution_count": 159,
     "metadata": {},
     "output_type": "execute_result"
    },
    {
     "data": {
      "image/png": "[encoded data removed]",
      "text/plain": [
       "<Figure size 432x288 with 1 Axes>"
      ]
     },
     "metadata": {
      "needs_background": "light"
     },
     "output_type": "display_data"
    }
   ],
   "source": [
    "sns.histplot(preds_4)"
   ]
  },
  {
   "cell_type": "code",
   "execution_count": 160,
   "id": "3b0fe975",
   "metadata": {
    "ExecuteTime": {
     "end_time": "2022-04-19T10:06:33.230442Z",
     "start_time": "2022-04-19T10:06:33.082018Z"
    }
   },
   "outputs": [],
   "source": [
    "# Все колонки\n",
    "col_list_i5 = col_st\n",
    "col_list_u5 = col_st\n",
    "\n",
    "items_coo_cols_5 = sparse.coo_matrix(feature_df_items[col_list_i5])\n",
    "users_coo_cols_5 = sparse.coo_matrix(feature_df_users[col_list_u5])\n",
    "\n",
    "items_coo_5 = sparse.bmat([[items_coo,items_coo_cols_5]])\n",
    "users_coo_5 = sparse.bmat([[users_coo,users_coo_cols_5]])"
   ]
  },
  {
   "cell_type": "code",
   "execution_count": 161,
   "id": "1f92f3f7",
   "metadata": {
    "ExecuteTime": {
     "end_time": "2022-04-19T10:09:18.188751Z",
     "start_time": "2022-04-19T10:06:33.231536Z"
    }
   },
   "outputs": [
    {
     "name": "stdout",
     "output_type": "stream",
     "text": [
      "mse:  0.2040591460218652\n",
      "mae:  0.4406342220020256\n",
      "roc-auc:  0.7219890883544741\n"
     ]
    }
   ],
   "source": [
    "model_5 = LightFM(learning_rate = LEARNING_RATE, \n",
    "                loss = LOSS_FUNC,\n",
    "                no_components = NUM_COMPONENTS,\n",
    "                random_state = RANDOM_STATE)\n",
    "\n",
    "model_5 = model_5.fit(ratings_coo, epochs=NUM_EPOCHS, num_threads=NUM_THREADS,\n",
    "                      item_features=items_coo_5, user_features=users_coo_5)\n",
    "\n",
    "preds_5 = model_5.predict(X_test.userid.values, X_test.itemid.values, \n",
    "                          item_features=items_coo_5, user_features=users_coo_5)\n",
    "\n",
    "preds_5 = get_norm(preds_5)\n",
    "\n",
    "metrics_model['model_5'] = get_metrics(get_norm(X_test.rating), preds_5)"
   ]
  },
  {
   "cell_type": "code",
   "execution_count": 162,
   "id": "5ac76b0e",
   "metadata": {
    "ExecuteTime": {
     "end_time": "2022-04-19T10:09:18.536899Z",
     "start_time": "2022-04-19T10:09:18.189956Z"
    }
   },
   "outputs": [
    {
     "data": {
      "text/plain": [
       "<AxesSubplot:ylabel='Count'>"
      ]
     },
     "execution_count": 162,
     "metadata": {},
     "output_type": "execute_result"
    },
    {
     "data": {
      "image/png": "[encoded data removed]",
      "text/plain": [
       "<Figure size 432x288 with 1 Axes>"
      ]
     },
     "metadata": {
      "needs_background": "light"
     },
     "output_type": "display_data"
    }
   ],
   "source": [
    "sns.histplot(preds_5)"
   ]
  },
  {
   "cell_type": "code",
   "execution_count": 163,
   "id": "d618220e",
   "metadata": {
    "ExecuteTime": {
     "end_time": "2022-04-19T10:09:18.553691Z",
     "start_time": "2022-04-19T10:09:18.539229Z"
    }
   },
   "outputs": [],
   "source": [
    "col_list_i6 = ['item_reviewer_num', 'price']\n",
    "col_list_u6 = ['user_reviewer_num', 'price']\n",
    "\n",
    "\n",
    "items_coo_cols_6 = sparse.coo_matrix(feature_df_items[col_list_i6])\n",
    "users_coo_cols_6= sparse.coo_matrix(feature_df_users[col_list_u6])\n",
    "\n",
    "items_coo_6 = sparse.bmat([[items_coo,items_coo_cols_6]])\n",
    "users_coo_6 = sparse.bmat([[users_coo,users_coo_cols_6]])"
   ]
  },
  {
   "cell_type": "code",
   "execution_count": 164,
   "id": "3a37b843",
   "metadata": {
    "ExecuteTime": {
     "end_time": "2022-04-19T10:10:02.640107Z",
     "start_time": "2022-04-19T10:09:18.554882Z"
    }
   },
   "outputs": [
    {
     "name": "stdout",
     "output_type": "stream",
     "text": [
      "mse:  0.24080253455819475\n",
      "mae:  0.48952687657583704\n",
      "roc-auc:  0.7251827615507462\n"
     ]
    }
   ],
   "source": [
    "model_6 = LightFM(learning_rate = LEARNING_RATE, \n",
    "                loss = LOSS_FUNC,\n",
    "                no_components = NUM_COMPONENTS,\n",
    "                random_state = RANDOM_STATE)\n",
    "\n",
    "model_6 = model_6.fit(ratings_coo, epochs=NUM_EPOCHS, num_threads=NUM_THREADS,\n",
    "                      item_features=items_coo_6, user_features=users_coo_6)\n",
    "\n",
    "preds_6 = model_6.predict(X_test.userid.values, X_test.itemid.values, \n",
    "                          item_features=items_coo_6, user_features=users_coo_6)\n",
    "\n",
    "preds_6 = get_norm(preds_6)\n",
    "\n",
    "metrics_model['model_6'] = get_metrics(get_norm(X_test.rating), preds_6)"
   ]
  },
  {
   "cell_type": "code",
   "execution_count": 165,
   "id": "1290a493",
   "metadata": {
    "ExecuteTime": {
     "end_time": "2022-04-19T10:10:04.380903Z",
     "start_time": "2022-04-19T10:10:02.641548Z"
    }
   },
   "outputs": [
    {
     "data": {
      "text/plain": [
       "<AxesSubplot:ylabel='Count'>"
      ]
     },
     "execution_count": 165,
     "metadata": {},
     "output_type": "execute_result"
    },
    {
     "data": {
      "image/png": "[encoded data removed]",
      "text/plain": [
       "<Figure size 432x288 with 1 Axes>"
      ]
     },
     "metadata": {
      "needs_background": "light"
     },
     "output_type": "display_data"
    }
   ],
   "source": [
    "sns.histplot(preds_6)"
   ]
  },
  {
   "cell_type": "code",
   "execution_count": 166,
   "id": "640712df",
   "metadata": {
    "ExecuteTime": {
     "end_time": "2022-04-19T10:10:04.402022Z",
     "start_time": "2022-04-19T10:10:04.382076Z"
    }
   },
   "outputs": [],
   "source": [
    "col_list_i7 = ['item_reviewer_num', 'main_cat_all', 'num_category_1_all']\n",
    "col_list_u7 = ['user_reviewer_num', 'price', 'verified']\n",
    "\n",
    "\n",
    "items_coo_cols_7 = sparse.coo_matrix(feature_df_items[col_list_i7])\n",
    "users_coo_cols_7= sparse.coo_matrix(feature_df_users[col_list_u7])\n",
    "\n",
    "items_coo_7 = sparse.bmat([[items_coo,items_coo_cols_7]])\n",
    "users_coo_7 = sparse.bmat([[users_coo,users_coo_cols_7]])"
   ]
  },
  {
   "cell_type": "code",
   "execution_count": 167,
   "id": "30308fb4",
   "metadata": {
    "ExecuteTime": {
     "end_time": "2022-04-19T10:10:59.804724Z",
     "start_time": "2022-04-19T10:10:04.403208Z"
    }
   },
   "outputs": [
    {
     "name": "stdout",
     "output_type": "stream",
     "text": [
      "mse:  0.2634067123702998\n",
      "mae:  0.5080702691173983\n",
      "roc-auc:  0.7263833867287777\n"
     ]
    }
   ],
   "source": [
    "model_7 = LightFM(learning_rate = LEARNING_RATE, \n",
    "                loss = LOSS_FUNC,\n",
    "                no_components = NUM_COMPONENTS,\n",
    "                random_state = RANDOM_STATE)\n",
    "\n",
    "model_7 = model_7.fit(ratings_coo, epochs=NUM_EPOCHS, num_threads=NUM_THREADS,\n",
    "                      item_features=items_coo_7, user_features=users_coo_7)\n",
    "\n",
    "preds_7 = model_7.predict(X_test.userid.values, X_test.itemid.values, \n",
    "                          item_features=items_coo_7, user_features=users_coo_7)\n",
    "\n",
    "preds_7 = get_norm(preds_7)\n",
    "\n",
    "metrics_model['model_7'] = get_metrics(get_norm(X_test.rating), preds_7)"
   ]
  },
  {
   "cell_type": "code",
   "execution_count": 168,
   "id": "248d5363",
   "metadata": {
    "ExecuteTime": {
     "end_time": "2022-04-19T10:11:00.262452Z",
     "start_time": "2022-04-19T10:10:59.805951Z"
    }
   },
   "outputs": [
    {
     "data": {
      "text/plain": [
       "<AxesSubplot:ylabel='Count'>"
      ]
     },
     "execution_count": 168,
     "metadata": {},
     "output_type": "execute_result"
    },
    {
     "data": {
      "image/png": "[encoded data removed]",
      "text/plain": [
       "<Figure size 432x288 with 1 Axes>"
      ]
     },
     "metadata": {
      "needs_background": "light"
     },
     "output_type": "display_data"
    }
   ],
   "source": [
    "sns.histplot(preds_7)"
   ]
  },
  {
   "cell_type": "markdown",
   "id": "26b35cbd",
   "metadata": {},
   "source": [
    "**Итог обучения**"
   ]
  },
  {
   "cell_type": "code",
   "execution_count": 169,
   "id": "d6ca7ba9",
   "metadata": {
    "ExecuteTime": {
     "end_time": "2022-04-19T10:11:00.266798Z",
     "start_time": "2022-04-19T10:11:00.263806Z"
    }
   },
   "outputs": [],
   "source": [
    "df_metrics = pd.DataFrame(metrics_model)"
   ]
  },
  {
   "cell_type": "code",
   "execution_count": 170,
   "id": "deae9cb0",
   "metadata": {
    "ExecuteTime": {
     "end_time": "2022-04-19T10:11:00.328711Z",
     "start_time": "2022-04-19T10:11:00.268292Z"
    }
   },
   "outputs": [
    {
     "data": {
      "text/html": [
       "<div>\n",
       "<style scoped>\n",
       "    .dataframe tbody tr th:only-of-type {\n",
       "        vertical-align: middle;\n",
       "    }\n",
       "\n",
       "    .dataframe tbody tr th {\n",
       "        vertical-align: top;\n",
       "    }\n",
       "\n",
       "    .dataframe thead th {\n",
       "        text-align: right;\n",
       "    }\n",
       "</style>\n",
       "<table border=\"1\" class=\"dataframe\">\n",
       "  <thead>\n",
       "    <tr style=\"text-align: right;\">\n",
       "      <th></th>\n",
       "      <th>model</th>\n",
       "      <th>model_1</th>\n",
       "      <th>model_2</th>\n",
       "      <th>model_3</th>\n",
       "      <th>model_4</th>\n",
       "      <th>model_5</th>\n",
       "      <th>model_6</th>\n",
       "      <th>model_7</th>\n",
       "    </tr>\n",
       "  </thead>\n",
       "  <tbody>\n",
       "    <tr>\n",
       "      <th>mse</th>\n",
       "      <td>0.20475</td>\n",
       "      <td>0.31445</td>\n",
       "      <td>0.24995</td>\n",
       "      <td>0.23163</td>\n",
       "      <td>0.27188</td>\n",
       "      <td>0.20406</td>\n",
       "      <td>0.24080</td>\n",
       "      <td>0.26341</td>\n",
       "    </tr>\n",
       "    <tr>\n",
       "      <th>mae</th>\n",
       "      <td>0.44981</td>\n",
       "      <td>0.55290</td>\n",
       "      <td>0.49676</td>\n",
       "      <td>0.47607</td>\n",
       "      <td>0.51700</td>\n",
       "      <td>0.44063</td>\n",
       "      <td>0.48953</td>\n",
       "      <td>0.50807</td>\n",
       "    </tr>\n",
       "    <tr>\n",
       "      <th>roc-auc</th>\n",
       "      <td>0.73087</td>\n",
       "      <td>0.71514</td>\n",
       "      <td>0.71745</td>\n",
       "      <td>0.71964</td>\n",
       "      <td>0.72938</td>\n",
       "      <td>0.72199</td>\n",
       "      <td>0.72518</td>\n",
       "      <td>0.72638</td>\n",
       "    </tr>\n",
       "  </tbody>\n",
       "</table>\n",
       "</div>"
      ],
      "text/plain": [
       "          model  model_1  model_2  model_3  model_4  model_5  model_6  model_7\n",
       "mse     0.20475  0.31445  0.24995  0.23163  0.27188  0.20406  0.24080  0.26341\n",
       "mae     0.44981  0.55290  0.49676  0.47607  0.51700  0.44063  0.48953  0.50807\n",
       "roc-auc 0.73087  0.71514  0.71745  0.71964  0.72938  0.72199  0.72518  0.72638"
      ]
     },
     "execution_count": 170,
     "metadata": {},
     "output_type": "execute_result"
    }
   ],
   "source": [
    "df_metrics "
   ]
  },
  {
   "cell_type": "markdown",
   "id": "48b0cbcf",
   "metadata": {},
   "source": [
    "Как видим из представленных данных самый хороший результат дает базовая модель (без учета признаков по товарам и покупателям) и модель 5 (все признаки, которые есть). \n",
    "\n",
    "По гистограммам предсказаний видно, что модели не могут разнести предсказания по крайностям хорошо-плохо. Большинство ответов находится посередине. Гистограма в форме колокола, а ожидалось наоборот, по центру мало и увеличение в основном к 1 и немного к 0, так как дисбаланс выборки. \n",
    "\n",
    "При добавлении выборочной информации о товаре и покупателях качество прогноза снижалось. По метрики roc-auc особенно низким было на признаках, которые отобраны на основе f_classif. Осмысленный подбор дал немного получше результат на ней. Но пришлось поварьировать с разными наборами. Оставила самые адекватные, которые показали лучше результат на тренировочных данных, а не лидербрде.\n",
    "\n",
    "Наверное, здесь лучше было бы применить нейросети (говорилось в конце блока рекомендательных систем, что они дают лучший результат), но мы их не проходили.\n",
    "\n",
    "Так как ничего лучшего добиться по моделям не удалось, то будем ориентироваться на результат метрики roc-auc, котра используется на лидерборде."
   ]
  },
  {
   "cell_type": "markdown",
   "id": "34354887",
   "metadata": {},
   "source": [
    "**Выведем средний прогноз, отсортируя модели по результатам метрики**"
   ]
  },
  {
   "cell_type": "code",
   "execution_count": 171,
   "id": "380cd73f",
   "metadata": {
    "ExecuteTime": {
     "end_time": "2022-04-19T10:11:00.689012Z",
     "start_time": "2022-04-19T10:11:00.331732Z"
    }
   },
   "outputs": [
    {
     "name": "stdout",
     "output_type": "stream",
     "text": [
      "0.7308744950564717\n",
      "0.7432318567451048\n",
      "0.7405308040067269\n",
      "0.7410830870774321\n",
      "0.7425017066645755\n",
      "0.7411841719943003\n",
      "0.7404832571799909\n",
      "0.739291758911743\n"
     ]
    }
   ],
   "source": [
    "preds_all = np.zeros((preds.shape[0]))\n",
    "for i in [preds, preds_4, preds_7, preds_6, preds_5, preds_3, preds_2, preds_1]:\n",
    "    preds_all = preds_all+i\n",
    "    print(sklearn.metrics.roc_auc_score(get_norm(X_test.rating), preds_all))\n"
   ]
  },
  {
   "cell_type": "markdown",
   "id": "764cfb0a",
   "metadata": {
    "ExecuteTime": {
     "end_time": "2022-04-15T08:18:00.883564Z",
     "start_time": "2022-04-15T08:18:00.382147Z"
    }
   },
   "source": [
    "Модели 1,2 и 3 ухудшают качество roc-auc при усреднении. Их, наверное, не будем использовать. "
   ]
  },
  {
   "cell_type": "markdown",
   "id": "2efae4cb",
   "metadata": {},
   "source": [
    "### submission"
   ]
  },
  {
   "cell_type": "markdown",
   "id": "d1b25a89",
   "metadata": {},
   "source": [
    "Чтоб меньше было объектов холодного старта - обучим модель на всем train_df"
   ]
  },
  {
   "cell_type": "code",
   "execution_count": 172,
   "id": "e20e2105",
   "metadata": {
    "ExecuteTime": {
     "end_time": "2022-04-19T10:11:00.699429Z",
     "start_time": "2022-04-19T10:11:00.690196Z"
    }
   },
   "outputs": [],
   "source": [
    "ratings_coo_sm = sparse.coo_matrix(\n",
    "    (train_df['rating'].astype(int), (train_df['userid'], train_df['itemid']))\n",
    ")"
   ]
  },
  {
   "cell_type": "markdown",
   "id": "08975f3b",
   "metadata": {},
   "source": [
    "**Базовая модель**"
   ]
  },
  {
   "cell_type": "code",
   "execution_count": 173,
   "id": "fe0efe09",
   "metadata": {
    "ExecuteTime": {
     "end_time": "2022-04-19T10:11:07.982782Z",
     "start_time": "2022-04-19T10:11:00.700702Z"
    }
   },
   "outputs": [],
   "source": [
    "model = model.fit(ratings_coo_sm,\n",
    "                  num_threads=NUM_THREADS,\n",
    "                  epochs=NUM_EPOCHS)\n",
    "preds_test = model.predict(test_df.userid.values,\n",
    "                          test_df.itemid.values)"
   ]
  },
  {
   "cell_type": "markdown",
   "id": "92690188",
   "metadata": {},
   "source": [
    "**Модели с разными признаками, которые дали результат получше**"
   ]
  },
  {
   "cell_type": "code",
   "execution_count": 174,
   "id": "dc6bfd84",
   "metadata": {
    "ExecuteTime": {
     "end_time": "2022-04-19T10:11:57.546735Z",
     "start_time": "2022-04-19T10:11:07.983982Z"
    }
   },
   "outputs": [],
   "source": [
    "model_1 = model_1.fit(ratings_coo_sm, epochs=NUM_EPOCHS, num_threads=NUM_THREADS,\n",
    "                      item_features=items_coo_1, user_features=users_coo_1)\n",
    "\n",
    "preds_1_test = model_1.predict(test_df.userid.values, test_df.itemid.values, \n",
    "                          item_features=items_coo_1, user_features=users_coo_1)"
   ]
  },
  {
   "cell_type": "code",
   "execution_count": 175,
   "id": "3a2ceede",
   "metadata": {
    "ExecuteTime": {
     "end_time": "2022-04-19T10:13:03.540009Z",
     "start_time": "2022-04-19T10:11:57.547867Z"
    }
   },
   "outputs": [],
   "source": [
    "model_2 = model_2.fit(ratings_coo_sm, epochs=NUM_EPOCHS, num_threads=NUM_THREADS,\n",
    "                      item_features=items_coo_2, user_features=users_coo_2)\n",
    "\n",
    "preds_2_test = model_2.predict(test_df.userid.values, test_df.itemid.values, \n",
    "                          item_features=items_coo_2, user_features=users_coo_2)"
   ]
  },
  {
   "cell_type": "code",
   "execution_count": 176,
   "id": "34913450",
   "metadata": {
    "ExecuteTime": {
     "end_time": "2022-04-19T10:14:11.114149Z",
     "start_time": "2022-04-19T10:13:03.541298Z"
    }
   },
   "outputs": [],
   "source": [
    "model_3 = model_3.fit(ratings_coo_sm, epochs=NUM_EPOCHS, num_threads=NUM_THREADS,\n",
    "                      item_features=items_coo_3, user_features=users_coo_3)\n",
    "\n",
    "preds_3_test = model_3.predict(test_df.userid.values, test_df.itemid.values, \n",
    "                          item_features=items_coo_3, user_features=users_coo_3)"
   ]
  },
  {
   "cell_type": "code",
   "execution_count": 177,
   "id": "a4f838b4",
   "metadata": {
    "ExecuteTime": {
     "end_time": "2022-04-19T10:15:09.827852Z",
     "start_time": "2022-04-19T10:14:11.115432Z"
    }
   },
   "outputs": [],
   "source": [
    "model_4 = model_4.fit(ratings_coo_sm, epochs=NUM_EPOCHS, num_threads=NUM_THREADS,\n",
    "                      item_features=items_coo_4, user_features=users_coo_4)\n",
    "\n",
    "preds_4_test = model_4.predict(test_df.userid.values, test_df.itemid.values, \n",
    "                          item_features=items_coo_4, user_features=users_coo_4)"
   ]
  },
  {
   "cell_type": "code",
   "execution_count": 178,
   "id": "5df40064",
   "metadata": {
    "ExecuteTime": {
     "end_time": "2022-04-19T10:18:33.680508Z",
     "start_time": "2022-04-19T10:15:09.828929Z"
    }
   },
   "outputs": [],
   "source": [
    "model_5 = model_5.fit(ratings_coo_sm, epochs=NUM_EPOCHS, num_threads=NUM_THREADS,\n",
    "                      item_features=items_coo_5, user_features=users_coo_5)\n",
    "\n",
    "preds_5_test = model_5.predict(test_df.userid.values, test_df.itemid.values, \n",
    "                          item_features=items_coo_5, user_features=users_coo_5)"
   ]
  },
  {
   "cell_type": "code",
   "execution_count": 179,
   "id": "1afc347f",
   "metadata": {
    "ExecuteTime": {
     "end_time": "2022-04-19T10:19:26.201067Z",
     "start_time": "2022-04-19T10:18:33.681644Z"
    }
   },
   "outputs": [],
   "source": [
    "model_6 = model_6.fit(ratings_coo_sm, epochs=NUM_EPOCHS, num_threads=NUM_THREADS,\n",
    "                      item_features=items_coo_6, user_features=users_coo_6)\n",
    "\n",
    "preds_6_test = model_6.predict(test_df.userid.values, test_df.itemid.values, \n",
    "                          item_features=items_coo_6, user_features=users_coo_6)"
   ]
  },
  {
   "cell_type": "code",
   "execution_count": 180,
   "id": "101dc306",
   "metadata": {
    "ExecuteTime": {
     "end_time": "2022-04-19T10:20:33.499093Z",
     "start_time": "2022-04-19T10:19:26.202293Z"
    }
   },
   "outputs": [],
   "source": [
    "model_7 = model_7.fit(ratings_coo_sm, epochs=NUM_EPOCHS, num_threads=NUM_THREADS,\n",
    "                      item_features=items_coo_7, user_features=users_coo_7)\n",
    "\n",
    "preds_7_test = model_7.predict(test_df.userid.values, test_df.itemid.values, \n",
    "                          item_features=items_coo_7, user_features=users_coo_7)"
   ]
  },
  {
   "cell_type": "markdown",
   "id": "2f82c315",
   "metadata": {},
   "source": [
    "Просуммируем и нормализуем результат"
   ]
  },
  {
   "cell_type": "code",
   "execution_count": 181,
   "id": "3a01159e",
   "metadata": {
    "ExecuteTime": {
     "end_time": "2022-04-19T10:20:33.510363Z",
     "start_time": "2022-04-19T10:20:33.500435Z"
    }
   },
   "outputs": [
    {
     "data": {
      "text/plain": [
       "(0.0, 1.0)"
      ]
     },
     "execution_count": 181,
     "metadata": {},
     "output_type": "execute_result"
    }
   ],
   "source": [
    "preds_test_all = np.zeros((preds_test.shape[0]))\n",
    "for i in [preds_test, preds_4_test, preds_7_test, preds_6_test, preds_5_test]:  \n",
    "    preds_norm = get_norm(i)\n",
    "    preds_test_all = preds_test_all+i\n",
    "\n",
    "preds_test_norm = get_norm(preds_norm)\n",
    "preds_test_norm.min(), preds_test_norm.max()"
   ]
  },
  {
   "cell_type": "code",
   "execution_count": 182,
   "id": "ba5024a1",
   "metadata": {
    "ExecuteTime": {
     "end_time": "2022-04-19T10:20:33.902371Z",
     "start_time": "2022-04-19T10:20:33.511601Z"
    }
   },
   "outputs": [],
   "source": [
    "submission_pred = submission.copy()\n",
    "\n",
    "submission_pred['rating']= preds_test_norm\n",
    "submission_pred.to_csv('data/submission_pred.csv', index=False)"
   ]
  },
  {
   "cell_type": "code",
   "execution_count": 183,
   "id": "e3257412",
   "metadata": {
    "ExecuteTime": {
     "end_time": "2022-04-19T10:20:34.437361Z",
     "start_time": "2022-04-19T10:20:33.903446Z"
    }
   },
   "outputs": [
    {
     "data": {
      "text/plain": [
       "<AxesSubplot:xlabel='rating', ylabel='Count'>"
      ]
     },
     "execution_count": 183,
     "metadata": {},
     "output_type": "execute_result"
    },
    {
     "data": {
      "image/png": "[encoded data removed]",
      "text/plain": [
       "<Figure size 432x288 with 1 Axes>"
      ]
     },
     "metadata": {
      "needs_background": "light"
     },
     "output_type": "display_data"
    }
   ],
   "source": [
    "sns.histplot(submission_pred.rating)"
   ]
  },
  {
   "cell_type": "markdown",
   "id": "fabee40e",
   "metadata": {},
   "source": [
    "### Заключение:"
   ]
  },
  {
   "cell_type": "markdown",
   "id": "dc1d23be",
   "metadata": {},
   "source": [
    "Если рассматривать индивидуально каждую модель, то самый хороший результат дает пересечение продукта и покупателя (базова модель без дополнительных признаков) и модель 5 (которая учитывает все признаки, которые есть).\n",
    "\n",
    "Чтоб улучшить результат базового набора и сделать более стабильное предсказание, ориентируясь на метрику roc-auc:\n",
    "    \n",
    "    собрала для нескольких моделей свой состав признаков и просуммировала пронормированные результы.\n",
    "\n",
    "Но модели не смогли разделить предсказания на плохо-хорошо. По гистограммам видим, что предсказания распределились в форме колокола (нормальное распределение), т.е. в большинстве своем модель сомневается.\n",
    "\n",
    "Для прогнозирования была использована вся обучающая выборка, чтоб сократить количество объектов холодного старта.\n",
    "На лидерборде простая базовая модель дает лучше результат, чем комбинированние базовой с признакавыми. Но по обучающей выборке лучше вариант базовая + модели 4-7. Так я и оставлю.\n",
    "\n",
    "По поводу холодного старта:\n",
    "    \n",
    "    * для покупателей, предполагаю, что оптимальным вариантом будет предложить в качестве рекоммендаций наиболее популярные товары.\n",
    "    \n",
    "    * для товаров, возможно, добавлять к блоку рекомендаций новый товар (например 4+1) той же категории, что и основные рекомендуемые. Постепенно знакомить полкупателей с новым ассортиментом. Так же можно выделить его лейбочкой как новинка, чтоб привлечь внимание.\n",
    "    \n",
    "\n",
    "В блоке по рекомендательным системам говорилось, что лучший результат дают нейронные сети. Надо будет вернуться к этому заданию после их прохождения и попробовать улучшить результат предсказания.\n",
    "\n",
    "\n",
    "Поле внедрения системы можно было бы использовать метрики посчитанные на топ_N записях precision@N, recall@N. Провести А/В тестирование по продажам (количество товаров и сумма). Если предлагается сопутствующие товары, то продажи и по сопутсвующим категорям. Кликабельность/положии в корзину/купили рекомендованные товары.\n",
    "\n",
    "\n"
   ]
  },
  {
   "cell_type": "code",
   "execution_count": null,
   "id": "0d0b2441",
   "metadata": {},
   "outputs": [],
   "source": []
  }
 ],
 "metadata": {
  "kernelspec": {
   "display_name": "Python 3 (ipykernel)",
   "language": "python",
   "name": "python3"
  },
  "language_info": {
   "codemirror_mode": {
    "name": "ipython",
    "version": 3
   },
   "file_extension": ".py",
   "mimetype": "text/x-python",
   "name": "python",
   "nbconvert_exporter": "python",
   "pygments_lexer": "ipython3",
   "version": "3.9.7"
  }
 },
 "nbformat": 4,
 "nbformat_minor": 5
}
