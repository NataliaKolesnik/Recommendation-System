{
 "cells": [
  {
   "cell_type": "markdown",
   "id": "7365e50a",
   "metadata": {},
   "source": [
    "# Рекомендательная система"
   ]
  },
  {
   "cell_type": "markdown",
   "id": "82bb3221",
   "metadata": {},
   "source": [
    "**Цель:** Определить понравится ли пользователю товар на основе истории его отзывов.\n",
    "\n",
    "**Задача:** построить модель рекомендательной системы, которая будет предсказывать рейтинг покупатель-товар, предложить варианты решения проблемы холодного старта."
   ]
  },
  {
   "cell_type": "markdown",
   "id": "0d378bd4",
   "metadata": {},
   "source": [
    "**Библиотеки:**"
   ]
  },
  {
   "cell_type": "code",
   "execution_count": 1,
   "id": "58c60b17",
   "metadata": {
    "ExecuteTime": {
     "end_time": "2022-04-15T13:45:30.165212Z",
     "start_time": "2022-04-15T13:45:25.092199Z"
    }
   },
   "outputs": [],
   "source": [
    "import numpy as np\n",
    "import pandas as pd\n",
    "import math\n",
    "import scipy.sparse as sparse\n",
    "import matplotlib.pyplot as plt\n",
    "%matplotlib inline\n",
    "import seaborn as sns\n",
    "import os\n",
    "import sklearn\n",
    "import json\n",
    "import re\n",
    "# import datetime\n",
    "\n",
    "from lightfm import LightFM\n",
    "#from lightfm.cross_validation import random_train_test_split\n",
    "from lightfm.evaluation import auc_score, precision_at_k, recall_at_k\n",
    "from sklearn.model_selection import train_test_split\n",
    "from sklearn.feature_selection import f_classif\n",
    "from sklearn.preprocessing import MinMaxScaler\n",
    "from sklearn.preprocessing import LabelEncoder, OneHotEncoder, StandardScaler\n",
    "from scipy.optimize import minimize\n",
    "from sklearn.metrics import mean_squared_error, mean_absolute_error, r2_score, roc_auc_score\n",
    "\n",
    "color = '#0e87cc'\n",
    "#pd.set_option('display.max_columns', None)"
   ]
  },
  {
   "cell_type": "markdown",
   "id": "202f0c52",
   "metadata": {},
   "source": [
    "**Подгружаем датасеты:**"
   ]
  },
  {
   "cell_type": "code",
   "execution_count": 2,
   "id": "47cc4ed3",
   "metadata": {
    "ExecuteTime": {
     "end_time": "2022-04-15T13:45:37.477320Z",
     "start_time": "2022-04-15T13:45:30.167843Z"
    }
   },
   "outputs": [],
   "source": [
    "train_df = pd.read_csv('data/train.csv', low_memory=False)\n",
    "test_df = pd.read_csv('data/test.csv', low_memory=False)\n",
    "submission = pd.read_csv('data/sample_submission.csv')"
   ]
  },
  {
   "cell_type": "code",
   "execution_count": 3,
   "id": "5bbe749a",
   "metadata": {
    "ExecuteTime": {
     "end_time": "2022-04-15T13:45:37.481622Z",
     "start_time": "2022-04-15T13:45:37.478718Z"
    }
   },
   "outputs": [],
   "source": [
    "with open('data/meta_Grocery_and_Gourmet_Food.json') as f:\n",
    "    meta_list = []\n",
    "    for line in f.readlines():\n",
    "        meta_list.append(json.loads(line))\n",
    "meta_df = pd.DataFrame(meta_list)"
   ]
  },
  {
   "cell_type": "code",
   "execution_count": 4,
   "id": "9800b704",
   "metadata": {
    "ExecuteTime": {
     "end_time": "2022-04-15T13:45:37.568659Z",
     "start_time": "2022-04-15T13:45:37.483833Z"
    }
   },
   "outputs": [],
   "source": [
    "# Сохраним meta_df в csv, чтоб не преобразовывать его каждый раз.\n",
    "meta_df.to_csv('data/meta_food.csv', index=False)"
   ]
  },
  {
   "cell_type": "code",
   "execution_count": 5,
   "id": "bc31f84b",
   "metadata": {
    "ExecuteTime": {
     "end_time": "2022-04-15T13:46:18.553947Z",
     "start_time": "2022-04-15T13:45:37.574278Z"
    }
   },
   "outputs": [],
   "source": [
    "# Закомментируем код 2-х ячеек выше и загрузим этот файл в формате csv\n",
    "product_df = pd.read_csv('data/meta_food.csv', low_memory=False)"
   ]
  },
  {
   "cell_type": "markdown",
   "id": "692d05c4",
   "metadata": {},
   "source": [
    "## Просмотр содержимого датасетов:"
   ]
  },
  {
   "cell_type": "code",
   "execution_count": 6,
   "id": "53f02b9b",
   "metadata": {
    "ExecuteTime": {
     "end_time": "2022-04-15T13:46:18.558026Z",
     "start_time": "2022-04-15T13:46:18.555168Z"
    }
   },
   "outputs": [],
   "source": [
    "def count_nan(col, df):\n",
    "    col_nan = np.round(df[col].isna().sum()/df.shape[0]*100, 1)\n",
    "    print(f'Пропусков в {col}: {df[col].isna().sum()} - {col_nan} %')"
   ]
  },
  {
   "cell_type": "markdown",
   "id": "60118677",
   "metadata": {},
   "source": [
    "### submission"
   ]
  },
  {
   "cell_type": "markdown",
   "id": "4eb43672",
   "metadata": {},
   "source": [
    "Каждый id соответствует уникальной комбинации userid и itemid"
   ]
  },
  {
   "cell_type": "code",
   "execution_count": 7,
   "id": "1cc6be1e",
   "metadata": {
    "ExecuteTime": {
     "end_time": "2022-04-15T13:46:18.792019Z",
     "start_time": "2022-04-15T13:46:18.559383Z"
    }
   },
   "outputs": [
    {
     "data": {
      "text/html": [
       "<div>\n",
       "<style scoped>\n",
       "    .dataframe tbody tr th:only-of-type {\n",
       "        vertical-align: middle;\n",
       "    }\n",
       "\n",
       "    .dataframe tbody tr th {\n",
       "        vertical-align: top;\n",
       "    }\n",
       "\n",
       "    .dataframe thead th {\n",
       "        text-align: right;\n",
       "    }\n",
       "</style>\n",
       "<table border=\"1\" class=\"dataframe\">\n",
       "  <thead>\n",
       "    <tr style=\"text-align: right;\">\n",
       "      <th></th>\n",
       "      <th>Id</th>\n",
       "      <th>rating</th>\n",
       "    </tr>\n",
       "  </thead>\n",
       "  <tbody>\n",
       "    <tr>\n",
       "      <th>233713</th>\n",
       "      <td>233713</td>\n",
       "      <td>0.643009</td>\n",
       "    </tr>\n",
       "    <tr>\n",
       "      <th>258006</th>\n",
       "      <td>258006</td>\n",
       "      <td>0.552632</td>\n",
       "    </tr>\n",
       "    <tr>\n",
       "      <th>161967</th>\n",
       "      <td>161967</td>\n",
       "      <td>0.229559</td>\n",
       "    </tr>\n",
       "    <tr>\n",
       "      <th>152499</th>\n",
       "      <td>152499</td>\n",
       "      <td>0.165143</td>\n",
       "    </tr>\n",
       "    <tr>\n",
       "      <th>222914</th>\n",
       "      <td>222914</td>\n",
       "      <td>0.446409</td>\n",
       "    </tr>\n",
       "  </tbody>\n",
       "</table>\n",
       "</div>"
      ],
      "text/plain": [
       "            Id    rating\n",
       "233713  233713  0.643009\n",
       "258006  258006  0.552632\n",
       "161967  161967  0.229559\n",
       "152499  152499  0.165143\n",
       "222914  222914  0.446409"
      ]
     },
     "execution_count": 7,
     "metadata": {},
     "output_type": "execute_result"
    }
   ],
   "source": [
    "submission.sample(5)"
   ]
  },
  {
   "cell_type": "code",
   "execution_count": 8,
   "id": "a2a9bf7e",
   "metadata": {
    "ExecuteTime": {
     "end_time": "2022-04-15T13:46:18.827542Z",
     "start_time": "2022-04-15T13:46:18.798062Z"
    }
   },
   "outputs": [
    {
     "name": "stdout",
     "output_type": "stream",
     "text": [
      "Диапозон рейтинга: 0.0 - 1.0\n"
     ]
    }
   ],
   "source": [
    "min_rating = np.round(submission['rating'].min(), 3)\n",
    "max_rating = np.round(submission['rating'].max(), 3)\n",
    "print(f'Диапозон рейтинга: {min_rating} - {max_rating}')"
   ]
  },
  {
   "cell_type": "markdown",
   "id": "14d8dfa7",
   "metadata": {},
   "source": [
    "Для загрузки на Leaderboard необходимо представить данные id - rating (нормированный от 0 до 1)."
   ]
  },
  {
   "cell_type": "markdown",
   "id": "e6e9cf02",
   "metadata": {},
   "source": [
    "### train"
   ]
  },
  {
   "cell_type": "code",
   "execution_count": 9,
   "id": "36b9c0d6",
   "metadata": {
    "ExecuteTime": {
     "end_time": "2022-04-15T13:46:18.941745Z",
     "start_time": "2022-04-15T13:46:18.829792Z"
    }
   },
   "outputs": [
    {
     "data": {
      "text/html": [
       "<div>\n",
       "<style scoped>\n",
       "    .dataframe tbody tr th:only-of-type {\n",
       "        vertical-align: middle;\n",
       "    }\n",
       "\n",
       "    .dataframe tbody tr th {\n",
       "        vertical-align: top;\n",
       "    }\n",
       "\n",
       "    .dataframe thead th {\n",
       "        text-align: right;\n",
       "    }\n",
       "</style>\n",
       "<table border=\"1\" class=\"dataframe\">\n",
       "  <thead>\n",
       "    <tr style=\"text-align: right;\">\n",
       "      <th></th>\n",
       "      <th>overall</th>\n",
       "      <th>verified</th>\n",
       "      <th>reviewTime</th>\n",
       "      <th>asin</th>\n",
       "      <th>reviewerName</th>\n",
       "      <th>reviewText</th>\n",
       "      <th>summary</th>\n",
       "      <th>unixReviewTime</th>\n",
       "      <th>vote</th>\n",
       "      <th>style</th>\n",
       "      <th>image</th>\n",
       "      <th>userid</th>\n",
       "      <th>itemid</th>\n",
       "      <th>rating</th>\n",
       "    </tr>\n",
       "  </thead>\n",
       "  <tbody>\n",
       "    <tr>\n",
       "      <th>343257</th>\n",
       "      <td>4.0</td>\n",
       "      <td>False</td>\n",
       "      <td>05 12, 2015</td>\n",
       "      <td>B006IMBJH2</td>\n",
       "      <td>Brad Porter</td>\n",
       "      <td>This is pretty good. It tastes like regular Mo...</td>\n",
       "      <td>Tastes good &amp; a nice boost of energy</td>\n",
       "      <td>1431388800</td>\n",
       "      <td>NaN</td>\n",
       "      <td>NaN</td>\n",
       "      <td>NaN</td>\n",
       "      <td>275</td>\n",
       "      <td>17416</td>\n",
       "      <td>1.0</td>\n",
       "    </tr>\n",
       "    <tr>\n",
       "      <th>167745</th>\n",
       "      <td>5.0</td>\n",
       "      <td>True</td>\n",
       "      <td>02 3, 2015</td>\n",
       "      <td>B00F1G84ME</td>\n",
       "      <td>Rosa H.</td>\n",
       "      <td>Kids will love</td>\n",
       "      <td>Five Stars</td>\n",
       "      <td>1422921600</td>\n",
       "      <td>NaN</td>\n",
       "      <td>NaN</td>\n",
       "      <td>NaN</td>\n",
       "      <td>108491</td>\n",
       "      <td>25118</td>\n",
       "      <td>1.0</td>\n",
       "    </tr>\n",
       "    <tr>\n",
       "      <th>613321</th>\n",
       "      <td>2.0</td>\n",
       "      <td>False</td>\n",
       "      <td>10 1, 2013</td>\n",
       "      <td>B0076YVPWU</td>\n",
       "      <td>Comdet</td>\n",
       "      <td>The pasta portion of this dish is the best I'v...</td>\n",
       "      <td>Good pasta; mediocre sauce</td>\n",
       "      <td>1380585600</td>\n",
       "      <td>NaN</td>\n",
       "      <td>{'Flavor:': ' Meat Sauce Gemelli'}</td>\n",
       "      <td>NaN</td>\n",
       "      <td>10010</td>\n",
       "      <td>18133</td>\n",
       "      <td>0.0</td>\n",
       "    </tr>\n",
       "    <tr>\n",
       "      <th>656883</th>\n",
       "      <td>5.0</td>\n",
       "      <td>True</td>\n",
       "      <td>08 20, 2013</td>\n",
       "      <td>B01FWTV12E</td>\n",
       "      <td>R Pyro</td>\n",
       "      <td>I used this on the stovetop to make the popcor...</td>\n",
       "      <td>Adds additional scent to popcorn</td>\n",
       "      <td>1376956800</td>\n",
       "      <td>NaN</td>\n",
       "      <td>{'Size:': ' Pack of 3', 'Style:': ' Real Theat...</td>\n",
       "      <td>NaN</td>\n",
       "      <td>48215</td>\n",
       "      <td>37939</td>\n",
       "      <td>1.0</td>\n",
       "    </tr>\n",
       "    <tr>\n",
       "      <th>587209</th>\n",
       "      <td>4.0</td>\n",
       "      <td>False</td>\n",
       "      <td>09 6, 2015</td>\n",
       "      <td>B0005Z8K52</td>\n",
       "      <td>Daniel M. Hart</td>\n",
       "      <td>SOBE Elixir, Green Tea, 20 Ounce Bottle (591mL...</td>\n",
       "      <td>Too Sweet To Suit Me.</td>\n",
       "      <td>1441497600</td>\n",
       "      <td>NaN</td>\n",
       "      <td>{'Flavor:': ' Green Tea'}</td>\n",
       "      <td>NaN</td>\n",
       "      <td>19080</td>\n",
       "      <td>689</td>\n",
       "      <td>1.0</td>\n",
       "    </tr>\n",
       "  </tbody>\n",
       "</table>\n",
       "</div>"
      ],
      "text/plain": [
       "        overall  verified   reviewTime        asin    reviewerName  \\\n",
       "343257      4.0     False  05 12, 2015  B006IMBJH2     Brad Porter   \n",
       "167745      5.0      True   02 3, 2015  B00F1G84ME         Rosa H.   \n",
       "613321      2.0     False   10 1, 2013  B0076YVPWU          Comdet   \n",
       "656883      5.0      True  08 20, 2013  B01FWTV12E          R Pyro   \n",
       "587209      4.0     False   09 6, 2015  B0005Z8K52  Daniel M. Hart   \n",
       "\n",
       "                                               reviewText  \\\n",
       "343257  This is pretty good. It tastes like regular Mo...   \n",
       "167745                                     Kids will love   \n",
       "613321  The pasta portion of this dish is the best I'v...   \n",
       "656883  I used this on the stovetop to make the popcor...   \n",
       "587209  SOBE Elixir, Green Tea, 20 Ounce Bottle (591mL...   \n",
       "\n",
       "                                     summary  unixReviewTime vote  \\\n",
       "343257  Tastes good & a nice boost of energy      1431388800  NaN   \n",
       "167745                            Five Stars      1422921600  NaN   \n",
       "613321            Good pasta; mediocre sauce      1380585600  NaN   \n",
       "656883      Adds additional scent to popcorn      1376956800  NaN   \n",
       "587209                 Too Sweet To Suit Me.      1441497600  NaN   \n",
       "\n",
       "                                                    style image  userid  \\\n",
       "343257                                                NaN   NaN     275   \n",
       "167745                                                NaN   NaN  108491   \n",
       "613321                 {'Flavor:': ' Meat Sauce Gemelli'}   NaN   10010   \n",
       "656883  {'Size:': ' Pack of 3', 'Style:': ' Real Theat...   NaN   48215   \n",
       "587209                          {'Flavor:': ' Green Tea'}   NaN   19080   \n",
       "\n",
       "        itemid  rating  \n",
       "343257   17416     1.0  \n",
       "167745   25118     1.0  \n",
       "613321   18133     0.0  \n",
       "656883   37939     1.0  \n",
       "587209     689     1.0  "
      ]
     },
     "execution_count": 9,
     "metadata": {},
     "output_type": "execute_result"
    }
   ],
   "source": [
    "train_df.sample(5)"
   ]
  },
  {
   "cell_type": "code",
   "execution_count": 10,
   "id": "5acd9fc9",
   "metadata": {
    "ExecuteTime": {
     "end_time": "2022-04-15T13:46:19.653214Z",
     "start_time": "2022-04-15T13:46:18.946454Z"
    }
   },
   "outputs": [
    {
     "name": "stdout",
     "output_type": "stream",
     "text": [
      "<class 'pandas.core.frame.DataFrame'>\n",
      "RangeIndex: 857895 entries, 0 to 857894\n",
      "Data columns (total 14 columns):\n",
      " #   Column          Non-Null Count   Dtype  \n",
      "---  ------          --------------   -----  \n",
      " 0   overall         857895 non-null  float64\n",
      " 1   verified        857895 non-null  bool   \n",
      " 2   reviewTime      857895 non-null  object \n",
      " 3   asin            857895 non-null  object \n",
      " 4   reviewerName    857719 non-null  object \n",
      " 5   reviewText      857616 non-null  object \n",
      " 6   summary         857725 non-null  object \n",
      " 7   unixReviewTime  857895 non-null  int64  \n",
      " 8   vote            118740 non-null  object \n",
      " 9   style           444406 non-null  object \n",
      " 10  image           7142 non-null    object \n",
      " 11  userid          857895 non-null  int64  \n",
      " 12  itemid          857895 non-null  int64  \n",
      " 13  rating          857895 non-null  float64\n",
      "dtypes: bool(1), float64(2), int64(3), object(8)\n",
      "memory usage: 85.9+ MB\n"
     ]
    }
   ],
   "source": [
    "train_df.info()"
   ]
  },
  {
   "cell_type": "markdown",
   "id": "80008849",
   "metadata": {},
   "source": [
    "Тренировочный датасет представляет собой список отзывов покупателей о товаре.\n",
    "\n",
    "    overall - рейтинг, который поставил пользователь. Пропуски отсутствуют.\n",
    "    verified - был ли отзыв верифицирован. Пропуски отсутствуют.\n",
    "    reviewTime - когда был отзыв написан.\n",
    "    reviewerName - имя пользователя\n",
    "    asin - индивидуальный номер каждого товара, для идентификации товара и установления связи между датасетами\n",
    "    reviewText - текст отзыва\n",
    "    summary - сжатый отзыв\n",
    "    vote - количество голосований за отзыв\n",
    "    style - метаданные\n",
    "    image - изображение продукта\n",
    "    userid - id пользователя\n",
    "    itemid - id товара\n",
    "    id - id для предсказания (в тестовой выборке)"
   ]
  },
  {
   "cell_type": "code",
   "execution_count": 11,
   "id": "80f1327e",
   "metadata": {
    "ExecuteTime": {
     "end_time": "2022-04-15T13:46:20.298489Z",
     "start_time": "2022-04-15T13:46:19.654915Z"
    }
   },
   "outputs": [
    {
     "data": {
      "text/plain": [
       "overall                0\n",
       "verified               0\n",
       "reviewTime             0\n",
       "asin                   0\n",
       "reviewerName         176\n",
       "reviewText           279\n",
       "summary              170\n",
       "unixReviewTime         0\n",
       "vote              739155\n",
       "style             413489\n",
       "image             850753\n",
       "userid                 0\n",
       "itemid                 0\n",
       "rating                 0\n",
       "dtype: int64"
      ]
     },
     "execution_count": 11,
     "metadata": {},
     "output_type": "execute_result"
    }
   ],
   "source": [
    "# Количество пропусков в каждой колонке:\n",
    "train_df.isna().sum()"
   ]
  },
  {
   "cell_type": "markdown",
   "id": "3d8a884a",
   "metadata": {},
   "source": [
    "В тренировочном датасете представлено 857895 объектов. \n",
    "\n",
    "По некоторым признакам есть пропуски. Особенно много в колонках:\n",
    "\n",
    "    vote (86%)- Количество голосов\n",
    "    style (52%) - Данные, связанные с товаром\n",
    "    image (99%) - Изображение продукта в виде ссылки"
   ]
  },
  {
   "cell_type": "markdown",
   "id": "ae3e353c",
   "metadata": {},
   "source": [
    "### test"
   ]
  },
  {
   "cell_type": "markdown",
   "id": "7111ae3e",
   "metadata": {},
   "source": [
    "Набор данных, для которого вы должны сделать предсказания. У каждого наобора userid, itemid есть свой id, для которого вы должны сделать предсказание."
   ]
  },
  {
   "cell_type": "code",
   "execution_count": 12,
   "id": "4a736734",
   "metadata": {
    "ExecuteTime": {
     "end_time": "2022-04-15T13:46:20.454344Z",
     "start_time": "2022-04-15T13:46:20.300131Z"
    }
   },
   "outputs": [
    {
     "name": "stdout",
     "output_type": "stream",
     "text": [
      "<class 'pandas.core.frame.DataFrame'>\n",
      "RangeIndex: 285965 entries, 0 to 285964\n",
      "Data columns (total 11 columns):\n",
      " #   Column          Non-Null Count   Dtype \n",
      "---  ------          --------------   ----- \n",
      " 0   verified        285965 non-null  bool  \n",
      " 1   reviewTime      285965 non-null  object\n",
      " 2   asin            285965 non-null  object\n",
      " 3   reviewerName    285918 non-null  object\n",
      " 4   unixReviewTime  285965 non-null  int64 \n",
      " 5   vote            39462 non-null   object\n",
      " 6   style           147680 non-null  object\n",
      " 7   image           2368 non-null    object\n",
      " 8   userid          285965 non-null  int64 \n",
      " 9   itemid          285965 non-null  int64 \n",
      " 10  Id              285965 non-null  int64 \n",
      "dtypes: bool(1), int64(4), object(6)\n",
      "memory usage: 22.1+ MB\n"
     ]
    }
   ],
   "source": [
    "test_df.info()"
   ]
  },
  {
   "cell_type": "code",
   "execution_count": 13,
   "id": "6e71d8e8",
   "metadata": {
    "ExecuteTime": {
     "end_time": "2022-04-15T13:46:20.691372Z",
     "start_time": "2022-04-15T13:46:20.455651Z"
    }
   },
   "outputs": [
    {
     "data": {
      "text/plain": [
       "verified               0\n",
       "reviewTime             0\n",
       "asin                   0\n",
       "reviewerName          47\n",
       "unixReviewTime         0\n",
       "vote              246503\n",
       "style             138285\n",
       "image             283597\n",
       "userid                 0\n",
       "itemid                 0\n",
       "Id                     0\n",
       "dtype: int64"
      ]
     },
     "execution_count": 13,
     "metadata": {},
     "output_type": "execute_result"
    }
   ],
   "source": [
    "test_df.isna().sum()"
   ]
  },
  {
   "cell_type": "markdown",
   "id": "ca56c762",
   "metadata": {},
   "source": [
    "В тестовом датасете представлено 285965 объектов. \n",
    "\n",
    "Отсутсвуют некоторые признаки:\n",
    "\n",
    "    overall  -  Общая оценка      \n",
    "    reviewText - Текст отзыва     \n",
    "    summary -  Суть отзыва        \n",
    "\n",
    "    rating - его нам надо предсказать \n",
    "    \n",
    "Так же содержится много пропусокв в колонках vote, style и image."
   ]
  },
  {
   "cell_type": "markdown",
   "id": "968d0e44",
   "metadata": {},
   "source": [
    "### product_df"
   ]
  },
  {
   "cell_type": "code",
   "execution_count": 14,
   "id": "d0070bb3",
   "metadata": {
    "ExecuteTime": {
     "end_time": "2022-04-15T13:46:20.711919Z",
     "start_time": "2022-04-15T13:46:20.693155Z"
    }
   },
   "outputs": [
    {
     "data": {
      "text/html": [
       "<div>\n",
       "<style scoped>\n",
       "    .dataframe tbody tr th:only-of-type {\n",
       "        vertical-align: middle;\n",
       "    }\n",
       "\n",
       "    .dataframe tbody tr th {\n",
       "        vertical-align: top;\n",
       "    }\n",
       "\n",
       "    .dataframe thead th {\n",
       "        text-align: right;\n",
       "    }\n",
       "</style>\n",
       "<table border=\"1\" class=\"dataframe\">\n",
       "  <thead>\n",
       "    <tr style=\"text-align: right;\">\n",
       "      <th></th>\n",
       "      <th>category</th>\n",
       "      <th>description</th>\n",
       "      <th>title</th>\n",
       "      <th>brand</th>\n",
       "      <th>rank</th>\n",
       "      <th>also_view</th>\n",
       "      <th>main_cat</th>\n",
       "      <th>price</th>\n",
       "      <th>asin</th>\n",
       "      <th>also_buy</th>\n",
       "      <th>image</th>\n",
       "      <th>date</th>\n",
       "      <th>feature</th>\n",
       "      <th>details</th>\n",
       "      <th>similar_item</th>\n",
       "      <th>tech1</th>\n",
       "      <th>fit</th>\n",
       "    </tr>\n",
       "  </thead>\n",
       "  <tbody>\n",
       "    <tr>\n",
       "      <th>34023</th>\n",
       "      <td>['Grocery &amp; Gourmet Food', 'Beverages', 'Coffe...</td>\n",
       "      <td>NaN</td>\n",
       "      <td>var aPageStart = (new Date()).getTime();\\nvar ...</td>\n",
       "      <td>NaN</td>\n",
       "      <td>854,556inGroceryGourmetFood(</td>\n",
       "      <td>NaN</td>\n",
       "      <td>Grocery</td>\n",
       "      <td>NaN</td>\n",
       "      <td>B0016LKZ0C</td>\n",
       "      <td>NaN</td>\n",
       "      <td>NaN</td>\n",
       "      <td>NaN</td>\n",
       "      <td>NaN</td>\n",
       "      <td>\\n      &lt;div class=\"content\"&gt;\\n\\n\\n\\n\\n\\n\\n&lt;ul...</td>\n",
       "      <td>NaN</td>\n",
       "      <td>NaN</td>\n",
       "      <td>NaN</td>\n",
       "    </tr>\n",
       "    <tr>\n",
       "      <th>191560</th>\n",
       "      <td>['Grocery &amp; Gourmet Food', 'Cooking &amp; Baking',...</td>\n",
       "      <td>['*** Please read entire description***By purc...</td>\n",
       "      <td>Edible Cake Topper Marshall &amp; Rocky Personaliz...</td>\n",
       "      <td>Cake Images</td>\n",
       "      <td>&gt;#753,119 in Kitchen &amp; Dining (See Top 100 in ...</td>\n",
       "      <td>['B01HSBAO0E', 'B00P2QLP4M', 'B00JI61JT8', 'B0...</td>\n",
       "      <td>Amazon Home</td>\n",
       "      <td>$9.99</td>\n",
       "      <td>B00JI632BG</td>\n",
       "      <td>NaN</td>\n",
       "      <td>NaN</td>\n",
       "      <td>April 6, 2014</td>\n",
       "      <td>['Premium quality Icing Sheets - flexible and ...</td>\n",
       "      <td>NaN</td>\n",
       "      <td>NaN</td>\n",
       "      <td>NaN</td>\n",
       "      <td>NaN</td>\n",
       "    </tr>\n",
       "    <tr>\n",
       "      <th>54306</th>\n",
       "      <td>['Grocery &amp; Gourmet Food', 'Cooking &amp; Baking',...</td>\n",
       "      <td>['Red Velvet Cupcake Mix and Cream Cheese Fros...</td>\n",
       "      <td>Dean Jacob's Red Velvet Cupcake Mix &amp; Cream Ch...</td>\n",
       "      <td>Xcell</td>\n",
       "      <td>1,131,948inGroceryGourmetFood(</td>\n",
       "      <td>NaN</td>\n",
       "      <td>Grocery</td>\n",
       "      <td>NaN</td>\n",
       "      <td>B0028ISYJQ</td>\n",
       "      <td>NaN</td>\n",
       "      <td>NaN</td>\n",
       "      <td>NaN</td>\n",
       "      <td>NaN</td>\n",
       "      <td>\\n      &lt;div class=\"content\"&gt;\\n\\n\\n\\n\\n\\n\\n&lt;ul...</td>\n",
       "      <td>NaN</td>\n",
       "      <td>NaN</td>\n",
       "      <td>NaN</td>\n",
       "    </tr>\n",
       "    <tr>\n",
       "      <th>98859</th>\n",
       "      <td>['Grocery &amp; Gourmet Food', 'Candy &amp; Chocolate'...</td>\n",
       "      <td>NaN</td>\n",
       "      <td>Lyndon Reede Collections Whole Fancy Cashews C...</td>\n",
       "      <td>Lyndon Reede</td>\n",
       "      <td>1,401,501inGroceryGourmetFood(</td>\n",
       "      <td>NaN</td>\n",
       "      <td>Grocery</td>\n",
       "      <td>NaN</td>\n",
       "      <td>B0068QZ992</td>\n",
       "      <td>NaN</td>\n",
       "      <td>NaN</td>\n",
       "      <td>NaN</td>\n",
       "      <td>NaN</td>\n",
       "      <td>\\n      &lt;div class=\"content\"&gt;\\n\\n\\n\\n\\n\\n\\n&lt;ul...</td>\n",
       "      <td>NaN</td>\n",
       "      <td>NaN</td>\n",
       "      <td>NaN</td>\n",
       "    </tr>\n",
       "    <tr>\n",
       "      <th>198650</th>\n",
       "      <td>['Grocery &amp; Gourmet Food', 'Beverages', 'Coffe...</td>\n",
       "      <td>['Maxwell Coffee Drink Mix Cafe Francais 7.6 O...</td>\n",
       "      <td>Maxwell Coffee Drink Mix Cafe Francais 7.6 OZ ...</td>\n",
       "      <td>MAXWELL HOUSE</td>\n",
       "      <td>180,507inGroceryGourmetFood(</td>\n",
       "      <td>NaN</td>\n",
       "      <td>Grocery</td>\n",
       "      <td>NaN</td>\n",
       "      <td>B00KO8P1FM</td>\n",
       "      <td>NaN</td>\n",
       "      <td>['https://images-na.ssl-images-amazon.com/imag...</td>\n",
       "      <td>NaN</td>\n",
       "      <td>NaN</td>\n",
       "      <td>\\n      &lt;div class=\"content\"&gt;\\n\\n\\n\\n\\n\\n\\n&lt;ul...</td>\n",
       "      <td>NaN</td>\n",
       "      <td>NaN</td>\n",
       "      <td>NaN</td>\n",
       "    </tr>\n",
       "  </tbody>\n",
       "</table>\n",
       "</div>"
      ],
      "text/plain": [
       "                                                 category  \\\n",
       "34023   ['Grocery & Gourmet Food', 'Beverages', 'Coffe...   \n",
       "191560  ['Grocery & Gourmet Food', 'Cooking & Baking',...   \n",
       "54306   ['Grocery & Gourmet Food', 'Cooking & Baking',...   \n",
       "98859   ['Grocery & Gourmet Food', 'Candy & Chocolate'...   \n",
       "198650  ['Grocery & Gourmet Food', 'Beverages', 'Coffe...   \n",
       "\n",
       "                                              description  \\\n",
       "34023                                                 NaN   \n",
       "191560  ['*** Please read entire description***By purc...   \n",
       "54306   ['Red Velvet Cupcake Mix and Cream Cheese Fros...   \n",
       "98859                                                 NaN   \n",
       "198650  ['Maxwell Coffee Drink Mix Cafe Francais 7.6 O...   \n",
       "\n",
       "                                                    title          brand  \\\n",
       "34023   var aPageStart = (new Date()).getTime();\\nvar ...            NaN   \n",
       "191560  Edible Cake Topper Marshall & Rocky Personaliz...    Cake Images   \n",
       "54306   Dean Jacob's Red Velvet Cupcake Mix & Cream Ch...          Xcell   \n",
       "98859   Lyndon Reede Collections Whole Fancy Cashews C...   Lyndon Reede   \n",
       "198650  Maxwell Coffee Drink Mix Cafe Francais 7.6 OZ ...  MAXWELL HOUSE   \n",
       "\n",
       "                                                     rank  \\\n",
       "34023                        854,556inGroceryGourmetFood(   \n",
       "191560  >#753,119 in Kitchen & Dining (See Top 100 in ...   \n",
       "54306                      1,131,948inGroceryGourmetFood(   \n",
       "98859                      1,401,501inGroceryGourmetFood(   \n",
       "198650                       180,507inGroceryGourmetFood(   \n",
       "\n",
       "                                                also_view     main_cat  price  \\\n",
       "34023                                                 NaN      Grocery    NaN   \n",
       "191560  ['B01HSBAO0E', 'B00P2QLP4M', 'B00JI61JT8', 'B0...  Amazon Home  $9.99   \n",
       "54306                                                 NaN      Grocery    NaN   \n",
       "98859                                                 NaN      Grocery    NaN   \n",
       "198650                                                NaN      Grocery    NaN   \n",
       "\n",
       "              asin also_buy  \\\n",
       "34023   B0016LKZ0C      NaN   \n",
       "191560  B00JI632BG      NaN   \n",
       "54306   B0028ISYJQ      NaN   \n",
       "98859   B0068QZ992      NaN   \n",
       "198650  B00KO8P1FM      NaN   \n",
       "\n",
       "                                                    image           date  \\\n",
       "34023                                                 NaN            NaN   \n",
       "191560                                                NaN  April 6, 2014   \n",
       "54306                                                 NaN            NaN   \n",
       "98859                                                 NaN            NaN   \n",
       "198650  ['https://images-na.ssl-images-amazon.com/imag...            NaN   \n",
       "\n",
       "                                                  feature  \\\n",
       "34023                                                 NaN   \n",
       "191560  ['Premium quality Icing Sheets - flexible and ...   \n",
       "54306                                                 NaN   \n",
       "98859                                                 NaN   \n",
       "198650                                                NaN   \n",
       "\n",
       "                                                  details similar_item tech1  \\\n",
       "34023   \\n      <div class=\"content\">\\n\\n\\n\\n\\n\\n\\n<ul...          NaN   NaN   \n",
       "191560                                                NaN          NaN   NaN   \n",
       "54306   \\n      <div class=\"content\">\\n\\n\\n\\n\\n\\n\\n<ul...          NaN   NaN   \n",
       "98859   \\n      <div class=\"content\">\\n\\n\\n\\n\\n\\n\\n<ul...          NaN   NaN   \n",
       "198650  \\n      <div class=\"content\">\\n\\n\\n\\n\\n\\n\\n<ul...          NaN   NaN   \n",
       "\n",
       "        fit  \n",
       "34023   NaN  \n",
       "191560  NaN  \n",
       "54306   NaN  \n",
       "98859   NaN  \n",
       "198650  NaN  "
      ]
     },
     "execution_count": 14,
     "metadata": {},
     "output_type": "execute_result"
    }
   ],
   "source": [
    "product_df.sample(5)"
   ]
  },
  {
   "cell_type": "markdown",
   "id": "09cdbb28",
   "metadata": {},
   "source": [
    "В данном датасете представлена информация о товарах - 287209 позиций."
   ]
  },
  {
   "cell_type": "code",
   "execution_count": 15,
   "id": "96014b26",
   "metadata": {
    "ExecuteTime": {
     "end_time": "2022-04-15T13:46:21.186006Z",
     "start_time": "2022-04-15T13:46:20.713082Z"
    }
   },
   "outputs": [
    {
     "name": "stdout",
     "output_type": "stream",
     "text": [
      "<class 'pandas.core.frame.DataFrame'>\n",
      "RangeIndex: 287209 entries, 0 to 287208\n",
      "Data columns (total 17 columns):\n",
      " #   Column        Non-Null Count   Dtype \n",
      "---  ------        --------------   ----- \n",
      " 0   category      287209 non-null  object\n",
      " 1   description   251802 non-null  object\n",
      " 2   title         287205 non-null  object\n",
      " 3   brand         275766 non-null  object\n",
      " 4   rank          275494 non-null  object\n",
      " 5   also_view     121012 non-null  object\n",
      " 6   main_cat      285716 non-null  object\n",
      " 7   price         132136 non-null  object\n",
      " 8   asin          287209 non-null  object\n",
      " 9   also_buy      83332 non-null   object\n",
      " 10  image         150214 non-null  object\n",
      " 11  date          9663 non-null    object\n",
      " 12  feature       16374 non-null   object\n",
      " 13  details       273323 non-null  object\n",
      " 14  similar_item  256 non-null     object\n",
      " 15  tech1         744 non-null     object\n",
      " 16  fit           4 non-null       object\n",
      "dtypes: object(17)\n",
      "memory usage: 37.3+ MB\n"
     ]
    }
   ],
   "source": [
    "product_df.info()"
   ]
  },
  {
   "cell_type": "code",
   "execution_count": 16,
   "id": "0cb1fd1e",
   "metadata": {
    "ExecuteTime": {
     "end_time": "2022-04-15T13:46:21.652042Z",
     "start_time": "2022-04-15T13:46:21.187239Z"
    }
   },
   "outputs": [
    {
     "data": {
      "text/plain": [
       "category             0\n",
       "description      35407\n",
       "title                4\n",
       "brand            11443\n",
       "rank             11715\n",
       "also_view       166197\n",
       "main_cat          1493\n",
       "price           155073\n",
       "asin                 0\n",
       "also_buy        203877\n",
       "image           136995\n",
       "date            277546\n",
       "feature         270835\n",
       "details          13886\n",
       "similar_item    286953\n",
       "tech1           286465\n",
       "fit             287205\n",
       "dtype: int64"
      ]
     },
     "execution_count": 16,
     "metadata": {},
     "output_type": "execute_result"
    }
   ],
   "source": [
    "product_df.isna().sum()"
   ]
  },
  {
   "cell_type": "markdown",
   "id": "f24ff2be",
   "metadata": {},
   "source": [
    "Практически все признаки содержат много пропусков. Колонка 'asin' есть во всех датасетах. По ней будет стыковаться товар."
   ]
  },
  {
   "cell_type": "markdown",
   "id": "8d742be4",
   "metadata": {},
   "source": [
    "## Анализ датасетов"
   ]
  },
  {
   "cell_type": "markdown",
   "id": "547b49d7",
   "metadata": {},
   "source": [
    "### train_df и test_df"
   ]
  },
  {
   "cell_type": "markdown",
   "id": "641ad87d",
   "metadata": {},
   "source": [
    "Эти датасеты практически идентичны по признакам - будем рассматривать соместно."
   ]
  },
  {
   "cell_type": "markdown",
   "id": "e9914aa3",
   "metadata": {},
   "source": [
    "**Удаление дубликатов**"
   ]
  },
  {
   "cell_type": "markdown",
   "id": "c0cf3ac7",
   "metadata": {},
   "source": [
    "Будем удалять только полное соответсвие объектов - точные копии строк."
   ]
  },
  {
   "cell_type": "code",
   "execution_count": 17,
   "id": "407d5b0d",
   "metadata": {
    "ExecuteTime": {
     "end_time": "2022-04-15T13:46:22.625561Z",
     "start_time": "2022-04-15T13:46:21.653502Z"
    }
   },
   "outputs": [
    {
     "name": "stdout",
     "output_type": "stream",
     "text": [
      "Количество дубликатов строк в тренировочной выборке: 31000\n"
     ]
    }
   ],
   "source": [
    "print(f'Количество дубликатов строк в тренировочной выборке: {train_df.duplicated().sum()}')"
   ]
  },
  {
   "cell_type": "code",
   "execution_count": 18,
   "id": "bedd9b85",
   "metadata": {
    "ExecuteTime": {
     "end_time": "2022-04-15T13:46:23.535775Z",
     "start_time": "2022-04-15T13:46:22.626647Z"
    }
   },
   "outputs": [],
   "source": [
    "train_df = train_df.drop_duplicates()"
   ]
  },
  {
   "cell_type": "markdown",
   "id": "72b47c61",
   "metadata": {},
   "source": [
    "**rating**"
   ]
  },
  {
   "cell_type": "code",
   "execution_count": 19,
   "id": "60443522",
   "metadata": {
    "ExecuteTime": {
     "end_time": "2022-04-15T13:46:24.157374Z",
     "start_time": "2022-04-15T13:46:23.536829Z"
    }
   },
   "outputs": [
    {
     "data": {
      "image/png": "[encoded data removed]",
      "text/plain": [
       "<Figure size 432x288 with 1 Axes>"
      ]
     },
     "metadata": {
      "needs_background": "light"
     },
     "output_type": "display_data"
    },
    {
     "name": "stdout",
     "output_type": "stream",
     "text": [
      "Перекос оценок: Хороших 85% - Плохих 15% - выборка относительно целевой переменной не сбалансирована\n"
     ]
    }
   ],
   "source": [
    "# Распределение целевой переменной - оценки пользователей\n",
    "train_df['rating'].value_counts(ascending=True).plot(kind='barh', sort_columns=True, color=color,\n",
    "                                                     title='Распределение целевой переменной - оценки пользователей\\n 1.0 - хорошая оценка, 0.0 - плохая оценка'                                                    )\n",
    "plt.show()\n",
    "\n",
    "rating = train_df['rating'].value_counts(normalize=True)\n",
    "\n",
    "print(f'Перекос оценок: Хороших {rating[1]*100:.0f}% - Плохих {rating[0]*100:.0f}%',\n",
    "        '- выборка относительно целевой переменной не сбалансирована')"
   ]
  },
  {
   "cell_type": "markdown",
   "id": "59d37932",
   "metadata": {},
   "source": [
    "**overall**"
   ]
  },
  {
   "cell_type": "code",
   "execution_count": 20,
   "id": "5529e4a5",
   "metadata": {
    "ExecuteTime": {
     "end_time": "2022-04-15T13:46:24.233105Z",
     "start_time": "2022-04-15T13:46:24.158957Z"
    }
   },
   "outputs": [
    {
     "data": {
      "text/plain": [
       "rating  overall\n",
       "0.0     3.0         58488\n",
       "        1.0         36159\n",
       "        2.0         30636\n",
       "1.0     5.0        592278\n",
       "        4.0        109334\n",
       "Name: overall, dtype: int64"
      ]
     },
     "execution_count": 20,
     "metadata": {},
     "output_type": "execute_result"
    }
   ],
   "source": [
    "train_df.groupby('rating')['overall'].value_counts()"
   ]
  },
  {
   "cell_type": "code",
   "execution_count": 21,
   "id": "c21a390c",
   "metadata": {
    "ExecuteTime": {
     "end_time": "2022-04-15T13:46:24.383451Z",
     "start_time": "2022-04-15T13:46:24.234587Z"
    }
   },
   "outputs": [
    {
     "data": {
      "text/plain": [
       "<AxesSubplot:xlabel='overall', ylabel='count'>"
      ]
     },
     "execution_count": 21,
     "metadata": {},
     "output_type": "execute_result"
    },
    {
     "data": {
      "image/png": "[encoded data removed]",
      "text/plain": [
       "<Figure size 432x288 with 1 Axes>"
      ]
     },
     "metadata": {
      "needs_background": "light"
     },
     "output_type": "display_data"
    }
   ],
   "source": [
    "sns.countplot(x=train_df['overall'], color=color)"
   ]
  },
  {
   "cell_type": "markdown",
   "id": "0ab29fd1",
   "metadata": {},
   "source": [
    "Большинство пользователей ставят оценку - 5, высоко оценивая товар. \n",
    "\n",
    "Оценки пользователей по 5-ти бальной шкале из 'overall' переведены в бинарную 'rating', которую нам и надо предсказать."
   ]
  },
  {
   "cell_type": "markdown",
   "id": "abcf4f84",
   "metadata": {},
   "source": [
    "**verified**"
   ]
  },
  {
   "cell_type": "code",
   "execution_count": 22,
   "id": "a08b18d8",
   "metadata": {
    "ExecuteTime": {
     "end_time": "2022-04-15T13:46:24.392131Z",
     "start_time": "2022-04-15T13:46:24.385184Z"
    }
   },
   "outputs": [
    {
     "data": {
      "text/plain": [
       "True     718164\n",
       "False    108731\n",
       "Name: verified, dtype: int64"
      ]
     },
     "execution_count": 22,
     "metadata": {},
     "output_type": "execute_result"
    }
   ],
   "source": [
    "train_df.verified.value_counts()"
   ]
  },
  {
   "cell_type": "markdown",
   "id": "6f31196e",
   "metadata": {},
   "source": [
    "Имеет два значения:\n",
    "\n",
    "    True - отзыв подтвержден\n",
    "    False - отзыв не подтвержден"
   ]
  },
  {
   "cell_type": "code",
   "execution_count": 23,
   "id": "ef790233",
   "metadata": {
    "ExecuteTime": {
     "end_time": "2022-04-15T13:46:24.648665Z",
     "start_time": "2022-04-15T13:46:24.393569Z"
    }
   },
   "outputs": [
    {
     "data": {
      "image/png": "[encoded data removed]",
      "text/plain": [
       "<Figure size 1080x288 with 2 Axes>"
      ]
     },
     "metadata": {
      "needs_background": "light"
     },
     "output_type": "display_data"
    }
   ],
   "source": [
    "plt.figure(figsize=(15, 4))\n",
    "plt.subplot(1,2,1)\n",
    "plt.title('Верификация отзывов\\n на тренировочной выборке')\n",
    "sns.countplot(x=train_df.verified)\n",
    "plt.subplot(1,2,2)\n",
    "plt.title('Верификация отзывов\\n на тестовой выборке')\n",
    "sns.countplot(x=test_df.verified)\n",
    "\n",
    "plt.show()"
   ]
  },
  {
   "cell_type": "code",
   "execution_count": 24,
   "id": "fbfc3635",
   "metadata": {
    "ExecuteTime": {
     "end_time": "2022-04-15T13:46:24.702667Z",
     "start_time": "2022-04-15T13:46:24.650084Z"
    }
   },
   "outputs": [
    {
     "data": {
      "text/plain": [
       "rating  verified\n",
       "0.0     True        0.810956\n",
       "        False       0.189044\n",
       "1.0     True        0.878783\n",
       "        False       0.121217\n",
       "Name: verified, dtype: float64"
      ]
     },
     "execution_count": 24,
     "metadata": {},
     "output_type": "execute_result"
    }
   ],
   "source": [
    "train_df.groupby('rating')['verified'].value_counts(normalize=True)"
   ]
  },
  {
   "cell_type": "markdown",
   "id": "668e2e13",
   "metadata": {},
   "source": [
    "Соотношение подтвержденных и неподтвержденных отзывов в тренировочной и тестовой выборках одинаковое. \n",
    "\n",
    "В тренировочной выборке наблюдается незначительный перекос подтвержденных и неподтвержденныз отзывов в разрезе рейтинга. В 0.0 значении рейтинга на 6.8% больше неподтверженных отзывов по сравнению с рейтингом 1.\n",
    "\n",
    "Можно предположить, что рейтинги специально не накручивались за счет неподтвержденных отзывов."
   ]
  },
  {
   "cell_type": "code",
   "execution_count": 25,
   "id": "60faf671",
   "metadata": {
    "ExecuteTime": {
     "end_time": "2022-04-15T13:46:25.009601Z",
     "start_time": "2022-04-15T13:46:24.703987Z"
    }
   },
   "outputs": [],
   "source": [
    "# Заменим Thue и False на 1 и 0\n",
    "train_df['verified'] = train_df['verified'].apply(int)\n",
    "test_df['verified'] = test_df['verified'].apply(int)"
   ]
  },
  {
   "cell_type": "markdown",
   "id": "355e2eb1",
   "metadata": {},
   "source": [
    "**reviewTime** и **unixReviewTime**"
   ]
  },
  {
   "cell_type": "markdown",
   "id": "c3b8faaa",
   "metadata": {},
   "source": [
    "Колонки с датами отзывов в которых даты записаны в разных форматах.\n",
    "\n",
    "На основе их создадим колонку dateReview формата datatime, а reviewTime и unixReviewTime удалим."
   ]
  },
  {
   "cell_type": "code",
   "execution_count": 26,
   "id": "cd729aa2",
   "metadata": {
    "ExecuteTime": {
     "end_time": "2022-04-15T13:47:34.523579Z",
     "start_time": "2022-04-15T13:46:25.010986Z"
    }
   },
   "outputs": [],
   "source": [
    "train_df['dateReview'] = pd.to_datetime(train_df.reviewTime)\n",
    "test_df['dateReview'] = pd.to_datetime(test_df.reviewTime)"
   ]
  },
  {
   "cell_type": "code",
   "execution_count": 27,
   "id": "17fcdc86",
   "metadata": {
    "ExecuteTime": {
     "end_time": "2022-04-15T13:47:34.719438Z",
     "start_time": "2022-04-15T13:47:34.525291Z"
    }
   },
   "outputs": [],
   "source": [
    "train_df = train_df.drop(['reviewTime', 'unixReviewTime'], axis=1)\n",
    "test_df = test_df.drop(['reviewTime', 'unixReviewTime'], axis=1)"
   ]
  },
  {
   "cell_type": "markdown",
   "id": "6ab15897",
   "metadata": {},
   "source": [
    "За какой период размещены отзывы:"
   ]
  },
  {
   "cell_type": "code",
   "execution_count": 28,
   "id": "f821332d",
   "metadata": {
    "ExecuteTime": {
     "end_time": "2022-04-15T13:47:34.738384Z",
     "start_time": "2022-04-15T13:47:34.725714Z"
    }
   },
   "outputs": [
    {
     "name": "stdout",
     "output_type": "stream",
     "text": [
      "На тренировочной выборке: 2000 - 2018\n",
      "На тестовой выборке: 2002 - 2018\n"
     ]
    }
   ],
   "source": [
    "print(f'На тренировочной выборке: {train_df.dateReview.min().year} - {train_df.dateReview.max().year}')\n",
    "print(f'На тестовой выборке: {test_df.dateReview.min().year} - {test_df.dateReview.max().year}')"
   ]
  },
  {
   "cell_type": "markdown",
   "id": "7e1adbe4",
   "metadata": {},
   "source": [
    "Аж целых 18 и 16 лет. Посмотрим по гистограмме распределение отзывов по годам размещения."
   ]
  },
  {
   "cell_type": "code",
   "execution_count": 29,
   "id": "0d06f8ae",
   "metadata": {
    "ExecuteTime": {
     "end_time": "2022-04-15T13:47:36.676493Z",
     "start_time": "2022-04-15T13:47:34.740384Z"
    }
   },
   "outputs": [
    {
     "data": {
      "image/png": "[encoded data removed]",
      "text/plain": [
       "<Figure size 1080x288 with 2 Axes>"
      ]
     },
     "metadata": {
      "needs_background": "light"
     },
     "output_type": "display_data"
    }
   ],
   "source": [
    "plt.figure(figsize=(15, 4))\n",
    "plt.subplot(1,2,1)\n",
    "plt.title('Распределение отзывов по годам\\n на тренировочной выборке')\n",
    "sns.countplot(x=train_df['dateReview'].apply(lambda d: d.year), color=color)\n",
    "plt.xticks(rotation=45)\n",
    "plt.subplot(1,2,2)\n",
    "plt.title('Распределение отзывов по годам\\n на тестовой выборке')\n",
    "sns.countplot(x=test_df['dateReview'].apply(lambda d: d.year), color=color)\n",
    "plt.xticks(rotation=45)\n",
    "\n",
    "plt.show()"
   ]
  },
  {
   "cell_type": "markdown",
   "id": "b1c1397c",
   "metadata": {},
   "source": [
    "В основном отзывы более-менее свежие.\n",
    "\n",
    "Сформируем признак - давность написания отзыва"
   ]
  },
  {
   "cell_type": "code",
   "execution_count": 30,
   "id": "3b2b1e12",
   "metadata": {
    "ExecuteTime": {
     "end_time": "2022-04-15T13:47:36.704595Z",
     "start_time": "2022-04-15T13:47:36.677714Z"
    }
   },
   "outputs": [],
   "source": [
    "train_df['dataAge'] = (train_df.dateReview.max() - train_df.dateReview).dt.days\n",
    "test_df['dataAge'] = (test_df.dateReview.max() - test_df.dateReview).dt.days"
   ]
  },
  {
   "cell_type": "code",
   "execution_count": 31,
   "id": "40289023",
   "metadata": {
    "ExecuteTime": {
     "end_time": "2022-04-15T13:47:37.112054Z",
     "start_time": "2022-04-15T13:47:36.705840Z"
    }
   },
   "outputs": [
    {
     "data": {
      "image/png": "[encoded data removed]",
      "text/plain": [
       "<Figure size 1080x288 with 2 Axes>"
      ]
     },
     "metadata": {
      "needs_background": "light"
     },
     "output_type": "display_data"
    }
   ],
   "source": [
    "plt.figure(figsize=(15, 4))\n",
    "plt.subplot(1,2,1)\n",
    "plt.title('Давность написания отзыва (в днях)\\n на тренировочной выборке')\n",
    "sns.histplot(x=train_df['dataAge'], bins=18)\n",
    "plt.subplot(1,2,2)\n",
    "plt.title('Давность написания отзыва (в днях)\\n на тестовой выборке')\n",
    "sns.histplot(x=test_df['dataAge'], bins=16)\n",
    "\n",
    "plt.show()"
   ]
  },
  {
   "cell_type": "markdown",
   "id": "9c3b262a",
   "metadata": {},
   "source": [
    "В основном интересны свежие отзывы. Можно отрубить хвост у распределения и привести его к нормальному. "
   ]
  },
  {
   "cell_type": "code",
   "execution_count": 32,
   "id": "6e3488bf",
   "metadata": {
    "ExecuteTime": {
     "end_time": "2022-04-15T13:47:37.376342Z",
     "start_time": "2022-04-15T13:47:37.113320Z"
    }
   },
   "outputs": [],
   "source": [
    "train_df['dataAge'] = train_df['dataAge'].apply(lambda x: x if x<2000 else 1500+x%500)\n",
    "test_df['dataAge'] = test_df['dataAge'].apply(lambda x: x if x<2000 else 1500+x%500)"
   ]
  },
  {
   "cell_type": "code",
   "execution_count": 33,
   "id": "055c2cfb",
   "metadata": {
    "ExecuteTime": {
     "end_time": "2022-04-15T13:47:37.619082Z",
     "start_time": "2022-04-15T13:47:37.377507Z"
    }
   },
   "outputs": [
    {
     "data": {
      "image/png": "[encoded data removed]",
      "text/plain": [
       "<Figure size 1080x288 with 2 Axes>"
      ]
     },
     "metadata": {
      "needs_background": "light"
     },
     "output_type": "display_data"
    }
   ],
   "source": [
    "plt.figure(figsize=(15, 4))\n",
    "plt.subplot(1,2,1)\n",
    "plt.title('Давность написания отзыва (в днях)\\n на тренировочной выборке')\n",
    "sns.histplot(x=train_df['dataAge'], bins=18)\n",
    "plt.subplot(1,2,2)\n",
    "plt.title('Давность написания отзыва (в днях)\\n на тестовой выборке')\n",
    "sns.histplot(x=test_df['dataAge'], bins=16)\n",
    "\n",
    "plt.show()"
   ]
  },
  {
   "cell_type": "code",
   "execution_count": 34,
   "id": "fce031ee",
   "metadata": {
    "ExecuteTime": {
     "end_time": "2022-04-15T13:47:39.174841Z",
     "start_time": "2022-04-15T13:47:37.620649Z"
    }
   },
   "outputs": [],
   "source": [
    "train_df['dateReview_week'] = train_df['dateReview'].apply(lambda d: d.day_of_week)\n",
    "test_df['dateReview_week'] = test_df['dateReview'].apply(lambda d: d.day_of_week)"
   ]
  },
  {
   "cell_type": "code",
   "execution_count": 35,
   "id": "c316412e",
   "metadata": {
    "ExecuteTime": {
     "end_time": "2022-04-15T13:47:39.368918Z",
     "start_time": "2022-04-15T13:47:39.175981Z"
    }
   },
   "outputs": [
    {
     "data": {
      "image/png": "[encoded data removed]",
      "text/plain": [
       "<Figure size 1080x288 with 2 Axes>"
      ]
     },
     "metadata": {
      "needs_background": "light"
     },
     "output_type": "display_data"
    }
   ],
   "source": [
    "plt.figure(figsize=(15, 4))\n",
    "plt.subplot(1,2,1)\n",
    "plt.title('День недели написания отзыва (вск - суб)\\n на тренировочной выборке')\n",
    "sns.countplot(x=train_df['dateReview_week'], color=color)\n",
    "plt.subplot(1,2,2)\n",
    "plt.title('День недели написания отзыва (вск - суб)\\n на тестовой выборке')\n",
    "sns.countplot(x=test_df['dateReview_week'], color=color)\n",
    "\n",
    "plt.show()"
   ]
  },
  {
   "cell_type": "code",
   "execution_count": 36,
   "id": "1eec3928",
   "metadata": {
    "ExecuteTime": {
     "end_time": "2022-04-15T13:47:40.597211Z",
     "start_time": "2022-04-15T13:47:39.370296Z"
    }
   },
   "outputs": [],
   "source": [
    "train_df['dateReview_month'] = train_df['dateReview'].apply(lambda d: d.month)\n",
    "test_df['dateReview_month'] = test_df['dateReview'].apply(lambda d: d.month)"
   ]
  },
  {
   "cell_type": "code",
   "execution_count": 37,
   "id": "d2b002b1",
   "metadata": {
    "ExecuteTime": {
     "end_time": "2022-04-15T13:47:40.835943Z",
     "start_time": "2022-04-15T13:47:40.598325Z"
    }
   },
   "outputs": [
    {
     "data": {
      "image/png": "[encoded data removed]",
      "text/plain": [
       "<Figure size 1080x288 with 2 Axes>"
      ]
     },
     "metadata": {
      "needs_background": "light"
     },
     "output_type": "display_data"
    }
   ],
   "source": [
    "plt.figure(figsize=(15, 4))\n",
    "plt.subplot(1,2,1)\n",
    "plt.title('День недели написания отзыва (вск - суб)\\n на тренировочной выборке')\n",
    "sns.countplot(x=train_df['dateReview_month'], color=color)\n",
    "plt.subplot(1,2,2)\n",
    "plt.title('День недели написания отзыва (вск - суб)\\n на тестовой выборке')\n",
    "sns.countplot(x=test_df['dateReview_month'], color=color)\n",
    "\n",
    "plt.show()"
   ]
  },
  {
   "cell_type": "markdown",
   "id": "de2f1c04",
   "metadata": {},
   "source": [
    "Обычно отзывы пишут сразу после покупки или начала использования. На графиках мы видим, что больше всего написано в январе и марте, чуть меньше декабрь и февраль. Похоже на связь с праздниками."
   ]
  },
  {
   "cell_type": "markdown",
   "id": "76dd8ed2",
   "metadata": {},
   "source": [
    "**reviewerName**"
   ]
  },
  {
   "cell_type": "code",
   "execution_count": 38,
   "id": "b57720ad",
   "metadata": {
    "ExecuteTime": {
     "end_time": "2022-04-15T13:47:40.916100Z",
     "start_time": "2022-04-15T13:47:40.837173Z"
    }
   },
   "outputs": [
    {
     "data": {
      "text/plain": [
       "Amazon Customer    30612\n",
       "Kindle Customer     6012\n",
       "Linda                713\n",
       "John                 695\n",
       "David                597\n",
       "Mary                 551\n",
       "Mike                 550\n",
       "Name: reviewerName, dtype: int64"
      ]
     },
     "execution_count": 38,
     "metadata": {},
     "output_type": "execute_result"
    }
   ],
   "source": [
    "train_df.reviewerName.value_counts()[:7]"
   ]
  },
  {
   "cell_type": "code",
   "execution_count": 39,
   "id": "64940fc2",
   "metadata": {
    "ExecuteTime": {
     "end_time": "2022-04-15T13:47:41.051977Z",
     "start_time": "2022-04-15T13:47:40.917159Z"
    }
   },
   "outputs": [
    {
     "data": {
      "text/plain": [
       "Amazon Customer    10642\n",
       "Kindle Customer     2060\n",
       "Linda                254\n",
       "John                 225\n",
       "Michael              195\n",
       "Karen                190\n",
       "David                189\n",
       "Name: reviewerName, dtype: int64"
      ]
     },
     "execution_count": 39,
     "metadata": {},
     "output_type": "execute_result"
    }
   ],
   "source": [
    "test_df.reviewerName.value_counts()[:7]"
   ]
  },
  {
   "cell_type": "markdown",
   "id": "86abcd7e",
   "metadata": {},
   "source": [
    "В обоих выборках большинство имен это Amazon Customer (Клиент Амазона) и Kindle Customer (Клиент Kindle). Можно предположить, что эти отзывы отправленны с их сервисов (если клиент не указал свое имя)."
   ]
  },
  {
   "cell_type": "code",
   "execution_count": 40,
   "id": "35687666",
   "metadata": {
    "ExecuteTime": {
     "end_time": "2022-04-15T13:47:41.210674Z",
     "start_time": "2022-04-15T13:47:41.053176Z"
    }
   },
   "outputs": [
    {
     "name": "stdout",
     "output_type": "stream",
     "text": [
      "Количество пропусков в тренировочной выборке - 164\n",
      "Количество пропусков в тестовой выборке - 47\n"
     ]
    }
   ],
   "source": [
    "print(f'Количество пропусков в тренировочной выборке - {train_df.reviewerName.isna().sum()}')\n",
    "print(f'Количество пропусков в тестовой выборке - {test_df.reviewerName.isna().sum()}')"
   ]
  },
  {
   "cell_type": "markdown",
   "id": "a4fc2ef8",
   "metadata": {},
   "source": [
    "Пропусков немного. Можно заполнить их знаением 'Amazon Customer'. Посмотрим далее."
   ]
  },
  {
   "cell_type": "markdown",
   "id": "943e8603",
   "metadata": {},
   "source": [
    "**vote**"
   ]
  },
  {
   "cell_type": "markdown",
   "id": "2e029003",
   "metadata": {},
   "source": [
    "Количество голосов за отзыв. Посмотрим на пропуски и значения."
   ]
  },
  {
   "cell_type": "code",
   "execution_count": 41,
   "id": "56657cd9",
   "metadata": {
    "ExecuteTime": {
     "end_time": "2022-04-15T13:47:41.370044Z",
     "start_time": "2022-04-15T13:47:41.211901Z"
    }
   },
   "outputs": [
    {
     "name": "stdout",
     "output_type": "stream",
     "text": [
      "На тренировочной выборке:\n",
      "Пропусков в vote: 712944 - 86.2 %\n",
      "На тестовой выборке:\n",
      "Пропусков в vote: 246503 - 86.2 %\n"
     ]
    }
   ],
   "source": [
    "print('На тренировочной выборке:')\n",
    "count_nan(\"vote\", train_df)\n",
    "print('На тестовой выборке:')\n",
    "count_nan(\"vote\", test_df)"
   ]
  },
  {
   "cell_type": "markdown",
   "id": "32852b21",
   "metadata": {},
   "source": [
    "В данной колонке очень большой процент пропусков - 86%. Клиенты не часто оценивают отзывы оставленные другими пользователями, обычно просто его читают. \n",
    "\n",
    "В основном, где значение заполненно, количество голосов за отзыв составляет от 2 до 6. Далее значения сильно падают. Есть ли смысл в этом признаке - пока неизвестно. \n",
    "\n",
    "Пропуски можно заполнить 0."
   ]
  },
  {
   "cell_type": "code",
   "execution_count": 42,
   "id": "7824836d",
   "metadata": {
    "ExecuteTime": {
     "end_time": "2022-04-15T13:47:41.486946Z",
     "start_time": "2022-04-15T13:47:41.371235Z"
    }
   },
   "outputs": [
    {
     "data": {
      "text/plain": [
       "2    42820\n",
       "3    21447\n",
       "4    12337\n",
       "5     7932\n",
       "6     5480\n",
       "7     3833\n",
       "8     2961\n",
       "9     2291\n",
       "Name: vote, dtype: int64"
      ]
     },
     "execution_count": 42,
     "metadata": {},
     "output_type": "execute_result"
    }
   ],
   "source": [
    "train_df.vote.value_counts()[:8]"
   ]
  },
  {
   "cell_type": "code",
   "execution_count": 43,
   "id": "94d82628",
   "metadata": {
    "ExecuteTime": {
     "end_time": "2022-04-15T13:47:41.728280Z",
     "start_time": "2022-04-15T13:47:41.489057Z"
    }
   },
   "outputs": [],
   "source": [
    "train_df['vote'] = train_df['vote'].fillna(0)\n",
    "test_df['vote'] = test_df['vote'].fillna(0)"
   ]
  },
  {
   "cell_type": "code",
   "execution_count": 44,
   "id": "7a780b92",
   "metadata": {
    "ExecuteTime": {
     "end_time": "2022-04-15T13:47:42.171265Z",
     "start_time": "2022-04-15T13:47:41.729483Z"
    }
   },
   "outputs": [],
   "source": [
    "# Преобразуем все значения в числа, так как встречаются ','\n",
    "train_df['vote'] = train_df['vote'].apply(lambda i: int(str(i).replace(',', '')))\n",
    "test_df['vote'] = test_df['vote'].apply(lambda i: int(str(i).replace(',', '')))"
   ]
  },
  {
   "cell_type": "code",
   "execution_count": 45,
   "id": "5c3858ec",
   "metadata": {
    "ExecuteTime": {
     "end_time": "2022-04-15T13:47:42.506677Z",
     "start_time": "2022-04-15T13:47:42.172406Z"
    }
   },
   "outputs": [
    {
     "data": {
      "image/png": "[encoded data removed]",
      "text/plain": [
       "<Figure size 1080x288 with 2 Axes>"
      ]
     },
     "metadata": {
      "needs_background": "light"
     },
     "output_type": "display_data"
    }
   ],
   "source": [
    "plt.figure(figsize=(15, 4))\n",
    "plt.subplot(1,2,1)\n",
    "plt.title('Количество голосов за отзыв\\n на тренировочной выборке')\n",
    "sns.boxplot(x=train_df['vote'])\n",
    "plt.subplot(1,2,2)\n",
    "plt.title('Количество голосов за отзыв\\n на тестовой выборке')\n",
    "sns.boxplot(x=test_df['vote'])\n",
    "\n",
    "plt.show()"
   ]
  },
  {
   "cell_type": "code",
   "execution_count": 46,
   "id": "b7550c9d",
   "metadata": {
    "ExecuteTime": {
     "end_time": "2022-04-15T13:47:42.516676Z",
     "start_time": "2022-04-15T13:47:42.507804Z"
    }
   },
   "outputs": [
    {
     "data": {
      "text/plain": [
       "2.0"
      ]
     },
     "execution_count": 46,
     "metadata": {},
     "output_type": "execute_result"
    }
   ],
   "source": [
    "train_df['vote'].quantile(0.90)"
   ]
  },
  {
   "cell_type": "markdown",
   "id": "fd970d2f",
   "metadata": {},
   "source": [
    "Данные очень смещены. На 90 квантиле у нас значение 2. Все, что выше 8 - приравняем к 8."
   ]
  },
  {
   "cell_type": "code",
   "execution_count": 47,
   "id": "4244fdab",
   "metadata": {
    "ExecuteTime": {
     "end_time": "2022-04-15T13:47:42.854325Z",
     "start_time": "2022-04-15T13:47:42.517840Z"
    }
   },
   "outputs": [],
   "source": [
    "train_df['vote'] = train_df['vote'].apply(lambda i: i if i<8 else 8)\n",
    "test_df['vote'] = test_df['vote'].apply(lambda i: i if i<8 else 8)"
   ]
  },
  {
   "cell_type": "code",
   "execution_count": 48,
   "id": "5e7a682d",
   "metadata": {
    "ExecuteTime": {
     "end_time": "2022-04-15T13:47:43.219271Z",
     "start_time": "2022-04-15T13:47:42.855463Z"
    }
   },
   "outputs": [
    {
     "data": {
      "image/png": "[encoded data removed]",
      "text/plain": [
       "<Figure size 1080x288 with 2 Axes>"
      ]
     },
     "metadata": {
      "needs_background": "light"
     },
     "output_type": "display_data"
    }
   ],
   "source": [
    "plt.figure(figsize=(15, 4))\n",
    "plt.subplot(1,2,1)\n",
    "plt.title('Количество голосов за отзыв\\n на тренировочной выборке')\n",
    "sns.boxplot(x=train_df['vote'])\n",
    "plt.subplot(1,2,2)\n",
    "plt.title('Количество голосов за отзыв\\n на тестовой выборке')\n",
    "sns.boxplot(x=test_df['vote'])\n",
    "\n",
    "plt.show()"
   ]
  },
  {
   "cell_type": "code",
   "execution_count": 49,
   "id": "7c52f056",
   "metadata": {
    "ExecuteTime": {
     "end_time": "2022-04-15T13:47:43.489968Z",
     "start_time": "2022-04-15T13:47:43.220422Z"
    }
   },
   "outputs": [
    {
     "data": {
      "image/png": "[encoded data removed]",
      "text/plain": [
       "<Figure size 1080x288 with 2 Axes>"
      ]
     },
     "metadata": {
      "needs_background": "light"
     },
     "output_type": "display_data"
    }
   ],
   "source": [
    "plt.figure(figsize=(15, 4))\n",
    "plt.subplot(1,2,1)\n",
    "plt.title('Количество голосов за отзыв\\n на тренировочной выборке')\n",
    "sns.histplot(x=train_df['vote'])\n",
    "plt.subplot(1,2,2)\n",
    "plt.title('Количество голосов за отзыв\\n на тестовой выборке')\n",
    "sns.histplot(x=test_df['vote'])\n",
    "\n",
    "plt.show()"
   ]
  },
  {
   "cell_type": "markdown",
   "id": "46545d61",
   "metadata": {},
   "source": [
    "**style**"
   ]
  },
  {
   "cell_type": "code",
   "execution_count": 50,
   "id": "3e7a08fc",
   "metadata": {
    "ExecuteTime": {
     "end_time": "2022-04-15T13:47:43.596681Z",
     "start_time": "2022-04-15T13:47:43.490999Z"
    }
   },
   "outputs": [
    {
     "data": {
      "text/plain": [
       "73948     {'Size:': ' 12 Bars', 'Flavor:': ' Dark Chocol...\n",
       "209986    {'Size:': ' 70 Count', 'Flavor:': ' Coffee Onl...\n",
       "631880    {'Size:': ' 20-Ounce Boxes (Pack of 4)', 'Flav...\n",
       "8975                  {'Flavor:': \" Maria's Coco Especial\"}\n",
       "815914             {'Package Type:': ' Standard Packaging'}\n",
       "Name: style, dtype: object"
      ]
     },
     "execution_count": 50,
     "metadata": {},
     "output_type": "execute_result"
    }
   ],
   "source": [
    "train_df[train_df['style'].isna() != True]['style'].sample(5)"
   ]
  },
  {
   "cell_type": "markdown",
   "id": "11574bba",
   "metadata": {},
   "source": [
    "В колонке 'style' указан словарь с разными параметрами товаров, такие как размер, вкус/аромат, цвет и т.д."
   ]
  },
  {
   "cell_type": "code",
   "execution_count": 51,
   "id": "dbd0177c",
   "metadata": {
    "ExecuteTime": {
     "end_time": "2022-04-15T13:47:43.682875Z",
     "start_time": "2022-04-15T13:47:43.598276Z"
    }
   },
   "outputs": [
    {
     "name": "stdout",
     "output_type": "stream",
     "text": [
      "На тренировочной выборке:\n",
      "Пропусков в style: 398698 - 48.2 %\n",
      "На тестовой выборке:\n",
      "Пропусков в style: 138285 - 48.4 %\n"
     ]
    }
   ],
   "source": [
    "print('На тренировочной выборке:')\n",
    "count_nan('style', train_df)\n",
    "print('На тестовой выборке:')\n",
    "count_nan('style', test_df)"
   ]
  },
  {
   "cell_type": "markdown",
   "id": "808c2bf2",
   "metadata": {},
   "source": [
    "Значения ключей: 'Size', 'Flavor', 'Package Quantity' 'Package Type', 'Format'"
   ]
  },
  {
   "cell_type": "markdown",
   "id": "6d950edd",
   "metadata": {},
   "source": [
    "Достанем значения 'Size' - размер, объем, количество данного товара.  "
   ]
  },
  {
   "cell_type": "code",
   "execution_count": 52,
   "id": "babad7c9",
   "metadata": {
    "ExecuteTime": {
     "end_time": "2022-04-15T13:47:44.040900Z",
     "start_time": "2022-04-15T13:47:43.683913Z"
    }
   },
   "outputs": [],
   "source": [
    "def dict_col(d, key):\n",
    "    try:\n",
    "        if isinstance(d, str):\n",
    "            d = d.split(',')\n",
    "            for el in d:\n",
    "                if key in el:\n",
    "                    return el\n",
    "    except:\n",
    "        print('Ошибка -', d)\n",
    "        return d\n",
    "    return \n",
    "\n",
    "\n",
    "train_df['style_size'] = train_df['style'].apply(lambda d: dict_col(d, 'Size:'))\n",
    "test_df['style_size'] = test_df['style'].apply(lambda d: dict_col(d, 'Size:'))"
   ]
  },
  {
   "cell_type": "code",
   "execution_count": 53,
   "id": "4b237340",
   "metadata": {
    "ExecuteTime": {
     "end_time": "2022-04-15T13:47:44.410680Z",
     "start_time": "2022-04-15T13:47:44.041961Z"
    }
   },
   "outputs": [],
   "source": [
    "train_df['style_size'] = train_df['style_size'].apply(lambda s: str(s).replace(\"{'Size:': ' \", '' ).replace(\"'}\", '' ).strip(\" '\"))\n",
    "test_df['style_size'] = test_df['style_size'].apply(lambda s: str(s).replace(\"{'Size:': ' \", '' ).replace(\"'}\", '' ).strip(\" '\"))"
   ]
  },
  {
   "cell_type": "code",
   "execution_count": 54,
   "id": "e06bd42a",
   "metadata": {
    "ExecuteTime": {
     "end_time": "2022-04-15T13:47:44.472572Z",
     "start_time": "2022-04-15T13:47:44.411854Z"
    }
   },
   "outputs": [
    {
     "data": {
      "text/plain": [
       "None                    501280\n",
       "24 Count                  9331\n",
       "Pack of 1                 6233\n",
       "1 Pack                    4967\n",
       "12 Bars                   4906\n",
       "Pack of 12                4570\n",
       "16 Ounce                  4435\n",
       "Pack of 6                 3871\n",
       "12 Count                  3482\n",
       "20 Count (Pack of 6)      3081\n",
       "Name: style_size, dtype: int64"
      ]
     },
     "execution_count": 54,
     "metadata": {},
     "output_type": "execute_result"
    }
   ],
   "source": [
    "train_df['style_size'].value_counts()[:10]"
   ]
  },
  {
   "cell_type": "markdown",
   "id": "bdaca3f6",
   "metadata": {},
   "source": [
    "Есть однотипные значений по разному написанные. Можно достать просто цифры."
   ]
  },
  {
   "cell_type": "code",
   "execution_count": 55,
   "id": "c2aaa9f9",
   "metadata": {
    "ExecuteTime": {
     "end_time": "2022-04-15T13:47:46.256670Z",
     "start_time": "2022-04-15T13:47:44.473949Z"
    }
   },
   "outputs": [],
   "source": [
    "train_df['style_size_num'] = train_df['style_size'].astype(str).apply(lambda x: re.findall(\"\\d+\", x))\n",
    "test_df['style_size_num'] = test_df['style_size'].astype(str).apply(lambda x: re.findall(\"\\d+\", x))"
   ]
  },
  {
   "cell_type": "code",
   "execution_count": 56,
   "id": "3a630d2d",
   "metadata": {
    "ExecuteTime": {
     "end_time": "2022-04-15T13:47:46.587746Z",
     "start_time": "2022-04-15T13:47:46.257922Z"
    }
   },
   "outputs": [
    {
     "data": {
      "text/plain": [
       "1      557841\n",
       "2       28188\n",
       "12      26296\n",
       "24      19654\n",
       "16      18025\n",
       "        ...  \n",
       "102         1\n",
       "129         1\n",
       "151         1\n",
       "97          1\n",
       "69          1\n",
       "Name: style_size_num, Length: 191, dtype: int64"
      ]
     },
     "execution_count": 56,
     "metadata": {},
     "output_type": "execute_result"
    }
   ],
   "source": [
    "train_df['style_size_num'] = train_df['style_size_num'].apply(lambda x: int(x[0]) if len(x)>0 else 1)\n",
    "test_df['style_size_num'] = test_df['style_size_num'].apply(lambda x: int(x[0]) if len(x)>0 else 1)\n",
    "train_df['style_size_num'].value_counts()"
   ]
  },
  {
   "cell_type": "markdown",
   "id": "3dc4e99a",
   "metadata": {},
   "source": [
    "Обычно товар представлен как 1,2, 12, 24, т.е. штуками и упаковками. Но так же встречаается в весовых показателях. Заменим их на 1. И 0 тоже заменим на 1."
   ]
  },
  {
   "cell_type": "code",
   "execution_count": 57,
   "id": "a97a14d2",
   "metadata": {
    "ExecuteTime": {
     "end_time": "2022-04-15T13:47:46.827182Z",
     "start_time": "2022-04-15T13:47:46.589037Z"
    }
   },
   "outputs": [],
   "source": [
    "train_df['style_size_num'] = train_df['style_size_num'].apply(lambda x: 1 if x>24 or x == 0 else x)\n",
    "test_df['style_size_num'] = test_df['style_size_num'].apply(lambda x: 1 if x>24 or x == 0 else x)"
   ]
  },
  {
   "cell_type": "markdown",
   "id": "0ec06095",
   "metadata": {},
   "source": [
    "**userid** и **itemid**"
   ]
  },
  {
   "cell_type": "code",
   "execution_count": 58,
   "id": "01cb9498",
   "metadata": {
    "ExecuteTime": {
     "end_time": "2022-04-15T13:47:46.847333Z",
     "start_time": "2022-04-15T13:47:46.828234Z"
    }
   },
   "outputs": [
    {
     "data": {
      "text/plain": [
       "842       418\n",
       "17987     311\n",
       "355       294\n",
       "2024      288\n",
       "2809      263\n",
       "         ... \n",
       "29880       1\n",
       "77384       1\n",
       "103777      1\n",
       "81564       1\n",
       "100045      1\n",
       "Name: userid, Length: 127448, dtype: int64"
      ]
     },
     "execution_count": 58,
     "metadata": {},
     "output_type": "execute_result"
    }
   ],
   "source": [
    "train_df.userid.value_counts()"
   ]
  },
  {
   "cell_type": "code",
   "execution_count": 59,
   "id": "fee80f37",
   "metadata": {
    "ExecuteTime": {
     "end_time": "2022-04-15T13:47:46.956812Z",
     "start_time": "2022-04-15T13:47:46.848563Z"
    }
   },
   "outputs": [
    {
     "data": {
      "text/plain": [
       "22208    5430\n",
       "23540    4733\n",
       "24556    4611\n",
       "32046    2449\n",
       "1919     2166\n",
       "         ... \n",
       "21977       1\n",
       "38542       1\n",
       "39156       1\n",
       "15582       1\n",
       "36432       1\n",
       "Name: itemid, Length: 41302, dtype: int64"
      ]
     },
     "execution_count": 59,
     "metadata": {},
     "output_type": "execute_result"
    }
   ],
   "source": [
    "train_df.itemid.value_counts()"
   ]
  },
  {
   "cell_type": "markdown",
   "id": "5180c925",
   "metadata": {},
   "source": [
    "Есть пользователи которые регулярно оставляют отзывы о товаре и оценивают его, а есть которые разово. Так как дубли удалены в самом начале, то это отзывы пользователя о разном товаре, и об одном товаре отзывы разных пользователей.\n",
    "\n",
    "Можно сделать признак количество отзыва от данного покупатели и количество отзывов по данному товару. Так как скорее всего тренировочная и тестовая выборка это рандомное распределение общей базы, то тут думаю, что необходимо объединить эти базы и по ней сформировать словарь, в котором будет подсчитано количество."
   ]
  },
  {
   "cell_type": "code",
   "execution_count": 60,
   "id": "fb29a395",
   "metadata": {
    "ExecuteTime": {
     "end_time": "2022-04-15T13:47:47.597503Z",
     "start_time": "2022-04-15T13:47:46.960436Z"
    }
   },
   "outputs": [
    {
     "name": "stdout",
     "output_type": "stream",
     "text": [
      "Количество дубликатов строк: 47436\n"
     ]
    }
   ],
   "source": [
    "df_tr = train_df[['userid', 'itemid', 'asin']]\n",
    "df_ts = test_df[['userid', 'itemid', 'asin']]\n",
    "df = pd.concat([df_tr, df_ts])\n",
    "print(f'Количество дубликатов строк: {df.duplicated().sum()}')\n",
    "df = df.drop_duplicates()"
   ]
  },
  {
   "cell_type": "code",
   "execution_count": 61,
   "id": "9bfb4da0",
   "metadata": {
    "ExecuteTime": {
     "end_time": "2022-04-15T13:47:47.681424Z",
     "start_time": "2022-04-15T13:47:47.599037Z"
    }
   },
   "outputs": [],
   "source": [
    "userid_dict = df.userid.value_counts().to_dict()\n",
    "itemid_dict = df.itemid.value_counts().to_dict()"
   ]
  },
  {
   "cell_type": "code",
   "execution_count": 62,
   "id": "8c043e0b",
   "metadata": {
    "ExecuteTime": {
     "end_time": "2022-04-15T13:47:48.009465Z",
     "start_time": "2022-04-15T13:47:47.682493Z"
    }
   },
   "outputs": [],
   "source": [
    "# Активность пользователей по написанию отзывов\n",
    "train_df['user_reviewer_num'] = train_df['userid'].apply(lambda x: userid_dict[x])\n",
    "test_df['user_reviewer_num'] = test_df['userid'].apply(lambda x: userid_dict[x])"
   ]
  },
  {
   "cell_type": "code",
   "execution_count": 63,
   "id": "cfa56505",
   "metadata": {
    "ExecuteTime": {
     "end_time": "2022-04-15T13:47:48.295610Z",
     "start_time": "2022-04-15T13:47:48.010502Z"
    }
   },
   "outputs": [],
   "source": [
    "# Популярнось товара у активных пользователей\n",
    "train_df['item_reviewer_num'] = train_df['itemid'].apply(lambda x: itemid_dict[x])\n",
    "test_df['item_reviewer_num'] = test_df['itemid'].apply(lambda x: itemid_dict[x])"
   ]
  },
  {
   "cell_type": "code",
   "execution_count": 64,
   "id": "ba3a80fc",
   "metadata": {
    "ExecuteTime": {
     "end_time": "2022-04-15T13:47:48.304076Z",
     "start_time": "2022-04-15T13:47:48.296657Z"
    }
   },
   "outputs": [],
   "source": [
    "del df_tr\n",
    "del df_ts\n",
    "del df"
   ]
  },
  {
   "cell_type": "markdown",
   "id": "95ec5b34",
   "metadata": {},
   "source": [
    "### product_df"
   ]
  },
  {
   "cell_type": "markdown",
   "id": "54f2d497",
   "metadata": {},
   "source": [
    "**Удаление дубликатов**"
   ]
  },
  {
   "cell_type": "code",
   "execution_count": 65,
   "id": "7a3af746",
   "metadata": {
    "ExecuteTime": {
     "end_time": "2022-04-15T13:47:49.936363Z",
     "start_time": "2022-04-15T13:47:48.305441Z"
    }
   },
   "outputs": [
    {
     "name": "stdout",
     "output_type": "stream",
     "text": [
      "Количество дубликатов строк в выборке информации о товаре: 3697\n"
     ]
    }
   ],
   "source": [
    "print(f'Количество дубликатов строк в выборке информации о товаре: {product_df.duplicated().sum()}')"
   ]
  },
  {
   "cell_type": "code",
   "execution_count": 66,
   "id": "61da0c92",
   "metadata": {
    "ExecuteTime": {
     "end_time": "2022-04-15T13:47:50.482613Z",
     "start_time": "2022-04-15T13:47:49.937578Z"
    }
   },
   "outputs": [],
   "source": [
    "product_df = product_df.drop_duplicates()"
   ]
  },
  {
   "cell_type": "markdown",
   "id": "ca9eea90",
   "metadata": {},
   "source": [
    "**title**"
   ]
  },
  {
   "cell_type": "markdown",
   "id": "a66f1cf4",
   "metadata": {},
   "source": [
    "Название товара.\n",
    "\n",
    "В title всего 4 пропуска. Заполним их вручную, выбрав информацию из 'details'"
   ]
  },
  {
   "cell_type": "code",
   "execution_count": 67,
   "id": "e36a0d45",
   "metadata": {
    "ExecuteTime": {
     "end_time": "2022-04-15T13:47:50.500632Z",
     "start_time": "2022-04-15T13:47:50.483700Z"
    }
   },
   "outputs": [
    {
     "data": {
      "text/html": [
       "<div>\n",
       "<style scoped>\n",
       "    .dataframe tbody tr th:only-of-type {\n",
       "        vertical-align: middle;\n",
       "    }\n",
       "\n",
       "    .dataframe tbody tr th {\n",
       "        vertical-align: top;\n",
       "    }\n",
       "\n",
       "    .dataframe thead th {\n",
       "        text-align: right;\n",
       "    }\n",
       "</style>\n",
       "<table border=\"1\" class=\"dataframe\">\n",
       "  <thead>\n",
       "    <tr style=\"text-align: right;\">\n",
       "      <th></th>\n",
       "      <th>asin</th>\n",
       "      <th>category</th>\n",
       "      <th>title</th>\n",
       "      <th>main_cat</th>\n",
       "      <th>description</th>\n",
       "      <th>details</th>\n",
       "    </tr>\n",
       "  </thead>\n",
       "  <tbody>\n",
       "    <tr>\n",
       "      <th>30094</th>\n",
       "      <td>B00104HAOO</td>\n",
       "      <td>['Grocery &amp; Gourmet Food', 'Herbs, Spices &amp; Se...</td>\n",
       "      <td>NaN</td>\n",
       "      <td>Grocery</td>\n",
       "      <td>NaN</td>\n",
       "      <td>\\n      &lt;div class=\"content\"&gt;\\n\\n\\n\\n\\n\\n\\n&lt;ul...</td>\n",
       "    </tr>\n",
       "    <tr>\n",
       "      <th>51120</th>\n",
       "      <td>B001TO12N0</td>\n",
       "      <td>['Grocery &amp; Gourmet Food', 'Sauces, Gravies &amp; ...</td>\n",
       "      <td>NaN</td>\n",
       "      <td>NaN</td>\n",
       "      <td>['Sweet Chili Sauce']</td>\n",
       "      <td>\\n  &lt;div class=\"content\"&gt;\\n\\n\\n\\n\\n\\n\\n\\n&lt;ul&gt;\\...</td>\n",
       "    </tr>\n",
       "    <tr>\n",
       "      <th>211916</th>\n",
       "      <td>B00N2FVDGA</td>\n",
       "      <td>['Grocery &amp; Gourmet Food', 'Beverages', 'Coffe...</td>\n",
       "      <td>NaN</td>\n",
       "      <td>Grocery</td>\n",
       "      <td>['An elegantly balanced blend of light and dar...</td>\n",
       "      <td>\\n      &lt;div class=\"content\"&gt;\\n\\n\\n\\n\\n\\n\\n&lt;ul...</td>\n",
       "    </tr>\n",
       "    <tr>\n",
       "      <th>212457</th>\n",
       "      <td>B00N4QFR32</td>\n",
       "      <td>['Grocery &amp; Gourmet Food', 'Snack Foods', 'Pop...</td>\n",
       "      <td>NaN</td>\n",
       "      <td>Grocery</td>\n",
       "      <td>[\"The Pop Crazy 3 Piece Popcorn Party Pack com...</td>\n",
       "      <td>\\n      &lt;div class=\"content\"&gt;\\n\\n\\n\\n\\n\\n\\n&lt;ul...</td>\n",
       "    </tr>\n",
       "  </tbody>\n",
       "</table>\n",
       "</div>"
      ],
      "text/plain": [
       "              asin                                           category title  \\\n",
       "30094   B00104HAOO  ['Grocery & Gourmet Food', 'Herbs, Spices & Se...   NaN   \n",
       "51120   B001TO12N0  ['Grocery & Gourmet Food', 'Sauces, Gravies & ...   NaN   \n",
       "211916  B00N2FVDGA  ['Grocery & Gourmet Food', 'Beverages', 'Coffe...   NaN   \n",
       "212457  B00N4QFR32  ['Grocery & Gourmet Food', 'Snack Foods', 'Pop...   NaN   \n",
       "\n",
       "       main_cat                                        description  \\\n",
       "30094   Grocery                                                NaN   \n",
       "51120       NaN                              ['Sweet Chili Sauce']   \n",
       "211916  Grocery  ['An elegantly balanced blend of light and dar...   \n",
       "212457  Grocery  [\"The Pop Crazy 3 Piece Popcorn Party Pack com...   \n",
       "\n",
       "                                                  details  \n",
       "30094   \\n      <div class=\"content\">\\n\\n\\n\\n\\n\\n\\n<ul...  \n",
       "51120   \\n  <div class=\"content\">\\n\\n\\n\\n\\n\\n\\n\\n<ul>\\...  \n",
       "211916  \\n      <div class=\"content\">\\n\\n\\n\\n\\n\\n\\n<ul...  \n",
       "212457  \\n      <div class=\"content\">\\n\\n\\n\\n\\n\\n\\n<ul...  "
      ]
     },
     "execution_count": 67,
     "metadata": {},
     "output_type": "execute_result"
    }
   ],
   "source": [
    "product_df[product_df.title.isna()][['asin', 'category', 'title', 'main_cat', 'description', 'details']]"
   ]
  },
  {
   "cell_type": "code",
   "execution_count": 68,
   "id": "9ee60ea0",
   "metadata": {
    "ExecuteTime": {
     "end_time": "2022-04-15T13:47:50.591532Z",
     "start_time": "2022-04-15T13:47:50.501666Z"
    }
   },
   "outputs": [],
   "source": [
    "# Пропусков в title мало - быстрее вручную пробежать по details в этой строке\n",
    "product_df.iloc[30094].title = 'Peppercorns'\n",
    "product_df.iloc[51120].title = 'Chili Sauce'\n",
    "product_df.iloc[211916].title = 'Single-Serve Capsules & Pods'\n",
    "product_df.iloc[212457].title = 'Popcorn'"
   ]
  },
  {
   "cell_type": "markdown",
   "id": "3b5c61b2",
   "metadata": {},
   "source": [
    "Некоторые товары имеют одинаковое название. Хорошо бы создать колонку, выделив главные названия без описательных, например чай, шоколад и т.д. Попробуем если будет время."
   ]
  },
  {
   "cell_type": "code",
   "execution_count": 69,
   "id": "c534d2c9",
   "metadata": {
    "ExecuteTime": {
     "end_time": "2022-04-15T13:47:50.765901Z",
     "start_time": "2022-04-15T13:47:50.595611Z"
    }
   },
   "outputs": [
    {
     "data": {
      "text/plain": [
       "1871"
      ]
     },
     "execution_count": 69,
     "metadata": {},
     "output_type": "execute_result"
    }
   ],
   "source": [
    "product_df.asin.nunique() - product_df.title.nunique() "
   ]
  },
  {
   "cell_type": "markdown",
   "id": "f04601e7",
   "metadata": {},
   "source": [
    "**category**"
   ]
  },
  {
   "cell_type": "markdown",
   "id": "628ba500",
   "metadata": {},
   "source": [
    "Признак содержит вложенность (иерархию) категорий товара. \n",
    "\n",
    "В 'category' все объекты начинаются с 'Grocery & Gourmet Food' => Удалим"
   ]
  },
  {
   "cell_type": "code",
   "execution_count": 70,
   "id": "f85d470a",
   "metadata": {
    "ExecuteTime": {
     "end_time": "2022-04-15T13:47:50.974926Z",
     "start_time": "2022-04-15T13:47:50.767088Z"
    }
   },
   "outputs": [],
   "source": [
    "product_df['category'] = product_df['category'].apply(lambda x: str(x).replace(\"['Grocery & Gourmet Food', \", '').replace('\"', \"'\").replace(\"']\", \"\"))"
   ]
  },
  {
   "cell_type": "code",
   "execution_count": 71,
   "id": "50d8f315",
   "metadata": {
    "ExecuteTime": {
     "end_time": "2022-04-15T13:47:50.980092Z",
     "start_time": "2022-04-15T13:47:50.976109Z"
    }
   },
   "outputs": [
    {
     "data": {
      "text/plain": [
       "0                  'Dairy, Cheese & Eggs', 'Cheese', 'Gouda\n",
       "1         'Cooking & Baking', 'Sugar Substitutes', 'Xylitol\n",
       "2         'Cooking & Baking', 'Frosting, Icing & Decorat...\n",
       "3         'Cooking & Baking', 'Frosting, Icing & Decorat...\n",
       "4         'Cooking & Baking', 'Frosting, Icing & Decorat...\n",
       "                                ...                        \n",
       "287204    'Jams, Jellies & Sweet Spreads', 'Jams, Jellie...\n",
       "287205          'Condiments & Salad Dressings', 'Mayonnaise\n",
       "287206    'Condiments & Salad Dressings', 'Salad Dressin...\n",
       "287207    'Herbs, Spices & Seasonings', 'Single Herbs & ...\n",
       "287208    'Beverages', 'Bottled Beverages, Water & Drink...\n",
       "Name: category, Length: 283512, dtype: object"
      ]
     },
     "execution_count": 71,
     "metadata": {},
     "output_type": "execute_result"
    }
   ],
   "source": [
    "product_df['category'] "
   ]
  },
  {
   "cell_type": "code",
   "execution_count": 72,
   "id": "aa0cd5d7",
   "metadata": {
    "ExecuteTime": {
     "end_time": "2022-04-15T13:47:51.202449Z",
     "start_time": "2022-04-15T13:47:50.981206Z"
    }
   },
   "outputs": [
    {
     "data": {
      "text/plain": [
       "Beverages                             61035\n",
       "Cooking & Baking                      45556\n",
       "Candy & Chocolate                     40398\n",
       "Snack Foods                           32076\n",
       "Herbs, Spices & Seasonings            18852\n",
       "Sauces, Gravies & Marinades           10673\n",
       "Canned, Jarred & Packaged Foods        9987\n",
       "Food & Beverage Gifts                  9494\n",
       "Breakfast Foods                        7514\n",
       "Condiments & Salad Dressings           4814\n",
       "Produce                                4701\n",
       "Jams, Jellies & Sweet Spreads          4692\n",
       "Soups, Stocks & Broths                 4597\n",
       "Dairy, Cheese & Eggs                   4526\n",
       "Meat & Seafood                         4475\n",
       "Breads & Bakery                        3997\n",
       "Dried Beans, Grains & Rice             3450\n",
       "Pasta & Noodles                        3396\n",
       "Olives, Pickles & Relishes             2615\n",
       "Fresh Flowers & Live Indoor Plants     2599\n",
       "Frozen                                 2474\n",
       "Prepared Foods                          642\n",
       "Deli                                    467\n",
       "Alcoholic Beverages                     250\n",
       "Meat Substitutes                        224\n",
       "Fresh Meal Kits                           8\n",
       "Name: num_category_1, dtype: int64"
      ]
     },
     "execution_count": 72,
     "metadata": {},
     "output_type": "execute_result"
    }
   ],
   "source": [
    "product_df['num_category_1'] = product_df['category'].apply(lambda x: x.split(\"', '\")[0].replace(\"'\", \"\"))\n",
    "product_df['num_category_1'].value_counts() "
   ]
  },
  {
   "cell_type": "code",
   "execution_count": 73,
   "id": "8de406c6",
   "metadata": {
    "ExecuteTime": {
     "end_time": "2022-04-15T13:47:51.385352Z",
     "start_time": "2022-04-15T13:47:51.203586Z"
    }
   },
   "outputs": [
    {
     "data": {
      "text/plain": [
       "Coffee, Tea & Cocoa                                                                                         44626\n",
       "Bottled Beverages, Water & Drink Mixes                                                                      15283\n",
       "Frosting, Icing & Decorations                                                                               10702\n",
       "Jelly Beans & Gummy Candy                                                                                    8270\n",
       "Cookies                                                                                                      8022\n",
       "                                                                                                            ...  \n",
       "Alcoholic Beverages                                                                                             3\n",
       "20 easy prefilled Easter eggs with 3 candy assortments including Brach's Jellybeans and Chewy Lemonheads        3\n",
       "Pulled & Flaked Meats                                                                                           2\n",
       "-Butlers -Creamy Toffees -Contains Milk & Soya & May Contain Traces of Nuts -Bagged, 125g                       1\n",
       "-The Connemara Kitchen -Coffee Fudge -Tin Package -160g                                                         1\n",
       "Name: num_category_2, Length: 253, dtype: int64"
      ]
     },
     "execution_count": 73,
     "metadata": {},
     "output_type": "execute_result"
    }
   ],
   "source": [
    "product_df['num_category_2'] = product_df['category'].apply(lambda x: x.split(\"', '\")[1] if len(x.split(\"', '\"))>1 else x.split(\"', '\")[0].replace(\"'\", \"\"))\n",
    "product_df['num_category_2'].value_counts()"
   ]
  },
  {
   "cell_type": "code",
   "execution_count": 74,
   "id": "2f6b16dd",
   "metadata": {
    "ExecuteTime": {
     "end_time": "2022-04-15T13:47:51.545217Z",
     "start_time": "2022-04-15T13:47:51.386539Z"
    }
   },
   "outputs": [
    {
     "data": {
      "text/plain": [
       "Tea                                                                                                                    23148\n",
       "Coffee                                                                                                                 18508\n",
       "Cake & Cupcake Toppers                                                                                                  8311\n",
       "Candy & Chocolate Bars                                                                                                  7456\n",
       "Hard Candy                                                                                                              4769\n",
       "                                                                                                                       ...  \n",
       "Variety Packs                                                                                                              1\n",
       "Potash Baking Ingredient                                                                                                   1\n",
       "8 Mini coconut patties in one box.                                                                                         1\n",
       "-Dark Chocolate -Kate Kearney -In a bar form -May contain traces of milk -peanuts -other nuts -gluten -egg & sesame        1\n",
       "Meatballs                                                                                                                  1\n",
       "Name: num_category_3, Length: 870, dtype: int64"
      ]
     },
     "execution_count": 74,
     "metadata": {},
     "output_type": "execute_result"
    }
   ],
   "source": [
    "product_df['num_category_3'] = product_df['category'].apply(lambda x: x.split(\"', '\")[2] if len(x.split(\"', '\"))>2 else  x.split(\"', '\")[-1].replace(\"'\", \"\"))\n",
    "product_df['num_category_3'].value_counts()"
   ]
  },
  {
   "cell_type": "markdown",
   "id": "e39d7e41",
   "metadata": {},
   "source": [
    "Колонки 'num_category_2' и 'num_category_3' в некоторых строках содержат описание, а не названия категорий. Заменим их."
   ]
  },
  {
   "cell_type": "code",
   "execution_count": 75,
   "id": "940612e8",
   "metadata": {
    "ExecuteTime": {
     "end_time": "2022-04-15T13:47:51.617283Z",
     "start_time": "2022-04-15T13:47:51.546450Z"
    }
   },
   "outputs": [
    {
     "data": {
      "text/plain": [
       "Coffee, Tea & Cocoa                       44626\n",
       "Bottled Beverages, Water & Drink Mixes    15283\n",
       "Frosting, Icing & Decorations             10702\n",
       "Jelly Beans & Gummy Candy                  8270\n",
       "Cookies                                    8022\n",
       "                                          ...  \n",
       "Nuggets & Wings                               4\n",
       "Jerky                                         4\n",
       "Roasted Chicken                               4\n",
       "Alcoholic Beverages                           3\n",
       "Pulled & Flaked Meats                         2\n",
       "Name: num_category_2, Length: 251, dtype: int64"
      ]
     },
     "execution_count": 75,
     "metadata": {},
     "output_type": "execute_result"
    }
   ],
   "source": [
    "product_df['num_category_2'] = product_df['num_category_2'].apply(lambda x: 'Other' if len(str(x))>50 else x)\n",
    "product_df['num_category_2'].value_counts()"
   ]
  },
  {
   "cell_type": "code",
   "execution_count": 76,
   "id": "c3546817",
   "metadata": {
    "ExecuteTime": {
     "end_time": "2022-04-15T13:47:51.802934Z",
     "start_time": "2022-04-15T13:47:51.618340Z"
    }
   },
   "outputs": [
    {
     "data": {
      "text/plain": [
       "Tea                                      23148\n",
       "Coffee                                   18508\n",
       "Cake & Cupcake Toppers                    8311\n",
       "Candy & Chocolate Bars                    7456\n",
       "Hard Candy                                4769\n",
       "                                         ...  \n",
       "Made in USA or Imported                      1\n",
       "Fruit Relishes                               1\n",
       "DISNEY'S FROZEN FILLED EASTER BASKET.        1\n",
       "100% Cotton                                  1\n",
       "Sake & Rice Spirits                          1\n",
       "Name: num_category_3, Length: 855, dtype: int64"
      ]
     },
     "execution_count": 76,
     "metadata": {},
     "output_type": "execute_result"
    }
   ],
   "source": [
    "product_df['num_category_3'] = product_df['num_category_3'].apply(lambda x: 'Other' if len(str(x))>50 else x)\n",
    "product_df['num_category_3'].value_counts()"
   ]
  },
  {
   "cell_type": "markdown",
   "id": "51b13f8f",
   "metadata": {},
   "source": [
    "Если в обучении будут использоваться num_category_3 и num_category_3, то надо будет сгруппировать данные. Предположительно если значений такой категории менее 50, то берем родительскую. И Other тоже заменим на родительскую категорию"
   ]
  },
  {
   "cell_type": "markdown",
   "id": "0844873d",
   "metadata": {},
   "source": [
    "**description**"
   ]
  },
  {
   "cell_type": "markdown",
   "id": "ce6577d7",
   "metadata": {},
   "source": [
    "Признак содержит описание товара, состав. "
   ]
  },
  {
   "cell_type": "code",
   "execution_count": 77,
   "id": "c81af3c8",
   "metadata": {
    "ExecuteTime": {
     "end_time": "2022-04-15T13:47:51.844910Z",
     "start_time": "2022-04-15T13:47:51.804101Z"
    }
   },
   "outputs": [
    {
     "data": {
      "text/plain": [
       "\"['Every bite is moist and full of flavor with walnuts, carrots, raisins, coconut and cinnamon. They taste just like you are biting into a Mini Carrot Cake but they are GUILT-FREE!', 'Ingredients: organic walnuts, fresh organic carrots, organic maple syrup, organic gluten-free oats, organic raisins, organic almonds, organic coconut, organic cashews, organic extra virgin coconut oil, pink himalayan salt, organic spices', 'Statements regarding dietary supplements have not been evaluated by the FDA and are not intended to diagnose, treat, cure, or prevent any disease or health condition.']\""
      ]
     },
     "execution_count": 77,
     "metadata": {},
     "output_type": "execute_result"
    }
   ],
   "source": [
    "# пример описания отвара\n",
    "product_df['description'][192595]"
   ]
  },
  {
   "cell_type": "code",
   "execution_count": 78,
   "id": "137898b4",
   "metadata": {
    "ExecuteTime": {
     "end_time": "2022-04-15T13:47:51.998942Z",
     "start_time": "2022-04-15T13:47:51.845958Z"
    }
   },
   "outputs": [
    {
     "name": "stdout",
     "output_type": "stream",
     "text": [
      "Пропусков в description: 34966 - 12.3 %\n"
     ]
    }
   ],
   "source": [
    "count_nan('description', product_df)"
   ]
  },
  {
   "cell_type": "markdown",
   "id": "108009ec",
   "metadata": {},
   "source": [
    "**brand**"
   ]
  },
  {
   "cell_type": "code",
   "execution_count": 79,
   "id": "1b5b0024",
   "metadata": {
    "ExecuteTime": {
     "end_time": "2022-04-15T13:47:52.098760Z",
     "start_time": "2022-04-15T13:47:52.000124Z"
    }
   },
   "outputs": [
    {
     "data": {
      "text/plain": [
       "Unknown                   1584\n",
       "Black Tie Mercantile      1458\n",
       "Trader Joe's              1234\n",
       "McCormick                 1022\n",
       "The Nutty Fruit House      998\n",
       "                          ... \n",
       "MoreA                        1\n",
       "3 ProArgi 9 Plus Boxes       1\n",
       "TOTLE                        1\n",
       "Yogavni(TM)                  1\n",
       "Dhrob                        1\n",
       "Name: brand, Length: 38911, dtype: int64"
      ]
     },
     "execution_count": 79,
     "metadata": {},
     "output_type": "execute_result"
    }
   ],
   "source": [
    "product_df['brand'].value_counts()"
   ]
  },
  {
   "cell_type": "code",
   "execution_count": 80,
   "id": "ae4dfb96",
   "metadata": {
    "ExecuteTime": {
     "end_time": "2022-04-15T13:47:52.228182Z",
     "start_time": "2022-04-15T13:47:52.100344Z"
    }
   },
   "outputs": [
    {
     "data": {
      "text/plain": [
       "38911"
      ]
     },
     "execution_count": 80,
     "metadata": {},
     "output_type": "execute_result"
    }
   ],
   "source": [
    "product_df['brand'].nunique()"
   ]
  },
  {
   "cell_type": "markdown",
   "id": "888e58fc",
   "metadata": {},
   "source": [
    "Достаточно большое разнообразие брендов. Так же имеются пропуски."
   ]
  },
  {
   "cell_type": "code",
   "execution_count": 81,
   "id": "9851a946",
   "metadata": {
    "ExecuteTime": {
     "end_time": "2022-04-15T13:47:52.356825Z",
     "start_time": "2022-04-15T13:47:52.229997Z"
    }
   },
   "outputs": [
    {
     "name": "stdout",
     "output_type": "stream",
     "text": [
      "Пропусков в brand: 11259 - 4.0 %\n"
     ]
    }
   ],
   "source": [
    "count_nan('brand', product_df)"
   ]
  },
  {
   "cell_type": "markdown",
   "id": "a72db2da",
   "metadata": {},
   "source": [
    "Есть универсальное значение 'Unknown' - вот им и заполним пропуски и те, которых очень мало."
   ]
  },
  {
   "cell_type": "code",
   "execution_count": 82,
   "id": "22f604e3",
   "metadata": {
    "ExecuteTime": {
     "end_time": "2022-04-15T13:47:52.499470Z",
     "start_time": "2022-04-15T13:47:52.364615Z"
    }
   },
   "outputs": [],
   "source": [
    "product_df['brand'] = product_df['brand'].fillna('Unknown')"
   ]
  },
  {
   "cell_type": "code",
   "execution_count": 83,
   "id": "d5e73383",
   "metadata": {
    "ExecuteTime": {
     "end_time": "2022-04-15T13:47:52.577536Z",
     "start_time": "2022-04-15T13:47:52.500554Z"
    }
   },
   "outputs": [
    {
     "data": {
      "text/plain": [
       "Unknown                   12843\n",
       "Black Tie Mercantile       1458\n",
       "Trader Joe's               1234\n",
       "McCormick                  1022\n",
       "The Nutty Fruit House       998\n",
       "                          ...  \n",
       "MoreA                         1\n",
       "3 ProArgi 9 Plus Boxes        1\n",
       "TOTLE                         1\n",
       "Yogavni(TM)                   1\n",
       "Dhrob                         1\n",
       "Name: brand, Length: 38911, dtype: int64"
      ]
     },
     "execution_count": 83,
     "metadata": {},
     "output_type": "execute_result"
    }
   ],
   "source": [
    "brand_sr = product_df['brand'].value_counts()\n",
    "product_df['brand'].value_counts()"
   ]
  },
  {
   "cell_type": "code",
   "execution_count": 84,
   "id": "59971237",
   "metadata": {
    "ExecuteTime": {
     "end_time": "2022-04-15T13:47:52.646520Z",
     "start_time": "2022-04-15T13:47:52.578697Z"
    }
   },
   "outputs": [
    {
     "data": {
      "text/plain": [
       "47278"
      ]
     },
     "execution_count": 84,
     "metadata": {},
     "output_type": "execute_result"
    }
   ],
   "source": [
    "brand_sr[brand_sr < 5].sum()"
   ]
  },
  {
   "cell_type": "markdown",
   "id": "2d1f1af2",
   "metadata": {},
   "source": [
    "После заполнения пропусков уже пошел сильно большой перекос в сторону Unknown, а если на него отнести значения у брендов с малым количеством, то будет еще гораздо хуже. "
   ]
  },
  {
   "cell_type": "markdown",
   "id": "799734fe",
   "metadata": {},
   "source": [
    "**rank**"
   ]
  },
  {
   "cell_type": "markdown",
   "id": "a75cc58f",
   "metadata": {},
   "source": [
    "По данным похоже, что в этой колонке отображен ранг (позиция) в категориях или позиция в номенклатуре. Так как если взять объект 4, то видим похожую с признаком 'category' вложенность."
   ]
  },
  {
   "cell_type": "code",
   "execution_count": 85,
   "id": "07d5a153",
   "metadata": {
    "ExecuteTime": {
     "end_time": "2022-04-15T13:47:52.737287Z",
     "start_time": "2022-04-15T13:47:52.649488Z"
    }
   },
   "outputs": [
    {
     "data": {
      "text/plain": [
       "\"'Cooking & Baking', 'Frosting, Icing & Decorations', 'Cake & Cupcake Toppers', 'Cake Toppers\""
      ]
     },
     "execution_count": 85,
     "metadata": {},
     "output_type": "execute_result"
    }
   ],
   "source": [
    "product_df['category'][4]"
   ]
  },
  {
   "cell_type": "code",
   "execution_count": 86,
   "id": "8d07fbe2",
   "metadata": {
    "ExecuteTime": {
     "end_time": "2022-04-15T13:47:52.826718Z",
     "start_time": "2022-04-15T13:47:52.741655Z"
    }
   },
   "outputs": [
    {
     "data": {
      "text/plain": [
       "'>#590,999 in Kitchen & Dining (See Top 100 in Kitchen & Dining)>#8,585 in Kitchen & Dining > Bakeware > Decorating Tools > Cake & Cupcake Toppers > Cake Toppers'"
      ]
     },
     "execution_count": 86,
     "metadata": {},
     "output_type": "execute_result"
    }
   ],
   "source": [
    "product_df['rank'][4]"
   ]
  },
  {
   "cell_type": "code",
   "execution_count": 87,
   "id": "92bebc89",
   "metadata": {
    "ExecuteTime": {
     "end_time": "2022-04-15T13:47:53.470179Z",
     "start_time": "2022-04-15T13:47:52.830985Z"
    }
   },
   "outputs": [],
   "source": [
    "product_df['rank'] = product_df['rank'].astype(str).apply(lambda x: re.findall(\"\\d+,\\d+\", x))"
   ]
  },
  {
   "cell_type": "code",
   "execution_count": 88,
   "id": "69abddf4",
   "metadata": {
    "ExecuteTime": {
     "end_time": "2022-04-15T13:47:53.598063Z",
     "start_time": "2022-04-15T13:47:53.471374Z"
    }
   },
   "outputs": [
    {
     "data": {
      "text/plain": [
       "0         165181.0\n",
       "1         315867.0\n",
       "2         669941.0\n",
       "3         832581.0\n",
       "4         590999.0\n",
       "            ...   \n",
       "287204    369384.0\n",
       "287205    113710.0\n",
       "287206     21731.0\n",
       "287207         NaN\n",
       "287208    265258.0\n",
       "Name: rank, Length: 283512, dtype: float64"
      ]
     },
     "execution_count": 88,
     "metadata": {},
     "output_type": "execute_result"
    }
   ],
   "source": [
    "def rank_number(x):\n",
    "    if len(x)>=1:\n",
    "        to_return = int(x[0].replace(',',''))\n",
    "    else:\n",
    "        to_return = None\n",
    "    return to_return\n",
    "product_df['rank'] = product_df['rank'].apply(lambda x: rank_number(x))\n",
    "product_df['rank'] "
   ]
  },
  {
   "cell_type": "code",
   "execution_count": 89,
   "id": "9e406ab2",
   "metadata": {
    "ExecuteTime": {
     "end_time": "2022-04-15T13:47:53.690954Z",
     "start_time": "2022-04-15T13:47:53.599235Z"
    }
   },
   "outputs": [
    {
     "data": {
      "text/plain": [
       "<AxesSubplot:>"
      ]
     },
     "execution_count": 89,
     "metadata": {},
     "output_type": "execute_result"
    },
    {
     "data": {
      "image/png": "[encoded data removed]",
      "text/plain": [
       "<Figure size 432x288 with 1 Axes>"
      ]
     },
     "metadata": {
      "needs_background": "light"
     },
     "output_type": "display_data"
    }
   ],
   "source": [
    "product_df['rank'].hist()"
   ]
  },
  {
   "cell_type": "code",
   "execution_count": 90,
   "id": "a8479d43",
   "metadata": {
    "ExecuteTime": {
     "end_time": "2022-04-15T13:47:53.703714Z",
     "start_time": "2022-04-15T13:47:53.692249Z"
    }
   },
   "outputs": [
    {
     "data": {
      "text/plain": [
       "(1000.0, 999998.0)"
      ]
     },
     "execution_count": 90,
     "metadata": {},
     "output_type": "execute_result"
    }
   ],
   "source": [
    "product_df['rank'].min(), product_df['rank'].max()"
   ]
  },
  {
   "cell_type": "code",
   "execution_count": 91,
   "id": "fe313d26",
   "metadata": {
    "ExecuteTime": {
     "end_time": "2022-04-15T13:47:53.896351Z",
     "start_time": "2022-04-15T13:47:53.704748Z"
    }
   },
   "outputs": [
    {
     "name": "stdout",
     "output_type": "stream",
     "text": [
      "Пропусков в rank: 12324 - 4.3 %\n"
     ]
    }
   ],
   "source": [
    "count_nan('rank', product_df)"
   ]
  },
  {
   "cell_type": "markdown",
   "id": "c4aed75f",
   "metadata": {},
   "source": [
    "Заполним пропуски по median 'rank' исходя из категории_3"
   ]
  },
  {
   "cell_type": "code",
   "execution_count": 92,
   "id": "765ee204",
   "metadata": {
    "ExecuteTime": {
     "end_time": "2022-04-15T13:47:56.606300Z",
     "start_time": "2022-04-15T13:47:53.901092Z"
    }
   },
   "outputs": [
    {
     "name": "stdout",
     "output_type": "stream",
     "text": [
      "Пропусков в rank: 92 - 0.0 %\n"
     ]
    }
   ],
   "source": [
    "rank_dict_3 = product_df.groupby('num_category_3')['rank'].median().to_dict()\n",
    "def fill_rank_3(row):\n",
    "    if row['rank']>0:\n",
    "        return row['rank']\n",
    "    \n",
    "    return rank_dict_3[row['num_category_3']]\n",
    "\n",
    "product_df['rank'] = product_df.apply(lambda x: fill_rank_3(x), axis=1)\n",
    "count_nan('rank', product_df)"
   ]
  },
  {
   "cell_type": "code",
   "execution_count": 93,
   "id": "fb0a9dce",
   "metadata": {
    "ExecuteTime": {
     "end_time": "2022-04-15T13:47:59.061018Z",
     "start_time": "2022-04-15T13:47:56.607570Z"
    }
   },
   "outputs": [
    {
     "name": "stdout",
     "output_type": "stream",
     "text": [
      "Пропусков в rank: 9 - 0.0 %\n"
     ]
    }
   ],
   "source": [
    "rank_dict_2 = product_df.groupby('num_category_2')['rank'].median().to_dict()\n",
    "def fill_rank_2(row):\n",
    "    if row['rank']>0:\n",
    "        return row['rank']\n",
    "    \n",
    "    return rank_dict_2[row['num_category_2']]\n",
    "\n",
    "product_df['rank'] = product_df.apply(lambda x: fill_rank_2(x), axis=1)\n",
    "count_nan('rank', product_df)"
   ]
  },
  {
   "cell_type": "code",
   "execution_count": 94,
   "id": "728c71df",
   "metadata": {
    "ExecuteTime": {
     "end_time": "2022-04-15T13:48:01.697255Z",
     "start_time": "2022-04-15T13:47:59.062104Z"
    }
   },
   "outputs": [
    {
     "name": "stdout",
     "output_type": "stream",
     "text": [
      "Пропусков в rank: 0 - 0.0 %\n"
     ]
    }
   ],
   "source": [
    "rank_dict_1 = product_df.groupby('num_category_1')['rank'].median().to_dict()\n",
    "def fill_rank_1(row):\n",
    "    if row['rank']>0:\n",
    "        return row['rank']\n",
    "    \n",
    "    return rank_dict_1[row['num_category_1']]\n",
    "\n",
    "product_df['rank'] = product_df.apply(lambda x: fill_rank_1(x), axis=1)\n",
    "count_nan('rank', product_df)"
   ]
  },
  {
   "cell_type": "markdown",
   "id": "3edd5357",
   "metadata": {},
   "source": [
    "**also_view** и **also_buy**"
   ]
  },
  {
   "cell_type": "markdown",
   "id": "5bb727d4",
   "metadata": {},
   "source": [
    "В этой колонке содержится признак asin товаров, которые так же смотрят (also_view) и покупают (also_buy) с этим товаром"
   ]
  },
  {
   "cell_type": "code",
   "execution_count": 95,
   "id": "d1003003",
   "metadata": {
    "ExecuteTime": {
     "end_time": "2022-04-15T13:48:01.704474Z",
     "start_time": "2022-04-15T13:48:01.699029Z"
    }
   },
   "outputs": [
    {
     "data": {
      "text/plain": [
       "0         ['B0000D9MYM', 'B0000D9MYL', 'B00ADHIGBA', 'B0...\n",
       "1                                                       NaN\n",
       "2                                            ['B07DXN65TF']\n",
       "3                                                       NaN\n",
       "4                                                       NaN\n",
       "                                ...                        \n",
       "287204                                                  NaN\n",
       "287205                                                  NaN\n",
       "287206                                                  NaN\n",
       "287207                                                  NaN\n",
       "287208    ['B007JFV6RK', 'B005VS60ZK', 'B01BV8YFYG', 'B0...\n",
       "Name: also_view, Length: 283512, dtype: object"
      ]
     },
     "execution_count": 95,
     "metadata": {},
     "output_type": "execute_result"
    }
   ],
   "source": [
    "product_df['also_view']"
   ]
  },
  {
   "cell_type": "code",
   "execution_count": 96,
   "id": "1d356d02",
   "metadata": {
    "ExecuteTime": {
     "end_time": "2022-04-15T13:48:01.861022Z",
     "start_time": "2022-04-15T13:48:01.705978Z"
    }
   },
   "outputs": [
    {
     "name": "stdout",
     "output_type": "stream",
     "text": [
      "Пропусков в also_view: 164588 - 58.1 %\n"
     ]
    }
   ],
   "source": [
    "count_nan('also_view', product_df)"
   ]
  },
  {
   "cell_type": "code",
   "execution_count": 97,
   "id": "34b7378f",
   "metadata": {
    "ExecuteTime": {
     "end_time": "2022-04-15T13:48:02.066442Z",
     "start_time": "2022-04-15T13:48:01.862396Z"
    }
   },
   "outputs": [
    {
     "data": {
      "text/plain": [
       "0                                                       NaN\n",
       "1         ['B01898YHXK', 'B01BCM6LAC', 'B00Q4OL47O', 'B0...\n",
       "2                                                       NaN\n",
       "3                                                       NaN\n",
       "4                                                       NaN\n",
       "                                ...                        \n",
       "287204    ['B01HULC3TC', 'B07C8L4NWL', 'B014UTG6D6', 'B0...\n",
       "287205    ['B00WNAEX2Q', 'B071LD7PMJ', 'B01HJF6FRA', 'B0...\n",
       "287206    ['B071LD7PMJ', 'B00KOHNX6C', 'B00OVN2F64', 'B0...\n",
       "287207    ['B00DUF219A', 'B01HJHX9ZO', 'B07K4K26PQ', 'B0...\n",
       "287208                                                  NaN\n",
       "Name: also_buy, Length: 283512, dtype: object"
      ]
     },
     "execution_count": 97,
     "metadata": {},
     "output_type": "execute_result"
    }
   ],
   "source": [
    "product_df['also_buy']"
   ]
  },
  {
   "cell_type": "code",
   "execution_count": 98,
   "id": "b2e4d29b",
   "metadata": {
    "ExecuteTime": {
     "end_time": "2022-04-15T13:48:02.285003Z",
     "start_time": "2022-04-15T13:48:02.074417Z"
    }
   },
   "outputs": [
    {
     "name": "stdout",
     "output_type": "stream",
     "text": [
      "Пропусков в also_buy: 201204 - 71.0 %\n"
     ]
    }
   ],
   "source": [
    "count_nan('also_buy', product_df)"
   ]
  },
  {
   "cell_type": "markdown",
   "id": "e9385051",
   "metadata": {},
   "source": [
    "Эти признаки очень возможно пригодятся. Пока непонятно в каком формате они понадобиться и как их лучше обработать."
   ]
  },
  {
   "cell_type": "markdown",
   "id": "68d60b9e",
   "metadata": {},
   "source": [
    "**main_cat**"
   ]
  },
  {
   "cell_type": "markdown",
   "id": "aece87ac",
   "metadata": {},
   "source": [
    "Главная категория товара."
   ]
  },
  {
   "cell_type": "code",
   "execution_count": 99,
   "id": "056da951",
   "metadata": {
    "ExecuteTime": {
     "end_time": "2022-04-15T13:48:02.377906Z",
     "start_time": "2022-04-15T13:48:02.286773Z"
    }
   },
   "outputs": [
    {
     "data": {
      "text/plain": [
       "Grocery                         258555\n",
       "Amazon Home                       8841\n",
       "Health & Personal Care            8435\n",
       "Toys & Games                      1933\n",
       "All Beauty                        1596\n",
       "Industrial & Scientific            977\n",
       "Office Products                    610\n",
       "Sports & Outdoors                  389\n",
       "Cell Phones & Accessories          167\n",
       "Arts, Crafts & Sewing              129\n",
       "Pet Supplies                       128\n",
       "Baby                                95\n",
       "Tools & Home Improvement            66\n",
       "Computers                           39\n",
       "All Electronics                     20\n",
       "Home Audio & Theater                14\n",
       "Automotive                           7\n",
       "Movies & TV                          4\n",
       "Camera & Photo                       3\n",
       "Musical Instruments                  3\n",
       "Software                             2\n",
       "Video Games                          2\n",
       "Appliances                           1\n",
       "Portable Audio & Accessories         1\n",
       "Car Electronics                      1\n",
       "Gift Cards                           1\n",
       "Name: main_cat, dtype: int64"
      ]
     },
     "execution_count": 99,
     "metadata": {},
     "output_type": "execute_result"
    }
   ],
   "source": [
    "product_df.main_cat.value_counts()"
   ]
  },
  {
   "cell_type": "markdown",
   "id": "4c009a5f",
   "metadata": {},
   "source": [
    " Данные категории содержат мало товаров, но в принципе они смежные по тематике:\n",
    " \n",
    "    Computers                           39\n",
    "    All Electronics                     20\n",
    "    Home Audio & Theater                14\n",
    "    Automotive                           7\n",
    "    Movies & TV                          4\n",
    "    Camera & Photo                       3\n",
    "    Musical Instruments                  3\n",
    "    Software                             2\n",
    "    Video Games                          2\n",
    "    Appliances                           1\n",
    "    Portable Audio & Accessories         1\n",
    "    Car Electronics                      1\n",
    "    Gift Cards                           1  \n",
    "    \n",
    "Возможно их объеденить в одну - Electronics."
   ]
  },
  {
   "cell_type": "code",
   "execution_count": 100,
   "id": "8c5bba94",
   "metadata": {
    "ExecuteTime": {
     "end_time": "2022-04-15T13:48:02.589857Z",
     "start_time": "2022-04-15T13:48:02.379867Z"
    }
   },
   "outputs": [
    {
     "data": {
      "text/plain": [
       "Grocery                      258555\n",
       "Amazon Home                    8841\n",
       "Health & Personal Care         8435\n",
       "Toys & Games                   1933\n",
       "All Beauty                     1596\n",
       "Industrial & Scientific         977\n",
       "Office Products                 610\n",
       "Sports & Outdoors               389\n",
       "Cell Phones & Accessories       167\n",
       "Arts, Crafts & Sewing           129\n",
       "Pet Supplies                    128\n",
       "Electronics                      98\n",
       "Baby                             95\n",
       "Tools & Home Improvement         66\n",
       "Name: main_cat, dtype: int64"
      ]
     },
     "execution_count": 100,
     "metadata": {},
     "output_type": "execute_result"
    }
   ],
   "source": [
    "Electronics = ['Computers', 'All Electronics', 'Home Audio & Theater', 'Automotive', 'Movies & TV', 'Camera & Photo',\n",
    "               'Musical Instruments', 'Software', 'Video Games', 'Appliances', 'Portable Audio & Accessories',\n",
    "               'Car Electronics', 'Gift Cards']\n",
    "product_df['main_cat'] = product_df['main_cat'].apply(lambda x: 'Electronics' if x in Electronics else x)\n",
    "product_df.main_cat.value_counts()"
   ]
  },
  {
   "cell_type": "code",
   "execution_count": 101,
   "id": "a9ffd5f2",
   "metadata": {
    "ExecuteTime": {
     "end_time": "2022-04-15T13:48:02.614774Z",
     "start_time": "2022-04-15T13:48:02.591871Z"
    }
   },
   "outputs": [
    {
     "name": "stdout",
     "output_type": "stream",
     "text": [
      "Пропусков в main_cat: 1493 - 0.5 %\n"
     ]
    }
   ],
   "source": [
    "count_nan('main_cat', product_df)"
   ]
  },
  {
   "cell_type": "code",
   "execution_count": 102,
   "id": "f8641273",
   "metadata": {
    "ExecuteTime": {
     "end_time": "2022-04-15T13:48:02.921783Z",
     "start_time": "2022-04-15T13:48:02.617127Z"
    }
   },
   "outputs": [
    {
     "data": {
      "text/plain": [
       "Fresh Flowers & Live Indoor Plants    322\n",
       "Cooking & Baking                      270\n",
       "Candy & Chocolate                     204\n",
       "Beverages                             201\n",
       "Snack Foods                           147\n",
       "Food & Beverage Gifts                  72\n",
       "Herbs, Spices & Seasonings             56\n",
       "Sauces, Gravies & Marinades            33\n",
       "Soups, Stocks & Broths                 31\n",
       "Produce                                24\n",
       "Meat & Seafood                         21\n",
       "Breakfast Foods                        19\n",
       "Condiments & Salad Dressings           16\n",
       "Canned, Jarred & Packaged Foods        15\n",
       "Breads & Bakery                        12\n",
       "Olives, Pickles & Relishes             10\n",
       "Jams, Jellies & Sweet Spreads           9\n",
       "Dried Beans, Grains & Rice              9\n",
       "Dairy, Cheese & Eggs                    8\n",
       "Pasta & Noodles                         8\n",
       "Alcoholic Beverages                     3\n",
       "Frozen                                  3\n",
       "Name: num_category_1, dtype: int64"
      ]
     },
     "execution_count": 102,
     "metadata": {},
     "output_type": "execute_result"
    }
   ],
   "source": [
    "product_df[product_df['main_cat'].isna()]['num_category_1'].value_counts()"
   ]
  },
  {
   "cell_type": "markdown",
   "id": "2753b500",
   "metadata": {},
   "source": [
    "Пропуски можно заполнить опираясь на данные 'num_category_1'. Если еда, то 'Grocery',  а там все еда, кроме 'Fresh Flowers & Live Indoor Plants', которую отнести на 'Amazon Home'"
   ]
  },
  {
   "cell_type": "code",
   "execution_count": 103,
   "id": "a427f4f4",
   "metadata": {
    "ExecuteTime": {
     "end_time": "2022-04-15T13:48:02.937507Z",
     "start_time": "2022-04-15T13:48:02.923088Z"
    },
    "scrolled": false
   },
   "outputs": [],
   "source": [
    "main_cat_fill = product_df[product_df['main_cat'].isna()]['num_category_1'].value_counts().to_dict()\n",
    "for key, _ in main_cat_fill.items():\n",
    "    if key == 'Fresh Flowers & Live Indoor Plants':\n",
    "        main_cat_fill[key] = 'Amazon Home'\n",
    "    else:\n",
    "        main_cat_fill[key] = 'Grocery'  "
   ]
  },
  {
   "cell_type": "code",
   "execution_count": 104,
   "id": "649891e6",
   "metadata": {
    "ExecuteTime": {
     "end_time": "2022-04-15T13:48:06.042024Z",
     "start_time": "2022-04-15T13:48:02.938532Z"
    }
   },
   "outputs": [],
   "source": [
    "product_df['main_cat'] = product_df['main_cat'].fillna(0)\n",
    "product_df['main_cat'] = product_df.apply(lambda row: main_cat_fill[row['num_category_1']] if row['main_cat'] == 0 else row['main_cat'] , axis=1)"
   ]
  },
  {
   "cell_type": "code",
   "execution_count": 105,
   "id": "3fee7765",
   "metadata": {
    "ExecuteTime": {
     "end_time": "2022-04-15T13:48:06.055042Z",
     "start_time": "2022-04-15T13:48:06.043140Z"
    }
   },
   "outputs": [
    {
     "data": {
      "text/plain": [
       "Grocery                      259726\n",
       "Amazon Home                    9163\n",
       "Health & Personal Care         8435\n",
       "Toys & Games                   1933\n",
       "All Beauty                     1596\n",
       "Industrial & Scientific         977\n",
       "Office Products                 610\n",
       "Sports & Outdoors               389\n",
       "Cell Phones & Accessories       167\n",
       "Arts, Crafts & Sewing           129\n",
       "Pet Supplies                    128\n",
       "Electronics                      98\n",
       "Baby                             95\n",
       "Tools & Home Improvement         66\n",
       "Name: main_cat, dtype: int64"
      ]
     },
     "execution_count": 105,
     "metadata": {},
     "output_type": "execute_result"
    }
   ],
   "source": [
    "product_df.main_cat.value_counts()"
   ]
  },
  {
   "cell_type": "code",
   "execution_count": 106,
   "id": "aa76f47a",
   "metadata": {
    "ExecuteTime": {
     "end_time": "2022-04-15T13:48:06.211647Z",
     "start_time": "2022-04-15T13:48:06.056236Z"
    }
   },
   "outputs": [
    {
     "name": "stdout",
     "output_type": "stream",
     "text": [
      "Пропусков в main_cat: 0 - 0.0 %\n"
     ]
    }
   ],
   "source": [
    "count_nan('main_cat', product_df)"
   ]
  },
  {
   "cell_type": "markdown",
   "id": "39980776",
   "metadata": {},
   "source": [
    "**price**"
   ]
  },
  {
   "cell_type": "code",
   "execution_count": 107,
   "id": "9067f188",
   "metadata": {
    "ExecuteTime": {
     "end_time": "2022-04-15T13:48:06.339023Z",
     "start_time": "2022-04-15T13:48:06.213019Z"
    }
   },
   "outputs": [
    {
     "name": "stdout",
     "output_type": "stream",
     "text": [
      "Пропусков в price: 153278 - 54.1 %\n"
     ]
    }
   ],
   "source": [
    "count_nan('price', product_df)"
   ]
  },
  {
   "cell_type": "markdown",
   "id": "da818d5d",
   "metadata": {},
   "source": [
    "Цена может повлиять на выбор схожих товаров. Т.е. второй или третий по степени значимости показатель (первое, это что хочет покупатель преобрести, а потом уже обычно бренд (марка) и цена идут). Но пропусков очень много. "
   ]
  },
  {
   "cell_type": "code",
   "execution_count": 108,
   "id": "b20365ce",
   "metadata": {
    "ExecuteTime": {
     "end_time": "2022-04-15T13:48:06.506333Z",
     "start_time": "2022-04-15T13:48:06.340379Z"
    }
   },
   "outputs": [
    {
     "data": {
      "text/plain": [
       "0         $41.91\n",
       "1            NaN\n",
       "2         $29.95\n",
       "3         $11.45\n",
       "4         $15.00\n",
       "           ...  \n",
       "287204       NaN\n",
       "287205    $10.89\n",
       "287206    $10.95\n",
       "287207    $14.97\n",
       "287208    $18.00\n",
       "Name: price, Length: 283512, dtype: object"
      ]
     },
     "execution_count": 108,
     "metadata": {},
     "output_type": "execute_result"
    }
   ],
   "source": [
    "product_df['price']"
   ]
  },
  {
   "cell_type": "code",
   "execution_count": 109,
   "id": "50f15152",
   "metadata": {
    "ExecuteTime": {
     "end_time": "2022-04-15T13:48:06.790922Z",
     "start_time": "2022-04-15T13:48:06.511984Z"
    }
   },
   "outputs": [
    {
     "data": {
      "text/plain": [
       "(100, 2)"
      ]
     },
     "execution_count": 109,
     "metadata": {},
     "output_type": "execute_result"
    }
   ],
   "source": [
    "product_df[product_df['price'].apply(lambda x: '-' in str(x))][['title', 'price']].shape"
   ]
  },
  {
   "cell_type": "markdown",
   "id": "1f43f59e",
   "metadata": {},
   "source": [
    "У 100 товаров установлен диапозон цен. Наверное, зависит от объема, который покупатель закажет. Возьмем нижнее значение."
   ]
  },
  {
   "cell_type": "code",
   "execution_count": 110,
   "id": "594a20ed",
   "metadata": {
    "ExecuteTime": {
     "end_time": "2022-04-15T13:48:07.000944Z",
     "start_time": "2022-04-15T13:48:06.792202Z"
    }
   },
   "outputs": [
    {
     "data": {
      "text/plain": [
       "0         41.91\n",
       "1           NaN\n",
       "2         29.95\n",
       "3         11.45\n",
       "4         15.00\n",
       "          ...  \n",
       "287204      NaN\n",
       "287205    10.89\n",
       "287206    10.95\n",
       "287207    14.97\n",
       "287208    18.00\n",
       "Name: price, Length: 283512, dtype: float64"
      ]
     },
     "execution_count": 110,
     "metadata": {},
     "output_type": "execute_result"
    }
   ],
   "source": [
    "product_df['price'] = product_df['price'].apply(lambda x: float(str(x).split('-')[0].replace('$', '').replace(',', '')) if x else x)\n",
    "product_df['price']"
   ]
  },
  {
   "cell_type": "markdown",
   "id": "b66b7a67",
   "metadata": {},
   "source": [
    "Заполним пропуски медианным значением по категории."
   ]
  },
  {
   "cell_type": "code",
   "execution_count": 111,
   "id": "facac95e",
   "metadata": {
    "ExecuteTime": {
     "end_time": "2022-04-15T13:48:09.552385Z",
     "start_time": "2022-04-15T13:48:07.002279Z"
    }
   },
   "outputs": [
    {
     "name": "stdout",
     "output_type": "stream",
     "text": [
      "Пропусков в price: 600 - 0.2 %\n"
     ]
    }
   ],
   "source": [
    "price_dict_3 = product_df.groupby('num_category_3')['price'].median().to_dict()\n",
    "def fill_price_3(row):\n",
    "    if row['price']>0:\n",
    "        return row['price']\n",
    "    \n",
    "    return price_dict_3[row['num_category_3']]\n",
    "\n",
    "product_df['price'] = product_df.apply(lambda x: fill_price_3(x), axis=1)\n",
    "count_nan('price', product_df)"
   ]
  },
  {
   "cell_type": "code",
   "execution_count": 112,
   "id": "af30c723",
   "metadata": {
    "ExecuteTime": {
     "end_time": "2022-04-15T13:48:12.089669Z",
     "start_time": "2022-04-15T13:48:09.553485Z"
    }
   },
   "outputs": [
    {
     "name": "stdout",
     "output_type": "stream",
     "text": [
      "Пропусков в price: 203 - 0.1 %\n"
     ]
    }
   ],
   "source": [
    "price_dict_2 = product_df.groupby('num_category_2')['price'].median().to_dict()\n",
    "def fill_price_2(row):\n",
    "    if row['price']>0:\n",
    "        return row['price']\n",
    "    \n",
    "    return price_dict_2[row['num_category_2']]\n",
    "\n",
    "product_df['price'] = product_df.apply(lambda x: fill_price_2(x), axis=1)\n",
    "count_nan('price', product_df)"
   ]
  },
  {
   "cell_type": "code",
   "execution_count": 113,
   "id": "20008469",
   "metadata": {
    "ExecuteTime": {
     "end_time": "2022-04-15T13:48:14.542018Z",
     "start_time": "2022-04-15T13:48:12.090825Z"
    }
   },
   "outputs": [
    {
     "name": "stdout",
     "output_type": "stream",
     "text": [
      "Пропусков в price: 8 - 0.0 %\n"
     ]
    }
   ],
   "source": [
    "price_dict_1 = product_df.groupby('num_category_1')['price'].median().to_dict()\n",
    "def fill_price_1(row):\n",
    "    if row['price']>0:\n",
    "        return row['price']\n",
    "    \n",
    "    return price_dict_1[row['num_category_1']]\n",
    "\n",
    "product_df['price'] = product_df.apply(lambda x: fill_price_1(x), axis=1)\n",
    "count_nan('price', product_df)"
   ]
  },
  {
   "cell_type": "code",
   "execution_count": 114,
   "id": "e9a7b148",
   "metadata": {
    "ExecuteTime": {
     "end_time": "2022-04-15T13:48:14.553128Z",
     "start_time": "2022-04-15T13:48:14.543460Z"
    }
   },
   "outputs": [
    {
     "data": {
      "text/html": [
       "<div>\n",
       "<style scoped>\n",
       "    .dataframe tbody tr th:only-of-type {\n",
       "        vertical-align: middle;\n",
       "    }\n",
       "\n",
       "    .dataframe tbody tr th {\n",
       "        vertical-align: top;\n",
       "    }\n",
       "\n",
       "    .dataframe thead th {\n",
       "        text-align: right;\n",
       "    }\n",
       "</style>\n",
       "<table border=\"1\" class=\"dataframe\">\n",
       "  <thead>\n",
       "    <tr style=\"text-align: right;\">\n",
       "      <th></th>\n",
       "      <th>num_category_1</th>\n",
       "      <th>title</th>\n",
       "      <th>price</th>\n",
       "    </tr>\n",
       "  </thead>\n",
       "  <tbody>\n",
       "    <tr>\n",
       "      <th>233138</th>\n",
       "      <td>Fresh Meal Kits</td>\n",
       "      <td>Evie's Pork Tenderloin with Roasted Red Pepper...</td>\n",
       "      <td>NaN</td>\n",
       "    </tr>\n",
       "    <tr>\n",
       "      <th>243562</th>\n",
       "      <td>Fresh Meal Kits</td>\n",
       "      <td>Evie's Pork Chops with Smashed Potatoes Meal K...</td>\n",
       "      <td>NaN</td>\n",
       "    </tr>\n",
       "    <tr>\n",
       "      <th>243563</th>\n",
       "      <td>Fresh Meal Kits</td>\n",
       "      <td>Evie's Chicken Breast Caprese with Orzo Meal K...</td>\n",
       "      <td>NaN</td>\n",
       "    </tr>\n",
       "    <tr>\n",
       "      <th>243565</th>\n",
       "      <td>Fresh Meal Kits</td>\n",
       "      <td>Evie's Steak Fajita Meal Kit, 2 Servings, 43 oz</td>\n",
       "      <td>NaN</td>\n",
       "    </tr>\n",
       "    <tr>\n",
       "      <th>280801</th>\n",
       "      <td>Fresh Meal Kits</td>\n",
       "      <td>Amazon Meal Kits, Orecchiette Pasta with Itali...</td>\n",
       "      <td>NaN</td>\n",
       "    </tr>\n",
       "    <tr>\n",
       "      <th>282537</th>\n",
       "      <td>Fresh Meal Kits</td>\n",
       "      <td>Amazon Meal Kits, Thai Red Curry with Chicken ...</td>\n",
       "      <td>NaN</td>\n",
       "    </tr>\n",
       "    <tr>\n",
       "      <th>282538</th>\n",
       "      <td>Fresh Meal Kits</td>\n",
       "      <td>Amazon Meal Kits, Veggie Quinoa Bowl with Spic...</td>\n",
       "      <td>NaN</td>\n",
       "    </tr>\n",
       "    <tr>\n",
       "      <th>284352</th>\n",
       "      <td>Fresh Meal Kits</td>\n",
       "      <td>Amazon Meal Kits, Parmesan Pork Loin with Tang...</td>\n",
       "      <td>NaN</td>\n",
       "    </tr>\n",
       "  </tbody>\n",
       "</table>\n",
       "</div>"
      ],
      "text/plain": [
       "         num_category_1                                              title  \\\n",
       "233138  Fresh Meal Kits  Evie's Pork Tenderloin with Roasted Red Pepper...   \n",
       "243562  Fresh Meal Kits  Evie's Pork Chops with Smashed Potatoes Meal K...   \n",
       "243563  Fresh Meal Kits  Evie's Chicken Breast Caprese with Orzo Meal K...   \n",
       "243565  Fresh Meal Kits    Evie's Steak Fajita Meal Kit, 2 Servings, 43 oz   \n",
       "280801  Fresh Meal Kits  Amazon Meal Kits, Orecchiette Pasta with Itali...   \n",
       "282537  Fresh Meal Kits  Amazon Meal Kits, Thai Red Curry with Chicken ...   \n",
       "282538  Fresh Meal Kits  Amazon Meal Kits, Veggie Quinoa Bowl with Spic...   \n",
       "284352  Fresh Meal Kits  Amazon Meal Kits, Parmesan Pork Loin with Tang...   \n",
       "\n",
       "        price  \n",
       "233138    NaN  \n",
       "243562    NaN  \n",
       "243563    NaN  \n",
       "243565    NaN  \n",
       "280801    NaN  \n",
       "282537    NaN  \n",
       "282538    NaN  \n",
       "284352    NaN  "
      ]
     },
     "execution_count": 114,
     "metadata": {},
     "output_type": "execute_result"
    }
   ],
   "source": [
    "product_df[product_df['price'].isna()][['num_category_1','title', 'price']]"
   ]
  },
  {
   "cell_type": "code",
   "execution_count": 115,
   "id": "99826bf8",
   "metadata": {
    "ExecuteTime": {
     "end_time": "2022-04-15T13:48:14.690483Z",
     "start_time": "2022-04-15T13:48:14.554418Z"
    }
   },
   "outputs": [],
   "source": [
    "product_df['price'] = product_df['price'].fillna(product_df['price'].median())"
   ]
  },
  {
   "cell_type": "markdown",
   "id": "0dd909de",
   "metadata": {},
   "source": [
    "**date**"
   ]
  },
  {
   "cell_type": "markdown",
   "id": "edc402d6",
   "metadata": {},
   "source": [
    "Похоже на дату внесения данного товара в базу. Данных очень мало."
   ]
  },
  {
   "cell_type": "code",
   "execution_count": 116,
   "id": "701f34c9",
   "metadata": {
    "ExecuteTime": {
     "end_time": "2022-04-15T13:48:14.830885Z",
     "start_time": "2022-04-15T13:48:14.695058Z"
    }
   },
   "outputs": [
    {
     "name": "stdout",
     "output_type": "stream",
     "text": [
      "Пропусков в date: 273937 - 96.6 %\n"
     ]
    }
   ],
   "source": [
    "count_nan('date', product_df)"
   ]
  },
  {
   "cell_type": "markdown",
   "id": "59caebb9",
   "metadata": {},
   "source": [
    "**feature**"
   ]
  },
  {
   "cell_type": "markdown",
   "id": "e1bb21e7",
   "metadata": {},
   "source": [
    "Содержит описание товара, его осбенности."
   ]
  },
  {
   "cell_type": "code",
   "execution_count": 117,
   "id": "93c28cbc",
   "metadata": {
    "ExecuteTime": {
     "end_time": "2022-04-15T13:48:14.928624Z",
     "start_time": "2022-04-15T13:48:14.832815Z"
    }
   },
   "outputs": [
    {
     "data": {
      "text/plain": [
       "['High quality edibles to decorate your cupcakes, cookies, baked goods and ice cream; Items within same container may vary slightly in shade', 'This product is prepared and packaged using machines that may come in contact with Wheat/Gluten, Eggs, Dairy Products, Peanuts, Soy, and Tree Nuts', 'Store in cool, dry area for long shelf life', 'Certified Kosher, Made in the USA', 'Combine with Dress My Cupcake wrappers, tissue pom poms and vintage straws to complete your dessert table']                                                                                                                                                                                                                                                           113\n",
       "['One of our core values is to treat each other with dignity and respect.', 'Our commitment is to strengthen every community we serve.', \"We care about your coffee 'from crop to cup' and every step in between.\", 'We believe our purchases and partnerships help coffee farming families enjoy a better standard of living in their local community.']                                                                                                                                                                                                                                                                                                                                                                                                        48\n",
       "['Certified gluten-free: Certificate ID: 63003, Issue date 1/18/18']                                                                                                                                                                                                                                                                                                                                                                                                                                                                                                                                                                                                                                                                                             45\n",
       "['This item is NOT included in your Prime membership for free shipping', 'By purchasing from me, you agree to all terms in my description', 'When using Express shipping, signature confirmation is required', 'Personalize cake topper by adding a Gift Message. Check \"This is a gift\" box after adding to cart', 'If I have not sent you a confirmation message through Amazon, then I HAVE NOT received your personalization request and your image will be sent without ANY wording']                                                                                                                                                                                                                                                                       42\n",
       "['edible cake topper sheet! Great for a themed birthday party or event!', 'Topper will fit a 1/4 sheet cake or can be centered on a 1/2 sheet cake.', 'Personalization is available by adding a Gift Message. Please add your personalized message at checkout OR send us an email immediately after you make your purchase to ensure personalization for your item!', 'High quality frosting sheets and edible ink are gluten/dairy free. Contains no known allergens or peanut products. FDA approved and certified kosher.', 'Notice: This product is for the services in creating, customizing and printing your edible image for personal use. Images and characters remain the property of their respective copyright holders and may not be resold.']     34\n",
       "Name: feature, dtype: int64"
      ]
     },
     "execution_count": 117,
     "metadata": {},
     "output_type": "execute_result"
    }
   ],
   "source": [
    "product_df['feature'].value_counts()[:5]"
   ]
  },
  {
   "cell_type": "code",
   "execution_count": 118,
   "id": "5fe2a93f",
   "metadata": {
    "ExecuteTime": {
     "end_time": "2022-04-15T13:48:15.053813Z",
     "start_time": "2022-04-15T13:48:14.933387Z"
    }
   },
   "outputs": [
    {
     "name": "stdout",
     "output_type": "stream",
     "text": [
      "Пропусков в feature: 267294 - 94.3 %\n"
     ]
    }
   ],
   "source": [
    "count_nan('feature', product_df)"
   ]
  },
  {
   "cell_type": "markdown",
   "id": "b66fe017",
   "metadata": {},
   "source": [
    "Но очень-очень много пропусков. Такой признак не стоит использовать."
   ]
  },
  {
   "cell_type": "markdown",
   "id": "4a5baf1b",
   "metadata": {},
   "source": [
    "**similar_item, tech1, details и fit**"
   ]
  },
  {
   "cell_type": "markdown",
   "id": "22fb6666",
   "metadata": {},
   "source": [
    "Подробности о товаре, но данные очень замусорены и пропусков практиески 100%. Использовать в обучении не будем. Польза от этих данных может быть только для заполнения пропусков в других колонках."
   ]
  },
  {
   "cell_type": "code",
   "execution_count": 119,
   "id": "111bfd3a",
   "metadata": {
    "ExecuteTime": {
     "end_time": "2022-04-15T13:48:15.145393Z",
     "start_time": "2022-04-15T13:48:15.055871Z"
    }
   },
   "outputs": [
    {
     "data": {
      "text/plain": [
       "[{'asin': '', 'href': '', 'name': 'Wilton Bake Easy Non-Stick Spray', 'img': 'https://images-na.ssl-images-amazon.com/images/I/41WpJ5WkSHL._SL500_AC_SS350_.jpg', 'features': {'Customer Rating': '4 out of 5 stars\\n\\n(69)', 'Price': 'From $3.49', 'Shipping': '', 'Sold By': 'Available from these sellers', 'Color': 'A', 'Material Type': 'Other'}}, {'asin': 'B007E8KCCM', 'href': '/dp/B007E8KCCM/ref=psdc_2231402011_t1_B0000A9XZO', 'name': 'Wilton 417-1154 Icing Smoother Comb Set-3 Piece, White/Purple', 'img': 'https://images-na.ssl-images-amazon.com/images/I/41B7eT3WJZL._SL500_AC_SS350_.jpg', 'features': {'Customer Rating': '4 out of 5 stars\\n\\n(48)', 'Price': '$12.49', 'Shipping': 'Eligible for FREE Shipping', 'Sold By': 'Amazon.com', 'Color': 'White/Purple', 'Material Type': 'Plastic'}}, {'asin': 'B007E8KCFY', 'href': '/dp/B007E8KCFY/ref=psdc_2231402011_t2_B0000A9XZO', 'name': 'Wilton Cake Leveler, Small, 10-Inch\\n\\n\\n\\n\\n\\n        #1 Best Seller', 'img': 'https://images-na.ssl-images-amazon.com/images/I/31QPHe0xk-L._SL500_AC_SS350_.jpg', 'features': {'Customer Rating': '4 out of 5 stars\\n\\n(1161)', 'Price': '$7.66', 'Shipping': 'Eligible for FREE Shipping', 'Sold By': 'Amazon.com', 'Color': 'White/Purple', 'Material Type': 'Plastic'}}, {'asin': 'B007E8KEYI', 'href': '/dp/B007E8KEYI/ref=psdc_2231402011_t3_B0000A9XZO', 'name': 'Wilton Decorator Preferred Cake Decorating Tool Caddy', 'img': 'https://images-na.ssl-images-amazon.com/images/I/41xLaaSfM7L._SL500_AC_SS350_.jpg', 'features': {'Customer Rating': '4 out of 5 stars\\n\\n(279)', 'Price': '$50.40', 'Shipping': 'Eligible for FREE Shipping', 'Sold By': 'Amazon.com', 'Color': 'White/Purple', 'Material Type': 'Plastic'}}, {'asin': 'B0000VOOXI', 'href': '/dp/B0000VOOXI/ref=psdc_2231402011_t4_B0000A9XZO', 'name': 'Ateco 1447 Decorating Comb & Icing Smoother, 4 Sided', 'img': 'https://images-na.ssl-images-amazon.com/images/I/41ujA9KkRUL._SL500_AC_SS350_.jpg', 'features': {'Customer Rating': '4 out of 5 stars\\n\\n(542)', 'Price': '$1.71', 'Shipping': 'Eligible for FREE Shipping', 'Sold By': 'Amazon.com', 'Color': 'silver', 'Material Type': 'Aluminum'}}, {'asin': 'B007E8KCJA', 'href': '/dp/B007E8KCJA/ref=psdc_2231402011_t5_B0000A9XZO', 'name': 'Wilton Cake Icing Smoother', 'img': 'https://images-na.ssl-images-amazon.com/images/I/41KZROyDBoL._SL500_AC_SS350_.jpg', 'features': {'Customer Rating': '4 out of 5 stars\\n\\n(198)', 'Price': '$7.97', 'Shipping': 'Eligible for FREE Shipping', 'Sold By': 'Amazon.com', 'Color': 'Silver/Purple', 'Material Type': 'Stainless Steel'}}]    1\n",
       "Name: similar_item, dtype: int64"
      ]
     },
     "execution_count": 119,
     "metadata": {},
     "output_type": "execute_result"
    }
   ],
   "source": [
    "product_df['similar_item'].value_counts()[:1]"
   ]
  },
  {
   "cell_type": "code",
   "execution_count": 120,
   "id": "6838e213",
   "metadata": {
    "ExecuteTime": {
     "end_time": "2022-04-15T13:48:15.276335Z",
     "start_time": "2022-04-15T13:48:15.149603Z"
    }
   },
   "outputs": [
    {
     "name": "stdout",
     "output_type": "stream",
     "text": [
      "Пропусков в similar_item: 283264 - 99.9 %\n"
     ]
    }
   ],
   "source": [
    "count_nan('similar_item', product_df)"
   ]
  },
  {
   "cell_type": "code",
   "execution_count": 121,
   "id": "5d772525",
   "metadata": {
    "ExecuteTime": {
     "end_time": "2022-04-15T13:48:15.389457Z",
     "start_time": "2022-04-15T13:48:15.277973Z"
    }
   },
   "outputs": [
    {
     "name": "stdout",
     "output_type": "stream",
     "text": [
      "Пропусков в tech1: 282769 - 99.7 %\n"
     ]
    }
   ],
   "source": [
    "count_nan('tech1', product_df)"
   ]
  },
  {
   "cell_type": "code",
   "execution_count": 122,
   "id": "b4ac3b3e",
   "metadata": {
    "ExecuteTime": {
     "end_time": "2022-04-15T13:48:15.543635Z",
     "start_time": "2022-04-15T13:48:15.391302Z"
    }
   },
   "outputs": [
    {
     "name": "stdout",
     "output_type": "stream",
     "text": [
      "Пропусков в details: 13759 - 4.9 %\n"
     ]
    }
   ],
   "source": [
    "count_nan('details', product_df)"
   ]
  },
  {
   "cell_type": "code",
   "execution_count": 123,
   "id": "1559cb18",
   "metadata": {
    "ExecuteTime": {
     "end_time": "2022-04-15T13:48:15.628518Z",
     "start_time": "2022-04-15T13:48:15.544845Z"
    }
   },
   "outputs": [
    {
     "name": "stdout",
     "output_type": "stream",
     "text": [
      "Пропусков в fit: 283508 - 100.0 %\n"
     ]
    }
   ],
   "source": [
    "count_nan('fit', product_df)"
   ]
  },
  {
   "cell_type": "markdown",
   "id": "e5220a7f",
   "metadata": {},
   "source": [
    "### Сформируем датасет признаков"
   ]
  },
  {
   "cell_type": "code",
   "execution_count": 124,
   "id": "25d5e8c6",
   "metadata": {
    "ExecuteTime": {
     "end_time": "2022-04-15T13:48:16.504845Z",
     "start_time": "2022-04-15T13:48:15.630672Z"
    }
   },
   "outputs": [],
   "source": [
    "col_feature = ['itemid', 'userid', 'verified', 'vote', 'dataAge', 'dateReview_week',\n",
    "       'dateReview_month', 'style_size_num', 'user_reviewer_num', 'item_reviewer_num',  'asin']\n",
    "feature_df = pd.concat([train_df[col_feature], test_df[col_feature]])\n",
    "\n",
    "feature_df = pd.merge(feature_df, product_df, on='asin')\n"
   ]
  },
  {
   "cell_type": "markdown",
   "id": "cb9330c6",
   "metadata": {},
   "source": [
    "### Создадим dummy-переменные категориальных данных"
   ]
  },
  {
   "cell_type": "code",
   "execution_count": 125,
   "id": "fcc64b65",
   "metadata": {
    "ExecuteTime": {
     "end_time": "2022-04-15T13:48:17.573645Z",
     "start_time": "2022-04-15T13:48:16.505950Z"
    }
   },
   "outputs": [],
   "source": [
    "feature_df['dateReview_week_all'] = feature_df['dateReview_week']\n",
    "feature_df['dateReview_month_all'] = feature_df['dateReview_month']\n",
    "feature_df['main_cat_all'] = feature_df['main_cat']\n",
    "feature_df['num_category_1_all'] = feature_df['num_category_1']\n",
    "\n",
    "feature_df = pd.get_dummies(feature_df, columns=['dateReview_week', 'dateReview_month', 'main_cat', 'num_category_1'], prefix_sep = '_')"
   ]
  },
  {
   "cell_type": "markdown",
   "id": "2aa0dfe8",
   "metadata": {},
   "source": [
    "Закодируем слова в цифры (иерархия по количеству встречаемости)"
   ]
  },
  {
   "cell_type": "code",
   "execution_count": 126,
   "id": "1e2443ef",
   "metadata": {
    "ExecuteTime": {
     "end_time": "2022-04-15T13:48:17.965370Z",
     "start_time": "2022-04-15T13:48:17.574841Z"
    }
   },
   "outputs": [],
   "source": [
    "main_cat_all_dict = {'Grocery': 14,\n",
    "                     'Health & Personal Care': 13,\n",
    "                     'Amazon Home': 12,\n",
    "                     'All Beauty': 11,\n",
    "                     'Sports & Outdoors': 10,\n",
    "                     'Industrial & Scientific': 9,\n",
    "                     'Office Products': 8,\n",
    "                     'Toys & Games': 7,\n",
    "                     'Pet Supplies': 6,\n",
    "                     'Tools & Home Improvement': 5,\n",
    "                     'Baby': 4,\n",
    "                     'Electronics': 3,\n",
    "                     'Arts, Crafts & Sewing': 2,\n",
    "                     'Cell Phones & Accessories': 1}\n",
    "feature_df['main_cat_all'] = feature_df['main_cat_all'].apply(lambda x: main_cat_all_dict[x])"
   ]
  },
  {
   "cell_type": "code",
   "execution_count": 127,
   "id": "ca5e4469",
   "metadata": {
    "ExecuteTime": {
     "end_time": "2022-04-15T13:48:18.353876Z",
     "start_time": "2022-04-15T13:48:17.966682Z"
    }
   },
   "outputs": [],
   "source": [
    "num_category_1_all_dict = {'Beverages': 25,\n",
    "                           'Cooking & Baking': 24,\n",
    "                           'Snack Foods': 23,\n",
    "                           'Candy & Chocolate': 22,\n",
    "                           'Herbs, Spices & Seasonings': 21,\n",
    "                           'Breakfast Foods': 20,\n",
    "                           'Canned, Jarred & Packaged Foods': 19,\n",
    "                           'Produce': 18,\n",
    "                           'Soups, Stocks & Broths': 17,\n",
    "                           'Sauces, Gravies & Marinades': 16,\n",
    "                           'Jams, Jellies & Sweet Spreads': 15,\n",
    "                           'Dairy, Cheese & Eggs': 14,\n",
    "                           'Dried Beans, Grains & Rice': 13,\n",
    "                           'Pasta & Noodles': 12,\n",
    "                           'Condiments & Salad Dressings': 11,\n",
    "                           'Food & Beverage Gifts': 10,\n",
    "                           'Breads & Bakery': 9,\n",
    "                           'Meat & Seafood': 8,\n",
    "                           'Frozen': 7,\n",
    "                           'Olives, Pickles & Relishes': 6,\n",
    "                           'Fresh Flowers & Live Indoor Plants': 5,\n",
    "                           'Prepared Foods': 4,\n",
    "                           'Meat Substitutes': 3,\n",
    "                           'Deli': 2,\n",
    "                           'Alcoholic Beverages': 1}\n",
    "feature_df['num_category_1_all'] = feature_df['num_category_1_all'].apply(lambda x: num_category_1_all_dict[x])"
   ]
  },
  {
   "cell_type": "markdown",
   "id": "aedd07ae",
   "metadata": {},
   "source": [
    "## Обучение модели"
   ]
  },
  {
   "cell_type": "code",
   "execution_count": 128,
   "id": "5641ace8",
   "metadata": {
    "ExecuteTime": {
     "end_time": "2022-04-15T13:48:18.357249Z",
     "start_time": "2022-04-15T13:48:18.354998Z"
    }
   },
   "outputs": [],
   "source": [
    "# Чтоб числа вещественные выводились норм\n",
    "pd.options.display.float_format ='{:,.5f}'.format"
   ]
  },
  {
   "cell_type": "code",
   "execution_count": 129,
   "id": "1ad7c96f",
   "metadata": {
    "ExecuteTime": {
     "end_time": "2022-04-15T13:48:18.465691Z",
     "start_time": "2022-04-15T13:48:18.358298Z"
    }
   },
   "outputs": [],
   "source": [
    "def get_norm(pred):\n",
    "    \"\"\"Нормирование предсказания от 0 до 1\"\"\"\n",
    "    return (pred-pred.min())/(pred.max()-pred.min())\n",
    "\n",
    "def get_metrics(y, pred):\n",
    "    \"\"\"Метрики качества обучения\"\"\"\n",
    "    mse = mean_squared_error(y, pred)\n",
    "    mae = mean_absolute_error(y, pred)\n",
    "    roc_auc = roc_auc_score(y, pred)\n",
    "    print('mse: ', mse)\n",
    "    print('mae: ', mae)\n",
    "    print('roc-auc: ', roc_auc)\n",
    "    \n",
    "    return {'mse': mse, 'mae': mae, 'roc-auc': roc_auc}\n",
    "    \n",
    "    \n",
    "    "
   ]
  },
  {
   "cell_type": "code",
   "execution_count": 130,
   "id": "456b36d1",
   "metadata": {
    "ExecuteTime": {
     "end_time": "2022-04-15T13:48:18.591890Z",
     "start_time": "2022-04-15T13:48:18.468114Z"
    }
   },
   "outputs": [],
   "source": [
    "# Гиперпараметры\n",
    "RANDOM_STATE = 42\n",
    "LEARNING_RATE = 0.1\n",
    "LOSS_FUNC = 'logistic' # Нужны +1 и -1 => в rating заменим 0 на -1\n",
    "NUM_COMPONENTS = 110 # поиграть с этим параметром - число параметров вектора \n",
    "NUM_EPOCHS = 23 #число эпох обучения\n",
    "NUM_THREADS = 4 #число потоков"
   ]
  },
  {
   "cell_type": "code",
   "execution_count": 131,
   "id": "94206799",
   "metadata": {
    "ExecuteTime": {
     "end_time": "2022-04-15T13:48:18.879096Z",
     "start_time": "2022-04-15T13:48:18.593965Z"
    }
   },
   "outputs": [
    {
     "data": {
      "text/plain": [
       "1.00000     701612\n",
       "-1.00000    125283\n",
       "Name: rating, dtype: int64"
      ]
     },
     "execution_count": 131,
     "metadata": {},
     "output_type": "execute_result"
    }
   ],
   "source": [
    "train_df['rating'] = train_df['rating'].apply(lambda x: -1 if x == 0 else x)\n",
    "train_df['rating'].value_counts()"
   ]
  },
  {
   "cell_type": "code",
   "execution_count": 132,
   "id": "33e59dad",
   "metadata": {
    "ExecuteTime": {
     "end_time": "2022-04-15T13:48:19.391947Z",
     "start_time": "2022-04-15T13:48:18.880469Z"
    }
   },
   "outputs": [],
   "source": [
    "X_train, X_test = train_test_split(train_df, random_state = RANDOM_STATE, test_size=0.2, shuffle = True)"
   ]
  },
  {
   "cell_type": "code",
   "execution_count": 133,
   "id": "48c4a707",
   "metadata": {
    "ExecuteTime": {
     "end_time": "2022-04-15T13:48:19.400346Z",
     "start_time": "2022-04-15T13:48:19.392972Z"
    }
   },
   "outputs": [],
   "source": [
    "ratings_coo = sparse.coo_matrix(\n",
    "    (X_train['rating'].astype(int), (X_train['userid'], X_train['itemid']))\n",
    ")"
   ]
  },
  {
   "cell_type": "markdown",
   "id": "ca808836",
   "metadata": {},
   "source": [
    "### Базовая модель, не учитывающая признаки товаров и пользователей"
   ]
  },
  {
   "cell_type": "code",
   "execution_count": 134,
   "id": "d9602c6f",
   "metadata": {
    "ExecuteTime": {
     "end_time": "2022-04-15T13:48:19.536511Z",
     "start_time": "2022-04-15T13:48:19.401350Z"
    }
   },
   "outputs": [],
   "source": [
    "# Создадим словарь, в который будем собирать метрики по каждой модели\n",
    "metrics_model = {}"
   ]
  },
  {
   "cell_type": "code",
   "execution_count": 135,
   "id": "1edc1700",
   "metadata": {
    "ExecuteTime": {
     "end_time": "2022-04-15T13:48:31.531907Z",
     "start_time": "2022-04-15T13:48:19.540809Z"
    }
   },
   "outputs": [
    {
     "name": "stdout",
     "output_type": "stream",
     "text": [
      "mse:  0.18230117881696567\n",
      "mae:  0.4203898938143836\n",
      "roc-auc:  0.7293874106329046\n"
     ]
    }
   ],
   "source": [
    "model = LightFM(\n",
    "    learning_rate=LEARNING_RATE,\n",
    "    loss=LOSS_FUNC,\n",
    "    no_components=NUM_COMPONENTS,\n",
    "    random_state=RANDOM_STATE,\n",
    ")\n",
    "model = model.fit(ratings_coo,\n",
    "                  num_threads=NUM_THREADS,\n",
    "                  epochs=NUM_EPOCHS)\n",
    "preds = model.predict(X_test.userid.values, X_test.itemid.values)\n",
    "preds = get_norm(preds)\n",
    "\n",
    "metrics_model['model'] = get_metrics(get_norm(X_test.rating), preds)"
   ]
  },
  {
   "cell_type": "code",
   "execution_count": 136,
   "id": "c603164a",
   "metadata": {
    "ExecuteTime": {
     "end_time": "2022-04-15T13:48:32.775247Z",
     "start_time": "2022-04-15T13:48:31.533668Z"
    }
   },
   "outputs": [
    {
     "data": {
      "text/plain": [
       "<AxesSubplot:ylabel='Count'>"
      ]
     },
     "execution_count": 136,
     "metadata": {},
     "output_type": "execute_result"
    },
    {
     "data": {
      "image/png": "[encoded data removed]",
      "text/plain": [
       "<Figure size 432x288 with 1 Axes>"
      ]
     },
     "metadata": {
      "needs_background": "light"
     },
     "output_type": "display_data"
    }
   ],
   "source": [
    "sns.histplot(preds)"
   ]
  },
  {
   "cell_type": "markdown",
   "id": "c97faf11",
   "metadata": {},
   "source": [
    "По распределению видно, что модель не может четко классифицироват рейтинг."
   ]
  },
  {
   "cell_type": "markdown",
   "id": "e44a7164",
   "metadata": {},
   "source": [
    "### Посмотрим какие признаки оказывают наибольшее влияние на целевую переменную"
   ]
  },
  {
   "cell_type": "markdown",
   "id": "b716428d",
   "metadata": {},
   "source": [
    "Соберем отдельный датафрейм, чтоб не попортить рабочие."
   ]
  },
  {
   "cell_type": "code",
   "execution_count": 137,
   "id": "5ec0038c",
   "metadata": {
    "ExecuteTime": {
     "end_time": "2022-04-15T13:48:33.543531Z",
     "start_time": "2022-04-15T13:48:32.776423Z"
    }
   },
   "outputs": [],
   "source": [
    "classif_df = pd.merge(train_df, product_df, on='asin')"
   ]
  },
  {
   "cell_type": "code",
   "execution_count": 138,
   "id": "c480e92a",
   "metadata": {
    "ExecuteTime": {
     "end_time": "2022-04-15T13:48:34.135834Z",
     "start_time": "2022-04-15T13:48:33.544821Z"
    }
   },
   "outputs": [],
   "source": [
    "classif_df = classif_df[['verified','vote', 'dataAge', 'dateReview_week', 'dateReview_month', \n",
    "                         'user_reviewer_num', 'item_reviewer_num','rank', 'main_cat', 'price', \n",
    "                         'num_category_1', 'num_category_2', 'num_category_3','rating', 'style_size_num']].copy()"
   ]
  },
  {
   "cell_type": "code",
   "execution_count": 139,
   "id": "14c8980a",
   "metadata": {
    "ExecuteTime": {
     "end_time": "2022-04-15T13:48:34.456251Z",
     "start_time": "2022-04-15T13:48:34.137009Z"
    }
   },
   "outputs": [],
   "source": [
    "classif_df['dateReview_week_all'] = classif_df['dateReview_week']\n",
    "classif_df['dateReview_month_all'] = classif_df['dateReview_month']\n",
    "classif_df['main_cat_all'] = classif_df['main_cat']\n",
    "classif_df['num_category_1_all'] = classif_df['num_category_1']\n",
    "\n",
    "classif_df = pd.get_dummies(classif_df, columns=['dateReview_week', 'dateReview_month', 'main_cat', 'num_category_1'], prefix_sep = '_')"
   ]
  },
  {
   "cell_type": "code",
   "execution_count": 140,
   "id": "557fb831",
   "metadata": {
    "ExecuteTime": {
     "end_time": "2022-04-15T13:48:34.839195Z",
     "start_time": "2022-04-15T13:48:34.457445Z"
    }
   },
   "outputs": [],
   "source": [
    "classif_df['main_cat_all'] = classif_df['main_cat_all'].apply(lambda x: main_cat_all_dict[x])\n",
    "classif_df['num_category_1_all'] = classif_df['num_category_1_all'].apply(lambda x: num_category_1_all_dict[x])"
   ]
  },
  {
   "cell_type": "code",
   "execution_count": 141,
   "id": "384efbcc",
   "metadata": {
    "ExecuteTime": {
     "end_time": "2022-04-15T13:48:34.929847Z",
     "start_time": "2022-04-15T13:48:34.840364Z"
    }
   },
   "outputs": [
    {
     "data": {
      "text/html": [
       "<div>\n",
       "<style scoped>\n",
       "    .dataframe tbody tr th:only-of-type {\n",
       "        vertical-align: middle;\n",
       "    }\n",
       "\n",
       "    .dataframe tbody tr th {\n",
       "        vertical-align: top;\n",
       "    }\n",
       "\n",
       "    .dataframe thead th {\n",
       "        text-align: right;\n",
       "    }\n",
       "</style>\n",
       "<table border=\"1\" class=\"dataframe\">\n",
       "  <thead>\n",
       "    <tr style=\"text-align: right;\">\n",
       "      <th></th>\n",
       "      <th>verified</th>\n",
       "      <th>vote</th>\n",
       "      <th>dataAge</th>\n",
       "      <th>user_reviewer_num</th>\n",
       "      <th>item_reviewer_num</th>\n",
       "      <th>rank</th>\n",
       "      <th>price</th>\n",
       "      <th>num_category_2</th>\n",
       "      <th>num_category_3</th>\n",
       "      <th>rating</th>\n",
       "      <th>...</th>\n",
       "      <th>num_category_1_Jams, Jellies &amp; Sweet Spreads</th>\n",
       "      <th>num_category_1_Meat &amp; Seafood</th>\n",
       "      <th>num_category_1_Meat Substitutes</th>\n",
       "      <th>num_category_1_Olives, Pickles &amp; Relishes</th>\n",
       "      <th>num_category_1_Pasta &amp; Noodles</th>\n",
       "      <th>num_category_1_Prepared Foods</th>\n",
       "      <th>num_category_1_Produce</th>\n",
       "      <th>num_category_1_Sauces, Gravies &amp; Marinades</th>\n",
       "      <th>num_category_1_Snack Foods</th>\n",
       "      <th>num_category_1_Soups, Stocks &amp; Broths</th>\n",
       "    </tr>\n",
       "  </thead>\n",
       "  <tbody>\n",
       "    <tr>\n",
       "      <th>0</th>\n",
       "      <td>1</td>\n",
       "      <td>0</td>\n",
       "      <td>728</td>\n",
       "      <td>7</td>\n",
       "      <td>14</td>\n",
       "      <td>19,771.00000</td>\n",
       "      <td>9.95000</td>\n",
       "      <td>Mixed Spices &amp; Seasonings</td>\n",
       "      <td>Adobo Seasoning</td>\n",
       "      <td>1.00000</td>\n",
       "      <td>...</td>\n",
       "      <td>0</td>\n",
       "      <td>0</td>\n",
       "      <td>0</td>\n",
       "      <td>0</td>\n",
       "      <td>0</td>\n",
       "      <td>0</td>\n",
       "      <td>0</td>\n",
       "      <td>0</td>\n",
       "      <td>0</td>\n",
       "      <td>0</td>\n",
       "    </tr>\n",
       "    <tr>\n",
       "      <th>1</th>\n",
       "      <td>0</td>\n",
       "      <td>0</td>\n",
       "      <td>550</td>\n",
       "      <td>5</td>\n",
       "      <td>14</td>\n",
       "      <td>19,771.00000</td>\n",
       "      <td>9.95000</td>\n",
       "      <td>Mixed Spices &amp; Seasonings</td>\n",
       "      <td>Adobo Seasoning</td>\n",
       "      <td>1.00000</td>\n",
       "      <td>...</td>\n",
       "      <td>0</td>\n",
       "      <td>0</td>\n",
       "      <td>0</td>\n",
       "      <td>0</td>\n",
       "      <td>0</td>\n",
       "      <td>0</td>\n",
       "      <td>0</td>\n",
       "      <td>0</td>\n",
       "      <td>0</td>\n",
       "      <td>0</td>\n",
       "    </tr>\n",
       "    <tr>\n",
       "      <th>2</th>\n",
       "      <td>1</td>\n",
       "      <td>4</td>\n",
       "      <td>570</td>\n",
       "      <td>10</td>\n",
       "      <td>14</td>\n",
       "      <td>19,771.00000</td>\n",
       "      <td>9.95000</td>\n",
       "      <td>Mixed Spices &amp; Seasonings</td>\n",
       "      <td>Adobo Seasoning</td>\n",
       "      <td>-1.00000</td>\n",
       "      <td>...</td>\n",
       "      <td>0</td>\n",
       "      <td>0</td>\n",
       "      <td>0</td>\n",
       "      <td>0</td>\n",
       "      <td>0</td>\n",
       "      <td>0</td>\n",
       "      <td>0</td>\n",
       "      <td>0</td>\n",
       "      <td>0</td>\n",
       "      <td>0</td>\n",
       "    </tr>\n",
       "    <tr>\n",
       "      <th>3</th>\n",
       "      <td>0</td>\n",
       "      <td>0</td>\n",
       "      <td>867</td>\n",
       "      <td>5</td>\n",
       "      <td>14</td>\n",
       "      <td>19,771.00000</td>\n",
       "      <td>9.95000</td>\n",
       "      <td>Mixed Spices &amp; Seasonings</td>\n",
       "      <td>Adobo Seasoning</td>\n",
       "      <td>1.00000</td>\n",
       "      <td>...</td>\n",
       "      <td>0</td>\n",
       "      <td>0</td>\n",
       "      <td>0</td>\n",
       "      <td>0</td>\n",
       "      <td>0</td>\n",
       "      <td>0</td>\n",
       "      <td>0</td>\n",
       "      <td>0</td>\n",
       "      <td>0</td>\n",
       "      <td>0</td>\n",
       "    </tr>\n",
       "    <tr>\n",
       "      <th>4</th>\n",
       "      <td>0</td>\n",
       "      <td>0</td>\n",
       "      <td>867</td>\n",
       "      <td>5</td>\n",
       "      <td>14</td>\n",
       "      <td>19,771.00000</td>\n",
       "      <td>9.95000</td>\n",
       "      <td>Mixed Spices &amp; Seasonings</td>\n",
       "      <td>Adobo Seasoning</td>\n",
       "      <td>1.00000</td>\n",
       "      <td>...</td>\n",
       "      <td>0</td>\n",
       "      <td>0</td>\n",
       "      <td>0</td>\n",
       "      <td>0</td>\n",
       "      <td>0</td>\n",
       "      <td>0</td>\n",
       "      <td>0</td>\n",
       "      <td>0</td>\n",
       "      <td>0</td>\n",
       "      <td>0</td>\n",
       "    </tr>\n",
       "    <tr>\n",
       "      <th>...</th>\n",
       "      <td>...</td>\n",
       "      <td>...</td>\n",
       "      <td>...</td>\n",
       "      <td>...</td>\n",
       "      <td>...</td>\n",
       "      <td>...</td>\n",
       "      <td>...</td>\n",
       "      <td>...</td>\n",
       "      <td>...</td>\n",
       "      <td>...</td>\n",
       "      <td>...</td>\n",
       "      <td>...</td>\n",
       "      <td>...</td>\n",
       "      <td>...</td>\n",
       "      <td>...</td>\n",
       "      <td>...</td>\n",
       "      <td>...</td>\n",
       "      <td>...</td>\n",
       "      <td>...</td>\n",
       "      <td>...</td>\n",
       "      <td>...</td>\n",
       "    </tr>\n",
       "    <tr>\n",
       "      <th>826890</th>\n",
       "      <td>1</td>\n",
       "      <td>0</td>\n",
       "      <td>521</td>\n",
       "      <td>5</td>\n",
       "      <td>1</td>\n",
       "      <td>212,433.00000</td>\n",
       "      <td>30.99000</td>\n",
       "      <td>Candy &amp; Chocolate Bars</td>\n",
       "      <td>Candy &amp; Chocolate Bars</td>\n",
       "      <td>1.00000</td>\n",
       "      <td>...</td>\n",
       "      <td>0</td>\n",
       "      <td>0</td>\n",
       "      <td>0</td>\n",
       "      <td>0</td>\n",
       "      <td>0</td>\n",
       "      <td>0</td>\n",
       "      <td>0</td>\n",
       "      <td>0</td>\n",
       "      <td>0</td>\n",
       "      <td>0</td>\n",
       "    </tr>\n",
       "    <tr>\n",
       "      <th>826891</th>\n",
       "      <td>0</td>\n",
       "      <td>0</td>\n",
       "      <td>32</td>\n",
       "      <td>5</td>\n",
       "      <td>5</td>\n",
       "      <td>150,108.00000</td>\n",
       "      <td>18.68000</td>\n",
       "      <td>Nut &amp; Seed Butters</td>\n",
       "      <td>Peanut Butter</td>\n",
       "      <td>1.00000</td>\n",
       "      <td>...</td>\n",
       "      <td>1</td>\n",
       "      <td>0</td>\n",
       "      <td>0</td>\n",
       "      <td>0</td>\n",
       "      <td>0</td>\n",
       "      <td>0</td>\n",
       "      <td>0</td>\n",
       "      <td>0</td>\n",
       "      <td>0</td>\n",
       "      <td>0</td>\n",
       "    </tr>\n",
       "    <tr>\n",
       "      <th>826892</th>\n",
       "      <td>1</td>\n",
       "      <td>0</td>\n",
       "      <td>1072</td>\n",
       "      <td>5</td>\n",
       "      <td>5</td>\n",
       "      <td>14,497.00000</td>\n",
       "      <td>33.10000</td>\n",
       "      <td>Coffee, Tea &amp; Cocoa</td>\n",
       "      <td>Coffee</td>\n",
       "      <td>1.00000</td>\n",
       "      <td>...</td>\n",
       "      <td>0</td>\n",
       "      <td>0</td>\n",
       "      <td>0</td>\n",
       "      <td>0</td>\n",
       "      <td>0</td>\n",
       "      <td>0</td>\n",
       "      <td>0</td>\n",
       "      <td>0</td>\n",
       "      <td>0</td>\n",
       "      <td>0</td>\n",
       "    </tr>\n",
       "    <tr>\n",
       "      <th>826893</th>\n",
       "      <td>1</td>\n",
       "      <td>0</td>\n",
       "      <td>1302</td>\n",
       "      <td>6</td>\n",
       "      <td>6</td>\n",
       "      <td>443,322.00000</td>\n",
       "      <td>15.99000</td>\n",
       "      <td>Coffee, Tea &amp; Cocoa</td>\n",
       "      <td>Tea</td>\n",
       "      <td>1.00000</td>\n",
       "      <td>...</td>\n",
       "      <td>0</td>\n",
       "      <td>0</td>\n",
       "      <td>0</td>\n",
       "      <td>0</td>\n",
       "      <td>0</td>\n",
       "      <td>0</td>\n",
       "      <td>0</td>\n",
       "      <td>0</td>\n",
       "      <td>0</td>\n",
       "      <td>0</td>\n",
       "    </tr>\n",
       "    <tr>\n",
       "      <th>826894</th>\n",
       "      <td>0</td>\n",
       "      <td>0</td>\n",
       "      <td>323</td>\n",
       "      <td>5</td>\n",
       "      <td>7</td>\n",
       "      <td>43,444.00000</td>\n",
       "      <td>19.44000</td>\n",
       "      <td>Meat, Poultry &amp; Seafood</td>\n",
       "      <td>Meat, Poultry &amp; Seafood</td>\n",
       "      <td>1.00000</td>\n",
       "      <td>...</td>\n",
       "      <td>0</td>\n",
       "      <td>0</td>\n",
       "      <td>0</td>\n",
       "      <td>0</td>\n",
       "      <td>0</td>\n",
       "      <td>0</td>\n",
       "      <td>0</td>\n",
       "      <td>0</td>\n",
       "      <td>0</td>\n",
       "      <td>0</td>\n",
       "    </tr>\n",
       "  </tbody>\n",
       "</table>\n",
       "<p>826895 rows × 73 columns</p>\n",
       "</div>"
      ],
      "text/plain": [
       "        verified  vote  dataAge  user_reviewer_num  item_reviewer_num  \\\n",
       "0              1     0      728                  7                 14   \n",
       "1              0     0      550                  5                 14   \n",
       "2              1     4      570                 10                 14   \n",
       "3              0     0      867                  5                 14   \n",
       "4              0     0      867                  5                 14   \n",
       "...          ...   ...      ...                ...                ...   \n",
       "826890         1     0      521                  5                  1   \n",
       "826891         0     0       32                  5                  5   \n",
       "826892         1     0     1072                  5                  5   \n",
       "826893         1     0     1302                  6                  6   \n",
       "826894         0     0      323                  5                  7   \n",
       "\n",
       "                rank    price             num_category_2  \\\n",
       "0       19,771.00000  9.95000  Mixed Spices & Seasonings   \n",
       "1       19,771.00000  9.95000  Mixed Spices & Seasonings   \n",
       "2       19,771.00000  9.95000  Mixed Spices & Seasonings   \n",
       "3       19,771.00000  9.95000  Mixed Spices & Seasonings   \n",
       "4       19,771.00000  9.95000  Mixed Spices & Seasonings   \n",
       "...              ...      ...                        ...   \n",
       "826890 212,433.00000 30.99000     Candy & Chocolate Bars   \n",
       "826891 150,108.00000 18.68000         Nut & Seed Butters   \n",
       "826892  14,497.00000 33.10000        Coffee, Tea & Cocoa   \n",
       "826893 443,322.00000 15.99000        Coffee, Tea & Cocoa   \n",
       "826894  43,444.00000 19.44000    Meat, Poultry & Seafood   \n",
       "\n",
       "                 num_category_3   rating  ...  \\\n",
       "0               Adobo Seasoning  1.00000  ...   \n",
       "1               Adobo Seasoning  1.00000  ...   \n",
       "2               Adobo Seasoning -1.00000  ...   \n",
       "3               Adobo Seasoning  1.00000  ...   \n",
       "4               Adobo Seasoning  1.00000  ...   \n",
       "...                         ...      ...  ...   \n",
       "826890   Candy & Chocolate Bars  1.00000  ...   \n",
       "826891            Peanut Butter  1.00000  ...   \n",
       "826892                   Coffee  1.00000  ...   \n",
       "826893                      Tea  1.00000  ...   \n",
       "826894  Meat, Poultry & Seafood  1.00000  ...   \n",
       "\n",
       "        num_category_1_Jams, Jellies & Sweet Spreads  \\\n",
       "0                                                  0   \n",
       "1                                                  0   \n",
       "2                                                  0   \n",
       "3                                                  0   \n",
       "4                                                  0   \n",
       "...                                              ...   \n",
       "826890                                             0   \n",
       "826891                                             1   \n",
       "826892                                             0   \n",
       "826893                                             0   \n",
       "826894                                             0   \n",
       "\n",
       "        num_category_1_Meat & Seafood  num_category_1_Meat Substitutes  \\\n",
       "0                                   0                                0   \n",
       "1                                   0                                0   \n",
       "2                                   0                                0   \n",
       "3                                   0                                0   \n",
       "4                                   0                                0   \n",
       "...                               ...                              ...   \n",
       "826890                              0                                0   \n",
       "826891                              0                                0   \n",
       "826892                              0                                0   \n",
       "826893                              0                                0   \n",
       "826894                              0                                0   \n",
       "\n",
       "        num_category_1_Olives, Pickles & Relishes  \\\n",
       "0                                               0   \n",
       "1                                               0   \n",
       "2                                               0   \n",
       "3                                               0   \n",
       "4                                               0   \n",
       "...                                           ...   \n",
       "826890                                          0   \n",
       "826891                                          0   \n",
       "826892                                          0   \n",
       "826893                                          0   \n",
       "826894                                          0   \n",
       "\n",
       "        num_category_1_Pasta & Noodles  num_category_1_Prepared Foods  \\\n",
       "0                                    0                              0   \n",
       "1                                    0                              0   \n",
       "2                                    0                              0   \n",
       "3                                    0                              0   \n",
       "4                                    0                              0   \n",
       "...                                ...                            ...   \n",
       "826890                               0                              0   \n",
       "826891                               0                              0   \n",
       "826892                               0                              0   \n",
       "826893                               0                              0   \n",
       "826894                               0                              0   \n",
       "\n",
       "        num_category_1_Produce  num_category_1_Sauces, Gravies & Marinades  \\\n",
       "0                            0                                           0   \n",
       "1                            0                                           0   \n",
       "2                            0                                           0   \n",
       "3                            0                                           0   \n",
       "4                            0                                           0   \n",
       "...                        ...                                         ...   \n",
       "826890                       0                                           0   \n",
       "826891                       0                                           0   \n",
       "826892                       0                                           0   \n",
       "826893                       0                                           0   \n",
       "826894                       0                                           0   \n",
       "\n",
       "        num_category_1_Snack Foods  num_category_1_Soups, Stocks & Broths  \n",
       "0                                0                                      0  \n",
       "1                                0                                      0  \n",
       "2                                0                                      0  \n",
       "3                                0                                      0  \n",
       "4                                0                                      0  \n",
       "...                            ...                                    ...  \n",
       "826890                           0                                      0  \n",
       "826891                           0                                      0  \n",
       "826892                           0                                      0  \n",
       "826893                           0                                      0  \n",
       "826894                           0                                      0  \n",
       "\n",
       "[826895 rows x 73 columns]"
      ]
     },
     "execution_count": 141,
     "metadata": {},
     "output_type": "execute_result"
    }
   ],
   "source": [
    "classif_df"
   ]
  },
  {
   "cell_type": "code",
   "execution_count": 142,
   "id": "eacdd8d9",
   "metadata": {
    "ExecuteTime": {
     "end_time": "2022-04-15T13:48:35.956734Z",
     "start_time": "2022-04-15T13:48:34.931501Z"
    }
   },
   "outputs": [],
   "source": [
    "# Стандартизируем:\n",
    "scaler_cl = MinMaxScaler()\n",
    "col_st = classif_df.drop(['rating','num_category_2', 'num_category_3'], axis=1).columns\n",
    "classif_df[col_st] = pd.DataFrame(scaler_cl.fit_transform(classif_df[col_st]))"
   ]
  },
  {
   "cell_type": "code",
   "execution_count": 143,
   "id": "b77d2eeb",
   "metadata": {
    "ExecuteTime": {
     "end_time": "2022-04-15T13:48:37.322293Z",
     "start_time": "2022-04-15T13:48:35.957830Z"
    }
   },
   "outputs": [
    {
     "data": {
      "image/png": "[encoded data removed]",
      "text/plain": [
       "<Figure size 1080x720 with 1 Axes>"
      ]
     },
     "metadata": {
      "needs_background": "light"
     },
     "output_type": "display_data"
    }
   ],
   "source": [
    "importance_features = pd.Series(f_classif(classif_df[col_st], \n",
    "                           classif_df['rating'])[0], index = col_st)\n",
    "\n",
    "importance_features = importance_features.sort_values()\n",
    "\n",
    "plt.figure(figsize=(15, 10))\n",
    "plt.title('Рейтинг признаков для классификации')\n",
    "importance_features[45:].plot(kind = 'barh')\n",
    "plt.show()"
   ]
  },
  {
   "cell_type": "markdown",
   "id": "1be9ad8f",
   "metadata": {},
   "source": [
    "Самое большое значение имеют колонки:\n",
    "1. 'vote', 'verified' и 'rank'.\n",
    "2. 'item_reviewer_num' и 'user_reviewer_num'\n",
    "3. Разбивка дамп-переменными по 'num_category_1'"
   ]
  },
  {
   "cell_type": "markdown",
   "id": "caff4d94",
   "metadata": {},
   "source": [
    "### Соберем разные списки колонок для обучения и обучим на них:"
   ]
  },
  {
   "cell_type": "code",
   "execution_count": 144,
   "id": "b5fefce9",
   "metadata": {
    "ExecuteTime": {
     "end_time": "2022-04-15T13:48:39.606014Z",
     "start_time": "2022-04-15T13:48:37.323575Z"
    }
   },
   "outputs": [],
   "source": [
    "feature_df_items = feature_df.groupby('itemid').median()\n",
    "feature_df_users = feature_df.groupby('userid').median()"
   ]
  },
  {
   "cell_type": "code",
   "execution_count": 145,
   "id": "147adef3",
   "metadata": {
    "ExecuteTime": {
     "end_time": "2022-04-15T13:48:39.610560Z",
     "start_time": "2022-04-15T13:48:39.607068Z"
    }
   },
   "outputs": [],
   "source": [
    "feature_df_items['item_index'] = feature_df_items.index\n",
    "feature_df_users['user_index'] = feature_df_users.index"
   ]
  },
  {
   "cell_type": "markdown",
   "id": "fafbb874",
   "metadata": {},
   "source": [
    "### Стандартизируем данные"
   ]
  },
  {
   "cell_type": "code",
   "execution_count": 146,
   "id": "e35aed47",
   "metadata": {
    "ExecuteTime": {
     "end_time": "2022-04-15T13:48:40.171057Z",
     "start_time": "2022-04-15T13:48:39.612064Z"
    }
   },
   "outputs": [
    {
     "data": {
      "text/html": [
       "<div>\n",
       "<style scoped>\n",
       "    .dataframe tbody tr th:only-of-type {\n",
       "        vertical-align: middle;\n",
       "    }\n",
       "\n",
       "    .dataframe tbody tr th {\n",
       "        vertical-align: top;\n",
       "    }\n",
       "\n",
       "    .dataframe thead th {\n",
       "        text-align: right;\n",
       "    }\n",
       "</style>\n",
       "<table border=\"1\" class=\"dataframe\">\n",
       "  <thead>\n",
       "    <tr style=\"text-align: right;\">\n",
       "      <th></th>\n",
       "      <th>itemid</th>\n",
       "      <th>verified</th>\n",
       "      <th>vote</th>\n",
       "      <th>dataAge</th>\n",
       "      <th>style_size_num</th>\n",
       "      <th>user_reviewer_num</th>\n",
       "      <th>item_reviewer_num</th>\n",
       "      <th>rank</th>\n",
       "      <th>price</th>\n",
       "      <th>dateReview_week_all</th>\n",
       "      <th>...</th>\n",
       "      <th>num_category_1_Meat &amp; Seafood</th>\n",
       "      <th>num_category_1_Meat Substitutes</th>\n",
       "      <th>num_category_1_Olives, Pickles &amp; Relishes</th>\n",
       "      <th>num_category_1_Pasta &amp; Noodles</th>\n",
       "      <th>num_category_1_Prepared Foods</th>\n",
       "      <th>num_category_1_Produce</th>\n",
       "      <th>num_category_1_Sauces, Gravies &amp; Marinades</th>\n",
       "      <th>num_category_1_Snack Foods</th>\n",
       "      <th>num_category_1_Soups, Stocks &amp; Broths</th>\n",
       "      <th>user_index</th>\n",
       "    </tr>\n",
       "  </thead>\n",
       "  <tbody>\n",
       "    <tr>\n",
       "      <th>count</th>\n",
       "      <td>127,496.00000</td>\n",
       "      <td>127,496.00000</td>\n",
       "      <td>127,496.00000</td>\n",
       "      <td>127,496.00000</td>\n",
       "      <td>127,496.00000</td>\n",
       "      <td>127,496.00000</td>\n",
       "      <td>127,496.00000</td>\n",
       "      <td>127,496.00000</td>\n",
       "      <td>127,496.00000</td>\n",
       "      <td>127,496.00000</td>\n",
       "      <td>...</td>\n",
       "      <td>127,496.00000</td>\n",
       "      <td>127,496.00000</td>\n",
       "      <td>127,496.00000</td>\n",
       "      <td>127,496.00000</td>\n",
       "      <td>127,496.00000</td>\n",
       "      <td>127,496.00000</td>\n",
       "      <td>127,496.00000</td>\n",
       "      <td>127,496.00000</td>\n",
       "      <td>127,496.00000</td>\n",
       "      <td>127,496.00000</td>\n",
       "    </tr>\n",
       "    <tr>\n",
       "      <th>mean</th>\n",
       "      <td>16,902.43940</td>\n",
       "      <td>0.93343</td>\n",
       "      <td>0.01904</td>\n",
       "      <td>0.50718</td>\n",
       "      <td>0.02723</td>\n",
       "      <td>0.01523</td>\n",
       "      <td>0.04660</td>\n",
       "      <td>0.10313</td>\n",
       "      <td>0.18217</td>\n",
       "      <td>0.48027</td>\n",
       "      <td>...</td>\n",
       "      <td>0.00025</td>\n",
       "      <td>0.00011</td>\n",
       "      <td>0.00027</td>\n",
       "      <td>0.00093</td>\n",
       "      <td>0.00010</td>\n",
       "      <td>0.00507</td>\n",
       "      <td>0.00262</td>\n",
       "      <td>0.05655</td>\n",
       "      <td>0.00447</td>\n",
       "      <td>63,747.50000</td>\n",
       "    </tr>\n",
       "    <tr>\n",
       "      <th>std</th>\n",
       "      <td>7,946.31918</td>\n",
       "      <td>0.24374</td>\n",
       "      <td>0.09102</td>\n",
       "      <td>0.23089</td>\n",
       "      <td>0.10470</td>\n",
       "      <td>0.01647</td>\n",
       "      <td>0.14385</td>\n",
       "      <td>0.09168</td>\n",
       "      <td>0.06073</td>\n",
       "      <td>0.27237</td>\n",
       "      <td>...</td>\n",
       "      <td>0.01462</td>\n",
       "      <td>0.01000</td>\n",
       "      <td>0.01534</td>\n",
       "      <td>0.02902</td>\n",
       "      <td>0.00874</td>\n",
       "      <td>0.06785</td>\n",
       "      <td>0.04860</td>\n",
       "      <td>0.22106</td>\n",
       "      <td>0.06409</td>\n",
       "      <td>36,805.06930</td>\n",
       "    </tr>\n",
       "    <tr>\n",
       "      <th>min</th>\n",
       "      <td>41.00000</td>\n",
       "      <td>0.00000</td>\n",
       "      <td>0.00000</td>\n",
       "      <td>0.00000</td>\n",
       "      <td>0.00000</td>\n",
       "      <td>0.00000</td>\n",
       "      <td>0.00000</td>\n",
       "      <td>0.00000</td>\n",
       "      <td>0.00000</td>\n",
       "      <td>0.00000</td>\n",
       "      <td>...</td>\n",
       "      <td>0.00000</td>\n",
       "      <td>0.00000</td>\n",
       "      <td>0.00000</td>\n",
       "      <td>0.00000</td>\n",
       "      <td>0.00000</td>\n",
       "      <td>0.00000</td>\n",
       "      <td>0.00000</td>\n",
       "      <td>0.00000</td>\n",
       "      <td>0.00000</td>\n",
       "      <td>0.00000</td>\n",
       "    </tr>\n",
       "    <tr>\n",
       "      <th>25%</th>\n",
       "      <td>10,635.50000</td>\n",
       "      <td>1.00000</td>\n",
       "      <td>0.00000</td>\n",
       "      <td>0.32592</td>\n",
       "      <td>0.00000</td>\n",
       "      <td>0.00828</td>\n",
       "      <td>0.00538</td>\n",
       "      <td>0.03566</td>\n",
       "      <td>0.14087</td>\n",
       "      <td>0.33333</td>\n",
       "      <td>...</td>\n",
       "      <td>0.00000</td>\n",
       "      <td>0.00000</td>\n",
       "      <td>0.00000</td>\n",
       "      <td>0.00000</td>\n",
       "      <td>0.00000</td>\n",
       "      <td>0.00000</td>\n",
       "      <td>0.00000</td>\n",
       "      <td>0.00000</td>\n",
       "      <td>0.00000</td>\n",
       "      <td>31,873.75000</td>\n",
       "    </tr>\n",
       "    <tr>\n",
       "      <th>50%</th>\n",
       "      <td>16,534.00000</td>\n",
       "      <td>1.00000</td>\n",
       "      <td>0.00000</td>\n",
       "      <td>0.50632</td>\n",
       "      <td>0.00000</td>\n",
       "      <td>0.01035</td>\n",
       "      <td>0.01103</td>\n",
       "      <td>0.07233</td>\n",
       "      <td>0.17336</td>\n",
       "      <td>0.50000</td>\n",
       "      <td>...</td>\n",
       "      <td>0.00000</td>\n",
       "      <td>0.00000</td>\n",
       "      <td>0.00000</td>\n",
       "      <td>0.00000</td>\n",
       "      <td>0.00000</td>\n",
       "      <td>0.00000</td>\n",
       "      <td>0.00000</td>\n",
       "      <td>0.00000</td>\n",
       "      <td>0.00000</td>\n",
       "      <td>63,747.50000</td>\n",
       "    </tr>\n",
       "    <tr>\n",
       "      <th>75%</th>\n",
       "      <td>23,083.00000</td>\n",
       "      <td>1.00000</td>\n",
       "      <td>0.00000</td>\n",
       "      <td>0.69126</td>\n",
       "      <td>0.00000</td>\n",
       "      <td>0.01656</td>\n",
       "      <td>0.02500</td>\n",
       "      <td>0.14468</td>\n",
       "      <td>0.21234</td>\n",
       "      <td>0.66667</td>\n",
       "      <td>...</td>\n",
       "      <td>0.00000</td>\n",
       "      <td>0.00000</td>\n",
       "      <td>0.00000</td>\n",
       "      <td>0.00000</td>\n",
       "      <td>0.00000</td>\n",
       "      <td>0.00000</td>\n",
       "      <td>0.00000</td>\n",
       "      <td>0.00000</td>\n",
       "      <td>0.00000</td>\n",
       "      <td>95,621.25000</td>\n",
       "    </tr>\n",
       "    <tr>\n",
       "      <th>max</th>\n",
       "      <td>41,097.00000</td>\n",
       "      <td>1.00000</td>\n",
       "      <td>1.00000</td>\n",
       "      <td>1.00000</td>\n",
       "      <td>1.00000</td>\n",
       "      <td>1.00000</td>\n",
       "      <td>1.00000</td>\n",
       "      <td>1.00000</td>\n",
       "      <td>1.00000</td>\n",
       "      <td>1.00000</td>\n",
       "      <td>...</td>\n",
       "      <td>1.00000</td>\n",
       "      <td>1.00000</td>\n",
       "      <td>1.00000</td>\n",
       "      <td>1.00000</td>\n",
       "      <td>1.00000</td>\n",
       "      <td>1.00000</td>\n",
       "      <td>1.00000</td>\n",
       "      <td>1.00000</td>\n",
       "      <td>1.00000</td>\n",
       "      <td>127,495.00000</td>\n",
       "    </tr>\n",
       "  </tbody>\n",
       "</table>\n",
       "<p>8 rows × 72 columns</p>\n",
       "</div>"
      ],
      "text/plain": [
       "             itemid      verified          vote       dataAge  style_size_num  \\\n",
       "count 127,496.00000 127,496.00000 127,496.00000 127,496.00000   127,496.00000   \n",
       "mean   16,902.43940       0.93343       0.01904       0.50718         0.02723   \n",
       "std     7,946.31918       0.24374       0.09102       0.23089         0.10470   \n",
       "min        41.00000       0.00000       0.00000       0.00000         0.00000   \n",
       "25%    10,635.50000       1.00000       0.00000       0.32592         0.00000   \n",
       "50%    16,534.00000       1.00000       0.00000       0.50632         0.00000   \n",
       "75%    23,083.00000       1.00000       0.00000       0.69126         0.00000   \n",
       "max    41,097.00000       1.00000       1.00000       1.00000         1.00000   \n",
       "\n",
       "       user_reviewer_num  item_reviewer_num          rank         price  \\\n",
       "count      127,496.00000      127,496.00000 127,496.00000 127,496.00000   \n",
       "mean             0.01523            0.04660       0.10313       0.18217   \n",
       "std              0.01647            0.14385       0.09168       0.06073   \n",
       "min              0.00000            0.00000       0.00000       0.00000   \n",
       "25%              0.00828            0.00538       0.03566       0.14087   \n",
       "50%              0.01035            0.01103       0.07233       0.17336   \n",
       "75%              0.01656            0.02500       0.14468       0.21234   \n",
       "max              1.00000            1.00000       1.00000       1.00000   \n",
       "\n",
       "       dateReview_week_all  ...  num_category_1_Meat & Seafood  \\\n",
       "count        127,496.00000  ...                  127,496.00000   \n",
       "mean               0.48027  ...                        0.00025   \n",
       "std                0.27237  ...                        0.01462   \n",
       "min                0.00000  ...                        0.00000   \n",
       "25%                0.33333  ...                        0.00000   \n",
       "50%                0.50000  ...                        0.00000   \n",
       "75%                0.66667  ...                        0.00000   \n",
       "max                1.00000  ...                        1.00000   \n",
       "\n",
       "       num_category_1_Meat Substitutes  \\\n",
       "count                    127,496.00000   \n",
       "mean                           0.00011   \n",
       "std                            0.01000   \n",
       "min                            0.00000   \n",
       "25%                            0.00000   \n",
       "50%                            0.00000   \n",
       "75%                            0.00000   \n",
       "max                            1.00000   \n",
       "\n",
       "       num_category_1_Olives, Pickles & Relishes  \\\n",
       "count                              127,496.00000   \n",
       "mean                                     0.00027   \n",
       "std                                      0.01534   \n",
       "min                                      0.00000   \n",
       "25%                                      0.00000   \n",
       "50%                                      0.00000   \n",
       "75%                                      0.00000   \n",
       "max                                      1.00000   \n",
       "\n",
       "       num_category_1_Pasta & Noodles  num_category_1_Prepared Foods  \\\n",
       "count                   127,496.00000                  127,496.00000   \n",
       "mean                          0.00093                        0.00010   \n",
       "std                           0.02902                        0.00874   \n",
       "min                           0.00000                        0.00000   \n",
       "25%                           0.00000                        0.00000   \n",
       "50%                           0.00000                        0.00000   \n",
       "75%                           0.00000                        0.00000   \n",
       "max                           1.00000                        1.00000   \n",
       "\n",
       "       num_category_1_Produce  num_category_1_Sauces, Gravies & Marinades  \\\n",
       "count           127,496.00000                               127,496.00000   \n",
       "mean                  0.00507                                     0.00262   \n",
       "std                   0.06785                                     0.04860   \n",
       "min                   0.00000                                     0.00000   \n",
       "25%                   0.00000                                     0.00000   \n",
       "50%                   0.00000                                     0.00000   \n",
       "75%                   0.00000                                     0.00000   \n",
       "max                   1.00000                                     1.00000   \n",
       "\n",
       "       num_category_1_Snack Foods  num_category_1_Soups, Stocks & Broths  \\\n",
       "count               127,496.00000                          127,496.00000   \n",
       "mean                      0.05655                                0.00447   \n",
       "std                       0.22106                                0.06409   \n",
       "min                       0.00000                                0.00000   \n",
       "25%                       0.00000                                0.00000   \n",
       "50%                       0.00000                                0.00000   \n",
       "75%                       0.00000                                0.00000   \n",
       "max                       1.00000                                1.00000   \n",
       "\n",
       "         user_index  \n",
       "count 127,496.00000  \n",
       "mean   63,747.50000  \n",
       "std    36,805.06930  \n",
       "min         0.00000  \n",
       "25%    31,873.75000  \n",
       "50%    63,747.50000  \n",
       "75%    95,621.25000  \n",
       "max   127,495.00000  \n",
       "\n",
       "[8 rows x 72 columns]"
      ]
     },
     "execution_count": 146,
     "metadata": {},
     "output_type": "execute_result"
    }
   ],
   "source": [
    "scaler = MinMaxScaler()\n",
    "col_standart = ['vote','dataAge', 'dateReview_week_all', 'dateReview_month_all', 'user_reviewer_num', 'rank',\n",
    "                'price', 'item_reviewer_num', 'num_category_1_all', 'main_cat_all', 'style_size_num']\n",
    "feature_df_items[col_standart] = pd.DataFrame(scaler.fit_transform(feature_df_items[col_standart]))\n",
    "feature_df_users[col_standart] = pd.DataFrame(scaler.fit_transform(feature_df_users[col_standart]))\n",
    "\n",
    "feature_df_users.describe()"
   ]
  },
  {
   "cell_type": "code",
   "execution_count": 147,
   "id": "21fb116e",
   "metadata": {
    "ExecuteTime": {
     "end_time": "2022-04-15T13:48:40.290137Z",
     "start_time": "2022-04-15T13:48:40.172162Z"
    }
   },
   "outputs": [
    {
     "data": {
      "text/html": [
       "<div>\n",
       "<style scoped>\n",
       "    .dataframe tbody tr th:only-of-type {\n",
       "        vertical-align: middle;\n",
       "    }\n",
       "\n",
       "    .dataframe tbody tr th {\n",
       "        vertical-align: top;\n",
       "    }\n",
       "\n",
       "    .dataframe thead th {\n",
       "        text-align: right;\n",
       "    }\n",
       "</style>\n",
       "<table border=\"1\" class=\"dataframe\">\n",
       "  <thead>\n",
       "    <tr style=\"text-align: right;\">\n",
       "      <th></th>\n",
       "      <th>userid</th>\n",
       "      <th>verified</th>\n",
       "      <th>vote</th>\n",
       "      <th>dataAge</th>\n",
       "      <th>style_size_num</th>\n",
       "      <th>user_reviewer_num</th>\n",
       "      <th>item_reviewer_num</th>\n",
       "      <th>rank</th>\n",
       "      <th>price</th>\n",
       "      <th>dateReview_week_all</th>\n",
       "      <th>...</th>\n",
       "      <th>num_category_1_Meat &amp; Seafood</th>\n",
       "      <th>num_category_1_Meat Substitutes</th>\n",
       "      <th>num_category_1_Olives, Pickles &amp; Relishes</th>\n",
       "      <th>num_category_1_Pasta &amp; Noodles</th>\n",
       "      <th>num_category_1_Prepared Foods</th>\n",
       "      <th>num_category_1_Produce</th>\n",
       "      <th>num_category_1_Sauces, Gravies &amp; Marinades</th>\n",
       "      <th>num_category_1_Snack Foods</th>\n",
       "      <th>num_category_1_Soups, Stocks &amp; Broths</th>\n",
       "      <th>item_index</th>\n",
       "    </tr>\n",
       "  </thead>\n",
       "  <tbody>\n",
       "    <tr>\n",
       "      <th>count</th>\n",
       "      <td>41,320.00000</td>\n",
       "      <td>41,320.00000</td>\n",
       "      <td>41,320.00000</td>\n",
       "      <td>41,320.00000</td>\n",
       "      <td>41,320.00000</td>\n",
       "      <td>41,320.00000</td>\n",
       "      <td>41,320.00000</td>\n",
       "      <td>41,320.00000</td>\n",
       "      <td>41,320.00000</td>\n",
       "      <td>41,320.00000</td>\n",
       "      <td>...</td>\n",
       "      <td>41,320.00000</td>\n",
       "      <td>41,320.00000</td>\n",
       "      <td>41,320.00000</td>\n",
       "      <td>41,320.00000</td>\n",
       "      <td>41,320.00000</td>\n",
       "      <td>41,320.00000</td>\n",
       "      <td>41,320.00000</td>\n",
       "      <td>41,320.00000</td>\n",
       "      <td>41,320.00000</td>\n",
       "      <td>41,320.00000</td>\n",
       "    </tr>\n",
       "    <tr>\n",
       "      <th>mean</th>\n",
       "      <td>55,195.82688</td>\n",
       "      <td>0.95161</td>\n",
       "      <td>0.01688</td>\n",
       "      <td>0.52125</td>\n",
       "      <td>0.04623</td>\n",
       "      <td>0.02667</td>\n",
       "      <td>0.00382</td>\n",
       "      <td>0.17150</td>\n",
       "      <td>0.02106</td>\n",
       "      <td>0.47930</td>\n",
       "      <td>...</td>\n",
       "      <td>0.00908</td>\n",
       "      <td>0.00198</td>\n",
       "      <td>0.00622</td>\n",
       "      <td>0.01065</td>\n",
       "      <td>0.00249</td>\n",
       "      <td>0.02444</td>\n",
       "      <td>0.02924</td>\n",
       "      <td>0.11445</td>\n",
       "      <td>0.01912</td>\n",
       "      <td>20,659.50000</td>\n",
       "    </tr>\n",
       "    <tr>\n",
       "      <th>std</th>\n",
       "      <td>22,799.59548</td>\n",
       "      <td>0.20828</td>\n",
       "      <td>0.07789</td>\n",
       "      <td>0.21220</td>\n",
       "      <td>0.15586</td>\n",
       "      <td>0.01706</td>\n",
       "      <td>0.01299</td>\n",
       "      <td>0.16031</td>\n",
       "      <td>0.01482</td>\n",
       "      <td>0.16575</td>\n",
       "      <td>...</td>\n",
       "      <td>0.09483</td>\n",
       "      <td>0.04450</td>\n",
       "      <td>0.07862</td>\n",
       "      <td>0.10264</td>\n",
       "      <td>0.04987</td>\n",
       "      <td>0.15442</td>\n",
       "      <td>0.16847</td>\n",
       "      <td>0.31836</td>\n",
       "      <td>0.13695</td>\n",
       "      <td>11,928.20090</td>\n",
       "    </tr>\n",
       "    <tr>\n",
       "      <th>min</th>\n",
       "      <td>5.50000</td>\n",
       "      <td>0.00000</td>\n",
       "      <td>0.00000</td>\n",
       "      <td>0.00000</td>\n",
       "      <td>0.00000</td>\n",
       "      <td>0.00000</td>\n",
       "      <td>0.00000</td>\n",
       "      <td>0.00000</td>\n",
       "      <td>0.00000</td>\n",
       "      <td>0.00000</td>\n",
       "      <td>...</td>\n",
       "      <td>0.00000</td>\n",
       "      <td>0.00000</td>\n",
       "      <td>0.00000</td>\n",
       "      <td>0.00000</td>\n",
       "      <td>0.00000</td>\n",
       "      <td>0.00000</td>\n",
       "      <td>0.00000</td>\n",
       "      <td>0.00000</td>\n",
       "      <td>0.00000</td>\n",
       "      <td>0.00000</td>\n",
       "    </tr>\n",
       "    <tr>\n",
       "      <th>25%</th>\n",
       "      <td>39,082.75000</td>\n",
       "      <td>1.00000</td>\n",
       "      <td>0.00000</td>\n",
       "      <td>0.34931</td>\n",
       "      <td>0.00000</td>\n",
       "      <td>0.01752</td>\n",
       "      <td>0.00077</td>\n",
       "      <td>0.04103</td>\n",
       "      <td>0.01396</td>\n",
       "      <td>0.33333</td>\n",
       "      <td>...</td>\n",
       "      <td>0.00000</td>\n",
       "      <td>0.00000</td>\n",
       "      <td>0.00000</td>\n",
       "      <td>0.00000</td>\n",
       "      <td>0.00000</td>\n",
       "      <td>0.00000</td>\n",
       "      <td>0.00000</td>\n",
       "      <td>0.00000</td>\n",
       "      <td>0.00000</td>\n",
       "      <td>10,329.75000</td>\n",
       "    </tr>\n",
       "    <tr>\n",
       "      <th>50%</th>\n",
       "      <td>54,147.00000</td>\n",
       "      <td>1.00000</td>\n",
       "      <td>0.00000</td>\n",
       "      <td>0.51375</td>\n",
       "      <td>0.00000</td>\n",
       "      <td>0.02336</td>\n",
       "      <td>0.00139</td>\n",
       "      <td>0.12758</td>\n",
       "      <td>0.01846</td>\n",
       "      <td>0.50000</td>\n",
       "      <td>...</td>\n",
       "      <td>0.00000</td>\n",
       "      <td>0.00000</td>\n",
       "      <td>0.00000</td>\n",
       "      <td>0.00000</td>\n",
       "      <td>0.00000</td>\n",
       "      <td>0.00000</td>\n",
       "      <td>0.00000</td>\n",
       "      <td>0.00000</td>\n",
       "      <td>0.00000</td>\n",
       "      <td>20,659.50000</td>\n",
       "    </tr>\n",
       "    <tr>\n",
       "      <th>75%</th>\n",
       "      <td>70,351.25000</td>\n",
       "      <td>1.00000</td>\n",
       "      <td>0.00000</td>\n",
       "      <td>0.69079</td>\n",
       "      <td>0.00000</td>\n",
       "      <td>0.02920</td>\n",
       "      <td>0.00324</td>\n",
       "      <td>0.26488</td>\n",
       "      <td>0.02535</td>\n",
       "      <td>0.58333</td>\n",
       "      <td>...</td>\n",
       "      <td>0.00000</td>\n",
       "      <td>0.00000</td>\n",
       "      <td>0.00000</td>\n",
       "      <td>0.00000</td>\n",
       "      <td>0.00000</td>\n",
       "      <td>0.00000</td>\n",
       "      <td>0.00000</td>\n",
       "      <td>0.00000</td>\n",
       "      <td>0.00000</td>\n",
       "      <td>30,989.25000</td>\n",
       "    </tr>\n",
       "    <tr>\n",
       "      <th>max</th>\n",
       "      <td>127,495.00000</td>\n",
       "      <td>1.00000</td>\n",
       "      <td>1.00000</td>\n",
       "      <td>1.00000</td>\n",
       "      <td>1.00000</td>\n",
       "      <td>1.00000</td>\n",
       "      <td>1.00000</td>\n",
       "      <td>1.00000</td>\n",
       "      <td>1.00000</td>\n",
       "      <td>1.00000</td>\n",
       "      <td>...</td>\n",
       "      <td>1.00000</td>\n",
       "      <td>1.00000</td>\n",
       "      <td>1.00000</td>\n",
       "      <td>1.00000</td>\n",
       "      <td>1.00000</td>\n",
       "      <td>1.00000</td>\n",
       "      <td>1.00000</td>\n",
       "      <td>1.00000</td>\n",
       "      <td>1.00000</td>\n",
       "      <td>41,319.00000</td>\n",
       "    </tr>\n",
       "  </tbody>\n",
       "</table>\n",
       "<p>8 rows × 72 columns</p>\n",
       "</div>"
      ],
      "text/plain": [
       "             userid     verified         vote      dataAge  style_size_num  \\\n",
       "count  41,320.00000 41,320.00000 41,320.00000 41,320.00000    41,320.00000   \n",
       "mean   55,195.82688      0.95161      0.01688      0.52125         0.04623   \n",
       "std    22,799.59548      0.20828      0.07789      0.21220         0.15586   \n",
       "min         5.50000      0.00000      0.00000      0.00000         0.00000   \n",
       "25%    39,082.75000      1.00000      0.00000      0.34931         0.00000   \n",
       "50%    54,147.00000      1.00000      0.00000      0.51375         0.00000   \n",
       "75%    70,351.25000      1.00000      0.00000      0.69079         0.00000   \n",
       "max   127,495.00000      1.00000      1.00000      1.00000         1.00000   \n",
       "\n",
       "       user_reviewer_num  item_reviewer_num         rank        price  \\\n",
       "count       41,320.00000       41,320.00000 41,320.00000 41,320.00000   \n",
       "mean             0.02667            0.00382      0.17150      0.02106   \n",
       "std              0.01706            0.01299      0.16031      0.01482   \n",
       "min              0.00000            0.00000      0.00000      0.00000   \n",
       "25%              0.01752            0.00077      0.04103      0.01396   \n",
       "50%              0.02336            0.00139      0.12758      0.01846   \n",
       "75%              0.02920            0.00324      0.26488      0.02535   \n",
       "max              1.00000            1.00000      1.00000      1.00000   \n",
       "\n",
       "       dateReview_week_all  ...  num_category_1_Meat & Seafood  \\\n",
       "count         41,320.00000  ...                   41,320.00000   \n",
       "mean               0.47930  ...                        0.00908   \n",
       "std                0.16575  ...                        0.09483   \n",
       "min                0.00000  ...                        0.00000   \n",
       "25%                0.33333  ...                        0.00000   \n",
       "50%                0.50000  ...                        0.00000   \n",
       "75%                0.58333  ...                        0.00000   \n",
       "max                1.00000  ...                        1.00000   \n",
       "\n",
       "       num_category_1_Meat Substitutes  \\\n",
       "count                     41,320.00000   \n",
       "mean                           0.00198   \n",
       "std                            0.04450   \n",
       "min                            0.00000   \n",
       "25%                            0.00000   \n",
       "50%                            0.00000   \n",
       "75%                            0.00000   \n",
       "max                            1.00000   \n",
       "\n",
       "       num_category_1_Olives, Pickles & Relishes  \\\n",
       "count                               41,320.00000   \n",
       "mean                                     0.00622   \n",
       "std                                      0.07862   \n",
       "min                                      0.00000   \n",
       "25%                                      0.00000   \n",
       "50%                                      0.00000   \n",
       "75%                                      0.00000   \n",
       "max                                      1.00000   \n",
       "\n",
       "       num_category_1_Pasta & Noodles  num_category_1_Prepared Foods  \\\n",
       "count                    41,320.00000                   41,320.00000   \n",
       "mean                          0.01065                        0.00249   \n",
       "std                           0.10264                        0.04987   \n",
       "min                           0.00000                        0.00000   \n",
       "25%                           0.00000                        0.00000   \n",
       "50%                           0.00000                        0.00000   \n",
       "75%                           0.00000                        0.00000   \n",
       "max                           1.00000                        1.00000   \n",
       "\n",
       "       num_category_1_Produce  num_category_1_Sauces, Gravies & Marinades  \\\n",
       "count            41,320.00000                                41,320.00000   \n",
       "mean                  0.02444                                     0.02924   \n",
       "std                   0.15442                                     0.16847   \n",
       "min                   0.00000                                     0.00000   \n",
       "25%                   0.00000                                     0.00000   \n",
       "50%                   0.00000                                     0.00000   \n",
       "75%                   0.00000                                     0.00000   \n",
       "max                   1.00000                                     1.00000   \n",
       "\n",
       "       num_category_1_Snack Foods  num_category_1_Soups, Stocks & Broths  \\\n",
       "count                41,320.00000                           41,320.00000   \n",
       "mean                      0.11445                                0.01912   \n",
       "std                       0.31836                                0.13695   \n",
       "min                       0.00000                                0.00000   \n",
       "25%                       0.00000                                0.00000   \n",
       "50%                       0.00000                                0.00000   \n",
       "75%                       0.00000                                0.00000   \n",
       "max                       1.00000                                1.00000   \n",
       "\n",
       "        item_index  \n",
       "count 41,320.00000  \n",
       "mean  20,659.50000  \n",
       "std   11,928.20090  \n",
       "min        0.00000  \n",
       "25%   10,329.75000  \n",
       "50%   20,659.50000  \n",
       "75%   30,989.25000  \n",
       "max   41,319.00000  \n",
       "\n",
       "[8 rows x 72 columns]"
      ]
     },
     "execution_count": 147,
     "metadata": {},
     "output_type": "execute_result"
    }
   ],
   "source": [
    "feature_df_items.describe()"
   ]
  },
  {
   "cell_type": "code",
   "execution_count": 148,
   "id": "8b6ebc94",
   "metadata": {
    "ExecuteTime": {
     "end_time": "2022-04-15T13:48:40.400265Z",
     "start_time": "2022-04-15T13:48:40.291261Z"
    }
   },
   "outputs": [],
   "source": [
    "col_list_i1 = ['vote', 'verified', 'rank']\n",
    "col_list_u1 = ['vote', 'verified', 'rank']\n",
    "\n",
    "items_coo_cols_1 = sparse.coo_matrix(feature_df_items[col_list_i1])\n",
    "users_coo_cols_1 = sparse.coo_matrix(feature_df_users[col_list_u1])\n",
    "\n",
    "items_coo = sparse.coo_matrix(([1]*len(feature_df_items),(feature_df_items.item_index,feature_df_items.item_index)))\n",
    "users_coo = sparse.coo_matrix(([1]*len(feature_df_users),(feature_df_users.user_index,feature_df_users.user_index)))\n",
    "\n",
    "items_coo_1 = sparse.bmat([[items_coo,items_coo_cols_1]])\n",
    "users_coo_1 = sparse.bmat([[users_coo,users_coo_cols_1]])"
   ]
  },
  {
   "cell_type": "code",
   "execution_count": 149,
   "id": "d769d9e0",
   "metadata": {
    "ExecuteTime": {
     "end_time": "2022-04-15T13:50:13.538456Z",
     "start_time": "2022-04-15T13:48:40.401825Z"
    }
   },
   "outputs": [
    {
     "name": "stdout",
     "output_type": "stream",
     "text": [
      "mse:  0.2933862686273057\n",
      "mae:  0.5364843301780228\n",
      "roc-auc:  0.7033281729138321\n"
     ]
    }
   ],
   "source": [
    "model_1 = LightFM(learning_rate = LEARNING_RATE, \n",
    "                loss = LOSS_FUNC,\n",
    "                no_components = NUM_COMPONENTS,\n",
    "                random_state = RANDOM_STATE)\n",
    "\n",
    "model_1 = model_1.fit(ratings_coo, epochs=NUM_EPOCHS, num_threads=NUM_THREADS,\n",
    "                      item_features=items_coo_1, user_features=users_coo_1)\n",
    "\n",
    "preds_1 = model_1.predict(X_test.userid.values, X_test.itemid.values, \n",
    "                          item_features=items_coo_1, user_features=users_coo_1)\n",
    "\n",
    "preds_1 = get_norm(preds_1)\n",
    "\n",
    "metrics_model['model_1'] = get_metrics(get_norm(X_test.rating), preds_1)"
   ]
  },
  {
   "cell_type": "code",
   "execution_count": 150,
   "id": "ef8dc2ef",
   "metadata": {
    "ExecuteTime": {
     "end_time": "2022-04-15T13:50:14.184365Z",
     "start_time": "2022-04-15T13:50:13.539633Z"
    }
   },
   "outputs": [
    {
     "data": {
      "text/plain": [
       "<AxesSubplot:ylabel='Count'>"
      ]
     },
     "execution_count": 150,
     "metadata": {},
     "output_type": "execute_result"
    },
    {
     "data": {
      "image/png": "[encoded data removed]",
      "text/plain": [
       "<Figure size 432x288 with 1 Axes>"
      ]
     },
     "metadata": {
      "needs_background": "light"
     },
     "output_type": "display_data"
    }
   ],
   "source": [
    "sns.histplot(preds_1)"
   ]
  },
  {
   "cell_type": "code",
   "execution_count": 151,
   "id": "1223ace4",
   "metadata": {
    "ExecuteTime": {
     "end_time": "2022-04-15T13:50:14.207145Z",
     "start_time": "2022-04-15T13:50:14.185793Z"
    }
   },
   "outputs": [],
   "source": [
    "col_list_i2 = ['vote', 'verified', 'rank', 'item_reviewer_num']\n",
    "col_list_u2 = ['vote', 'verified', 'rank', 'user_reviewer_num']\n",
    "\n",
    "items_coo_cols_2 = sparse.coo_matrix(feature_df_items[col_list_i2])\n",
    "users_coo_cols_2 = sparse.coo_matrix(feature_df_users[col_list_u2])\n",
    "\n",
    "items_coo_2 = sparse.bmat([[items_coo,items_coo_cols_2]])\n",
    "users_coo_2 = sparse.bmat([[users_coo,users_coo_cols_2]])"
   ]
  },
  {
   "cell_type": "code",
   "execution_count": 152,
   "id": "073680f0",
   "metadata": {
    "ExecuteTime": {
     "end_time": "2022-04-15T13:52:17.228114Z",
     "start_time": "2022-04-15T13:50:14.208334Z"
    }
   },
   "outputs": [
    {
     "name": "stdout",
     "output_type": "stream",
     "text": [
      "mse:  0.25922597542147385\n",
      "mae:  0.5057374853170569\n",
      "roc-auc:  0.7074084242422615\n"
     ]
    }
   ],
   "source": [
    "model_2 = LightFM(learning_rate = LEARNING_RATE, \n",
    "                loss = LOSS_FUNC,\n",
    "                no_components = NUM_COMPONENTS,\n",
    "                random_state = RANDOM_STATE)\n",
    "\n",
    "model_2 = model_2.fit(ratings_coo, epochs=NUM_EPOCHS, num_threads=NUM_THREADS,\n",
    "                      item_features=items_coo_2, user_features=users_coo_2)\n",
    "\n",
    "preds_2 = model_2.predict(X_test.userid.values, X_test.itemid.values, \n",
    "                          item_features=items_coo_2, user_features=users_coo_2)\n",
    "\n",
    "preds_2 = get_norm(preds_2)\n",
    "\n",
    "metrics_model['model_2'] = get_metrics(get_norm(X_test.rating), preds_2)"
   ]
  },
  {
   "cell_type": "code",
   "execution_count": 153,
   "id": "a8fe8093",
   "metadata": {
    "ExecuteTime": {
     "end_time": "2022-04-15T13:52:17.832081Z",
     "start_time": "2022-04-15T13:52:17.229348Z"
    }
   },
   "outputs": [
    {
     "data": {
      "text/plain": [
       "<AxesSubplot:ylabel='Count'>"
      ]
     },
     "execution_count": 153,
     "metadata": {},
     "output_type": "execute_result"
    },
    {
     "data": {
      "image/png": "[encoded data removed]",
      "text/plain": [
       "<Figure size 432x288 with 1 Axes>"
      ]
     },
     "metadata": {
      "needs_background": "light"
     },
     "output_type": "display_data"
    }
   ],
   "source": [
    "sns.histplot(preds_2)"
   ]
  },
  {
   "cell_type": "code",
   "execution_count": 154,
   "id": "36fba636",
   "metadata": {
    "ExecuteTime": {
     "end_time": "2022-04-15T13:52:17.898339Z",
     "start_time": "2022-04-15T13:52:17.834790Z"
    }
   },
   "outputs": [],
   "source": [
    "col_list_i3 = ['vote', 'verified', 'rank', 'item_reviewer_num',\n",
    "               'num_category_1_Alcoholic Beverages', 'num_category_1_Beverages',\n",
    "               'num_category_1_Breads & Bakery', 'num_category_1_Breakfast Foods',\n",
    "               'num_category_1_Candy & Chocolate',\n",
    "               'num_category_1_Canned, Jarred & Packaged Foods',\n",
    "               'num_category_1_Condiments & Salad Dressings',\n",
    "               'num_category_1_Cooking & Baking',\n",
    "               'num_category_1_Dairy, Cheese & Eggs', 'num_category_1_Deli',\n",
    "               'num_category_1_Dried Beans, Grains & Rice',\n",
    "               'num_category_1_Food & Beverage Gifts',\n",
    "               'num_category_1_Fresh Flowers & Live Indoor Plants',\n",
    "               'num_category_1_Frozen', 'num_category_1_Herbs, Spices & Seasonings',\n",
    "               'num_category_1_Jams, Jellies & Sweet Spreads',\n",
    "               'num_category_1_Meat & Seafood', 'num_category_1_Meat Substitutes',\n",
    "               'num_category_1_Olives, Pickles & Relishes',\n",
    "               'num_category_1_Pasta & Noodles', 'num_category_1_Prepared Foods',\n",
    "               'num_category_1_Produce', 'num_category_1_Sauces, Gravies & Marinades',\n",
    "               'num_category_1_Snack Foods', 'num_category_1_Soups, Stocks & Broths']\n",
    "col_list_u3 = ['vote', 'verified', 'rank', 'user_reviewer_num',\n",
    "               'num_category_1_Alcoholic Beverages', 'num_category_1_Beverages',\n",
    "               'num_category_1_Breads & Bakery', 'num_category_1_Breakfast Foods',\n",
    "               'num_category_1_Candy & Chocolate',\n",
    "               'num_category_1_Canned, Jarred & Packaged Foods',\n",
    "               'num_category_1_Condiments & Salad Dressings',\n",
    "               'num_category_1_Cooking & Baking',\n",
    "               'num_category_1_Dairy, Cheese & Eggs', 'num_category_1_Deli',\n",
    "               'num_category_1_Dried Beans, Grains & Rice',\n",
    "               'num_category_1_Food & Beverage Gifts',\n",
    "               'num_category_1_Fresh Flowers & Live Indoor Plants',\n",
    "               'num_category_1_Frozen', 'num_category_1_Herbs, Spices & Seasonings',\n",
    "               'num_category_1_Jams, Jellies & Sweet Spreads',\n",
    "               'num_category_1_Meat & Seafood', 'num_category_1_Meat Substitutes',\n",
    "               'num_category_1_Olives, Pickles & Relishes',\n",
    "               'num_category_1_Pasta & Noodles', 'num_category_1_Prepared Foods',\n",
    "               'num_category_1_Produce', 'num_category_1_Sauces, Gravies & Marinades',\n",
    "               'num_category_1_Snack Foods', 'num_category_1_Soups, Stocks & Broths']\n",
    "\n",
    "items_coo_cols_3 = sparse.coo_matrix(feature_df_items[col_list_i3])\n",
    "users_coo_cols_3 = sparse.coo_matrix(feature_df_users[col_list_u3])\n",
    "\n",
    "items_coo_3 = sparse.bmat([[items_coo,items_coo_cols_3]])\n",
    "users_coo_3 = sparse.bmat([[users_coo,users_coo_cols_3]])"
   ]
  },
  {
   "cell_type": "code",
   "execution_count": 155,
   "id": "40b796df",
   "metadata": {
    "ExecuteTime": {
     "end_time": "2022-04-15T13:54:20.750324Z",
     "start_time": "2022-04-15T13:52:17.899319Z"
    }
   },
   "outputs": [
    {
     "name": "stdout",
     "output_type": "stream",
     "text": [
      "mse:  0.2576973010817427\n",
      "mae:  0.5013457465066997\n",
      "roc-auc:  0.709963862699363\n"
     ]
    }
   ],
   "source": [
    "model_3 = LightFM(learning_rate = LEARNING_RATE, \n",
    "                loss = LOSS_FUNC,\n",
    "                no_components = NUM_COMPONENTS,\n",
    "                random_state = RANDOM_STATE)\n",
    "\n",
    "model_3 = model_3.fit(ratings_coo, epochs=NUM_EPOCHS, num_threads=NUM_THREADS,\n",
    "                      item_features=items_coo_3, user_features=users_coo_3)\n",
    "\n",
    "preds_3 = model_3.predict(X_test.userid.values, X_test.itemid.values, \n",
    "                          item_features=items_coo_3, user_features=users_coo_3)\n",
    "\n",
    "preds_3 = get_norm(preds_3)\n",
    "\n",
    "metrics_model['model_3'] = get_metrics(get_norm(X_test.rating), preds_3)"
   ]
  },
  {
   "cell_type": "code",
   "execution_count": 156,
   "id": "b4eb33bd",
   "metadata": {
    "ExecuteTime": {
     "end_time": "2022-04-15T13:54:21.249526Z",
     "start_time": "2022-04-15T13:54:20.751566Z"
    }
   },
   "outputs": [
    {
     "data": {
      "text/plain": [
       "<AxesSubplot:ylabel='Count'>"
      ]
     },
     "execution_count": 156,
     "metadata": {},
     "output_type": "execute_result"
    },
    {
     "data": {
      "image/png": "[encoded data removed]",
      "text/plain": [
       "<Figure size 432x288 with 1 Axes>"
      ]
     },
     "metadata": {
      "needs_background": "light"
     },
     "output_type": "display_data"
    }
   ],
   "source": [
    "sns.histplot(preds_3)"
   ]
  },
  {
   "cell_type": "markdown",
   "id": "87173687",
   "metadata": {},
   "source": [
    "**Попробуем менять и добавлять еще разные признаки исходя из логики и здравого смысла**"
   ]
  },
  {
   "cell_type": "code",
   "execution_count": 157,
   "id": "527d4311",
   "metadata": {
    "ExecuteTime": {
     "end_time": "2022-04-15T13:54:21.270560Z",
     "start_time": "2022-04-15T13:54:21.250866Z"
    }
   },
   "outputs": [],
   "source": [
    "col_list_i4 = ['item_reviewer_num', 'price', \n",
    "               'main_cat_All Beauty', 'main_cat_Amazon Home',\n",
    "               'main_cat_Arts, Crafts & Sewing', 'main_cat_Baby',\n",
    "               'main_cat_Cell Phones & Accessories', 'main_cat_Electronics',\n",
    "               'main_cat_Grocery', 'main_cat_Health & Personal Care',\n",
    "               'main_cat_Industrial & Scientific', 'main_cat_Office Products',\n",
    "               'main_cat_Pet Supplies', 'main_cat_Sports & Outdoors',\n",
    "               'main_cat_Tools & Home Improvement', 'main_cat_Toys & Games']\n",
    "col_list_u4 = ['user_reviewer_num', 'price']\n",
    "\n",
    "\n",
    "items_coo_cols_4 = sparse.coo_matrix(feature_df_items[col_list_i4])\n",
    "users_coo_cols_4 = sparse.coo_matrix(feature_df_users[col_list_u4])\n",
    "\n",
    "items_coo_4 = sparse.bmat([[items_coo,items_coo_cols_4]])\n",
    "users_coo_4 = sparse.bmat([[users_coo,users_coo_cols_4]])"
   ]
  },
  {
   "cell_type": "code",
   "execution_count": 158,
   "id": "6c765d14",
   "metadata": {
    "ExecuteTime": {
     "end_time": "2022-04-15T13:56:08.165821Z",
     "start_time": "2022-04-15T13:54:21.271728Z"
    }
   },
   "outputs": [
    {
     "name": "stdout",
     "output_type": "stream",
     "text": [
      "mse:  0.26741920735204516\n",
      "mae:  0.5140233693522439\n",
      "roc-auc:  0.7213580252971061\n"
     ]
    }
   ],
   "source": [
    "model_4 = LightFM(learning_rate = LEARNING_RATE, \n",
    "                loss = LOSS_FUNC,\n",
    "                no_components = NUM_COMPONENTS,\n",
    "                random_state = RANDOM_STATE)\n",
    "\n",
    "model_4 = model_4.fit(ratings_coo, epochs=NUM_EPOCHS, num_threads=NUM_THREADS,\n",
    "                      item_features=items_coo_4, user_features=users_coo_4)\n",
    "\n",
    "preds_4 = model_4.predict(X_test.userid.values, X_test.itemid.values, \n",
    "                          item_features=items_coo_4, user_features=users_coo_4)\n",
    "\n",
    "preds_4 = get_norm(preds_4)\n",
    "\n",
    "metrics_model['model_4'] = get_metrics(get_norm(X_test.rating), preds_4)"
   ]
  },
  {
   "cell_type": "code",
   "execution_count": 159,
   "id": "925a33eb",
   "metadata": {
    "ExecuteTime": {
     "end_time": "2022-04-15T13:56:08.817495Z",
     "start_time": "2022-04-15T13:56:08.167140Z"
    }
   },
   "outputs": [
    {
     "data": {
      "text/plain": [
       "<AxesSubplot:ylabel='Count'>"
      ]
     },
     "execution_count": 159,
     "metadata": {},
     "output_type": "execute_result"
    },
    {
     "data": {
      "image/png": "[encoded data removed]",
      "text/plain": [
       "<Figure size 432x288 with 1 Axes>"
      ]
     },
     "metadata": {
      "needs_background": "light"
     },
     "output_type": "display_data"
    }
   ],
   "source": [
    "sns.histplot(preds_4)"
   ]
  },
  {
   "cell_type": "code",
   "execution_count": 160,
   "id": "3b0fe975",
   "metadata": {
    "ExecuteTime": {
     "end_time": "2022-04-15T13:56:09.007666Z",
     "start_time": "2022-04-15T13:56:08.818635Z"
    }
   },
   "outputs": [],
   "source": [
    "# Все колонки\n",
    "col_list_i5 = col_st\n",
    "col_list_u5 = col_st\n",
    "\n",
    "items_coo_cols_5 = sparse.coo_matrix(feature_df_items[col_list_i5])\n",
    "users_coo_cols_5 = sparse.coo_matrix(feature_df_users[col_list_u5])\n",
    "\n",
    "items_coo_5 = sparse.bmat([[items_coo,items_coo_cols_5]])\n",
    "users_coo_5 = sparse.bmat([[users_coo,users_coo_cols_5]])"
   ]
  },
  {
   "cell_type": "code",
   "execution_count": 161,
   "id": "1f92f3f7",
   "metadata": {
    "ExecuteTime": {
     "end_time": "2022-04-15T14:02:22.247286Z",
     "start_time": "2022-04-15T13:56:09.008829Z"
    }
   },
   "outputs": [
    {
     "name": "stdout",
     "output_type": "stream",
     "text": [
      "mse:  0.19919245904561553\n",
      "mae:  0.43317739050883464\n",
      "roc-auc:  0.7182461757181363\n"
     ]
    }
   ],
   "source": [
    "model_5 = LightFM(learning_rate = LEARNING_RATE, \n",
    "                loss = LOSS_FUNC,\n",
    "                no_components = NUM_COMPONENTS,\n",
    "                random_state = RANDOM_STATE)\n",
    "\n",
    "model_5 = model_5.fit(ratings_coo, epochs=NUM_EPOCHS, num_threads=NUM_THREADS,\n",
    "                      item_features=items_coo_5, user_features=users_coo_5)\n",
    "\n",
    "preds_5 = model_5.predict(X_test.userid.values, X_test.itemid.values, \n",
    "                          item_features=items_coo_5, user_features=users_coo_5)\n",
    "\n",
    "preds_5 = get_norm(preds_5)\n",
    "\n",
    "metrics_model['model_5'] = get_metrics(get_norm(X_test.rating), preds_5)"
   ]
  },
  {
   "cell_type": "code",
   "execution_count": 162,
   "id": "5ac76b0e",
   "metadata": {
    "ExecuteTime": {
     "end_time": "2022-04-15T14:02:22.625580Z",
     "start_time": "2022-04-15T14:02:22.248483Z"
    }
   },
   "outputs": [
    {
     "data": {
      "text/plain": [
       "<AxesSubplot:ylabel='Count'>"
      ]
     },
     "execution_count": 162,
     "metadata": {},
     "output_type": "execute_result"
    },
    {
     "data": {
      "image/png": "[encoded data removed]",
      "text/plain": [
       "<Figure size 432x288 with 1 Axes>"
      ]
     },
     "metadata": {
      "needs_background": "light"
     },
     "output_type": "display_data"
    }
   ],
   "source": [
    "sns.histplot(preds_5)"
   ]
  },
  {
   "cell_type": "code",
   "execution_count": 163,
   "id": "d618220e",
   "metadata": {
    "ExecuteTime": {
     "end_time": "2022-04-15T14:02:22.646029Z",
     "start_time": "2022-04-15T14:02:22.627410Z"
    }
   },
   "outputs": [],
   "source": [
    "col_list_i6 = ['item_reviewer_num', 'price']\n",
    "col_list_u6 = ['user_reviewer_num', 'price']\n",
    "\n",
    "\n",
    "items_coo_cols_6 = sparse.coo_matrix(feature_df_items[col_list_i6])\n",
    "users_coo_cols_6= sparse.coo_matrix(feature_df_users[col_list_u6])\n",
    "\n",
    "items_coo_6 = sparse.bmat([[items_coo,items_coo_cols_6]])\n",
    "users_coo_6 = sparse.bmat([[users_coo,users_coo_cols_6]])"
   ]
  },
  {
   "cell_type": "code",
   "execution_count": 164,
   "id": "3a37b843",
   "metadata": {
    "ExecuteTime": {
     "end_time": "2022-04-15T14:04:03.828011Z",
     "start_time": "2022-04-15T14:02:22.647115Z"
    }
   },
   "outputs": [
    {
     "name": "stdout",
     "output_type": "stream",
     "text": [
      "mse:  0.34574069679563113\n",
      "mae:  0.5800265400885652\n",
      "roc-auc:  0.7159779376102224\n"
     ]
    }
   ],
   "source": [
    "model_6 = LightFM(learning_rate = LEARNING_RATE, \n",
    "                loss = LOSS_FUNC,\n",
    "                no_components = NUM_COMPONENTS,\n",
    "                random_state = RANDOM_STATE)\n",
    "\n",
    "model_6 = model_6.fit(ratings_coo, epochs=NUM_EPOCHS, num_threads=NUM_THREADS,\n",
    "                      item_features=items_coo_6, user_features=users_coo_6)\n",
    "\n",
    "preds_6 = model_6.predict(X_test.userid.values, X_test.itemid.values, \n",
    "                          item_features=items_coo_6, user_features=users_coo_6)\n",
    "\n",
    "preds_6 = get_norm(preds_6)\n",
    "\n",
    "metrics_model['model_6'] = get_metrics(get_norm(X_test.rating), preds_6)"
   ]
  },
  {
   "cell_type": "code",
   "execution_count": 165,
   "id": "1290a493",
   "metadata": {
    "ExecuteTime": {
     "end_time": "2022-04-15T14:04:05.252500Z",
     "start_time": "2022-04-15T14:04:03.829091Z"
    }
   },
   "outputs": [
    {
     "data": {
      "text/plain": [
       "<AxesSubplot:ylabel='Count'>"
      ]
     },
     "execution_count": 165,
     "metadata": {},
     "output_type": "execute_result"
    },
    {
     "data": {
      "image/png": "[encoded data removed]",
      "text/plain": [
       "<Figure size 432x288 with 1 Axes>"
      ]
     },
     "metadata": {
      "needs_background": "light"
     },
     "output_type": "display_data"
    }
   ],
   "source": [
    "sns.histplot(preds_6)"
   ]
  },
  {
   "cell_type": "code",
   "execution_count": 166,
   "id": "640712df",
   "metadata": {
    "ExecuteTime": {
     "end_time": "2022-04-15T14:04:05.274758Z",
     "start_time": "2022-04-15T14:04:05.253702Z"
    }
   },
   "outputs": [],
   "source": [
    "col_list_i7 = ['item_reviewer_num', 'main_cat_all', 'num_category_1_all']\n",
    "col_list_u7 = ['user_reviewer_num', 'price', 'verified']\n",
    "\n",
    "\n",
    "items_coo_cols_7 = sparse.coo_matrix(feature_df_items[col_list_i7])\n",
    "users_coo_cols_7= sparse.coo_matrix(feature_df_users[col_list_u7])\n",
    "\n",
    "items_coo_7 = sparse.bmat([[items_coo,items_coo_cols_7]])\n",
    "users_coo_7 = sparse.bmat([[users_coo,users_coo_cols_7]])"
   ]
  },
  {
   "cell_type": "code",
   "execution_count": 167,
   "id": "30308fb4",
   "metadata": {
    "ExecuteTime": {
     "end_time": "2022-04-15T14:06:11.980895Z",
     "start_time": "2022-04-15T14:04:05.275861Z"
    }
   },
   "outputs": [
    {
     "name": "stdout",
     "output_type": "stream",
     "text": [
      "mse:  0.2779850009872982\n",
      "mae:  0.5222239795269561\n",
      "roc-auc:  0.7185828482560335\n"
     ]
    }
   ],
   "source": [
    "model_7 = LightFM(learning_rate = LEARNING_RATE, \n",
    "                loss = LOSS_FUNC,\n",
    "                no_components = NUM_COMPONENTS,\n",
    "                random_state = RANDOM_STATE)\n",
    "\n",
    "model_7 = model_7.fit(ratings_coo, epochs=NUM_EPOCHS, num_threads=NUM_THREADS,\n",
    "                      item_features=items_coo_7, user_features=users_coo_7)\n",
    "\n",
    "preds_7 = model_7.predict(X_test.userid.values, X_test.itemid.values, \n",
    "                          item_features=items_coo_7, user_features=users_coo_7)\n",
    "\n",
    "preds_7 = get_norm(preds_7)\n",
    "\n",
    "metrics_model['model_7'] = get_metrics(get_norm(X_test.rating), preds_7)"
   ]
  },
  {
   "cell_type": "code",
   "execution_count": 168,
   "id": "248d5363",
   "metadata": {
    "ExecuteTime": {
     "end_time": "2022-04-15T14:06:12.503008Z",
     "start_time": "2022-04-15T14:06:11.982275Z"
    }
   },
   "outputs": [
    {
     "data": {
      "text/plain": [
       "<AxesSubplot:ylabel='Count'>"
      ]
     },
     "execution_count": 168,
     "metadata": {},
     "output_type": "execute_result"
    },
    {
     "data": {
      "image/png": "[encoded data removed]",
      "text/plain": [
       "<Figure size 432x288 with 1 Axes>"
      ]
     },
     "metadata": {
      "needs_background": "light"
     },
     "output_type": "display_data"
    }
   ],
   "source": [
    "sns.histplot(preds_7)"
   ]
  },
  {
   "cell_type": "markdown",
   "id": "26b35cbd",
   "metadata": {},
   "source": [
    "**Итог обучения**"
   ]
  },
  {
   "cell_type": "code",
   "execution_count": 169,
   "id": "d6ca7ba9",
   "metadata": {
    "ExecuteTime": {
     "end_time": "2022-04-15T14:06:12.507979Z",
     "start_time": "2022-04-15T14:06:12.504381Z"
    }
   },
   "outputs": [],
   "source": [
    "df_metrics = pd.DataFrame(metrics_model)"
   ]
  },
  {
   "cell_type": "code",
   "execution_count": 170,
   "id": "deae9cb0",
   "metadata": {
    "ExecuteTime": {
     "end_time": "2022-04-15T14:06:12.627873Z",
     "start_time": "2022-04-15T14:06:12.509160Z"
    }
   },
   "outputs": [
    {
     "data": {
      "text/html": [
       "<div>\n",
       "<style scoped>\n",
       "    .dataframe tbody tr th:only-of-type {\n",
       "        vertical-align: middle;\n",
       "    }\n",
       "\n",
       "    .dataframe tbody tr th {\n",
       "        vertical-align: top;\n",
       "    }\n",
       "\n",
       "    .dataframe thead th {\n",
       "        text-align: right;\n",
       "    }\n",
       "</style>\n",
       "<table border=\"1\" class=\"dataframe\">\n",
       "  <thead>\n",
       "    <tr style=\"text-align: right;\">\n",
       "      <th></th>\n",
       "      <th>model</th>\n",
       "      <th>model_1</th>\n",
       "      <th>model_2</th>\n",
       "      <th>model_3</th>\n",
       "      <th>model_4</th>\n",
       "      <th>model_5</th>\n",
       "      <th>model_6</th>\n",
       "      <th>model_7</th>\n",
       "    </tr>\n",
       "  </thead>\n",
       "  <tbody>\n",
       "    <tr>\n",
       "      <th>mse</th>\n",
       "      <td>0.18230</td>\n",
       "      <td>0.29339</td>\n",
       "      <td>0.25923</td>\n",
       "      <td>0.25770</td>\n",
       "      <td>0.26742</td>\n",
       "      <td>0.19919</td>\n",
       "      <td>0.34574</td>\n",
       "      <td>0.27799</td>\n",
       "    </tr>\n",
       "    <tr>\n",
       "      <th>mae</th>\n",
       "      <td>0.42039</td>\n",
       "      <td>0.53648</td>\n",
       "      <td>0.50574</td>\n",
       "      <td>0.50135</td>\n",
       "      <td>0.51402</td>\n",
       "      <td>0.43318</td>\n",
       "      <td>0.58003</td>\n",
       "      <td>0.52222</td>\n",
       "    </tr>\n",
       "    <tr>\n",
       "      <th>roc-auc</th>\n",
       "      <td>0.72939</td>\n",
       "      <td>0.70333</td>\n",
       "      <td>0.70741</td>\n",
       "      <td>0.70996</td>\n",
       "      <td>0.72136</td>\n",
       "      <td>0.71825</td>\n",
       "      <td>0.71598</td>\n",
       "      <td>0.71858</td>\n",
       "    </tr>\n",
       "  </tbody>\n",
       "</table>\n",
       "</div>"
      ],
      "text/plain": [
       "          model  model_1  model_2  model_3  model_4  model_5  model_6  model_7\n",
       "mse     0.18230  0.29339  0.25923  0.25770  0.26742  0.19919  0.34574  0.27799\n",
       "mae     0.42039  0.53648  0.50574  0.50135  0.51402  0.43318  0.58003  0.52222\n",
       "roc-auc 0.72939  0.70333  0.70741  0.70996  0.72136  0.71825  0.71598  0.71858"
      ]
     },
     "execution_count": 170,
     "metadata": {},
     "output_type": "execute_result"
    }
   ],
   "source": [
    "df_metrics "
   ]
  },
  {
   "cell_type": "markdown",
   "id": "48b0cbcf",
   "metadata": {},
   "source": [
    "Как видим из представленных данных самый хороший результат дает базовая модель (без учета признаков по товарам и покупателям) и модель 5 (все признаки, которые есть). \n",
    "\n",
    "По гистограммам предсказаний видно, что модели не могут разнести предсказания по крайностям хорошо-плохо. Большинство ответов находится посередине. Гистограма в форме колокола, а ожидалось наоборот, по центру мало и увеличение в основном к 1 и немного к 0, так как дисбаланс выборки. \n",
    "\n",
    "При добавлении выборочной информации о товаре и покупателях качество прогноза снижалось. По метрики roc-auc особенно низким было на признаках, которые отобраны на основе f_classif. Осмысленный подбор дал немного получше результат на ней. Но пришлось поварьировать с разными наборами. Оставила самые адекватные, которые показали лучше результат на тренировочных данных, а не лидербрде.\n",
    "\n",
    "Наверное, здесь лучше было бы применить нейросети (говорилось в конце блока рекомендательных систем, что они дают лучший результат), но мы их не проходили.\n",
    "\n",
    "Так как ничего лучшего добиться по моделям не удалось, то будем ориентироваться на результат метрики roc-auc, котра используется на лидерборде."
   ]
  },
  {
   "cell_type": "markdown",
   "id": "34354887",
   "metadata": {},
   "source": [
    "**Выведем средний прогноз, отсортируя модели по результатам метрики**"
   ]
  },
  {
   "cell_type": "code",
   "execution_count": 171,
   "id": "380cd73f",
   "metadata": {
    "ExecuteTime": {
     "end_time": "2022-04-15T14:06:13.028092Z",
     "start_time": "2022-04-15T14:06:12.631625Z"
    }
   },
   "outputs": [
    {
     "name": "stdout",
     "output_type": "stream",
     "text": [
      "0.7293874106329046\n",
      "0.7379007429112567\n",
      "0.7358405460097869\n",
      "0.7358544446543124\n",
      "0.7383049224400398\n",
      "0.7372227129965816\n",
      "0.7365815658949874\n",
      "0.7354001088630209\n"
     ]
    }
   ],
   "source": [
    "preds_all = np.zeros((preds.shape[0]))\n",
    "for i in [preds, preds_4, preds_7, preds_6, preds_5, preds_3, preds_2, preds_1]:\n",
    "    preds_all = preds_all+i\n",
    "    print(sklearn.metrics.roc_auc_score(get_norm(X_test.rating), preds_all))\n"
   ]
  },
  {
   "cell_type": "markdown",
   "id": "764cfb0a",
   "metadata": {
    "ExecuteTime": {
     "end_time": "2022-04-15T08:18:00.883564Z",
     "start_time": "2022-04-15T08:18:00.382147Z"
    }
   },
   "source": [
    "Модели 1,2 и 3 ухудшают качество roc-auc при усреднении. Их, наверное, не будем использовать. "
   ]
  },
  {
   "cell_type": "markdown",
   "id": "2efae4cb",
   "metadata": {},
   "source": [
    "### submission"
   ]
  },
  {
   "cell_type": "markdown",
   "id": "d1b25a89",
   "metadata": {},
   "source": [
    "Чтоб меньше было объектов холодного старта - обучим модель на всем train_df"
   ]
  },
  {
   "cell_type": "code",
   "execution_count": 172,
   "id": "e20e2105",
   "metadata": {
    "ExecuteTime": {
     "end_time": "2022-04-15T14:06:13.041392Z",
     "start_time": "2022-04-15T14:06:13.029357Z"
    }
   },
   "outputs": [],
   "source": [
    "ratings_coo_sm = sparse.coo_matrix(\n",
    "    (train_df['rating'].astype(int), (train_df['userid'], train_df['itemid']))\n",
    ")"
   ]
  },
  {
   "cell_type": "markdown",
   "id": "08975f3b",
   "metadata": {},
   "source": [
    "**Базовая модель**"
   ]
  },
  {
   "cell_type": "code",
   "execution_count": 173,
   "id": "fe0efe09",
   "metadata": {
    "ExecuteTime": {
     "end_time": "2022-04-15T14:06:26.114230Z",
     "start_time": "2022-04-15T14:06:13.043247Z"
    }
   },
   "outputs": [],
   "source": [
    "model = model.fit(ratings_coo_sm,\n",
    "                  num_threads=NUM_THREADS,\n",
    "                  epochs=NUM_EPOCHS)\n",
    "preds_test = model.predict(test_df.userid.values,\n",
    "                          test_df.itemid.values)"
   ]
  },
  {
   "cell_type": "markdown",
   "id": "92690188",
   "metadata": {},
   "source": [
    "**Модели с разными признаками, которые дали результат получше**"
   ]
  },
  {
   "cell_type": "code",
   "execution_count": 174,
   "id": "dc6bfd84",
   "metadata": {
    "ExecuteTime": {
     "end_time": "2022-04-15T14:08:20.865653Z",
     "start_time": "2022-04-15T14:06:26.115286Z"
    }
   },
   "outputs": [],
   "source": [
    "model_1 = model_1.fit(ratings_coo_sm, epochs=NUM_EPOCHS, num_threads=NUM_THREADS,\n",
    "                      item_features=items_coo_1, user_features=users_coo_1)\n",
    "\n",
    "preds_1_test = model_1.predict(test_df.userid.values, test_df.itemid.values, \n",
    "                          item_features=items_coo_1, user_features=users_coo_1)"
   ]
  },
  {
   "cell_type": "code",
   "execution_count": 175,
   "id": "3a2ceede",
   "metadata": {
    "ExecuteTime": {
     "end_time": "2022-04-15T14:10:53.355045Z",
     "start_time": "2022-04-15T14:08:20.866762Z"
    }
   },
   "outputs": [],
   "source": [
    "model_2 = model_2.fit(ratings_coo_sm, epochs=NUM_EPOCHS, num_threads=NUM_THREADS,\n",
    "                      item_features=items_coo_2, user_features=users_coo_2)\n",
    "\n",
    "preds_2_test = model_2.predict(test_df.userid.values, test_df.itemid.values, \n",
    "                          item_features=items_coo_2, user_features=users_coo_2)"
   ]
  },
  {
   "cell_type": "code",
   "execution_count": 176,
   "id": "34913450",
   "metadata": {
    "ExecuteTime": {
     "end_time": "2022-04-15T14:13:27.063016Z",
     "start_time": "2022-04-15T14:10:53.356154Z"
    }
   },
   "outputs": [],
   "source": [
    "model_3 = model_3.fit(ratings_coo_sm, epochs=NUM_EPOCHS, num_threads=NUM_THREADS,\n",
    "                      item_features=items_coo_3, user_features=users_coo_3)\n",
    "\n",
    "preds_3_test = model_3.predict(test_df.userid.values, test_df.itemid.values, \n",
    "                          item_features=items_coo_3, user_features=users_coo_3)"
   ]
  },
  {
   "cell_type": "code",
   "execution_count": 177,
   "id": "a4f838b4",
   "metadata": {
    "ExecuteTime": {
     "end_time": "2022-04-15T14:15:44.173265Z",
     "start_time": "2022-04-15T14:13:27.064082Z"
    }
   },
   "outputs": [],
   "source": [
    "model_4 = model_4.fit(ratings_coo_sm, epochs=NUM_EPOCHS, num_threads=NUM_THREADS,\n",
    "                      item_features=items_coo_4, user_features=users_coo_4)\n",
    "\n",
    "preds_4_test = model_4.predict(test_df.userid.values, test_df.itemid.values, \n",
    "                          item_features=items_coo_4, user_features=users_coo_4)"
   ]
  },
  {
   "cell_type": "code",
   "execution_count": 178,
   "id": "5df40064",
   "metadata": {
    "ExecuteTime": {
     "end_time": "2022-04-15T14:23:35.743119Z",
     "start_time": "2022-04-15T14:15:44.174342Z"
    }
   },
   "outputs": [],
   "source": [
    "model_5 = model_5.fit(ratings_coo_sm, epochs=NUM_EPOCHS, num_threads=NUM_THREADS,\n",
    "                      item_features=items_coo_5, user_features=users_coo_5)\n",
    "\n",
    "preds_5_test = model_5.predict(test_df.userid.values, test_df.itemid.values, \n",
    "                          item_features=items_coo_5, user_features=users_coo_5)"
   ]
  },
  {
   "cell_type": "code",
   "execution_count": 179,
   "id": "1afc347f",
   "metadata": {
    "ExecuteTime": {
     "end_time": "2022-04-15T14:25:39.639549Z",
     "start_time": "2022-04-15T14:23:35.744161Z"
    }
   },
   "outputs": [],
   "source": [
    "model_6 = model_6.fit(ratings_coo_sm, epochs=NUM_EPOCHS, num_threads=NUM_THREADS,\n",
    "                      item_features=items_coo_6, user_features=users_coo_6)\n",
    "\n",
    "preds_6_test = model_6.predict(test_df.userid.values, test_df.itemid.values, \n",
    "                          item_features=items_coo_6, user_features=users_coo_6)"
   ]
  },
  {
   "cell_type": "code",
   "execution_count": 180,
   "id": "101dc306",
   "metadata": {
    "ExecuteTime": {
     "end_time": "2022-04-15T14:28:16.682771Z",
     "start_time": "2022-04-15T14:25:39.640609Z"
    }
   },
   "outputs": [],
   "source": [
    "model_7 = model_7.fit(ratings_coo_sm, epochs=NUM_EPOCHS, num_threads=NUM_THREADS,\n",
    "                      item_features=items_coo_7, user_features=users_coo_7)\n",
    "\n",
    "preds_7_test = model_7.predict(test_df.userid.values, test_df.itemid.values, \n",
    "                          item_features=items_coo_7, user_features=users_coo_7)"
   ]
  },
  {
   "cell_type": "markdown",
   "id": "2f82c315",
   "metadata": {},
   "source": [
    "Просуммируем и нормализуем результат"
   ]
  },
  {
   "cell_type": "code",
   "execution_count": 181,
   "id": "3a01159e",
   "metadata": {
    "ExecuteTime": {
     "end_time": "2022-04-15T14:28:16.692600Z",
     "start_time": "2022-04-15T14:28:16.683842Z"
    }
   },
   "outputs": [
    {
     "data": {
      "text/plain": [
       "(0.0, 1.0)"
      ]
     },
     "execution_count": 181,
     "metadata": {},
     "output_type": "execute_result"
    }
   ],
   "source": [
    "preds_test_all = np.zeros((preds_test.shape[0]))\n",
    "for i in [preds_test, preds_4_test, preds_7_test, preds_6_test, preds_5_test]:  \n",
    "    preds_norm = get_norm(i)\n",
    "    preds_test_all = preds_test_all+i\n",
    "\n",
    "preds_test_norm = get_norm(preds_norm)\n",
    "preds_test_norm.min(), preds_test_norm.max()"
   ]
  },
  {
   "cell_type": "code",
   "execution_count": 182,
   "id": "ba5024a1",
   "metadata": {
    "ExecuteTime": {
     "end_time": "2022-04-15T14:28:17.167306Z",
     "start_time": "2022-04-15T14:28:16.693736Z"
    }
   },
   "outputs": [],
   "source": [
    "submission_pred = submission.copy()\n",
    "\n",
    "submission_pred['rating']= preds_test_norm\n",
    "submission_pred.to_csv('data/submission_pred.csv', index=False)"
   ]
  },
  {
   "cell_type": "code",
   "execution_count": 183,
   "id": "e3257412",
   "metadata": {
    "ExecuteTime": {
     "end_time": "2022-04-15T14:28:17.632608Z",
     "start_time": "2022-04-15T14:28:17.168424Z"
    }
   },
   "outputs": [
    {
     "data": {
      "text/plain": [
       "<AxesSubplot:xlabel='rating', ylabel='Count'>"
      ]
     },
     "execution_count": 183,
     "metadata": {},
     "output_type": "execute_result"
    },
    {
     "data": {
      "image/png": "[encoded data removed]",
      "text/plain": [
       "<Figure size 432x288 with 1 Axes>"
      ]
     },
     "metadata": {
      "needs_background": "light"
     },
     "output_type": "display_data"
    }
   ],
   "source": [
    "sns.histplot(submission_pred.rating)"
   ]
  },
  {
   "cell_type": "markdown",
   "id": "fabee40e",
   "metadata": {},
   "source": [
    "### Заключение:"
   ]
  },
  {
   "cell_type": "markdown",
   "id": "dc1d23be",
   "metadata": {},
   "source": [
    "Если рассматривать индивидуально каждую модель, то самый хороший результат дает пересечение продукта и покупателя (базова модель без дополнительных признаков) и модель 5 (которая учитывает все признаки, которые есть).\n",
    "\n",
    "Чтоб улучшить результат базового набора и сделать более стабильное предсказание, ориентируясь на метрику roc-auc:\n",
    "    \n",
    "    собрала для нескольких моделей свой состав признаков и просуммировала пронормированные результы.\n",
    "\n",
    "Но модели не смогли разделить предсказания на плохо-хорошо. По гистограммам видим, что предсказания распределились в форме колокола (нормальное распределение), т.е. в большинстве своем модель сомневается.\n",
    "\n",
    "Для прогнозирования была использована вся обучающая выборка, чтоб сократить количество объектов холодного старта.\n",
    "На лидерборде простая базовая модель дает лучше результат, чем комбинированние базовой с признакавыми. Но по обучающей выборке лучше вариант базовая + модели 4-7. Так я и оставлю.\n",
    "\n",
    "По поводу холодного старта:\n",
    "    \n",
    "    * для покупателей, предполагаю, что оптимальным вариантом будет предложить в качестве рекоммендаций наиболее популярные товары.\n",
    "    \n",
    "    * для товаров, возможно, добавлять к блоку рекомендаций новый товар (например 4+1) той же категории, что и основные рекомендуемые. Постепенно знакомить полкупателей с новым ассортиментом. Так же можно выделить его лейбочкой как новинка, чтоб привлечь внимание.\n",
    "    \n",
    "\n",
    "В блоке по рекомендательным системам говорилось, что лучший результат дают нейронные сети. Надо будет вернуться к этому заданию после их прохождения и попробовать улучшить результат предсказания.\n",
    "\n",
    "\n",
    "Поле внедрения системы можно было бы использовать метрики посчитанные на топ_N записях precision@N, recall@N. Провести А/В тестирование по продажам (количество товаров и сумма). Если предлагается сопутствующие товары, то продажи и по сопутсвующим категорям. Кликабельность/положии в корзину/купили рекомендованные товары.\n",
    "\n",
    "\n"
   ]
  },
  {
   "cell_type": "code",
   "execution_count": null,
   "id": "0d0b2441",
   "metadata": {},
   "outputs": [],
   "source": []
  }
 ],
 "metadata": {
  "kernelspec": {
   "display_name": "Python 3 (ipykernel)",
   "language": "python",
   "name": "python3"
  },
  "language_info": {
   "codemirror_mode": {
    "name": "ipython",
    "version": 3
   },
   "file_extension": ".py",
   "mimetype": "text/x-python",
   "name": "python",
   "nbconvert_exporter": "python",
   "pygments_lexer": "ipython3",
   "version": "3.9.7"
  }
 },
 "nbformat": 4,
 "nbformat_minor": 5
}
